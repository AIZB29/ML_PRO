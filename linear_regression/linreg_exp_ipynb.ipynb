{
  "cells": [
    {
      "cell_type": "markdown",
      "metadata": {
        "id": "aefAEVx7OiAR"
      },
      "source": [
        "# Practice"
      ]
    },
    {
      "cell_type": "markdown",
      "metadata": {
        "id": "K2jmXcciOl-K"
      },
      "source": [
        "Мы поработаем с данными о сообществах в США. Описание датасета:\n",
        "\n",
        "http://archive.ics.uci.edu/ml/datasets/communities+and+crime\n",
        "\n",
        "Датасет на кэггле (в формате .csv):\n",
        "\n",
        "https://www.kaggle.com/kkanda/communities%20and%20crime%20unnormalized%20data%20set\n",
        "\n",
        "Будем предсказывать количество насильственных преступлений относительно численности населения."
      ]
    },
    {
      "cell_type": "code",
      "execution_count": null,
      "metadata": {
        "id": "f3lmXNVFOx0G"
      },
      "outputs": [],
      "source": [
        "from sklearn.linear_model import LinearRegression, Ridge, Lasso\n",
        "from sklearn.model_selection import train_test_split, GridSearchCV\n",
        "from sklearn.metrics import mean_squared_error\n",
        "from sklearn.preprocessing import MinMaxScaler\n",
        "\n",
        "import warnings\n",
        "\n",
        "warnings.filterwarnings('ignore')"
      ]
    },
    {
      "cell_type": "code",
      "source": [
        "from zipfile import ZipFile\n",
        "\n",
        "z = ZipFile(\"archive.zip\")\n",
        "\n",
        "text_files = z.infolist()\n",
        "\n",
        "for text_file in text_files:\n",
        "    z.read(text_file.filename)"
      ],
      "metadata": {
        "id": "7s8gTLNMHLJw"
      },
      "execution_count": null,
      "outputs": []
    },
    {
      "cell_type": "code",
      "source": [
        "text_files[1]"
      ],
      "metadata": {
        "colab": {
          "base_uri": "https://localhost:8080/"
        },
        "id": "BL5xFGlKHVMs",
        "outputId": "f409c9a5-5f53-4001-efd3-63db48cffb58"
      },
      "execution_count": null,
      "outputs": [
        {
          "output_type": "execute_result",
          "data": {
            "text/plain": [
              "<ZipInfo filename='crimedata.csv' compress_type=deflate file_size=1555523 compress_size=665855>"
            ]
          },
          "metadata": {},
          "execution_count": 73
        }
      ]
    },
    {
      "cell_type": "code",
      "source": [
        "text_files[1].filename"
      ],
      "metadata": {
        "colab": {
          "base_uri": "https://localhost:8080/",
          "height": 35
        },
        "id": "Y_h2z2QRIqYA",
        "outputId": "03fba02c-0035-452e-d7ec-77a3fd768c5a"
      },
      "execution_count": null,
      "outputs": [
        {
          "output_type": "execute_result",
          "data": {
            "text/plain": [
              "'crimedata.csv'"
            ],
            "application/vnd.google.colaboratory.intrinsic+json": {
              "type": "string"
            }
          },
          "metadata": {},
          "execution_count": 74
        }
      ]
    },
    {
      "cell_type": "code",
      "source": [
        "with open(\"test.csv\", 'wb') as f:\n",
        "    f.write(z.read(text_files[1].filename)) # read method returns bytes\n",
        "df = pd.read_csv('test.csv','utf-8')"
      ],
      "metadata": {
        "colab": {
          "base_uri": "https://localhost:8080/",
          "height": 345
        },
        "id": "hAkgFxE8KA1Y",
        "outputId": "acf52efa-0363-4e5a-9a68-b8bdb61ca203"
      },
      "execution_count": null,
      "outputs": [
        {
          "output_type": "error",
          "ename": "UnicodeDecodeError",
          "evalue": "ignored",
          "traceback": [
            "\u001b[0;31m---------------------------------------------------------------------------\u001b[0m",
            "\u001b[0;31mUnicodeDecodeError\u001b[0m                        Traceback (most recent call last)",
            "\u001b[0;32m<ipython-input-81-cd1239edd0d3>\u001b[0m in \u001b[0;36m<module>\u001b[0;34m\u001b[0m\n\u001b[1;32m      1\u001b[0m \u001b[0;32mwith\u001b[0m \u001b[0mopen\u001b[0m\u001b[0;34m(\u001b[0m\u001b[0;34m\"test.csv\"\u001b[0m\u001b[0;34m,\u001b[0m \u001b[0;34m'wb'\u001b[0m\u001b[0;34m)\u001b[0m \u001b[0;32mas\u001b[0m \u001b[0mf\u001b[0m\u001b[0;34m:\u001b[0m\u001b[0;34m\u001b[0m\u001b[0;34m\u001b[0m\u001b[0m\n\u001b[1;32m      2\u001b[0m     \u001b[0mf\u001b[0m\u001b[0;34m.\u001b[0m\u001b[0mwrite\u001b[0m\u001b[0;34m(\u001b[0m\u001b[0mz\u001b[0m\u001b[0;34m.\u001b[0m\u001b[0mread\u001b[0m\u001b[0;34m(\u001b[0m\u001b[0mtext_files\u001b[0m\u001b[0;34m[\u001b[0m\u001b[0;36m1\u001b[0m\u001b[0;34m]\u001b[0m\u001b[0;34m.\u001b[0m\u001b[0mfilename\u001b[0m\u001b[0;34m)\u001b[0m\u001b[0;34m)\u001b[0m\u001b[0;34m\u001b[0m\u001b[0;34m\u001b[0m\u001b[0m\n\u001b[0;32m----> 3\u001b[0;31m \u001b[0mdf\u001b[0m \u001b[0;34m=\u001b[0m \u001b[0mpd\u001b[0m\u001b[0;34m.\u001b[0m\u001b[0mread_csv\u001b[0m\u001b[0;34m(\u001b[0m\u001b[0;34m'test.csv'\u001b[0m\u001b[0;34m,\u001b[0m\u001b[0;34m'utf-8'\u001b[0m\u001b[0;34m)\u001b[0m\u001b[0;34m\u001b[0m\u001b[0;34m\u001b[0m\u001b[0m\n\u001b[0m",
            "\u001b[0;32m/usr/local/lib/python3.9/dist-packages/pandas/util/_decorators.py\u001b[0m in \u001b[0;36mwrapper\u001b[0;34m(*args, **kwargs)\u001b[0m\n\u001b[1;32m    309\u001b[0m                     \u001b[0mstacklevel\u001b[0m\u001b[0;34m=\u001b[0m\u001b[0mstacklevel\u001b[0m\u001b[0;34m,\u001b[0m\u001b[0;34m\u001b[0m\u001b[0;34m\u001b[0m\u001b[0m\n\u001b[1;32m    310\u001b[0m                 )\n\u001b[0;32m--> 311\u001b[0;31m             \u001b[0;32mreturn\u001b[0m \u001b[0mfunc\u001b[0m\u001b[0;34m(\u001b[0m\u001b[0;34m*\u001b[0m\u001b[0margs\u001b[0m\u001b[0;34m,\u001b[0m \u001b[0;34m**\u001b[0m\u001b[0mkwargs\u001b[0m\u001b[0;34m)\u001b[0m\u001b[0;34m\u001b[0m\u001b[0;34m\u001b[0m\u001b[0m\n\u001b[0m\u001b[1;32m    312\u001b[0m \u001b[0;34m\u001b[0m\u001b[0m\n\u001b[1;32m    313\u001b[0m         \u001b[0;32mreturn\u001b[0m \u001b[0mwrapper\u001b[0m\u001b[0;34m\u001b[0m\u001b[0;34m\u001b[0m\u001b[0m\n",
            "\u001b[0;32m/usr/local/lib/python3.9/dist-packages/pandas/io/parsers/readers.py\u001b[0m in \u001b[0;36mread_csv\u001b[0;34m(filepath_or_buffer, sep, delimiter, header, names, index_col, usecols, squeeze, prefix, mangle_dupe_cols, dtype, engine, converters, true_values, false_values, skipinitialspace, skiprows, skipfooter, nrows, na_values, keep_default_na, na_filter, verbose, skip_blank_lines, parse_dates, infer_datetime_format, keep_date_col, date_parser, dayfirst, cache_dates, iterator, chunksize, compression, thousands, decimal, lineterminator, quotechar, quoting, doublequote, escapechar, comment, encoding, encoding_errors, dialect, error_bad_lines, warn_bad_lines, on_bad_lines, delim_whitespace, low_memory, memory_map, float_precision, storage_options)\u001b[0m\n\u001b[1;32m    676\u001b[0m     \u001b[0mkwds\u001b[0m\u001b[0;34m.\u001b[0m\u001b[0mupdate\u001b[0m\u001b[0;34m(\u001b[0m\u001b[0mkwds_defaults\u001b[0m\u001b[0;34m)\u001b[0m\u001b[0;34m\u001b[0m\u001b[0;34m\u001b[0m\u001b[0m\n\u001b[1;32m    677\u001b[0m \u001b[0;34m\u001b[0m\u001b[0m\n\u001b[0;32m--> 678\u001b[0;31m     \u001b[0;32mreturn\u001b[0m \u001b[0m_read\u001b[0m\u001b[0;34m(\u001b[0m\u001b[0mfilepath_or_buffer\u001b[0m\u001b[0;34m,\u001b[0m \u001b[0mkwds\u001b[0m\u001b[0;34m)\u001b[0m\u001b[0;34m\u001b[0m\u001b[0;34m\u001b[0m\u001b[0m\n\u001b[0m\u001b[1;32m    679\u001b[0m \u001b[0;34m\u001b[0m\u001b[0m\n\u001b[1;32m    680\u001b[0m \u001b[0;34m\u001b[0m\u001b[0m\n",
            "\u001b[0;32m/usr/local/lib/python3.9/dist-packages/pandas/io/parsers/readers.py\u001b[0m in \u001b[0;36m_read\u001b[0;34m(filepath_or_buffer, kwds)\u001b[0m\n\u001b[1;32m    573\u001b[0m \u001b[0;34m\u001b[0m\u001b[0m\n\u001b[1;32m    574\u001b[0m     \u001b[0;31m# Create the parser.\u001b[0m\u001b[0;34m\u001b[0m\u001b[0;34m\u001b[0m\u001b[0m\n\u001b[0;32m--> 575\u001b[0;31m     \u001b[0mparser\u001b[0m \u001b[0;34m=\u001b[0m \u001b[0mTextFileReader\u001b[0m\u001b[0;34m(\u001b[0m\u001b[0mfilepath_or_buffer\u001b[0m\u001b[0;34m,\u001b[0m \u001b[0;34m**\u001b[0m\u001b[0mkwds\u001b[0m\u001b[0;34m)\u001b[0m\u001b[0;34m\u001b[0m\u001b[0;34m\u001b[0m\u001b[0m\n\u001b[0m\u001b[1;32m    576\u001b[0m \u001b[0;34m\u001b[0m\u001b[0m\n\u001b[1;32m    577\u001b[0m     \u001b[0;32mif\u001b[0m \u001b[0mchunksize\u001b[0m \u001b[0;32mor\u001b[0m \u001b[0miterator\u001b[0m\u001b[0;34m:\u001b[0m\u001b[0;34m\u001b[0m\u001b[0;34m\u001b[0m\u001b[0m\n",
            "\u001b[0;32m/usr/local/lib/python3.9/dist-packages/pandas/io/parsers/readers.py\u001b[0m in \u001b[0;36m__init__\u001b[0;34m(self, f, engine, **kwds)\u001b[0m\n\u001b[1;32m    930\u001b[0m \u001b[0;34m\u001b[0m\u001b[0m\n\u001b[1;32m    931\u001b[0m         \u001b[0mself\u001b[0m\u001b[0;34m.\u001b[0m\u001b[0mhandles\u001b[0m\u001b[0;34m:\u001b[0m \u001b[0mIOHandles\u001b[0m \u001b[0;34m|\u001b[0m \u001b[0;32mNone\u001b[0m \u001b[0;34m=\u001b[0m \u001b[0;32mNone\u001b[0m\u001b[0;34m\u001b[0m\u001b[0;34m\u001b[0m\u001b[0m\n\u001b[0;32m--> 932\u001b[0;31m         \u001b[0mself\u001b[0m\u001b[0;34m.\u001b[0m\u001b[0m_engine\u001b[0m \u001b[0;34m=\u001b[0m \u001b[0mself\u001b[0m\u001b[0;34m.\u001b[0m\u001b[0m_make_engine\u001b[0m\u001b[0;34m(\u001b[0m\u001b[0mf\u001b[0m\u001b[0;34m,\u001b[0m \u001b[0mself\u001b[0m\u001b[0;34m.\u001b[0m\u001b[0mengine\u001b[0m\u001b[0;34m)\u001b[0m\u001b[0;34m\u001b[0m\u001b[0;34m\u001b[0m\u001b[0m\n\u001b[0m\u001b[1;32m    933\u001b[0m \u001b[0;34m\u001b[0m\u001b[0m\n\u001b[1;32m    934\u001b[0m     \u001b[0;32mdef\u001b[0m \u001b[0mclose\u001b[0m\u001b[0;34m(\u001b[0m\u001b[0mself\u001b[0m\u001b[0;34m)\u001b[0m\u001b[0;34m:\u001b[0m\u001b[0;34m\u001b[0m\u001b[0;34m\u001b[0m\u001b[0m\n",
            "\u001b[0;32m/usr/local/lib/python3.9/dist-packages/pandas/io/parsers/readers.py\u001b[0m in \u001b[0;36m_make_engine\u001b[0;34m(self, f, engine)\u001b[0m\n\u001b[1;32m   1232\u001b[0m \u001b[0;34m\u001b[0m\u001b[0m\n\u001b[1;32m   1233\u001b[0m         \u001b[0;32mtry\u001b[0m\u001b[0;34m:\u001b[0m\u001b[0;34m\u001b[0m\u001b[0;34m\u001b[0m\u001b[0m\n\u001b[0;32m-> 1234\u001b[0;31m             \u001b[0;32mreturn\u001b[0m \u001b[0mmapping\u001b[0m\u001b[0;34m[\u001b[0m\u001b[0mengine\u001b[0m\u001b[0;34m]\u001b[0m\u001b[0;34m(\u001b[0m\u001b[0mf\u001b[0m\u001b[0;34m,\u001b[0m \u001b[0;34m**\u001b[0m\u001b[0mself\u001b[0m\u001b[0;34m.\u001b[0m\u001b[0moptions\u001b[0m\u001b[0;34m)\u001b[0m\u001b[0;34m\u001b[0m\u001b[0;34m\u001b[0m\u001b[0m\n\u001b[0m\u001b[1;32m   1235\u001b[0m         \u001b[0;32mexcept\u001b[0m \u001b[0mException\u001b[0m\u001b[0;34m:\u001b[0m\u001b[0;34m\u001b[0m\u001b[0;34m\u001b[0m\u001b[0m\n\u001b[1;32m   1236\u001b[0m             \u001b[0;32mif\u001b[0m \u001b[0mself\u001b[0m\u001b[0;34m.\u001b[0m\u001b[0mhandles\u001b[0m \u001b[0;32mis\u001b[0m \u001b[0;32mnot\u001b[0m \u001b[0;32mNone\u001b[0m\u001b[0;34m:\u001b[0m\u001b[0;34m\u001b[0m\u001b[0;34m\u001b[0m\u001b[0m\n",
            "\u001b[0;32m/usr/local/lib/python3.9/dist-packages/pandas/io/parsers/python_parser.py\u001b[0m in \u001b[0;36m__init__\u001b[0;34m(self, f, **kwds)\u001b[0m\n\u001b[1;32m    113\u001b[0m             \u001b[0mself\u001b[0m\u001b[0;34m.\u001b[0m\u001b[0mnum_original_columns\u001b[0m\u001b[0;34m,\u001b[0m\u001b[0;34m\u001b[0m\u001b[0;34m\u001b[0m\u001b[0m\n\u001b[1;32m    114\u001b[0m             \u001b[0mself\u001b[0m\u001b[0;34m.\u001b[0m\u001b[0munnamed_cols\u001b[0m\u001b[0;34m,\u001b[0m\u001b[0;34m\u001b[0m\u001b[0;34m\u001b[0m\u001b[0m\n\u001b[0;32m--> 115\u001b[0;31m         ) = self._infer_columns()\n\u001b[0m\u001b[1;32m    116\u001b[0m \u001b[0;34m\u001b[0m\u001b[0m\n\u001b[1;32m    117\u001b[0m         \u001b[0;31m# Now self.columns has the set of columns that we will process.\u001b[0m\u001b[0;34m\u001b[0m\u001b[0;34m\u001b[0m\u001b[0m\n",
            "\u001b[0;32m/usr/local/lib/python3.9/dist-packages/pandas/io/parsers/python_parser.py\u001b[0m in \u001b[0;36m_infer_columns\u001b[0;34m(self)\u001b[0m\n\u001b[1;32m    362\u001b[0m             \u001b[0;32mfor\u001b[0m \u001b[0mlevel\u001b[0m\u001b[0;34m,\u001b[0m \u001b[0mhr\u001b[0m \u001b[0;32min\u001b[0m \u001b[0menumerate\u001b[0m\u001b[0;34m(\u001b[0m\u001b[0mheader\u001b[0m\u001b[0;34m)\u001b[0m\u001b[0;34m:\u001b[0m\u001b[0;34m\u001b[0m\u001b[0;34m\u001b[0m\u001b[0m\n\u001b[1;32m    363\u001b[0m                 \u001b[0;32mtry\u001b[0m\u001b[0;34m:\u001b[0m\u001b[0;34m\u001b[0m\u001b[0;34m\u001b[0m\u001b[0m\n\u001b[0;32m--> 364\u001b[0;31m                     \u001b[0mline\u001b[0m \u001b[0;34m=\u001b[0m \u001b[0mself\u001b[0m\u001b[0;34m.\u001b[0m\u001b[0m_buffered_line\u001b[0m\u001b[0;34m(\u001b[0m\u001b[0;34m)\u001b[0m\u001b[0;34m\u001b[0m\u001b[0;34m\u001b[0m\u001b[0m\n\u001b[0m\u001b[1;32m    365\u001b[0m \u001b[0;34m\u001b[0m\u001b[0m\n\u001b[1;32m    366\u001b[0m                     \u001b[0;32mwhile\u001b[0m \u001b[0mself\u001b[0m\u001b[0;34m.\u001b[0m\u001b[0mline_pos\u001b[0m \u001b[0;34m<=\u001b[0m \u001b[0mhr\u001b[0m\u001b[0;34m:\u001b[0m\u001b[0;34m\u001b[0m\u001b[0;34m\u001b[0m\u001b[0m\n",
            "\u001b[0;32m/usr/local/lib/python3.9/dist-packages/pandas/io/parsers/python_parser.py\u001b[0m in \u001b[0;36m_buffered_line\u001b[0;34m(self)\u001b[0m\n\u001b[1;32m    594\u001b[0m             \u001b[0;32mreturn\u001b[0m \u001b[0mself\u001b[0m\u001b[0;34m.\u001b[0m\u001b[0mbuf\u001b[0m\u001b[0;34m[\u001b[0m\u001b[0;36m0\u001b[0m\u001b[0;34m]\u001b[0m\u001b[0;34m\u001b[0m\u001b[0;34m\u001b[0m\u001b[0m\n\u001b[1;32m    595\u001b[0m         \u001b[0;32melse\u001b[0m\u001b[0;34m:\u001b[0m\u001b[0;34m\u001b[0m\u001b[0;34m\u001b[0m\u001b[0m\n\u001b[0;32m--> 596\u001b[0;31m             \u001b[0;32mreturn\u001b[0m \u001b[0mself\u001b[0m\u001b[0;34m.\u001b[0m\u001b[0m_next_line\u001b[0m\u001b[0;34m(\u001b[0m\u001b[0;34m)\u001b[0m\u001b[0;34m\u001b[0m\u001b[0;34m\u001b[0m\u001b[0m\n\u001b[0m\u001b[1;32m    597\u001b[0m \u001b[0;34m\u001b[0m\u001b[0m\n\u001b[1;32m    598\u001b[0m     \u001b[0;32mdef\u001b[0m \u001b[0m_check_for_bom\u001b[0m\u001b[0;34m(\u001b[0m\u001b[0mself\u001b[0m\u001b[0;34m,\u001b[0m \u001b[0mfirst_row\u001b[0m\u001b[0;34m:\u001b[0m \u001b[0mlist\u001b[0m\u001b[0;34m[\u001b[0m\u001b[0mScalar\u001b[0m\u001b[0;34m]\u001b[0m\u001b[0;34m)\u001b[0m \u001b[0;34m->\u001b[0m \u001b[0mlist\u001b[0m\u001b[0;34m[\u001b[0m\u001b[0mScalar\u001b[0m\u001b[0;34m]\u001b[0m\u001b[0;34m:\u001b[0m\u001b[0;34m\u001b[0m\u001b[0;34m\u001b[0m\u001b[0m\n",
            "\u001b[0;32m/usr/local/lib/python3.9/dist-packages/pandas/io/parsers/python_parser.py\u001b[0m in \u001b[0;36m_next_line\u001b[0;34m(self)\u001b[0m\n\u001b[1;32m    694\u001b[0m \u001b[0;34m\u001b[0m\u001b[0m\n\u001b[1;32m    695\u001b[0m             \u001b[0;32mwhile\u001b[0m \u001b[0;32mTrue\u001b[0m\u001b[0;34m:\u001b[0m\u001b[0;34m\u001b[0m\u001b[0;34m\u001b[0m\u001b[0m\n\u001b[0;32m--> 696\u001b[0;31m                 \u001b[0morig_line\u001b[0m \u001b[0;34m=\u001b[0m \u001b[0mself\u001b[0m\u001b[0;34m.\u001b[0m\u001b[0m_next_iter_line\u001b[0m\u001b[0;34m(\u001b[0m\u001b[0mrow_num\u001b[0m\u001b[0;34m=\u001b[0m\u001b[0mself\u001b[0m\u001b[0;34m.\u001b[0m\u001b[0mpos\u001b[0m \u001b[0;34m+\u001b[0m \u001b[0;36m1\u001b[0m\u001b[0;34m)\u001b[0m\u001b[0;34m\u001b[0m\u001b[0;34m\u001b[0m\u001b[0m\n\u001b[0m\u001b[1;32m    697\u001b[0m                 \u001b[0mself\u001b[0m\u001b[0;34m.\u001b[0m\u001b[0mpos\u001b[0m \u001b[0;34m+=\u001b[0m \u001b[0;36m1\u001b[0m\u001b[0;34m\u001b[0m\u001b[0;34m\u001b[0m\u001b[0m\n\u001b[1;32m    698\u001b[0m \u001b[0;34m\u001b[0m\u001b[0m\n",
            "\u001b[0;32m/usr/local/lib/python3.9/dist-packages/pandas/io/parsers/python_parser.py\u001b[0m in \u001b[0;36m_next_iter_line\u001b[0;34m(self, row_num)\u001b[0m\n\u001b[1;32m    758\u001b[0m             \u001b[0;31m# assert for mypy, data is Iterator[str] or None, would error in next\u001b[0m\u001b[0;34m\u001b[0m\u001b[0;34m\u001b[0m\u001b[0m\n\u001b[1;32m    759\u001b[0m             \u001b[0;32massert\u001b[0m \u001b[0mself\u001b[0m\u001b[0;34m.\u001b[0m\u001b[0mdata\u001b[0m \u001b[0;32mis\u001b[0m \u001b[0;32mnot\u001b[0m \u001b[0;32mNone\u001b[0m\u001b[0;34m\u001b[0m\u001b[0;34m\u001b[0m\u001b[0m\n\u001b[0;32m--> 760\u001b[0;31m             \u001b[0mline\u001b[0m \u001b[0;34m=\u001b[0m \u001b[0mnext\u001b[0m\u001b[0;34m(\u001b[0m\u001b[0mself\u001b[0m\u001b[0;34m.\u001b[0m\u001b[0mdata\u001b[0m\u001b[0;34m)\u001b[0m\u001b[0;34m\u001b[0m\u001b[0;34m\u001b[0m\u001b[0m\n\u001b[0m\u001b[1;32m    761\u001b[0m             \u001b[0;31m# for mypy\u001b[0m\u001b[0;34m\u001b[0m\u001b[0;34m\u001b[0m\u001b[0m\n\u001b[1;32m    762\u001b[0m             \u001b[0;32massert\u001b[0m \u001b[0misinstance\u001b[0m\u001b[0;34m(\u001b[0m\u001b[0mline\u001b[0m\u001b[0;34m,\u001b[0m \u001b[0mlist\u001b[0m\u001b[0;34m)\u001b[0m\u001b[0;34m\u001b[0m\u001b[0;34m\u001b[0m\u001b[0m\n",
            "\u001b[0;32m/usr/local/lib/python3.9/dist-packages/pandas/io/parsers/python_parser.py\u001b[0m in \u001b[0;36m_read\u001b[0;34m()\u001b[0m\n\u001b[1;32m    219\u001b[0m \u001b[0;34m\u001b[0m\u001b[0m\n\u001b[1;32m    220\u001b[0m             \u001b[0;32mdef\u001b[0m \u001b[0m_read\u001b[0m\u001b[0;34m(\u001b[0m\u001b[0;34m)\u001b[0m\u001b[0;34m:\u001b[0m\u001b[0;34m\u001b[0m\u001b[0;34m\u001b[0m\u001b[0m\n\u001b[0;32m--> 221\u001b[0;31m                 \u001b[0mline\u001b[0m \u001b[0;34m=\u001b[0m \u001b[0mf\u001b[0m\u001b[0;34m.\u001b[0m\u001b[0mreadline\u001b[0m\u001b[0;34m(\u001b[0m\u001b[0;34m)\u001b[0m\u001b[0;34m\u001b[0m\u001b[0;34m\u001b[0m\u001b[0m\n\u001b[0m\u001b[1;32m    222\u001b[0m                 \u001b[0mpat\u001b[0m \u001b[0;34m=\u001b[0m \u001b[0mre\u001b[0m\u001b[0;34m.\u001b[0m\u001b[0mcompile\u001b[0m\u001b[0;34m(\u001b[0m\u001b[0msep\u001b[0m\u001b[0;34m)\u001b[0m\u001b[0;34m\u001b[0m\u001b[0;34m\u001b[0m\u001b[0m\n\u001b[1;32m    223\u001b[0m \u001b[0;34m\u001b[0m\u001b[0m\n",
            "\u001b[0;32m/usr/lib/python3.9/codecs.py\u001b[0m in \u001b[0;36mdecode\u001b[0;34m(self, input, final)\u001b[0m\n\u001b[1;32m    320\u001b[0m         \u001b[0;31m# decode input (taking the buffer into account)\u001b[0m\u001b[0;34m\u001b[0m\u001b[0;34m\u001b[0m\u001b[0m\n\u001b[1;32m    321\u001b[0m         \u001b[0mdata\u001b[0m \u001b[0;34m=\u001b[0m \u001b[0mself\u001b[0m\u001b[0;34m.\u001b[0m\u001b[0mbuffer\u001b[0m \u001b[0;34m+\u001b[0m \u001b[0minput\u001b[0m\u001b[0;34m\u001b[0m\u001b[0;34m\u001b[0m\u001b[0m\n\u001b[0;32m--> 322\u001b[0;31m         \u001b[0;34m(\u001b[0m\u001b[0mresult\u001b[0m\u001b[0;34m,\u001b[0m \u001b[0mconsumed\u001b[0m\u001b[0;34m)\u001b[0m \u001b[0;34m=\u001b[0m \u001b[0mself\u001b[0m\u001b[0;34m.\u001b[0m\u001b[0m_buffer_decode\u001b[0m\u001b[0;34m(\u001b[0m\u001b[0mdata\u001b[0m\u001b[0;34m,\u001b[0m \u001b[0mself\u001b[0m\u001b[0;34m.\u001b[0m\u001b[0merrors\u001b[0m\u001b[0;34m,\u001b[0m \u001b[0mfinal\u001b[0m\u001b[0;34m)\u001b[0m\u001b[0;34m\u001b[0m\u001b[0;34m\u001b[0m\u001b[0m\n\u001b[0m\u001b[1;32m    323\u001b[0m         \u001b[0;31m# keep undecoded input until the next call\u001b[0m\u001b[0;34m\u001b[0m\u001b[0;34m\u001b[0m\u001b[0m\n\u001b[1;32m    324\u001b[0m         \u001b[0mself\u001b[0m\u001b[0;34m.\u001b[0m\u001b[0mbuffer\u001b[0m \u001b[0;34m=\u001b[0m \u001b[0mdata\u001b[0m\u001b[0;34m[\u001b[0m\u001b[0mconsumed\u001b[0m\u001b[0;34m:\u001b[0m\u001b[0;34m]\u001b[0m\u001b[0;34m\u001b[0m\u001b[0;34m\u001b[0m\u001b[0m\n",
            "\u001b[0;31mUnicodeDecodeError\u001b[0m: 'utf-8' codec can't decode byte 0xca in position 0: invalid continuation byte"
          ]
        }
      ]
    },
    {
      "cell_type": "code",
      "source": [
        "from chardet.universaldetector import UniversalDetector # Импортируем субмодуль chardet.universaldetector\n",
        "detector = UniversalDetector()\n",
        "with open('test.csv', 'rb') as fh:\n",
        "    for line in fh:\n",
        "        detector.feed(line)\n",
        "        if detector.done:\n",
        "            break\n",
        "detector.close()"
      ],
      "metadata": {
        "colab": {
          "base_uri": "https://localhost:8080/"
        },
        "id": "YmCqmwKcLmRw",
        "outputId": "0193708b-ccc1-4130-b6c2-39ac6ba8aae2"
      },
      "execution_count": null,
      "outputs": [
        {
          "output_type": "execute_result",
          "data": {
            "text/plain": [
              "{'encoding': 'ISO-8859-1', 'confidence': 0.73, 'language': ''}"
            ]
          },
          "metadata": {},
          "execution_count": 84
        }
      ]
    },
    {
      "cell_type": "code",
      "execution_count": null,
      "metadata": {
        "id": "PRft8CJyO1z8"
      },
      "outputs": [],
      "source": [
        "data = pd.read_csv(\"test.csv\",encoding='ISO-8859-1', na_values=[\"?\"])\n",
        "\n",
        "# оставим лишь нужные колонки\n",
        "requiredColumns = [5, 6] + list(range(11,26)) + list(range(32, 103)) + [145]\n",
        "data = data[data.columns[requiredColumns]]\n",
        "\n",
        "# некоторые значения целевой переменной пропущены\n",
        "X = data.loc[data['ViolentCrimesPerPop'].notnull(), :].drop('ViolentCrimesPerPop', axis=1)\n",
        "y = data['ViolentCrimesPerPop'][X.index]\n",
        "\n",
        "X_train, X_test, y_train, y_test = train_test_split(X, y, random_state=0)"
      ]
    },
    {
      "cell_type": "code",
      "source": [
        "data.head(2)"
      ],
      "metadata": {
        "colab": {
          "base_uri": "https://localhost:8080/",
          "height": 205
        },
        "id": "XQr-0E14L4Li",
        "outputId": "1fc77f05-3438-488c-91e9-c865fd667e17"
      },
      "execution_count": null,
      "outputs": [
        {
          "output_type": "execute_result",
          "data": {
            "text/plain": [
              "   population  householdsize  agePct12t21  agePct12t29  agePct16t24  \\\n",
              "0       11980           3.10        12.47        21.44        10.93   \n",
              "1       23123           2.82        11.01        21.30        10.48   \n",
              "\n",
              "   agePct65up  numbUrban  pctUrban  medIncome  pctWWage  ...  \\\n",
              "0       11.33      11980     100.0      75122     89.24  ...   \n",
              "1       17.18      23123     100.0      47917     78.99  ...   \n",
              "\n",
              "   MedOwnCostPctInc  MedOwnCostPctIncNoMtg  NumInShelters  NumStreet  \\\n",
              "0              21.1                   14.0             11          0   \n",
              "1              20.7                   12.5              0          0   \n",
              "\n",
              "   PctForeignBorn  PctBornSameState  PctSameHouse85  PctSameCity85  \\\n",
              "0           10.66             53.72           65.29          78.09   \n",
              "1            8.30             77.17           71.27          90.22   \n",
              "\n",
              "   PctSameState85  ViolentCrimesPerPop  \n",
              "0           89.14                41.02  \n",
              "1           96.12               127.56  \n",
              "\n",
              "[2 rows x 89 columns]"
            ],
            "text/html": [
              "\n",
              "  <div id=\"df-54607c59-5ed5-4308-941a-8e6be9b8188b\">\n",
              "    <div class=\"colab-df-container\">\n",
              "      <div>\n",
              "<style scoped>\n",
              "    .dataframe tbody tr th:only-of-type {\n",
              "        vertical-align: middle;\n",
              "    }\n",
              "\n",
              "    .dataframe tbody tr th {\n",
              "        vertical-align: top;\n",
              "    }\n",
              "\n",
              "    .dataframe thead th {\n",
              "        text-align: right;\n",
              "    }\n",
              "</style>\n",
              "<table border=\"1\" class=\"dataframe\">\n",
              "  <thead>\n",
              "    <tr style=\"text-align: right;\">\n",
              "      <th></th>\n",
              "      <th>population</th>\n",
              "      <th>householdsize</th>\n",
              "      <th>agePct12t21</th>\n",
              "      <th>agePct12t29</th>\n",
              "      <th>agePct16t24</th>\n",
              "      <th>agePct65up</th>\n",
              "      <th>numbUrban</th>\n",
              "      <th>pctUrban</th>\n",
              "      <th>medIncome</th>\n",
              "      <th>pctWWage</th>\n",
              "      <th>...</th>\n",
              "      <th>MedOwnCostPctInc</th>\n",
              "      <th>MedOwnCostPctIncNoMtg</th>\n",
              "      <th>NumInShelters</th>\n",
              "      <th>NumStreet</th>\n",
              "      <th>PctForeignBorn</th>\n",
              "      <th>PctBornSameState</th>\n",
              "      <th>PctSameHouse85</th>\n",
              "      <th>PctSameCity85</th>\n",
              "      <th>PctSameState85</th>\n",
              "      <th>ViolentCrimesPerPop</th>\n",
              "    </tr>\n",
              "  </thead>\n",
              "  <tbody>\n",
              "    <tr>\n",
              "      <th>0</th>\n",
              "      <td>11980</td>\n",
              "      <td>3.10</td>\n",
              "      <td>12.47</td>\n",
              "      <td>21.44</td>\n",
              "      <td>10.93</td>\n",
              "      <td>11.33</td>\n",
              "      <td>11980</td>\n",
              "      <td>100.0</td>\n",
              "      <td>75122</td>\n",
              "      <td>89.24</td>\n",
              "      <td>...</td>\n",
              "      <td>21.1</td>\n",
              "      <td>14.0</td>\n",
              "      <td>11</td>\n",
              "      <td>0</td>\n",
              "      <td>10.66</td>\n",
              "      <td>53.72</td>\n",
              "      <td>65.29</td>\n",
              "      <td>78.09</td>\n",
              "      <td>89.14</td>\n",
              "      <td>41.02</td>\n",
              "    </tr>\n",
              "    <tr>\n",
              "      <th>1</th>\n",
              "      <td>23123</td>\n",
              "      <td>2.82</td>\n",
              "      <td>11.01</td>\n",
              "      <td>21.30</td>\n",
              "      <td>10.48</td>\n",
              "      <td>17.18</td>\n",
              "      <td>23123</td>\n",
              "      <td>100.0</td>\n",
              "      <td>47917</td>\n",
              "      <td>78.99</td>\n",
              "      <td>...</td>\n",
              "      <td>20.7</td>\n",
              "      <td>12.5</td>\n",
              "      <td>0</td>\n",
              "      <td>0</td>\n",
              "      <td>8.30</td>\n",
              "      <td>77.17</td>\n",
              "      <td>71.27</td>\n",
              "      <td>90.22</td>\n",
              "      <td>96.12</td>\n",
              "      <td>127.56</td>\n",
              "    </tr>\n",
              "  </tbody>\n",
              "</table>\n",
              "<p>2 rows × 89 columns</p>\n",
              "</div>\n",
              "      <button class=\"colab-df-convert\" onclick=\"convertToInteractive('df-54607c59-5ed5-4308-941a-8e6be9b8188b')\"\n",
              "              title=\"Convert this dataframe to an interactive table.\"\n",
              "              style=\"display:none;\">\n",
              "        \n",
              "  <svg xmlns=\"http://www.w3.org/2000/svg\" height=\"24px\"viewBox=\"0 0 24 24\"\n",
              "       width=\"24px\">\n",
              "    <path d=\"M0 0h24v24H0V0z\" fill=\"none\"/>\n",
              "    <path d=\"M18.56 5.44l.94 2.06.94-2.06 2.06-.94-2.06-.94-.94-2.06-.94 2.06-2.06.94zm-11 1L8.5 8.5l.94-2.06 2.06-.94-2.06-.94L8.5 2.5l-.94 2.06-2.06.94zm10 10l.94 2.06.94-2.06 2.06-.94-2.06-.94-.94-2.06-.94 2.06-2.06.94z\"/><path d=\"M17.41 7.96l-1.37-1.37c-.4-.4-.92-.59-1.43-.59-.52 0-1.04.2-1.43.59L10.3 9.45l-7.72 7.72c-.78.78-.78 2.05 0 2.83L4 21.41c.39.39.9.59 1.41.59.51 0 1.02-.2 1.41-.59l7.78-7.78 2.81-2.81c.8-.78.8-2.07 0-2.86zM5.41 20L4 18.59l7.72-7.72 1.47 1.35L5.41 20z\"/>\n",
              "  </svg>\n",
              "      </button>\n",
              "      \n",
              "  <style>\n",
              "    .colab-df-container {\n",
              "      display:flex;\n",
              "      flex-wrap:wrap;\n",
              "      gap: 12px;\n",
              "    }\n",
              "\n",
              "    .colab-df-convert {\n",
              "      background-color: #E8F0FE;\n",
              "      border: none;\n",
              "      border-radius: 50%;\n",
              "      cursor: pointer;\n",
              "      display: none;\n",
              "      fill: #1967D2;\n",
              "      height: 32px;\n",
              "      padding: 0 0 0 0;\n",
              "      width: 32px;\n",
              "    }\n",
              "\n",
              "    .colab-df-convert:hover {\n",
              "      background-color: #E2EBFA;\n",
              "      box-shadow: 0px 1px 2px rgba(60, 64, 67, 0.3), 0px 1px 3px 1px rgba(60, 64, 67, 0.15);\n",
              "      fill: #174EA6;\n",
              "    }\n",
              "\n",
              "    [theme=dark] .colab-df-convert {\n",
              "      background-color: #3B4455;\n",
              "      fill: #D2E3FC;\n",
              "    }\n",
              "\n",
              "    [theme=dark] .colab-df-convert:hover {\n",
              "      background-color: #434B5C;\n",
              "      box-shadow: 0px 1px 3px 1px rgba(0, 0, 0, 0.15);\n",
              "      filter: drop-shadow(0px 1px 2px rgba(0, 0, 0, 0.3));\n",
              "      fill: #FFFFFF;\n",
              "    }\n",
              "  </style>\n",
              "\n",
              "      <script>\n",
              "        const buttonEl =\n",
              "          document.querySelector('#df-54607c59-5ed5-4308-941a-8e6be9b8188b button.colab-df-convert');\n",
              "        buttonEl.style.display =\n",
              "          google.colab.kernel.accessAllowed ? 'block' : 'none';\n",
              "\n",
              "        async function convertToInteractive(key) {\n",
              "          const element = document.querySelector('#df-54607c59-5ed5-4308-941a-8e6be9b8188b');\n",
              "          const dataTable =\n",
              "            await google.colab.kernel.invokeFunction('convertToInteractive',\n",
              "                                                     [key], {});\n",
              "          if (!dataTable) return;\n",
              "\n",
              "          const docLinkHtml = 'Like what you see? Visit the ' +\n",
              "            '<a target=\"_blank\" href=https://colab.research.google.com/notebooks/data_table.ipynb>data table notebook</a>'\n",
              "            + ' to learn more about interactive tables.';\n",
              "          element.innerHTML = '';\n",
              "          dataTable['output_type'] = 'display_data';\n",
              "          await google.colab.output.renderOutput(dataTable, element);\n",
              "          const docLink = document.createElement('div');\n",
              "          docLink.innerHTML = docLinkHtml;\n",
              "          element.appendChild(docLink);\n",
              "        }\n",
              "      </script>\n",
              "    </div>\n",
              "  </div>\n",
              "  "
            ]
          },
          "metadata": {},
          "execution_count": 87
        }
      ]
    },
    {
      "cell_type": "markdown",
      "metadata": {
        "id": "JCxXAdVtOiw4"
      },
      "source": [
        "### 1 Baseline"
      ]
    },
    {
      "cell_type": "markdown",
      "metadata": {
        "id": "tw3DZ8zzPRuB"
      },
      "source": [
        "Обучим линейную регрессию и выведем качество по метрике MSE на обучающей и тестовой выборке."
      ]
    },
    {
      "cell_type": "code",
      "execution_count": null,
      "metadata": {
        "id": "ntYfZTzkQRAC",
        "colab": {
          "base_uri": "https://localhost:8080/"
        },
        "outputId": "9c31fc49-38a1-47ec-f4a7-fa7ffc50378f"
      },
      "outputs": [
        {
          "output_type": "stream",
          "name": "stdout",
          "text": [
            "Train: 119935.90613769476\n",
            "Test: 206978.88436767244\n"
          ]
        }
      ],
      "source": [
        "lr = LinearRegression().fit(X_train,y_train)\n",
        "print (\"Train: {}\".format(mean_squared_error(y_train, lr.predict(X_train))))\n",
        "print (\"Test: {}\".format(mean_squared_error(y_test, lr.predict(X_test))))\n",
        "\n",
        "# Выведите ниже качество на обучении и тесте, рассчитаное с использованием функции\n",
        "# MSE(), написанной вами ранее\n",
        "# Сравните результаты\n",
        "# YOUR CODE HERE"
      ]
    },
    {
      "cell_type": "code",
      "source": [
        "from sklearn.metrics import r2_score\n",
        "print (\"Train: {}\".format(mean_squared_error(y_train, lr.predict(X_train))))\n",
        "print (\"Test: {}\".format(mean_squared_error(y_test, lr.predict(X_test))))\n",
        "print (\"Train: {}\".format(r2_score(y_train, lr.predict(X_train))))\n",
        "print (\"Test: {}\".format(r2_score(y_test, lr.predict(X_test))))\n"
      ],
      "metadata": {
        "colab": {
          "base_uri": "https://localhost:8080/"
        },
        "id": "EEmvxu46N6Mh",
        "outputId": "454dac65-fefe-4cbf-e285-422041f3dc97"
      },
      "execution_count": null,
      "outputs": [
        {
          "output_type": "stream",
          "name": "stdout",
          "text": [
            "Train: 0.6731208442568581\n",
            "Test: 0.49554452282478767\n"
          ]
        }
      ]
    },
    {
      "cell_type": "markdown",
      "metadata": {
        "id": "Jd44Omp9TtcU"
      },
      "source": [
        "Популярным решением для регрессионных моделей является **регуляризация**.\n",
        "\n",
        "Во время оптимизации линейной регрессии, веса при переменных могут получится большими в абсолютных значениях. Это не очень хорошо, поскольку классификатор будет чувствителен к крайне маленьким изменениям в признаках объекта, а значит, переобучен.\n",
        "\n",
        "Для решения проблемы к функционалу ошибки добавляют так называемсый регуляризатор, который \"штрафует\" модель за слишком большую норму вектора весов:\n",
        "\n",
        "\n",
        "$$Q\\alpha(w) = Q(w) + \\alpha R(w)$$\n",
        "\n",
        "где $R(w)$ - регуляризатор\n",
        "\n",
        "Наиболее распространенными являются L1 и L2 регуляризаторы\n",
        "$$L1: R(w) = ||w||_1 = \\sum^d_i w_i^2$$\n",
        "\n",
        "$$L2: R(w) = ||w||_2 = \\sum^d_i |w_i|$$\n",
        "\n",
        "Давайте применим каждый из них к нашей задаче и посмотрим на изменение в результатах.\n"
      ]
    },
    {
      "cell_type": "markdown",
      "metadata": {
        "id": "q-Lpzpe0QcJF"
      },
      "source": [
        "В качестве метода регуляризации используем Ridge ($L_2$-регуляризация)."
      ]
    },
    {
      "cell_type": "code",
      "execution_count": null,
      "metadata": {
        "id": "RT8QZldbPqFr",
        "colab": {
          "base_uri": "https://localhost:8080/"
        },
        "outputId": "61acc28a-6805-44c5-93cb-7e45e466e4d6"
      },
      "outputs": [
        {
          "output_type": "stream",
          "name": "stdout",
          "text": [
            "Train: 120034.34899044895\n",
            "Test: 206397.58450110914\n",
            "Train: 0.6728525433148509\n",
            "Test: 0.496961285227701\n"
          ]
        }
      ],
      "source": [
        "ridge = Ridge(1.0).fit(X_train,y_train)\n",
        "print (\"Train: {}\".format(mean_squared_error(y_train, ridge.predict(X_train))))\n",
        "print (\"Test: {}\".format(mean_squared_error(y_test, ridge.predict(X_test))))\n",
        "print (\"Train: {}\".format(r2_score(y_train, ridge.predict(X_train))))\n",
        "print (\"Test: {}\".format(r2_score(y_test, ridge.predict(X_test))))"
      ]
    },
    {
      "cell_type": "code",
      "source": [
        "ridge = Ridge(0.5).fit(X_train,y_train)\n",
        "print (\"Train: {}\".format(mean_squared_error(y_train, ridge.predict(X_train))))\n",
        "print (\"Test: {}\".format(mean_squared_error(y_test, ridge.predict(X_test))))\n",
        "print (\"Train: {}\".format(r2_score(y_train, ridge.predict(X_train))))\n",
        "print (\"Test: {}\".format(r2_score(y_test, ridge.predict(X_test))))"
      ],
      "metadata": {
        "colab": {
          "base_uri": "https://localhost:8080/"
        },
        "id": "SF1VPUloPOzZ",
        "outputId": "7b81c61a-f57c-4d9b-89a6-cd1d81f8eceb"
      },
      "execution_count": null,
      "outputs": [
        {
          "output_type": "stream",
          "name": "stdout",
          "text": [
            "Train: 119980.70658670652\n",
            "Test: 206409.66591840147\n",
            "Train: 0.6729987429327304\n",
            "Test: 0.4969318400157231\n"
          ]
        }
      ]
    },
    {
      "cell_type": "code",
      "source": [
        "ridge = Ridge(0.1).fit(X_train,y_train)\n",
        "print (\"Train: {}\".format(mean_squared_error(y_train, ridge.predict(X_train))))\n",
        "print (\"Test: {}\".format(mean_squared_error(y_test, ridge.predict(X_test))))\n",
        "print (\"Train: {}\".format(r2_score(y_train, ridge.predict(X_train))))\n",
        "print (\"Test: {}\".format(r2_score(y_test, ridge.predict(X_test))))"
      ],
      "metadata": {
        "colab": {
          "base_uri": "https://localhost:8080/"
        },
        "id": "bhKYiJ2lPxV4",
        "outputId": "937a886b-6a51-41bf-b137-c35821757f1f"
      },
      "execution_count": null,
      "outputs": [
        {
          "output_type": "stream",
          "name": "stdout",
          "text": [
            "Train: 119940.59846478517\n",
            "Test: 206721.20377398893\n",
            "Train: 0.6731080555602353\n",
            "Test: 0.4961725501099985\n"
          ]
        }
      ]
    },
    {
      "cell_type": "markdown",
      "metadata": {
        "id": "tzcwQ0T5QkRJ"
      },
      "source": [
        "### 2 Scaling"
      ]
    },
    {
      "cell_type": "markdown",
      "metadata": {
        "id": "ZjOT_WBfQnWX"
      },
      "source": [
        "Попробуем MinMaxScaler."
      ]
    },
    {
      "cell_type": "code",
      "execution_count": null,
      "metadata": {
        "id": "zedtNiBBQhOl"
      },
      "outputs": [],
      "source": [
        "sc = MinMaxScaler()\n",
        "X_train_scaled = pd.DataFrame(data=sc.fit_transform(X_train), columns=X_train.columns)\n",
        "X_test_scaled = pd.DataFrame(data=sc.transform(X_test), columns=X_test.columns)"
      ]
    },
    {
      "cell_type": "markdown",
      "metadata": {
        "id": "qrldySniQ6jR"
      },
      "source": [
        "**Задание:** Напишите код обучения линейной регресии на масштабированных признаках и выведите ошибку на обучающей и валидационной выборке"
      ]
    },
    {
      "cell_type": "code",
      "execution_count": null,
      "metadata": {
        "id": "PyoESXkkRQA1",
        "colab": {
          "base_uri": "https://localhost:8080/"
        },
        "outputId": "a79025d7-41b9-49d0-b03b-106e2c140b67"
      },
      "outputs": [
        {
          "output_type": "stream",
          "name": "stdout",
          "text": [
            "Train: 119935.90613769476\n",
            "Test: 206978.88437126437\n",
            "Train: 0.6731208442568581\n",
            "Test: 0.49554452281603323\n"
          ]
        }
      ],
      "source": [
        "# YOUR CODE HERE\n",
        "lr = LinearRegression().fit(X_train_scaled,y_train)\n",
        "print (\"Train: {}\".format(mean_squared_error(y_train, lr.predict(X_train_scaled))))\n",
        "print (\"Test: {}\".format(mean_squared_error(y_test, lr.predict(X_test_scaled))))\n",
        "print (\"Train: {}\".format(r2_score(y_train, lr.predict(X_train_scaled))))\n",
        "print (\"Test: {}\".format(r2_score(y_test, lr.predict(X_test_scaled))))"
      ]
    },
    {
      "cell_type": "markdown",
      "metadata": {
        "id": "HkbwYrUdRSYR"
      },
      "source": [
        "**Задание:** проделайте аналогичную работу, добавив Ridge регуляризацию"
      ]
    },
    {
      "cell_type": "code",
      "execution_count": null,
      "metadata": {
        "id": "YDELVx5FRh1F",
        "colab": {
          "base_uri": "https://localhost:8080/"
        },
        "outputId": "ba04ca84-45d6-4004-f5e5-0fe55e27e9fa"
      },
      "outputs": [
        {
          "output_type": "stream",
          "name": "stdout",
          "text": [
            "Train: 122984.86952707608\n",
            "Test: 183859.0431778662\n",
            "Train: 0.66481105104557\n",
            "Test: 0.5518929303217623\n"
          ]
        }
      ],
      "source": [
        "# YOUR CODE HERE\n",
        "ridge = Ridge(0.5).fit(X_train_scaled,y_train)\n",
        "print (\"Train: {}\".format(mean_squared_error(y_train, ridge.predict(X_train_scaled))))\n",
        "print (\"Test: {}\".format(mean_squared_error(y_test, ridge.predict(X_test_scaled))))\n",
        "print (\"Train: {}\".format(r2_score(y_train, ridge.predict(X_train_scaled))))\n",
        "print (\"Test: {}\".format(r2_score(y_test, ridge.predict(X_test_scaled))))\n"
      ]
    },
    {
      "cell_type": "markdown",
      "metadata": {
        "id": "mK7GsUVORnbG"
      },
      "source": [
        "### 3. High/low variance"
      ]
    },
    {
      "cell_type": "markdown",
      "metadata": {
        "id": "h1Obs0jBRpsw"
      },
      "source": [
        "Полезны ли признаки, имеющие высокую дисперсию? А низкую?"
      ]
    },
    {
      "cell_type": "code",
      "execution_count": null,
      "metadata": {
        "id": "sDlYyvBsRnwb",
        "colab": {
          "base_uri": "https://localhost:8080/"
        },
        "outputId": "7f57d8ec-019f-495b-82d6-2a952edea38d"
      },
      "outputs": [
        {
          "output_type": "execute_result",
          "data": {
            "text/plain": [
              "pctUrban          0.197731\n",
              "RentHighQ         0.063005\n",
              "MedYrHousBuilt    0.054831\n",
              "OwnOccHiQuart     0.048807\n",
              "MedRent           0.046863\n",
              "dtype: float64"
            ]
          },
          "metadata": {},
          "execution_count": 106
        }
      ],
      "source": [
        "features_variance = X_train_scaled.var().sort_values(ascending=False)\n",
        "features_variance.head()"
      ]
    },
    {
      "cell_type": "markdown",
      "metadata": {
        "id": "qW04UvAbRyhG"
      },
      "source": [
        "Попробуем удалить признаки с самой низкой дисперсией и посмотреть, как изменится качество. В sklearn есть специальный инструмент для такого наивного отбора признаков. Стоит ли нормализовать перед этим признаки?"
      ]
    },
    {
      "cell_type": "code",
      "execution_count": null,
      "metadata": {
        "id": "lz3skoIgSbD7"
      },
      "outputs": [],
      "source": [
        "from sklearn.feature_selection import VarianceThreshold"
      ]
    },
    {
      "cell_type": "code",
      "execution_count": null,
      "metadata": {
        "id": "StGlZfbeRsec",
        "colab": {
          "base_uri": "https://localhost:8080/"
        },
        "outputId": "a56238ba-59f7-43ee-b386-eda2fe2c9047"
      },
      "outputs": [
        {
          "output_type": "execute_result",
          "data": {
            "text/plain": [
              "(1495, 76)"
            ]
          },
          "metadata": {},
          "execution_count": 108
        }
      ],
      "source": [
        "# можно убрать все признаки, дисперсия которых меньше заданного значения\n",
        "vs_transformer = VarianceThreshold(0.01)\n",
        "\n",
        "X_train_var = pd.DataFrame(data=vs_transformer.fit_transform(X_train_scaled), columns=X_train_scaled.columns[vs_transformer.get_support()])\n",
        "X_test_var = pd.DataFrame(data=vs_transformer.transform(X_test_scaled), columns=X_test_scaled.columns[vs_transformer.get_support()])\n",
        "\n",
        "X_train_var.shape"
      ]
    },
    {
      "cell_type": "code",
      "execution_count": null,
      "metadata": {
        "id": "z60-yCrwR2rG",
        "colab": {
          "base_uri": "https://localhost:8080/"
        },
        "outputId": "798d44bb-dd84-4732-d8ef-ca56c9f24c4d"
      },
      "outputs": [
        {
          "output_type": "stream",
          "name": "stdout",
          "text": [
            "Train: 125706.38916046257\n",
            "Test: 149123.25580684407\n",
            "Train: 0.6573936889832163\n",
            "Test: 0.636552088896503\n"
          ]
        }
      ],
      "source": [
        "lr = LinearRegression().fit(X_train_var,y_train)\n",
        "print (\"Train: {}\".format(mean_squared_error(y_train, lr.predict(X_train_var))))\n",
        "print (\"Test: {}\".format(mean_squared_error(y_test, lr.predict(X_test_var))))\n",
        "print (\"Train: {}\".format(r2_score(y_train, lr.predict(X_train_var))))\n",
        "print (\"Test: {}\".format(r2_score(y_test, lr.predict(X_test_var))))\n"
      ]
    },
    {
      "cell_type": "code",
      "execution_count": null,
      "metadata": {
        "id": "LXlTH65eR5hs",
        "colab": {
          "base_uri": "https://localhost:8080/"
        },
        "outputId": "f212d878-af16-43a3-c97f-271ff8188159"
      },
      "outputs": [
        {
          "output_type": "stream",
          "name": "stdout",
          "text": [
            "Train: 136186.78301451617\n",
            "Test: 152046.21566890882\n",
            "Train: 0.6288299135035398\n",
            "Test: 0.6294281587599264\n"
          ]
        }
      ],
      "source": [
        "ridge = Ridge(5.0).fit(X_train_var,y_train)\n",
        "print (\"Train: {}\".format(mean_squared_error(y_train, ridge.predict(X_train_var))))\n",
        "print (\"Test: {}\".format(mean_squared_error(y_test, ridge.predict(X_test_var))))\n",
        "print (\"Train: {}\".format(r2_score(y_train, ridge.predict(X_train_var))))\n",
        "print (\"Test: {}\".format(r2_score(y_test, ridge.predict(X_test_var))))"
      ]
    },
    {
      "cell_type": "markdown",
      "metadata": {
        "id": "X-tIhMytR9KO"
      },
      "source": [
        "### 4 Correlation"
      ]
    },
    {
      "cell_type": "markdown",
      "metadata": {
        "id": "FmyRffiqR9lz"
      },
      "source": [
        "Можно выбрать k признаков, которые дают наиболее высокие значения корреляции с целевой переменной."
      ]
    },
    {
      "cell_type": "code",
      "execution_count": null,
      "metadata": {
        "id": "FuOHV58LSbD-"
      },
      "outputs": [],
      "source": [
        "from sklearn.feature_selection import SelectKBest, f_regression"
      ]
    },
    {
      "cell_type": "code",
      "execution_count": null,
      "metadata": {
        "id": "dxgWrpvVR7_H"
      },
      "outputs": [],
      "source": [
        "# Выбираем 15 лучших признаков\n",
        "sb = SelectKBest(f_regression, k=15)\n",
        "\n",
        "X_train_kbest = pd.DataFrame(data=sb.fit_transform(X_train_var, y_train), columns=X_train_var.columns[sb.get_support()])\n",
        "X_test_kbest = pd.DataFrame(data=sb.transform(X_test_var), columns=X_test_var.columns[sb.get_support()])"
      ]
    },
    {
      "cell_type": "code",
      "source": [
        "X_train_kbest.shape"
      ],
      "metadata": {
        "colab": {
          "base_uri": "https://localhost:8080/"
        },
        "id": "GIU9tOpzSyOz",
        "outputId": "31a278be-07c6-488e-ed8a-b7fcc9b51026"
      },
      "execution_count": null,
      "outputs": [
        {
          "output_type": "execute_result",
          "data": {
            "text/plain": [
              "(1495, 15)"
            ]
          },
          "metadata": {},
          "execution_count": 114
        }
      ]
    },
    {
      "cell_type": "code",
      "execution_count": null,
      "metadata": {
        "id": "05_0s6Y0SPYp",
        "colab": {
          "base_uri": "https://localhost:8080/"
        },
        "outputId": "f2ba679b-5a2c-433a-bb5b-5c06467a1bfc"
      },
      "outputs": [
        {
          "output_type": "stream",
          "name": "stdout",
          "text": [
            "Train: 147378.18578795987\n",
            "Test: 156005.7803589241\n",
            "Train: 0.5983283197108951\n",
            "Test: 0.6197777825816513\n"
          ]
        }
      ],
      "source": [
        "lr = LinearRegression().fit(X_train_kbest,y_train)\n",
        "print (\"Train: {}\".format(mean_squared_error(y_train, lr.predict(X_train_kbest))))\n",
        "print (\"Test: {}\".format(mean_squared_error(y_test, lr.predict(X_test_kbest))))\n",
        "print (\"Train: {}\".format(r2_score(y_train, lr.predict(X_train_kbest))))\n",
        "print (\"Test: {}\".format(r2_score(y_test, lr.predict(X_test_kbest))))\n"
      ]
    },
    {
      "cell_type": "code",
      "execution_count": null,
      "metadata": {
        "id": "brBAuwBHSSXA",
        "colab": {
          "base_uri": "https://localhost:8080/"
        },
        "outputId": "540f6243-e135-47b3-f9e1-89c3926d3d22"
      },
      "outputs": [
        {
          "output_type": "stream",
          "name": "stdout",
          "text": [
            "Train: 150111.52271527727\n",
            "Test: 154590.58194063304\n",
            "Train: 0.5908787502205266\n",
            "Test: 0.6232269488846662\n"
          ]
        }
      ],
      "source": [
        "ridge = Ridge(0.5).fit(X_train_kbest,y_train)\n",
        "print (\"Train: {}\".format(mean_squared_error(y_train, ridge.predict(X_train_kbest))))\n",
        "print (\"Test: {}\".format(mean_squared_error(y_test, ridge.predict(X_test_kbest))))\n",
        "print (\"Train: {}\".format(r2_score(y_train, ridge.predict(X_train_kbest))))\n",
        "print (\"Test: {}\".format(r2_score(y_test, ridge.predict(X_test_kbest))))"
      ]
    },
    {
      "cell_type": "markdown",
      "metadata": {
        "id": "R1oWr6MASWck"
      },
      "source": [
        "А можно выбрать самые значимые признаки с точки зрения регрессии с $L_1$-регуляризацией."
      ]
    },
    {
      "cell_type": "code",
      "execution_count": null,
      "metadata": {
        "id": "_U9blI6ESbEA"
      },
      "outputs": [],
      "source": [
        "from sklearn.feature_selection import SelectFromModel"
      ]
    },
    {
      "cell_type": "code",
      "execution_count": null,
      "metadata": {
        "id": "7R7rsWRvSVFA",
        "colab": {
          "base_uri": "https://localhost:8080/"
        },
        "outputId": "a404a921-0c7c-4aea-9b3f-5a6d7f8ec0d5"
      },
      "outputs": [
        {
          "output_type": "execute_result",
          "data": {
            "text/plain": [
              "(1495, 12)"
            ]
          },
          "metadata": {},
          "execution_count": 119
        }
      ],
      "source": [
        "#мы обучаем модель и выбираем те признаки которие оказались важныма с точки зрения Lasso\n",
        "lasso = Lasso(5.0)\n",
        "l1_select = SelectFromModel(lasso)\n",
        "\n",
        "X_train_l1 = pd.DataFrame(data=l1_select.fit_transform(X_train_var, y_train), columns=X_train_var.columns[l1_select.get_support()])\n",
        "X_test_l1 = pd.DataFrame(data=l1_select.transform(X_test_var), columns=X_test_var.columns[l1_select.get_support()])\n",
        "\n",
        "X_train_l1.shape"
      ]
    },
    {
      "cell_type": "code",
      "execution_count": null,
      "metadata": {
        "id": "0VO2rVJfSikj",
        "colab": {
          "base_uri": "https://localhost:8080/"
        },
        "outputId": "46a21018-b53d-470f-863a-4beade67029a"
      },
      "outputs": [
        {
          "output_type": "stream",
          "name": "stdout",
          "text": [
            "Train: 140757.45879349473\n",
            "Test: 153086.92726760302\n",
            "Train: 0.6163727712854883\n",
            "Test: 0.626891703566804\n",
            "___\n",
            "Train: 140877.1845197516\n",
            "Test: 153217.0887619086\n",
            "Train: 0.6160464649642217\n",
            "Test: 0.6265744698599921\n"
          ]
        }
      ],
      "source": [
        "lr = LinearRegression().fit(X_train_l1,y_train)\n",
        "print (\"Train: {}\".format(mean_squared_error(y_train, lr.predict(X_train_l1))))\n",
        "print (\"Test: {}\".format(mean_squared_error(y_test, lr.predict(X_test_l1))))\n",
        "print (\"Train: {}\".format(r2_score(y_train, lr.predict(X_train_l1))))\n",
        "print (\"Test: {}\".format(r2_score(y_test, lr.predict(X_test_l1))))\n",
        "\n",
        "print(\"___\")\n",
        "\n",
        "ridge = Ridge(0.5).fit(X_train_l1,y_train)\n",
        "print (\"Train: {}\".format(mean_squared_error(y_train, ridge.predict(X_train_l1))))\n",
        "print (\"Test: {}\".format(mean_squared_error(y_test, ridge.predict(X_test_l1))))\n",
        "print (\"Train: {}\".format(r2_score(y_train, ridge.predict(X_train_l1))))\n",
        "print (\"Test: {}\".format(r2_score(y_test, ridge.predict(X_test_l1))))\n"
      ]
    },
    {
      "cell_type": "markdown",
      "metadata": {
        "id": "XlvrsWnsSqJ2"
      },
      "source": [
        "### 5 Pipeline"
      ]
    },
    {
      "cell_type": "markdown",
      "metadata": {
        "id": "vD3_WwmwSspu"
      },
      "source": [
        "А можно сделать все вышеописанное сразу:"
      ]
    },
    {
      "cell_type": "code",
      "execution_count": null,
      "metadata": {
        "id": "g6SHSnsUSpJU",
        "colab": {
          "base_uri": "https://localhost:8080/"
        },
        "outputId": "1b2555af-e296-4975-f542-cb712181ce1f"
      },
      "outputs": [
        {
          "output_type": "execute_result",
          "data": {
            "text/plain": [
              "{'scaler': MinMaxScaler(),\n",
              " 'variance': VarianceThreshold(threshold=0.01),\n",
              " 'selection': SelectFromModel(estimator=Lasso(alpha=5.0)),\n",
              " 'regressor': Ridge(alpha=0.5)}"
            ]
          },
          "metadata": {},
          "execution_count": 122
        }
      ],
      "source": [
        "from sklearn.pipeline import Pipeline\n",
        "\n",
        "\n",
        "pipe = Pipeline(steps=[\n",
        "    ('scaler', MinMaxScaler()),\n",
        "    ('variance', VarianceThreshold(0.01)),\n",
        "    ('selection', SelectFromModel(Lasso(5.0))),\n",
        "    ('regressor', Ridge(0.5))\n",
        "])\n",
        "\n",
        "pipe.fit(X_train, y_train)\n",
        "\n",
        "pipe.named_steps"
      ]
    },
    {
      "cell_type": "code",
      "execution_count": null,
      "metadata": {
        "id": "R84AM0WISw1i",
        "colab": {
          "base_uri": "https://localhost:8080/"
        },
        "outputId": "8c10264c-dace-4a67-88ba-8b64c4b43c3b"
      },
      "outputs": [
        {
          "output_type": "stream",
          "name": "stdout",
          "text": [
            "Train: 140877.1845197516\n",
            "Test: 153217.0887619086\n",
            "Train: 0.6160464649642217\n",
            "Test: 0.6265744698599921\n"
          ]
        }
      ],
      "source": [
        "print (\"Train: {}\".format(mean_squared_error(y_train, pipe.predict(X_train))))\n",
        "print (\"Test: {}\".format(mean_squared_error(y_test, pipe.predict(X_test))))\n",
        "print (\"Train: {}\".format(r2_score(y_train, pipe.predict(X_train))))\n",
        "print (\"Test: {}\".format(r2_score(y_test, pipe.predict(X_test))))"
      ]
    },
    {
      "cell_type": "markdown",
      "metadata": {
        "id": "tN1m9tlWS2zh"
      },
      "source": [
        "Можно также настраивать параметры с помощью `GridSearch`:"
      ]
    },
    {
      "cell_type": "code",
      "execution_count": null,
      "metadata": {
        "id": "3fqn1f7qS2Kt",
        "colab": {
          "base_uri": "https://localhost:8080/"
        },
        "outputId": "9b05502c-7bc9-45c1-8ed3-342d4eaa8cf9"
      },
      "outputs": [
        {
          "output_type": "execute_result",
          "data": {
            "text/plain": [
              "{'memory': None,\n",
              " 'steps': [('scaler', MinMaxScaler()),\n",
              "  ('variance', VarianceThreshold(threshold=0.01)),\n",
              "  ('selection', SelectFromModel(estimator=Lasso(alpha=5.0))),\n",
              "  ('regressor', Ridge(alpha=0.5))],\n",
              " 'verbose': False,\n",
              " 'scaler': MinMaxScaler(),\n",
              " 'variance': VarianceThreshold(threshold=0.01),\n",
              " 'selection': SelectFromModel(estimator=Lasso(alpha=5.0)),\n",
              " 'regressor': Ridge(alpha=0.5),\n",
              " 'scaler__clip': False,\n",
              " 'scaler__copy': True,\n",
              " 'scaler__feature_range': (0, 1),\n",
              " 'variance__threshold': 0.01,\n",
              " 'selection__estimator__alpha': 5.0,\n",
              " 'selection__estimator__copy_X': True,\n",
              " 'selection__estimator__fit_intercept': True,\n",
              " 'selection__estimator__max_iter': 1000,\n",
              " 'selection__estimator__positive': False,\n",
              " 'selection__estimator__precompute': False,\n",
              " 'selection__estimator__random_state': None,\n",
              " 'selection__estimator__selection': 'cyclic',\n",
              " 'selection__estimator__tol': 0.0001,\n",
              " 'selection__estimator__warm_start': False,\n",
              " 'selection__estimator': Lasso(alpha=5.0),\n",
              " 'selection__importance_getter': 'auto',\n",
              " 'selection__max_features': None,\n",
              " 'selection__norm_order': 1,\n",
              " 'selection__prefit': False,\n",
              " 'selection__threshold': None,\n",
              " 'regressor__alpha': 0.5,\n",
              " 'regressor__copy_X': True,\n",
              " 'regressor__fit_intercept': True,\n",
              " 'regressor__max_iter': None,\n",
              " 'regressor__positive': False,\n",
              " 'regressor__random_state': None,\n",
              " 'regressor__solver': 'auto',\n",
              " 'regressor__tol': 0.0001}"
            ]
          },
          "metadata": {},
          "execution_count": 125
        }
      ],
      "source": [
        "pipe.get_params()"
      ]
    },
    {
      "cell_type": "code",
      "execution_count": null,
      "metadata": {
        "id": "4m5LRWZgS_3e",
        "colab": {
          "base_uri": "https://localhost:8080/",
          "height": 403
        },
        "outputId": "70c8c846-b2d7-4b56-b60e-ea3392cd105c"
      },
      "outputs": [
        {
          "output_type": "execute_result",
          "data": {
            "text/plain": [
              "GridSearchCV(cv=5,\n",
              "             estimator=Pipeline(steps=[('scaler', MinMaxScaler()),\n",
              "                                       ('variance',\n",
              "                                        VarianceThreshold(threshold=0.01)),\n",
              "                                       ('selection',\n",
              "                                        SelectFromModel(estimator=Lasso(alpha=5.0))),\n",
              "                                       ('regressor', Ridge(alpha=0.5))]),\n",
              "             param_grid={'regressor__alpha': [0.1, 0.5, 1.0, 1.5, 2.0, 5.0,\n",
              "                                              10.0],\n",
              "                         'selection__estimator__alpha': [0.1, 0.5, 1.0, 1.5,\n",
              "                                                         2.0, 5.0, 10.0],\n",
              "                         'variance__threshold': [0.005, 0.0075, 0.009, 0.01,\n",
              "                                                 0.011, 0.012]})"
            ],
            "text/html": [
              "<style>#sk-container-id-1 {color: black;background-color: white;}#sk-container-id-1 pre{padding: 0;}#sk-container-id-1 div.sk-toggleable {background-color: white;}#sk-container-id-1 label.sk-toggleable__label {cursor: pointer;display: block;width: 100%;margin-bottom: 0;padding: 0.3em;box-sizing: border-box;text-align: center;}#sk-container-id-1 label.sk-toggleable__label-arrow:before {content: \"▸\";float: left;margin-right: 0.25em;color: #696969;}#sk-container-id-1 label.sk-toggleable__label-arrow:hover:before {color: black;}#sk-container-id-1 div.sk-estimator:hover label.sk-toggleable__label-arrow:before {color: black;}#sk-container-id-1 div.sk-toggleable__content {max-height: 0;max-width: 0;overflow: hidden;text-align: left;background-color: #f0f8ff;}#sk-container-id-1 div.sk-toggleable__content pre {margin: 0.2em;color: black;border-radius: 0.25em;background-color: #f0f8ff;}#sk-container-id-1 input.sk-toggleable__control:checked~div.sk-toggleable__content {max-height: 200px;max-width: 100%;overflow: auto;}#sk-container-id-1 input.sk-toggleable__control:checked~label.sk-toggleable__label-arrow:before {content: \"▾\";}#sk-container-id-1 div.sk-estimator input.sk-toggleable__control:checked~label.sk-toggleable__label {background-color: #d4ebff;}#sk-container-id-1 div.sk-label input.sk-toggleable__control:checked~label.sk-toggleable__label {background-color: #d4ebff;}#sk-container-id-1 input.sk-hidden--visually {border: 0;clip: rect(1px 1px 1px 1px);clip: rect(1px, 1px, 1px, 1px);height: 1px;margin: -1px;overflow: hidden;padding: 0;position: absolute;width: 1px;}#sk-container-id-1 div.sk-estimator {font-family: monospace;background-color: #f0f8ff;border: 1px dotted black;border-radius: 0.25em;box-sizing: border-box;margin-bottom: 0.5em;}#sk-container-id-1 div.sk-estimator:hover {background-color: #d4ebff;}#sk-container-id-1 div.sk-parallel-item::after {content: \"\";width: 100%;border-bottom: 1px solid gray;flex-grow: 1;}#sk-container-id-1 div.sk-label:hover label.sk-toggleable__label {background-color: #d4ebff;}#sk-container-id-1 div.sk-serial::before {content: \"\";position: absolute;border-left: 1px solid gray;box-sizing: border-box;top: 0;bottom: 0;left: 50%;z-index: 0;}#sk-container-id-1 div.sk-serial {display: flex;flex-direction: column;align-items: center;background-color: white;padding-right: 0.2em;padding-left: 0.2em;position: relative;}#sk-container-id-1 div.sk-item {position: relative;z-index: 1;}#sk-container-id-1 div.sk-parallel {display: flex;align-items: stretch;justify-content: center;background-color: white;position: relative;}#sk-container-id-1 div.sk-item::before, #sk-container-id-1 div.sk-parallel-item::before {content: \"\";position: absolute;border-left: 1px solid gray;box-sizing: border-box;top: 0;bottom: 0;left: 50%;z-index: -1;}#sk-container-id-1 div.sk-parallel-item {display: flex;flex-direction: column;z-index: 1;position: relative;background-color: white;}#sk-container-id-1 div.sk-parallel-item:first-child::after {align-self: flex-end;width: 50%;}#sk-container-id-1 div.sk-parallel-item:last-child::after {align-self: flex-start;width: 50%;}#sk-container-id-1 div.sk-parallel-item:only-child::after {width: 0;}#sk-container-id-1 div.sk-dashed-wrapped {border: 1px dashed gray;margin: 0 0.4em 0.5em 0.4em;box-sizing: border-box;padding-bottom: 0.4em;background-color: white;}#sk-container-id-1 div.sk-label label {font-family: monospace;font-weight: bold;display: inline-block;line-height: 1.2em;}#sk-container-id-1 div.sk-label-container {text-align: center;}#sk-container-id-1 div.sk-container {/* jupyter's `normalize.less` sets `[hidden] { display: none; }` but bootstrap.min.css set `[hidden] { display: none !important; }` so we also need the `!important` here to be able to override the default hidden behavior on the sphinx rendered scikit-learn.org. See: https://github.com/scikit-learn/scikit-learn/issues/21755 */display: inline-block !important;position: relative;}#sk-container-id-1 div.sk-text-repr-fallback {display: none;}</style><div id=\"sk-container-id-1\" class=\"sk-top-container\"><div class=\"sk-text-repr-fallback\"><pre>GridSearchCV(cv=5,\n",
              "             estimator=Pipeline(steps=[(&#x27;scaler&#x27;, MinMaxScaler()),\n",
              "                                       (&#x27;variance&#x27;,\n",
              "                                        VarianceThreshold(threshold=0.01)),\n",
              "                                       (&#x27;selection&#x27;,\n",
              "                                        SelectFromModel(estimator=Lasso(alpha=5.0))),\n",
              "                                       (&#x27;regressor&#x27;, Ridge(alpha=0.5))]),\n",
              "             param_grid={&#x27;regressor__alpha&#x27;: [0.1, 0.5, 1.0, 1.5, 2.0, 5.0,\n",
              "                                              10.0],\n",
              "                         &#x27;selection__estimator__alpha&#x27;: [0.1, 0.5, 1.0, 1.5,\n",
              "                                                         2.0, 5.0, 10.0],\n",
              "                         &#x27;variance__threshold&#x27;: [0.005, 0.0075, 0.009, 0.01,\n",
              "                                                 0.011, 0.012]})</pre><b>In a Jupyter environment, please rerun this cell to show the HTML representation or trust the notebook. <br />On GitHub, the HTML representation is unable to render, please try loading this page with nbviewer.org.</b></div><div class=\"sk-container\" hidden><div class=\"sk-item sk-dashed-wrapped\"><div class=\"sk-label-container\"><div class=\"sk-label sk-toggleable\"><input class=\"sk-toggleable__control sk-hidden--visually\" id=\"sk-estimator-id-1\" type=\"checkbox\" ><label for=\"sk-estimator-id-1\" class=\"sk-toggleable__label sk-toggleable__label-arrow\">GridSearchCV</label><div class=\"sk-toggleable__content\"><pre>GridSearchCV(cv=5,\n",
              "             estimator=Pipeline(steps=[(&#x27;scaler&#x27;, MinMaxScaler()),\n",
              "                                       (&#x27;variance&#x27;,\n",
              "                                        VarianceThreshold(threshold=0.01)),\n",
              "                                       (&#x27;selection&#x27;,\n",
              "                                        SelectFromModel(estimator=Lasso(alpha=5.0))),\n",
              "                                       (&#x27;regressor&#x27;, Ridge(alpha=0.5))]),\n",
              "             param_grid={&#x27;regressor__alpha&#x27;: [0.1, 0.5, 1.0, 1.5, 2.0, 5.0,\n",
              "                                              10.0],\n",
              "                         &#x27;selection__estimator__alpha&#x27;: [0.1, 0.5, 1.0, 1.5,\n",
              "                                                         2.0, 5.0, 10.0],\n",
              "                         &#x27;variance__threshold&#x27;: [0.005, 0.0075, 0.009, 0.01,\n",
              "                                                 0.011, 0.012]})</pre></div></div></div><div class=\"sk-parallel\"><div class=\"sk-parallel-item\"><div class=\"sk-item\"><div class=\"sk-label-container\"><div class=\"sk-label sk-toggleable\"><input class=\"sk-toggleable__control sk-hidden--visually\" id=\"sk-estimator-id-2\" type=\"checkbox\" ><label for=\"sk-estimator-id-2\" class=\"sk-toggleable__label sk-toggleable__label-arrow\">estimator: Pipeline</label><div class=\"sk-toggleable__content\"><pre>Pipeline(steps=[(&#x27;scaler&#x27;, MinMaxScaler()),\n",
              "                (&#x27;variance&#x27;, VarianceThreshold(threshold=0.01)),\n",
              "                (&#x27;selection&#x27;, SelectFromModel(estimator=Lasso(alpha=5.0))),\n",
              "                (&#x27;regressor&#x27;, Ridge(alpha=0.5))])</pre></div></div></div><div class=\"sk-serial\"><div class=\"sk-item\"><div class=\"sk-serial\"><div class=\"sk-item\"><div class=\"sk-estimator sk-toggleable\"><input class=\"sk-toggleable__control sk-hidden--visually\" id=\"sk-estimator-id-3\" type=\"checkbox\" ><label for=\"sk-estimator-id-3\" class=\"sk-toggleable__label sk-toggleable__label-arrow\">MinMaxScaler</label><div class=\"sk-toggleable__content\"><pre>MinMaxScaler()</pre></div></div></div><div class=\"sk-item\"><div class=\"sk-estimator sk-toggleable\"><input class=\"sk-toggleable__control sk-hidden--visually\" id=\"sk-estimator-id-4\" type=\"checkbox\" ><label for=\"sk-estimator-id-4\" class=\"sk-toggleable__label sk-toggleable__label-arrow\">VarianceThreshold</label><div class=\"sk-toggleable__content\"><pre>VarianceThreshold(threshold=0.01)</pre></div></div></div><div class=\"sk-item sk-dashed-wrapped\"><div class=\"sk-label-container\"><div class=\"sk-label sk-toggleable\"><input class=\"sk-toggleable__control sk-hidden--visually\" id=\"sk-estimator-id-5\" type=\"checkbox\" ><label for=\"sk-estimator-id-5\" class=\"sk-toggleable__label sk-toggleable__label-arrow\">selection: SelectFromModel</label><div class=\"sk-toggleable__content\"><pre>SelectFromModel(estimator=Lasso(alpha=5.0))</pre></div></div></div><div class=\"sk-parallel\"><div class=\"sk-parallel-item\"><div class=\"sk-item\"><div class=\"sk-label-container\"><div class=\"sk-label sk-toggleable\"><input class=\"sk-toggleable__control sk-hidden--visually\" id=\"sk-estimator-id-6\" type=\"checkbox\" ><label for=\"sk-estimator-id-6\" class=\"sk-toggleable__label sk-toggleable__label-arrow\">estimator: Lasso</label><div class=\"sk-toggleable__content\"><pre>Lasso(alpha=5.0)</pre></div></div></div><div class=\"sk-serial\"><div class=\"sk-item\"><div class=\"sk-estimator sk-toggleable\"><input class=\"sk-toggleable__control sk-hidden--visually\" id=\"sk-estimator-id-7\" type=\"checkbox\" ><label for=\"sk-estimator-id-7\" class=\"sk-toggleable__label sk-toggleable__label-arrow\">Lasso</label><div class=\"sk-toggleable__content\"><pre>Lasso(alpha=5.0)</pre></div></div></div></div></div></div></div></div><div class=\"sk-item\"><div class=\"sk-estimator sk-toggleable\"><input class=\"sk-toggleable__control sk-hidden--visually\" id=\"sk-estimator-id-8\" type=\"checkbox\" ><label for=\"sk-estimator-id-8\" class=\"sk-toggleable__label sk-toggleable__label-arrow\">Ridge</label><div class=\"sk-toggleable__content\"><pre>Ridge(alpha=0.5)</pre></div></div></div></div></div></div></div></div></div></div></div></div>"
            ]
          },
          "metadata": {},
          "execution_count": 127
        }
      ],
      "source": [
        "param_grid = {\n",
        "    'variance__threshold': [0.005, 0.0075, 0.009, 0.01, 0.011, 0.012],\n",
        "    'selection__estimator__alpha': [0.1, 0.5, 1.0, 1.5, 2.0, 5.0, 10.0],\n",
        "    'regressor__alpha': [0.1, 0.5, 1.0, 1.5, 2.0, 5.0, 10.0]\n",
        "}\n",
        "grid_search = GridSearchCV(pipe, param_grid, cv=5)\n",
        "\n",
        "grid_search.fit(X_train, y_train)"
      ]
    },
    {
      "cell_type": "code",
      "execution_count": null,
      "metadata": {
        "id": "G98XFUynTGJV",
        "colab": {
          "base_uri": "https://localhost:8080/"
        },
        "outputId": "970e01b3-3aac-4f1e-e494-9b0070af8313"
      },
      "outputs": [
        {
          "output_type": "execute_result",
          "data": {
            "text/plain": [
              "{'scaler': MinMaxScaler(),\n",
              " 'variance': VarianceThreshold(threshold=0.01),\n",
              " 'selection': SelectFromModel(estimator=Lasso(alpha=0.1)),\n",
              " 'regressor': Ridge(alpha=0.5)}"
            ]
          },
          "metadata": {},
          "execution_count": 128
        }
      ],
      "source": [
        "pipe_best = grid_search.best_estimator_\n",
        "pipe_best.named_steps"
      ]
    },
    {
      "cell_type": "code",
      "execution_count": null,
      "metadata": {
        "id": "7Uhgfp_WTJvD",
        "colab": {
          "base_uri": "https://localhost:8080/"
        },
        "outputId": "98c0b6f0-20ed-4cbc-bf85-f7ac6c4d36a9"
      },
      "outputs": [
        {
          "output_type": "stream",
          "name": "stdout",
          "text": [
            "Train: 128441.16453337156\n",
            "Test: 147186.92249142198\n",
            "Train: 0.6499401990832248\n",
            "Test: 0.6412713816378165\n"
          ]
        }
      ],
      "source": [
        "pipe_best.fit(X_train, y_train)\n",
        "print (\"Train: {}\".format(mean_squared_error(y_train, pipe_best.predict(X_train))))\n",
        "print (\"Test: {}\".format(mean_squared_error(y_test, pipe_best.predict(X_test))))\n",
        "print (\"Train: {}\".format(r2_score(y_train, pipe_best.predict(X_train))))\n",
        "print (\"Test: {}\".format(r2_score(y_test, pipe_best.predict(X_test))))"
      ]
    }
  ],
  "metadata": {
    "anaconda-cloud": {},
    "colab": {
      "provenance": []
    },
    "kernelspec": {
      "display_name": "Python 3",
      "language": "python",
      "name": "python3"
    },
    "language_info": {
      "codemirror_mode": {
        "name": "ipython",
        "version": 3
      },
      "file_extension": ".py",
      "mimetype": "text/x-python",
      "name": "python",
      "nbconvert_exporter": "python",
      "pygments_lexer": "ipython3",
      "version": "3.8.8"
    }
  },
  "nbformat": 4,
  "nbformat_minor": 0
}