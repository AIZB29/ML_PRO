{
  "cells": [
    {
      "cell_type": "markdown",
      "metadata": {
        "collapsed": true,
        "id": "GSs5m1z_pDqG"
      },
      "source": [
        "###  Кластеризация методом DBSCAN\n",
        "##                                Версия  3\n"
      ]
    },
    {
      "cell_type": "code",
      "execution_count": null,
      "metadata": {
        "id": "OlnhcLompDqU"
      },
      "outputs": [],
      "source": [
        "#  Активируем библиотеки\n",
        "\n",
        "import numpy as np\n",
        "import pandas as pd\n",
        "\n",
        "import matplotlib\n",
        "import matplotlib.pyplot as plt\n",
        "matplotlib.style.use('ggplot')\n",
        "%matplotlib inline\n",
        "\n",
        "import os"
      ]
    },
    {
      "cell_type": "code",
      "execution_count": null,
      "metadata": {
        "id": "ppKxo_NxpDqb"
      },
      "outputs": [],
      "source": [
        "#  Активируем процедуру DBSCAN\n",
        "\n",
        "from sklearn.cluster import DBSCAN"
      ]
    },
    {
      "cell_type": "code",
      "execution_count": null,
      "metadata": {
        "id": "UtazEEE0pDqc"
      },
      "outputs": [],
      "source": [
        "#  Планируем сравнить результаты кластеризации DBSCAN'ом\n",
        "#  с результатом применения иерархического кластерного анализа\n",
        "#  Обычно эти процедуры не нужны\n",
        "\n",
        "from scipy.cluster.hierarchy import dendrogram, linkage, fcluster\n"
      ]
    },
    {
      "cell_type": "code",
      "execution_count": null,
      "metadata": {
        "id": "nTP3WhispDqd"
      },
      "outputs": [],
      "source": []
    },
    {
      "cell_type": "markdown",
      "metadata": {
        "id": "xJDcTomFpDqd"
      },
      "source": [
        "Пример 1. Beverage\n",
        "--------"
      ]
    },
    {
      "cell_type": "code",
      "execution_count": null,
      "metadata": {
        "id": "7HRM5ELgpDqh"
      },
      "outputs": [],
      "source": [
        "#  Импорт данных\n",
        "\n",
        "df = pd.read_csv(\"beverage_r.csv\", sep=\";\", index_col='numb.obs')"
      ]
    },
    {
      "cell_type": "code",
      "execution_count": null,
      "metadata": {
        "id": "N4kA4KAUpDqj",
        "outputId": "78ae2238-5807-45b0-a85e-f0479af74498",
        "colab": {
          "base_uri": "https://localhost:8080/",
          "height": 237
        }
      },
      "outputs": [
        {
          "output_type": "execute_result",
          "data": {
            "text/plain": [
              "          COKE  D_COKE  D_PEPSI  D_7UP  PEPSI  SPRITE  TAB  SEVENUP\n",
              "numb.obs                                                           \n",
              "1            1       0        0      0      1       1    0        1\n",
              "2            1       0        0      0      1       0    0        0\n",
              "3            1       0        0      0      1       0    0        0\n",
              "4            0       1        0      1      0       0    1        0\n",
              "5            1       0        0      0      1       0    0        0"
            ],
            "text/html": [
              "\n",
              "  <div id=\"df-a6967f03-71d3-45de-ab52-1341104b759f\">\n",
              "    <div class=\"colab-df-container\">\n",
              "      <div>\n",
              "<style scoped>\n",
              "    .dataframe tbody tr th:only-of-type {\n",
              "        vertical-align: middle;\n",
              "    }\n",
              "\n",
              "    .dataframe tbody tr th {\n",
              "        vertical-align: top;\n",
              "    }\n",
              "\n",
              "    .dataframe thead th {\n",
              "        text-align: right;\n",
              "    }\n",
              "</style>\n",
              "<table border=\"1\" class=\"dataframe\">\n",
              "  <thead>\n",
              "    <tr style=\"text-align: right;\">\n",
              "      <th></th>\n",
              "      <th>COKE</th>\n",
              "      <th>D_COKE</th>\n",
              "      <th>D_PEPSI</th>\n",
              "      <th>D_7UP</th>\n",
              "      <th>PEPSI</th>\n",
              "      <th>SPRITE</th>\n",
              "      <th>TAB</th>\n",
              "      <th>SEVENUP</th>\n",
              "    </tr>\n",
              "    <tr>\n",
              "      <th>numb.obs</th>\n",
              "      <th></th>\n",
              "      <th></th>\n",
              "      <th></th>\n",
              "      <th></th>\n",
              "      <th></th>\n",
              "      <th></th>\n",
              "      <th></th>\n",
              "      <th></th>\n",
              "    </tr>\n",
              "  </thead>\n",
              "  <tbody>\n",
              "    <tr>\n",
              "      <th>1</th>\n",
              "      <td>1</td>\n",
              "      <td>0</td>\n",
              "      <td>0</td>\n",
              "      <td>0</td>\n",
              "      <td>1</td>\n",
              "      <td>1</td>\n",
              "      <td>0</td>\n",
              "      <td>1</td>\n",
              "    </tr>\n",
              "    <tr>\n",
              "      <th>2</th>\n",
              "      <td>1</td>\n",
              "      <td>0</td>\n",
              "      <td>0</td>\n",
              "      <td>0</td>\n",
              "      <td>1</td>\n",
              "      <td>0</td>\n",
              "      <td>0</td>\n",
              "      <td>0</td>\n",
              "    </tr>\n",
              "    <tr>\n",
              "      <th>3</th>\n",
              "      <td>1</td>\n",
              "      <td>0</td>\n",
              "      <td>0</td>\n",
              "      <td>0</td>\n",
              "      <td>1</td>\n",
              "      <td>0</td>\n",
              "      <td>0</td>\n",
              "      <td>0</td>\n",
              "    </tr>\n",
              "    <tr>\n",
              "      <th>4</th>\n",
              "      <td>0</td>\n",
              "      <td>1</td>\n",
              "      <td>0</td>\n",
              "      <td>1</td>\n",
              "      <td>0</td>\n",
              "      <td>0</td>\n",
              "      <td>1</td>\n",
              "      <td>0</td>\n",
              "    </tr>\n",
              "    <tr>\n",
              "      <th>5</th>\n",
              "      <td>1</td>\n",
              "      <td>0</td>\n",
              "      <td>0</td>\n",
              "      <td>0</td>\n",
              "      <td>1</td>\n",
              "      <td>0</td>\n",
              "      <td>0</td>\n",
              "      <td>0</td>\n",
              "    </tr>\n",
              "  </tbody>\n",
              "</table>\n",
              "</div>\n",
              "      <button class=\"colab-df-convert\" onclick=\"convertToInteractive('df-a6967f03-71d3-45de-ab52-1341104b759f')\"\n",
              "              title=\"Convert this dataframe to an interactive table.\"\n",
              "              style=\"display:none;\">\n",
              "        \n",
              "  <svg xmlns=\"http://www.w3.org/2000/svg\" height=\"24px\"viewBox=\"0 0 24 24\"\n",
              "       width=\"24px\">\n",
              "    <path d=\"M0 0h24v24H0V0z\" fill=\"none\"/>\n",
              "    <path d=\"M18.56 5.44l.94 2.06.94-2.06 2.06-.94-2.06-.94-.94-2.06-.94 2.06-2.06.94zm-11 1L8.5 8.5l.94-2.06 2.06-.94-2.06-.94L8.5 2.5l-.94 2.06-2.06.94zm10 10l.94 2.06.94-2.06 2.06-.94-2.06-.94-.94-2.06-.94 2.06-2.06.94z\"/><path d=\"M17.41 7.96l-1.37-1.37c-.4-.4-.92-.59-1.43-.59-.52 0-1.04.2-1.43.59L10.3 9.45l-7.72 7.72c-.78.78-.78 2.05 0 2.83L4 21.41c.39.39.9.59 1.41.59.51 0 1.02-.2 1.41-.59l7.78-7.78 2.81-2.81c.8-.78.8-2.07 0-2.86zM5.41 20L4 18.59l7.72-7.72 1.47 1.35L5.41 20z\"/>\n",
              "  </svg>\n",
              "      </button>\n",
              "      \n",
              "  <style>\n",
              "    .colab-df-container {\n",
              "      display:flex;\n",
              "      flex-wrap:wrap;\n",
              "      gap: 12px;\n",
              "    }\n",
              "\n",
              "    .colab-df-convert {\n",
              "      background-color: #E8F0FE;\n",
              "      border: none;\n",
              "      border-radius: 50%;\n",
              "      cursor: pointer;\n",
              "      display: none;\n",
              "      fill: #1967D2;\n",
              "      height: 32px;\n",
              "      padding: 0 0 0 0;\n",
              "      width: 32px;\n",
              "    }\n",
              "\n",
              "    .colab-df-convert:hover {\n",
              "      background-color: #E2EBFA;\n",
              "      box-shadow: 0px 1px 2px rgba(60, 64, 67, 0.3), 0px 1px 3px 1px rgba(60, 64, 67, 0.15);\n",
              "      fill: #174EA6;\n",
              "    }\n",
              "\n",
              "    [theme=dark] .colab-df-convert {\n",
              "      background-color: #3B4455;\n",
              "      fill: #D2E3FC;\n",
              "    }\n",
              "\n",
              "    [theme=dark] .colab-df-convert:hover {\n",
              "      background-color: #434B5C;\n",
              "      box-shadow: 0px 1px 3px 1px rgba(0, 0, 0, 0.15);\n",
              "      filter: drop-shadow(0px 1px 2px rgba(0, 0, 0, 0.3));\n",
              "      fill: #FFFFFF;\n",
              "    }\n",
              "  </style>\n",
              "\n",
              "      <script>\n",
              "        const buttonEl =\n",
              "          document.querySelector('#df-a6967f03-71d3-45de-ab52-1341104b759f button.colab-df-convert');\n",
              "        buttonEl.style.display =\n",
              "          google.colab.kernel.accessAllowed ? 'block' : 'none';\n",
              "\n",
              "        async function convertToInteractive(key) {\n",
              "          const element = document.querySelector('#df-a6967f03-71d3-45de-ab52-1341104b759f');\n",
              "          const dataTable =\n",
              "            await google.colab.kernel.invokeFunction('convertToInteractive',\n",
              "                                                     [key], {});\n",
              "          if (!dataTable) return;\n",
              "\n",
              "          const docLinkHtml = 'Like what you see? Visit the ' +\n",
              "            '<a target=\"_blank\" href=https://colab.research.google.com/notebooks/data_table.ipynb>data table notebook</a>'\n",
              "            + ' to learn more about interactive tables.';\n",
              "          element.innerHTML = '';\n",
              "          dataTable['output_type'] = 'display_data';\n",
              "          await google.colab.output.renderOutput(dataTable, element);\n",
              "          const docLink = document.createElement('div');\n",
              "          docLink.innerHTML = docLinkHtml;\n",
              "          element.appendChild(docLink);\n",
              "        }\n",
              "      </script>\n",
              "    </div>\n",
              "  </div>\n",
              "  "
            ]
          },
          "metadata": {},
          "execution_count": 4
        }
      ],
      "source": [
        "#  Все хорошо?\n",
        "\n",
        "df.head()"
      ]
    },
    {
      "cell_type": "code",
      "execution_count": null,
      "metadata": {
        "id": "ElQpsw-fpDql"
      },
      "outputs": [],
      "source": []
    },
    {
      "cell_type": "markdown",
      "metadata": {
        "id": "5XVtEDI3pDqm"
      },
      "source": [
        "### Подбираем параметры модели DBSCAN. Первый шаг. <br>\n",
        "Начинаем со значений по умолчанию"
      ]
    },
    {
      "cell_type": "code",
      "execution_count": null,
      "metadata": {
        "id": "eyWjzwyvpDqn",
        "outputId": "71cf516b-e9ff-4edf-a549-d1dac73b685b",
        "colab": {
          "base_uri": "https://localhost:8080/"
        }
      },
      "outputs": [
        {
          "output_type": "execute_result",
          "data": {
            "text/plain": [
              "array([-1,  0,  0, -1,  0, -1, -1, -1, -1, -1, -1, -1, -1, -1, -1, -1, -1,\n",
              "       -1, -1, -1,  0,  0, -1, -1, -1, -1, -1, -1, -1, -1, -1, -1, -1, -1])"
            ]
          },
          "metadata": {},
          "execution_count": 5
        }
      ],
      "source": [
        "#  Кластеризуем методом DBSCAN.\n",
        "\n",
        "#  Значения 3-х первых параметров совпадают со значениями \"по умолчанию\"\n",
        "dbscan_1 = DBSCAN()\n",
        "\n",
        "#  Обучим модель DBSCAN\n",
        "dbscan_1.fit(df)\n",
        "\n",
        "# В какой кластер попало наблюдение?\n",
        "# Numpy массив номеров кластеров\n",
        "\n",
        "dbscan_1.labels_\n"
      ]
    },
    {
      "cell_type": "code",
      "execution_count": null,
      "metadata": {
        "id": "TtKhqlinpDqo"
      },
      "outputs": [],
      "source": [
        "dbscan_1?"
      ]
    },
    {
      "cell_type": "code",
      "execution_count": null,
      "metadata": {
        "id": "VMdB_MkupDqp",
        "outputId": "98acf4cc-37cd-4cd2-ee79-b9f8cd98e92d",
        "colab": {
          "base_uri": "https://localhost:8080/"
        }
      },
      "outputs": [
        {
          "output_type": "execute_result",
          "data": {
            "text/plain": [
              "array([-1,  0,  0, -1,  0, -1, -1, -1, -1, -1, -1, -1, -1, -1, -1, -1, -1,\n",
              "       -1, -1, -1,  0,  0, -1, -1, -1, -1, -1, -1, -1, -1, -1, -1, -1, -1])"
            ]
          },
          "metadata": {},
          "execution_count": 7
        }
      ],
      "source": [
        "#  Кластеризуем методом DBSCAN.\n",
        "\n",
        "#  Значения 3-х первых параметров совпадают со значениями \"по умолчанию\"\n",
        "dbscan_1 = DBSCAN(eps=0.5, metric='euclidean', min_samples=5)\n",
        "\n",
        "#  Обучим модель DBSCAN\n",
        "dbscan_1.fit(df)\n",
        "\n",
        "# В какой кластер попало наблюдение?\n",
        "# Numpy массив номеров кластеров\n",
        "\n",
        "dbscan_1.labels_\n"
      ]
    },
    {
      "cell_type": "markdown",
      "metadata": {
        "id": "DUiKFeCGpDqq"
      },
      "source": [
        "####  Как можно представить результаты кластеризации?"
      ]
    },
    {
      "cell_type": "code",
      "execution_count": null,
      "metadata": {
        "id": "OjtDlXGCpDqr",
        "outputId": "36ec362d-2f23-4756-c93f-c4bd2144cc5c",
        "colab": {
          "base_uri": "https://localhost:8080/"
        }
      },
      "outputs": [
        {
          "output_type": "stream",
          "name": "stdout",
          "text": [
            "-1    29\n",
            " 0     5\n",
            "dtype: int64\n"
          ]
        }
      ],
      "source": [
        "#  Создаем таблицу частот в pandas\n",
        "\n",
        "#  Команда value_counts() работает с таблицами\n",
        "#  Поэтому предварительно надо матрицу преобразовать в таблицу\n",
        "\n",
        "table_ = pd.value_counts(pd.Series(dbscan_1.labels_))\n",
        "table_.sort_index(inplace=True)\n",
        "\n",
        "print(table_)"
      ]
    },
    {
      "cell_type": "code",
      "execution_count": null,
      "metadata": {
        "id": "2O4G0Kb8pDqs",
        "outputId": "a632d293-952b-4651-d1a2-d01ab996439a",
        "colab": {
          "base_uri": "https://localhost:8080/"
        }
      },
      "outputs": [
        {
          "output_type": "stream",
          "name": "stdout",
          "text": [
            "[[-1 29]\n",
            " [ 0  5]]\n"
          ]
        }
      ],
      "source": [
        "#  Создаем таблицу частот в numpy\n",
        "#  Ту же самую таблицу\n",
        "\n",
        "unique, counts = np.unique(dbscan_1.labels_, return_counts=True)\n",
        "print(np.asarray((unique, counts)).T)"
      ]
    },
    {
      "cell_type": "markdown",
      "metadata": {
        "id": "mVwdBFW-pDqs"
      },
      "source": [
        "Получили 29 выбросов  <br>\n",
        "и один кластер из пяти объектов <br>\n",
        "Не годится."
      ]
    },
    {
      "cell_type": "markdown",
      "metadata": {
        "id": "Nf56wMVZpDqt"
      },
      "source": [
        "####  Вопрос\n",
        "Как надо изменить значения параметров eps и min_samples, <br>\n",
        "чтобы получить кластеризацию получше?"
      ]
    },
    {
      "cell_type": "markdown",
      "metadata": {
        "id": "ziw6nZWPpDqt"
      },
      "source": [
        "###  Подбираем параметры.  Второй шаг:\n",
        "\n",
        "Увеличиваем eps до 5\n"
      ]
    },
    {
      "cell_type": "code",
      "execution_count": null,
      "metadata": {
        "id": "EpaQ1gwApDqu",
        "outputId": "f8c461c8-be60-4587-b435-dd32a02efbb1",
        "colab": {
          "base_uri": "https://localhost:8080/",
          "height": 74
        }
      },
      "outputs": [
        {
          "output_type": "execute_result",
          "data": {
            "text/plain": [
              "DBSCAN(eps=5)"
            ],
            "text/html": [
              "<style>#sk-container-id-1 {color: black;background-color: white;}#sk-container-id-1 pre{padding: 0;}#sk-container-id-1 div.sk-toggleable {background-color: white;}#sk-container-id-1 label.sk-toggleable__label {cursor: pointer;display: block;width: 100%;margin-bottom: 0;padding: 0.3em;box-sizing: border-box;text-align: center;}#sk-container-id-1 label.sk-toggleable__label-arrow:before {content: \"▸\";float: left;margin-right: 0.25em;color: #696969;}#sk-container-id-1 label.sk-toggleable__label-arrow:hover:before {color: black;}#sk-container-id-1 div.sk-estimator:hover label.sk-toggleable__label-arrow:before {color: black;}#sk-container-id-1 div.sk-toggleable__content {max-height: 0;max-width: 0;overflow: hidden;text-align: left;background-color: #f0f8ff;}#sk-container-id-1 div.sk-toggleable__content pre {margin: 0.2em;color: black;border-radius: 0.25em;background-color: #f0f8ff;}#sk-container-id-1 input.sk-toggleable__control:checked~div.sk-toggleable__content {max-height: 200px;max-width: 100%;overflow: auto;}#sk-container-id-1 input.sk-toggleable__control:checked~label.sk-toggleable__label-arrow:before {content: \"▾\";}#sk-container-id-1 div.sk-estimator input.sk-toggleable__control:checked~label.sk-toggleable__label {background-color: #d4ebff;}#sk-container-id-1 div.sk-label input.sk-toggleable__control:checked~label.sk-toggleable__label {background-color: #d4ebff;}#sk-container-id-1 input.sk-hidden--visually {border: 0;clip: rect(1px 1px 1px 1px);clip: rect(1px, 1px, 1px, 1px);height: 1px;margin: -1px;overflow: hidden;padding: 0;position: absolute;width: 1px;}#sk-container-id-1 div.sk-estimator {font-family: monospace;background-color: #f0f8ff;border: 1px dotted black;border-radius: 0.25em;box-sizing: border-box;margin-bottom: 0.5em;}#sk-container-id-1 div.sk-estimator:hover {background-color: #d4ebff;}#sk-container-id-1 div.sk-parallel-item::after {content: \"\";width: 100%;border-bottom: 1px solid gray;flex-grow: 1;}#sk-container-id-1 div.sk-label:hover label.sk-toggleable__label {background-color: #d4ebff;}#sk-container-id-1 div.sk-serial::before {content: \"\";position: absolute;border-left: 1px solid gray;box-sizing: border-box;top: 0;bottom: 0;left: 50%;z-index: 0;}#sk-container-id-1 div.sk-serial {display: flex;flex-direction: column;align-items: center;background-color: white;padding-right: 0.2em;padding-left: 0.2em;position: relative;}#sk-container-id-1 div.sk-item {position: relative;z-index: 1;}#sk-container-id-1 div.sk-parallel {display: flex;align-items: stretch;justify-content: center;background-color: white;position: relative;}#sk-container-id-1 div.sk-item::before, #sk-container-id-1 div.sk-parallel-item::before {content: \"\";position: absolute;border-left: 1px solid gray;box-sizing: border-box;top: 0;bottom: 0;left: 50%;z-index: -1;}#sk-container-id-1 div.sk-parallel-item {display: flex;flex-direction: column;z-index: 1;position: relative;background-color: white;}#sk-container-id-1 div.sk-parallel-item:first-child::after {align-self: flex-end;width: 50%;}#sk-container-id-1 div.sk-parallel-item:last-child::after {align-self: flex-start;width: 50%;}#sk-container-id-1 div.sk-parallel-item:only-child::after {width: 0;}#sk-container-id-1 div.sk-dashed-wrapped {border: 1px dashed gray;margin: 0 0.4em 0.5em 0.4em;box-sizing: border-box;padding-bottom: 0.4em;background-color: white;}#sk-container-id-1 div.sk-label label {font-family: monospace;font-weight: bold;display: inline-block;line-height: 1.2em;}#sk-container-id-1 div.sk-label-container {text-align: center;}#sk-container-id-1 div.sk-container {/* jupyter's `normalize.less` sets `[hidden] { display: none; }` but bootstrap.min.css set `[hidden] { display: none !important; }` so we also need the `!important` here to be able to override the default hidden behavior on the sphinx rendered scikit-learn.org. See: https://github.com/scikit-learn/scikit-learn/issues/21755 */display: inline-block !important;position: relative;}#sk-container-id-1 div.sk-text-repr-fallback {display: none;}</style><div id=\"sk-container-id-1\" class=\"sk-top-container\"><div class=\"sk-text-repr-fallback\"><pre>DBSCAN(eps=5)</pre><b>In a Jupyter environment, please rerun this cell to show the HTML representation or trust the notebook. <br />On GitHub, the HTML representation is unable to render, please try loading this page with nbviewer.org.</b></div><div class=\"sk-container\" hidden><div class=\"sk-item\"><div class=\"sk-estimator sk-toggleable\"><input class=\"sk-toggleable__control sk-hidden--visually\" id=\"sk-estimator-id-1\" type=\"checkbox\" checked><label for=\"sk-estimator-id-1\" class=\"sk-toggleable__label sk-toggleable__label-arrow\">DBSCAN</label><div class=\"sk-toggleable__content\"><pre>DBSCAN(eps=5)</pre></div></div></div></div></div>"
            ]
          },
          "metadata": {},
          "execution_count": 10
        }
      ],
      "source": [
        "#  Кластеризация\n",
        "\n",
        "dbscan_1 = DBSCAN(eps=5, metric='euclidean', min_samples=5)\n",
        "\n",
        "dbscan_1.fit(df)\n"
      ]
    },
    {
      "cell_type": "code",
      "execution_count": null,
      "metadata": {
        "id": "pX0iobcXpDq5",
        "outputId": "b5dfdcd2-611e-4d21-e2a4-fac5889a698e",
        "colab": {
          "base_uri": "https://localhost:8080/"
        }
      },
      "outputs": [
        {
          "output_type": "stream",
          "name": "stdout",
          "text": [
            "[[ 0 34]]\n"
          ]
        }
      ],
      "source": [
        "#  Таблица частот\n",
        "\n",
        "unique, counts = np.unique(dbscan_1.labels_, return_counts=True)\n",
        "print(np.asarray((unique, counts)).T)"
      ]
    },
    {
      "cell_type": "markdown",
      "metadata": {
        "id": "5V2aTFFHpDq6"
      },
      "source": [
        "Все объекты оказались в одном кластере. <br>\n",
        "Нехорошо.  <br>\n",
        "Что делать?"
      ]
    },
    {
      "cell_type": "markdown",
      "metadata": {
        "id": "zIJaEzAOpDq7"
      },
      "source": [
        "Уменьшаем eps. <br>"
      ]
    },
    {
      "cell_type": "code",
      "execution_count": null,
      "metadata": {
        "id": "8AG1JNEppDq8",
        "outputId": "9dda8fc9-595b-400b-f58a-1814c0ebfdf2",
        "colab": {
          "base_uri": "https://localhost:8080/"
        }
      },
      "outputs": [
        {
          "output_type": "stream",
          "name": "stdout",
          "text": [
            "[[ 0 34]]\n"
          ]
        }
      ],
      "source": [
        "dbscan_1 = DBSCAN(eps=2.1, metric='euclidean', min_samples=5)\n",
        "\n",
        "dbscan_1.fit(df)\n",
        "\n",
        "unique, counts = np.unique(dbscan_1.labels_, return_counts=True)\n",
        "print(np.asarray((unique, counts)).T)"
      ]
    },
    {
      "cell_type": "code",
      "execution_count": null,
      "metadata": {
        "id": "whunSidPpDq9"
      },
      "outputs": [],
      "source": []
    },
    {
      "cell_type": "markdown",
      "metadata": {
        "id": "Jm3FYgdlpDq9"
      },
      "source": [
        "Уменьшаем min_samples  <br>\n"
      ]
    },
    {
      "cell_type": "code",
      "execution_count": null,
      "metadata": {
        "id": "1BKyxS7ApDq-",
        "outputId": "2f5f6808-ba34-4949-ff65-04cdb330836f",
        "colab": {
          "base_uri": "https://localhost:8080/"
        }
      },
      "outputs": [
        {
          "output_type": "stream",
          "name": "stdout",
          "text": [
            "[[ 0 34]]\n"
          ]
        }
      ],
      "source": [
        "dbscan_1 = DBSCAN(eps=2.1, metric='euclidean', min_samples=3)\n",
        "\n",
        "dbscan_1.fit(df)\n",
        "\n",
        "unique, counts = np.unique(dbscan_1.labels_, return_counts=True)\n",
        "print(np.asarray((unique, counts)).T)"
      ]
    },
    {
      "cell_type": "markdown",
      "metadata": {
        "id": "EFlgqtzBpDq-"
      },
      "source": [
        "Не помогло.  <br>\n",
        "Нехорошо.  <br>\n",
        "Что делать?"
      ]
    },
    {
      "cell_type": "markdown",
      "metadata": {
        "id": "O_qK3lAPpDq_"
      },
      "source": [
        "Уменьшаем eps."
      ]
    },
    {
      "cell_type": "code",
      "execution_count": null,
      "metadata": {
        "id": "3Akakw-UpDrA",
        "outputId": "a885761f-5cdf-4cf0-fb9c-d556f7f9fb91",
        "colab": {
          "base_uri": "https://localhost:8080/"
        }
      },
      "outputs": [
        {
          "output_type": "stream",
          "name": "stdout",
          "text": [
            "[[-1  3]\n",
            " [ 0 20]\n",
            " [ 1 11]]\n"
          ]
        }
      ],
      "source": [
        "dbscan_2 = DBSCAN(eps=1.1, metric='euclidean', min_samples=3)\n",
        "\n",
        "dbscan_2.fit(df)\n",
        "\n",
        "unique, counts = np.unique(dbscan_2.labels_, return_counts=True)\n",
        "print(np.asarray((unique, counts)).T)"
      ]
    },
    {
      "cell_type": "markdown",
      "metadata": {
        "id": "iZkqrE14pDrC"
      },
      "source": [
        "Чуть лучше.  <br>\n",
        "Все равно не идеально.  <br>\n",
        "Что делать?"
      ]
    },
    {
      "cell_type": "code",
      "execution_count": null,
      "metadata": {
        "id": "bQYKBE7epDrC"
      },
      "outputs": [],
      "source": []
    },
    {
      "cell_type": "markdown",
      "metadata": {
        "id": "r1c8HS_mpDrD"
      },
      "source": [
        "Уменьшаем eps."
      ]
    },
    {
      "cell_type": "code",
      "execution_count": null,
      "metadata": {
        "id": "RBEufHPvpDrE",
        "outputId": "22de548c-b29c-4133-9bde-30a5b088f3fe",
        "colab": {
          "base_uri": "https://localhost:8080/"
        }
      },
      "outputs": [
        {
          "output_type": "stream",
          "name": "stdout",
          "text": [
            "[[-1 20]\n",
            " [ 0  5]\n",
            " [ 1  3]\n",
            " [ 2  3]\n",
            " [ 3  3]]\n"
          ]
        }
      ],
      "source": [
        "#  Добавляем требование полного перебора, algorithm= 'brute'\n",
        "\n",
        "dbscan_3 = DBSCAN(eps=0.9, metric='euclidean', min_samples=3, algorithm= 'brute')\n",
        "\n",
        "dbscan_3.fit(df)\n",
        "\n",
        "unique, counts = np.unique(dbscan_3.labels_, return_counts=True)\n",
        "print(np.asarray((unique, counts)).T)"
      ]
    },
    {
      "cell_type": "markdown",
      "metadata": {
        "id": "oDUeqAQupDrE"
      },
      "source": [
        "Увлеклись. Доуменьшались. <br>\n",
        "Слишком много выбросов. <br>\n",
        "Что делать?\n"
      ]
    },
    {
      "cell_type": "markdown",
      "metadata": {
        "id": "fvTehQXYpDrF"
      },
      "source": [
        "Еще несколько лихорадочных попыток\n",
        "\n",
        "\n",
        "min_samples_0=3  <br>\n",
        "eps_0=1.00  <br>\n",
        "\n",
        "[[-1  3]  <br>\n",
        " [ 0 20]  <br>\n",
        " [ 1 11]]  <br>\n",
        "  <br>\n",
        "\n",
        "min_samples_0=3  <br>\n",
        "eps_0=0.95  <br>\n",
        "\n",
        "[[-1 20]  <br>\n",
        " [ 0  5]  <br>\n",
        " [ 1  3]  <br>\n",
        " [ 2  3]  <br>\n",
        " [ 3  3]]  <br>\n",
        "  <br>\n",
        "\n",
        "min_samples_0=4  <br>\n",
        "eps_0=0.95  <br>\n",
        "\n",
        "[[-1 29]  <br>\n",
        " [ 0  5]]  <br>\n",
        "\n",
        "\n",
        "\n"
      ]
    },
    {
      "cell_type": "code",
      "execution_count": null,
      "metadata": {
        "id": "6y3us71RpDrG",
        "outputId": "e033aa1b-7952-4e2e-c5aa-c42cfc49afdb",
        "colab": {
          "base_uri": "https://localhost:8080/"
        }
      },
      "outputs": [
        {
          "output_type": "stream",
          "name": "stdout",
          "text": [
            "[[-1  3]\n",
            " [ 0 20]\n",
            " [ 1 11]]\n"
          ]
        }
      ],
      "source": [
        "dbscan_4 = DBSCAN(eps=1.1, metric='euclidean', min_samples=2)\n",
        "\n",
        "dbscan_4.fit(df)\n",
        "\n",
        "unique, counts = np.unique(dbscan_4.labels_, return_counts=True)\n",
        "print(np.asarray((unique, counts)).T)"
      ]
    },
    {
      "cell_type": "code",
      "execution_count": null,
      "metadata": {
        "id": "LEoCyYc1pDrH"
      },
      "outputs": [],
      "source": []
    },
    {
      "cell_type": "markdown",
      "metadata": {
        "id": "uv_d0Y7rpDrH"
      },
      "source": [
        "Лучшей кластеризацией оказалось  dbscan_2  <br>\n",
        "<br>\n",
        "Интересно сравнить с результатами иерархического кластерного анализа этих же данных"
      ]
    },
    {
      "cell_type": "markdown",
      "metadata": {
        "id": "k69CPHWwpDrI"
      },
      "source": [
        "###  Сравним с результатами\n",
        "###  иерархического кластерного анализа <br>\n",
        "#### Повторяем иерархический кластерный анализ"
      ]
    },
    {
      "cell_type": "code",
      "execution_count": null,
      "metadata": {
        "id": "8fAZl_C9pDrI"
      },
      "outputs": [],
      "source": [
        "# Объект, в котором будет хранится информация о последовательном слиянии кластеров\n",
        "link = linkage(df, 'ward', 'euclidean')\n",
        "\n",
        "# Раньше делали так\n",
        "# Информация о кластерах добавляется в таблицу данных в виде столбца\n",
        "#df['cluster'] = fcluster(link, 3, criterion='maxclust')\n",
        "\n",
        "\n"
      ]
    },
    {
      "cell_type": "markdown",
      "metadata": {
        "id": "fv4QYG3IpDrI"
      },
      "source": [
        "Для сравнения кластеризации  dbscan_2 и dbscan_3  <br>\n",
        "с результатами иерархического кластерного анализа <br>\n",
        "строим таблицу сопряженности"
      ]
    },
    {
      "cell_type": "code",
      "execution_count": null,
      "metadata": {
        "id": "OJVlVDcxpDrJ"
      },
      "outputs": [],
      "source": []
    },
    {
      "cell_type": "code",
      "execution_count": null,
      "metadata": {
        "id": "k5Vq2uXipDrJ"
      },
      "outputs": [],
      "source": [
        "# Создаю таблицу res_  с результатами разных кластеризаций\n",
        "\n",
        "res_ = pd.DataFrame()\n",
        "\n",
        "res_['dbscan_2'] = dbscan_2.labels_\n",
        "res_['dbscan_3'] = dbscan_3.labels_\n",
        "res_['cluster']  = fcluster(link, 3, criterion='maxclust')\n"
      ]
    },
    {
      "cell_type": "code",
      "execution_count": null,
      "metadata": {
        "id": "6ivO4zPBpDrK",
        "outputId": "348c986f-1ea1-40bc-e44f-1759b96c4644",
        "colab": {
          "base_uri": "https://localhost:8080/"
        }
      },
      "outputs": [
        {
          "output_type": "stream",
          "name": "stdout",
          "text": [
            "cluster    1   2  3\n",
            "dbscan_2           \n",
            "-1         0   0  3\n",
            " 0         0  11  9\n",
            " 1        11   0  0\n"
          ]
        }
      ],
      "source": [
        "#  Таблица сопряженности для двух кластеризаций\n",
        "tab = pd.crosstab(res_['dbscan_2'], res_['cluster'])\n",
        "\n",
        "print(tab)\n"
      ]
    },
    {
      "cell_type": "code",
      "execution_count": null,
      "metadata": {
        "id": "ta-CKIlfpDrK",
        "outputId": "d8386939-de73-43af-a815-0e895492c357",
        "colab": {
          "base_uri": "https://localhost:8080/"
        }
      },
      "outputs": [
        {
          "output_type": "stream",
          "name": "stdout",
          "text": [
            "cluster   1  2   3\n",
            "dbscan_3          \n",
            "-1        5  3  12\n",
            " 0        0  5   0\n",
            " 1        3  0   0\n",
            " 2        0  3   0\n",
            " 3        3  0   0\n"
          ]
        }
      ],
      "source": [
        "#  Таблица сопряженности с участием  кластеризации dbscan_3\n",
        "\n",
        "tab2 = pd.crosstab(res_['dbscan_3'], res_['cluster'])\n",
        "\n",
        "print(tab2)\n"
      ]
    },
    {
      "cell_type": "markdown",
      "metadata": {
        "id": "RNRgN140pDrL"
      },
      "source": [
        "Сравним кластеризацию dbscan_2 <br>\n",
        "с результатами иерархического кластерного анализа"
      ]
    },
    {
      "cell_type": "code",
      "execution_count": null,
      "metadata": {
        "id": "XvGZoWEmpDrL"
      },
      "outputs": [],
      "source": []
    },
    {
      "cell_type": "code",
      "execution_count": null,
      "metadata": {
        "id": "76HfeP6upDrM"
      },
      "outputs": [],
      "source": [
        "df_2 = df.copy()"
      ]
    },
    {
      "cell_type": "code",
      "execution_count": null,
      "metadata": {
        "id": "Znsf0JcKpDrM"
      },
      "outputs": [],
      "source": [
        "df_2['cluster'] = fcluster(link, 3, criterion='maxclust')"
      ]
    },
    {
      "cell_type": "code",
      "execution_count": null,
      "metadata": {
        "id": "Rh4cGTbLpDrM",
        "outputId": "f95c64dd-fe5f-4c39-9796-f42426adf010",
        "colab": {
          "base_uri": "https://localhost:8080/",
          "height": 175
        }
      },
      "outputs": [
        {
          "output_type": "execute_result",
          "data": {
            "text/plain": [
              "         COKE    D_COKE   D_PEPSI     D_7UP     PEPSI    SPRITE       TAB  \\\n",
              "cluster                                                                     \n",
              "1        0.00  1.000000  0.545455  0.545455  0.000000  0.000000  0.909091   \n",
              "2        1.00  0.272727  0.090909  0.000000  1.000000  0.000000  0.000000   \n",
              "3        0.75  0.250000  0.083333  0.083333  0.416667  0.916667  0.083333   \n",
              "\n",
              "          SEVENUP  \n",
              "cluster            \n",
              "1        0.000000  \n",
              "2        0.272727  \n",
              "3        0.500000  "
            ],
            "text/html": [
              "\n",
              "  <div id=\"df-391a2ea8-fbfd-4f91-bee0-f3fc55fad3d1\">\n",
              "    <div class=\"colab-df-container\">\n",
              "      <div>\n",
              "<style scoped>\n",
              "    .dataframe tbody tr th:only-of-type {\n",
              "        vertical-align: middle;\n",
              "    }\n",
              "\n",
              "    .dataframe tbody tr th {\n",
              "        vertical-align: top;\n",
              "    }\n",
              "\n",
              "    .dataframe thead th {\n",
              "        text-align: right;\n",
              "    }\n",
              "</style>\n",
              "<table border=\"1\" class=\"dataframe\">\n",
              "  <thead>\n",
              "    <tr style=\"text-align: right;\">\n",
              "      <th></th>\n",
              "      <th>COKE</th>\n",
              "      <th>D_COKE</th>\n",
              "      <th>D_PEPSI</th>\n",
              "      <th>D_7UP</th>\n",
              "      <th>PEPSI</th>\n",
              "      <th>SPRITE</th>\n",
              "      <th>TAB</th>\n",
              "      <th>SEVENUP</th>\n",
              "    </tr>\n",
              "    <tr>\n",
              "      <th>cluster</th>\n",
              "      <th></th>\n",
              "      <th></th>\n",
              "      <th></th>\n",
              "      <th></th>\n",
              "      <th></th>\n",
              "      <th></th>\n",
              "      <th></th>\n",
              "      <th></th>\n",
              "    </tr>\n",
              "  </thead>\n",
              "  <tbody>\n",
              "    <tr>\n",
              "      <th>1</th>\n",
              "      <td>0.00</td>\n",
              "      <td>1.000000</td>\n",
              "      <td>0.545455</td>\n",
              "      <td>0.545455</td>\n",
              "      <td>0.000000</td>\n",
              "      <td>0.000000</td>\n",
              "      <td>0.909091</td>\n",
              "      <td>0.000000</td>\n",
              "    </tr>\n",
              "    <tr>\n",
              "      <th>2</th>\n",
              "      <td>1.00</td>\n",
              "      <td>0.272727</td>\n",
              "      <td>0.090909</td>\n",
              "      <td>0.000000</td>\n",
              "      <td>1.000000</td>\n",
              "      <td>0.000000</td>\n",
              "      <td>0.000000</td>\n",
              "      <td>0.272727</td>\n",
              "    </tr>\n",
              "    <tr>\n",
              "      <th>3</th>\n",
              "      <td>0.75</td>\n",
              "      <td>0.250000</td>\n",
              "      <td>0.083333</td>\n",
              "      <td>0.083333</td>\n",
              "      <td>0.416667</td>\n",
              "      <td>0.916667</td>\n",
              "      <td>0.083333</td>\n",
              "      <td>0.500000</td>\n",
              "    </tr>\n",
              "  </tbody>\n",
              "</table>\n",
              "</div>\n",
              "      <button class=\"colab-df-convert\" onclick=\"convertToInteractive('df-391a2ea8-fbfd-4f91-bee0-f3fc55fad3d1')\"\n",
              "              title=\"Convert this dataframe to an interactive table.\"\n",
              "              style=\"display:none;\">\n",
              "        \n",
              "  <svg xmlns=\"http://www.w3.org/2000/svg\" height=\"24px\"viewBox=\"0 0 24 24\"\n",
              "       width=\"24px\">\n",
              "    <path d=\"M0 0h24v24H0V0z\" fill=\"none\"/>\n",
              "    <path d=\"M18.56 5.44l.94 2.06.94-2.06 2.06-.94-2.06-.94-.94-2.06-.94 2.06-2.06.94zm-11 1L8.5 8.5l.94-2.06 2.06-.94-2.06-.94L8.5 2.5l-.94 2.06-2.06.94zm10 10l.94 2.06.94-2.06 2.06-.94-2.06-.94-.94-2.06-.94 2.06-2.06.94z\"/><path d=\"M17.41 7.96l-1.37-1.37c-.4-.4-.92-.59-1.43-.59-.52 0-1.04.2-1.43.59L10.3 9.45l-7.72 7.72c-.78.78-.78 2.05 0 2.83L4 21.41c.39.39.9.59 1.41.59.51 0 1.02-.2 1.41-.59l7.78-7.78 2.81-2.81c.8-.78.8-2.07 0-2.86zM5.41 20L4 18.59l7.72-7.72 1.47 1.35L5.41 20z\"/>\n",
              "  </svg>\n",
              "      </button>\n",
              "      \n",
              "  <style>\n",
              "    .colab-df-container {\n",
              "      display:flex;\n",
              "      flex-wrap:wrap;\n",
              "      gap: 12px;\n",
              "    }\n",
              "\n",
              "    .colab-df-convert {\n",
              "      background-color: #E8F0FE;\n",
              "      border: none;\n",
              "      border-radius: 50%;\n",
              "      cursor: pointer;\n",
              "      display: none;\n",
              "      fill: #1967D2;\n",
              "      height: 32px;\n",
              "      padding: 0 0 0 0;\n",
              "      width: 32px;\n",
              "    }\n",
              "\n",
              "    .colab-df-convert:hover {\n",
              "      background-color: #E2EBFA;\n",
              "      box-shadow: 0px 1px 2px rgba(60, 64, 67, 0.3), 0px 1px 3px 1px rgba(60, 64, 67, 0.15);\n",
              "      fill: #174EA6;\n",
              "    }\n",
              "\n",
              "    [theme=dark] .colab-df-convert {\n",
              "      background-color: #3B4455;\n",
              "      fill: #D2E3FC;\n",
              "    }\n",
              "\n",
              "    [theme=dark] .colab-df-convert:hover {\n",
              "      background-color: #434B5C;\n",
              "      box-shadow: 0px 1px 3px 1px rgba(0, 0, 0, 0.15);\n",
              "      filter: drop-shadow(0px 1px 2px rgba(0, 0, 0, 0.3));\n",
              "      fill: #FFFFFF;\n",
              "    }\n",
              "  </style>\n",
              "\n",
              "      <script>\n",
              "        const buttonEl =\n",
              "          document.querySelector('#df-391a2ea8-fbfd-4f91-bee0-f3fc55fad3d1 button.colab-df-convert');\n",
              "        buttonEl.style.display =\n",
              "          google.colab.kernel.accessAllowed ? 'block' : 'none';\n",
              "\n",
              "        async function convertToInteractive(key) {\n",
              "          const element = document.querySelector('#df-391a2ea8-fbfd-4f91-bee0-f3fc55fad3d1');\n",
              "          const dataTable =\n",
              "            await google.colab.kernel.invokeFunction('convertToInteractive',\n",
              "                                                     [key], {});\n",
              "          if (!dataTable) return;\n",
              "\n",
              "          const docLinkHtml = 'Like what you see? Visit the ' +\n",
              "            '<a target=\"_blank\" href=https://colab.research.google.com/notebooks/data_table.ipynb>data table notebook</a>'\n",
              "            + ' to learn more about interactive tables.';\n",
              "          element.innerHTML = '';\n",
              "          dataTable['output_type'] = 'display_data';\n",
              "          await google.colab.output.renderOutput(dataTable, element);\n",
              "          const docLink = document.createElement('div');\n",
              "          docLink.innerHTML = docLinkHtml;\n",
              "          element.appendChild(docLink);\n",
              "        }\n",
              "      </script>\n",
              "    </div>\n",
              "  </div>\n",
              "  "
            ]
          },
          "metadata": {},
          "execution_count": 26
        }
      ],
      "source": [
        "df_2.groupby('cluster').mean()"
      ]
    },
    {
      "cell_type": "code",
      "execution_count": null,
      "metadata": {
        "id": "H9NbVdPmpDrN"
      },
      "outputs": [],
      "source": [
        "df_3 = df.copy()"
      ]
    },
    {
      "cell_type": "code",
      "execution_count": null,
      "metadata": {
        "id": "HqQ17V0RpDrN"
      },
      "outputs": [],
      "source": [
        "df_3['dbscan_2'] = dbscan_2.labels_"
      ]
    },
    {
      "cell_type": "code",
      "execution_count": null,
      "metadata": {
        "id": "fRk0a8hopDrO",
        "outputId": "82388a38-baec-4692-bb9c-745af37ee575",
        "colab": {
          "base_uri": "https://localhost:8080/",
          "height": 175
        }
      },
      "outputs": [
        {
          "output_type": "execute_result",
          "data": {
            "text/plain": [
              "              COKE    D_COKE   D_PEPSI     D_7UP  PEPSI  SPRITE       TAB  \\\n",
              "dbscan_2                                                                    \n",
              "-1        0.333333  0.666667  0.333333  0.333333    0.0     1.0  0.333333   \n",
              " 0        0.950000  0.200000  0.050000  0.000000    0.8     0.4  0.000000   \n",
              " 1        0.000000  1.000000  0.545455  0.545455    0.0     0.0  0.909091   \n",
              "\n",
              "           SEVENUP  \n",
              "dbscan_2            \n",
              "-1        0.666667  \n",
              " 0        0.350000  \n",
              " 1        0.000000  "
            ],
            "text/html": [
              "\n",
              "  <div id=\"df-36e24efc-a472-42ef-abcb-f86c78ee7d12\">\n",
              "    <div class=\"colab-df-container\">\n",
              "      <div>\n",
              "<style scoped>\n",
              "    .dataframe tbody tr th:only-of-type {\n",
              "        vertical-align: middle;\n",
              "    }\n",
              "\n",
              "    .dataframe tbody tr th {\n",
              "        vertical-align: top;\n",
              "    }\n",
              "\n",
              "    .dataframe thead th {\n",
              "        text-align: right;\n",
              "    }\n",
              "</style>\n",
              "<table border=\"1\" class=\"dataframe\">\n",
              "  <thead>\n",
              "    <tr style=\"text-align: right;\">\n",
              "      <th></th>\n",
              "      <th>COKE</th>\n",
              "      <th>D_COKE</th>\n",
              "      <th>D_PEPSI</th>\n",
              "      <th>D_7UP</th>\n",
              "      <th>PEPSI</th>\n",
              "      <th>SPRITE</th>\n",
              "      <th>TAB</th>\n",
              "      <th>SEVENUP</th>\n",
              "    </tr>\n",
              "    <tr>\n",
              "      <th>dbscan_2</th>\n",
              "      <th></th>\n",
              "      <th></th>\n",
              "      <th></th>\n",
              "      <th></th>\n",
              "      <th></th>\n",
              "      <th></th>\n",
              "      <th></th>\n",
              "      <th></th>\n",
              "    </tr>\n",
              "  </thead>\n",
              "  <tbody>\n",
              "    <tr>\n",
              "      <th>-1</th>\n",
              "      <td>0.333333</td>\n",
              "      <td>0.666667</td>\n",
              "      <td>0.333333</td>\n",
              "      <td>0.333333</td>\n",
              "      <td>0.0</td>\n",
              "      <td>1.0</td>\n",
              "      <td>0.333333</td>\n",
              "      <td>0.666667</td>\n",
              "    </tr>\n",
              "    <tr>\n",
              "      <th>0</th>\n",
              "      <td>0.950000</td>\n",
              "      <td>0.200000</td>\n",
              "      <td>0.050000</td>\n",
              "      <td>0.000000</td>\n",
              "      <td>0.8</td>\n",
              "      <td>0.4</td>\n",
              "      <td>0.000000</td>\n",
              "      <td>0.350000</td>\n",
              "    </tr>\n",
              "    <tr>\n",
              "      <th>1</th>\n",
              "      <td>0.000000</td>\n",
              "      <td>1.000000</td>\n",
              "      <td>0.545455</td>\n",
              "      <td>0.545455</td>\n",
              "      <td>0.0</td>\n",
              "      <td>0.0</td>\n",
              "      <td>0.909091</td>\n",
              "      <td>0.000000</td>\n",
              "    </tr>\n",
              "  </tbody>\n",
              "</table>\n",
              "</div>\n",
              "      <button class=\"colab-df-convert\" onclick=\"convertToInteractive('df-36e24efc-a472-42ef-abcb-f86c78ee7d12')\"\n",
              "              title=\"Convert this dataframe to an interactive table.\"\n",
              "              style=\"display:none;\">\n",
              "        \n",
              "  <svg xmlns=\"http://www.w3.org/2000/svg\" height=\"24px\"viewBox=\"0 0 24 24\"\n",
              "       width=\"24px\">\n",
              "    <path d=\"M0 0h24v24H0V0z\" fill=\"none\"/>\n",
              "    <path d=\"M18.56 5.44l.94 2.06.94-2.06 2.06-.94-2.06-.94-.94-2.06-.94 2.06-2.06.94zm-11 1L8.5 8.5l.94-2.06 2.06-.94-2.06-.94L8.5 2.5l-.94 2.06-2.06.94zm10 10l.94 2.06.94-2.06 2.06-.94-2.06-.94-.94-2.06-.94 2.06-2.06.94z\"/><path d=\"M17.41 7.96l-1.37-1.37c-.4-.4-.92-.59-1.43-.59-.52 0-1.04.2-1.43.59L10.3 9.45l-7.72 7.72c-.78.78-.78 2.05 0 2.83L4 21.41c.39.39.9.59 1.41.59.51 0 1.02-.2 1.41-.59l7.78-7.78 2.81-2.81c.8-.78.8-2.07 0-2.86zM5.41 20L4 18.59l7.72-7.72 1.47 1.35L5.41 20z\"/>\n",
              "  </svg>\n",
              "      </button>\n",
              "      \n",
              "  <style>\n",
              "    .colab-df-container {\n",
              "      display:flex;\n",
              "      flex-wrap:wrap;\n",
              "      gap: 12px;\n",
              "    }\n",
              "\n",
              "    .colab-df-convert {\n",
              "      background-color: #E8F0FE;\n",
              "      border: none;\n",
              "      border-radius: 50%;\n",
              "      cursor: pointer;\n",
              "      display: none;\n",
              "      fill: #1967D2;\n",
              "      height: 32px;\n",
              "      padding: 0 0 0 0;\n",
              "      width: 32px;\n",
              "    }\n",
              "\n",
              "    .colab-df-convert:hover {\n",
              "      background-color: #E2EBFA;\n",
              "      box-shadow: 0px 1px 2px rgba(60, 64, 67, 0.3), 0px 1px 3px 1px rgba(60, 64, 67, 0.15);\n",
              "      fill: #174EA6;\n",
              "    }\n",
              "\n",
              "    [theme=dark] .colab-df-convert {\n",
              "      background-color: #3B4455;\n",
              "      fill: #D2E3FC;\n",
              "    }\n",
              "\n",
              "    [theme=dark] .colab-df-convert:hover {\n",
              "      background-color: #434B5C;\n",
              "      box-shadow: 0px 1px 3px 1px rgba(0, 0, 0, 0.15);\n",
              "      filter: drop-shadow(0px 1px 2px rgba(0, 0, 0, 0.3));\n",
              "      fill: #FFFFFF;\n",
              "    }\n",
              "  </style>\n",
              "\n",
              "      <script>\n",
              "        const buttonEl =\n",
              "          document.querySelector('#df-36e24efc-a472-42ef-abcb-f86c78ee7d12 button.colab-df-convert');\n",
              "        buttonEl.style.display =\n",
              "          google.colab.kernel.accessAllowed ? 'block' : 'none';\n",
              "\n",
              "        async function convertToInteractive(key) {\n",
              "          const element = document.querySelector('#df-36e24efc-a472-42ef-abcb-f86c78ee7d12');\n",
              "          const dataTable =\n",
              "            await google.colab.kernel.invokeFunction('convertToInteractive',\n",
              "                                                     [key], {});\n",
              "          if (!dataTable) return;\n",
              "\n",
              "          const docLinkHtml = 'Like what you see? Visit the ' +\n",
              "            '<a target=\"_blank\" href=https://colab.research.google.com/notebooks/data_table.ipynb>data table notebook</a>'\n",
              "            + ' to learn more about interactive tables.';\n",
              "          element.innerHTML = '';\n",
              "          dataTable['output_type'] = 'display_data';\n",
              "          await google.colab.output.renderOutput(dataTable, element);\n",
              "          const docLink = document.createElement('div');\n",
              "          docLink.innerHTML = docLinkHtml;\n",
              "          element.appendChild(docLink);\n",
              "        }\n",
              "      </script>\n",
              "    </div>\n",
              "  </div>\n",
              "  "
            ]
          },
          "metadata": {},
          "execution_count": 29
        }
      ],
      "source": [
        "df.groupby(df_3['dbscan_2']).mean()"
      ]
    },
    {
      "cell_type": "code",
      "execution_count": null,
      "metadata": {
        "id": "0ZvWm9rwpDrO"
      },
      "outputs": [],
      "source": []
    },
    {
      "cell_type": "markdown",
      "metadata": {
        "id": "lwhx5vk3pDrO"
      },
      "source": [
        "###  Silhouette для автоматического определения значений параметров"
      ]
    },
    {
      "cell_type": "code",
      "execution_count": null,
      "metadata": {
        "id": "-A8eugFNpDrP"
      },
      "outputs": [],
      "source": [
        "#  Активирую процедуры измерения качества кластеризации\n",
        "#  Будет нужна процедура силуэт\n",
        "\n",
        "from sklearn import metrics\n"
      ]
    },
    {
      "cell_type": "code",
      "execution_count": null,
      "metadata": {
        "id": "VKy1M0F7pDrP"
      },
      "outputs": [],
      "source": [
        "#  Создаю списки тех значений параметров, которые собираюся перебирать.\n",
        "#  Терминология: решетка (grid)\n",
        "#  Терминология: поиск на решетке (grid search)\n",
        "\n",
        "eps_1 = [0.95, 1, 1.25, 1.5, 1.75, 2, 2.25, 2.5, 2.75, 3, 3.25, 3.5, 3.75, 4]\n",
        "min_samples_1 = [2, 3, 4, 5, 10, 15, 20, 25]\n",
        "\n",
        "\n"
      ]
    },
    {
      "cell_type": "code",
      "execution_count": null,
      "metadata": {
        "id": "sYsUAZ4zpDrX"
      },
      "outputs": [],
      "source": [
        "sil_avg = []\n",
        "\n",
        "#  Для сохранения наилучшено набора параметров\n",
        "max_value = [0, 0, 0, -1]\n",
        "\n"
      ]
    },
    {
      "cell_type": "code",
      "execution_count": null,
      "metadata": {
        "id": "wv4JgA1_pDra",
        "outputId": "29a7a8ba-e7e8-4b99-b0d3-6d39db0c3779",
        "colab": {
          "base_uri": "https://localhost:8080/"
        }
      },
      "outputs": [
        {
          "output_type": "stream",
          "name": "stdout",
          "text": [
            "epsilon= 0.95 \n",
            "min_sample= 2 \n",
            "number of clusters= 9 \n",
            "average silhouette score= 0.6099\n"
          ]
        }
      ],
      "source": [
        "#  Перебираю все пары значений параметров\n",
        "#  Сохраняю лучшее решение\n",
        "\n",
        "for i in range(len(eps_1)):\n",
        "    for j in range(len(min_samples_1)):\n",
        "\n",
        "        db = DBSCAN(min_samples = min_samples_1[j], eps =eps_1[i]).fit(df)\n",
        "\n",
        "        labels = db.labels_\n",
        "\n",
        "        # Число кластеров, после отбрасывания выбросов.\n",
        "        n_clusters_ = len(set(labels)) - (1 if -1 in labels else 0)\n",
        "\n",
        "        # Число выбросов.\n",
        "        # n_noise_ = list(labels).count(-1)\n",
        "\n",
        "        if n_clusters_ > 1:\n",
        "            silhouette_avg = metrics.silhouette_score(df, labels)\n",
        "            if silhouette_avg > max_value[3]:\n",
        "                max_value=(eps_1[i], min_samples_1[j], n_clusters_, silhouette_avg)\n",
        "            sil_avg.append(silhouette_avg)\n",
        "\n",
        "print(\"epsilon=\", max_value[0],\n",
        "      \"\\nmin_sample=\", max_value[1],\n",
        "      \"\\nnumber of clusters=\", max_value[2],\n",
        "      \"\\naverage silhouette score= %.4f\" % max_value[3])"
      ]
    },
    {
      "cell_type": "code",
      "execution_count": null,
      "metadata": {
        "id": "0hUGM7AypDrb",
        "outputId": "7b1af274-802c-4fbd-ff1e-d8761d9b3624",
        "colab": {
          "base_uri": "https://localhost:8080/"
        }
      },
      "outputs": [
        {
          "output_type": "stream",
          "name": "stdout",
          "text": [
            "[[-1 10]\n",
            " [ 0  5]\n",
            " [ 1  3]\n",
            " [ 2  2]\n",
            " [ 3  2]\n",
            " [ 4  3]\n",
            " [ 5  2]\n",
            " [ 6  2]\n",
            " [ 7  3]\n",
            " [ 8  2]]\n"
          ]
        }
      ],
      "source": [
        "dbscan_4 = DBSCAN(eps=max_value[0], metric='euclidean', min_samples=max_value[1], algorithm= 'brute')\n",
        "\n",
        "dbscan_4.fit(df)\n",
        "\n",
        "unique, counts = np.unique(dbscan_4.labels_, return_counts=True)\n",
        "print(np.asarray((unique, counts)).T)"
      ]
    },
    {
      "cell_type": "markdown",
      "metadata": {
        "id": "xxsPWb8WpDrb"
      },
      "source": [
        "Решение может быть и лучшее, <br>\n",
        "но плохое"
      ]
    },
    {
      "cell_type": "markdown",
      "metadata": {
        "id": "nu1yLK3npDrc"
      },
      "source": [
        "Пример 2. Кластеризация претендентов.\n",
        "----------------------"
      ]
    },
    {
      "cell_type": "code",
      "execution_count": null,
      "metadata": {
        "id": "1IplYVzgpDre",
        "outputId": "03d9a908-1f9d-4363-ba74-e5f0079ed209",
        "colab": {
          "base_uri": "https://localhost:8080/",
          "height": 237
        }
      },
      "outputs": [
        {
          "output_type": "execute_result",
          "data": {
            "text/plain": [
              "        NR  T1  T2  T3  T4  T5  T6  T7  T8  T9  T10\n",
              "NAME                                               \n",
              "Volker   1  10  10   9  10  10  10   9  10  10    9\n",
              "Sigrid   2  10  10   4  10   5   5   4   5   4    3\n",
              "Elmar    3   5   4  10   5  10   4  10   5   3   10\n",
              "Peter    4  10  10   9  10  10  10   9  10  10    9\n",
              "Otto     5   4   3   5   4   3  10   4  10  10    5"
            ],
            "text/html": [
              "\n",
              "  <div id=\"df-6444323c-0564-46f3-9d9f-f49f82e2b10e\">\n",
              "    <div class=\"colab-df-container\">\n",
              "      <div>\n",
              "<style scoped>\n",
              "    .dataframe tbody tr th:only-of-type {\n",
              "        vertical-align: middle;\n",
              "    }\n",
              "\n",
              "    .dataframe tbody tr th {\n",
              "        vertical-align: top;\n",
              "    }\n",
              "\n",
              "    .dataframe thead th {\n",
              "        text-align: right;\n",
              "    }\n",
              "</style>\n",
              "<table border=\"1\" class=\"dataframe\">\n",
              "  <thead>\n",
              "    <tr style=\"text-align: right;\">\n",
              "      <th></th>\n",
              "      <th>NR</th>\n",
              "      <th>T1</th>\n",
              "      <th>T2</th>\n",
              "      <th>T3</th>\n",
              "      <th>T4</th>\n",
              "      <th>T5</th>\n",
              "      <th>T6</th>\n",
              "      <th>T7</th>\n",
              "      <th>T8</th>\n",
              "      <th>T9</th>\n",
              "      <th>T10</th>\n",
              "    </tr>\n",
              "    <tr>\n",
              "      <th>NAME</th>\n",
              "      <th></th>\n",
              "      <th></th>\n",
              "      <th></th>\n",
              "      <th></th>\n",
              "      <th></th>\n",
              "      <th></th>\n",
              "      <th></th>\n",
              "      <th></th>\n",
              "      <th></th>\n",
              "      <th></th>\n",
              "      <th></th>\n",
              "    </tr>\n",
              "  </thead>\n",
              "  <tbody>\n",
              "    <tr>\n",
              "      <th>Volker</th>\n",
              "      <td>1</td>\n",
              "      <td>10</td>\n",
              "      <td>10</td>\n",
              "      <td>9</td>\n",
              "      <td>10</td>\n",
              "      <td>10</td>\n",
              "      <td>10</td>\n",
              "      <td>9</td>\n",
              "      <td>10</td>\n",
              "      <td>10</td>\n",
              "      <td>9</td>\n",
              "    </tr>\n",
              "    <tr>\n",
              "      <th>Sigrid</th>\n",
              "      <td>2</td>\n",
              "      <td>10</td>\n",
              "      <td>10</td>\n",
              "      <td>4</td>\n",
              "      <td>10</td>\n",
              "      <td>5</td>\n",
              "      <td>5</td>\n",
              "      <td>4</td>\n",
              "      <td>5</td>\n",
              "      <td>4</td>\n",
              "      <td>3</td>\n",
              "    </tr>\n",
              "    <tr>\n",
              "      <th>Elmar</th>\n",
              "      <td>3</td>\n",
              "      <td>5</td>\n",
              "      <td>4</td>\n",
              "      <td>10</td>\n",
              "      <td>5</td>\n",
              "      <td>10</td>\n",
              "      <td>4</td>\n",
              "      <td>10</td>\n",
              "      <td>5</td>\n",
              "      <td>3</td>\n",
              "      <td>10</td>\n",
              "    </tr>\n",
              "    <tr>\n",
              "      <th>Peter</th>\n",
              "      <td>4</td>\n",
              "      <td>10</td>\n",
              "      <td>10</td>\n",
              "      <td>9</td>\n",
              "      <td>10</td>\n",
              "      <td>10</td>\n",
              "      <td>10</td>\n",
              "      <td>9</td>\n",
              "      <td>10</td>\n",
              "      <td>10</td>\n",
              "      <td>9</td>\n",
              "    </tr>\n",
              "    <tr>\n",
              "      <th>Otto</th>\n",
              "      <td>5</td>\n",
              "      <td>4</td>\n",
              "      <td>3</td>\n",
              "      <td>5</td>\n",
              "      <td>4</td>\n",
              "      <td>3</td>\n",
              "      <td>10</td>\n",
              "      <td>4</td>\n",
              "      <td>10</td>\n",
              "      <td>10</td>\n",
              "      <td>5</td>\n",
              "    </tr>\n",
              "  </tbody>\n",
              "</table>\n",
              "</div>\n",
              "      <button class=\"colab-df-convert\" onclick=\"convertToInteractive('df-6444323c-0564-46f3-9d9f-f49f82e2b10e')\"\n",
              "              title=\"Convert this dataframe to an interactive table.\"\n",
              "              style=\"display:none;\">\n",
              "        \n",
              "  <svg xmlns=\"http://www.w3.org/2000/svg\" height=\"24px\"viewBox=\"0 0 24 24\"\n",
              "       width=\"24px\">\n",
              "    <path d=\"M0 0h24v24H0V0z\" fill=\"none\"/>\n",
              "    <path d=\"M18.56 5.44l.94 2.06.94-2.06 2.06-.94-2.06-.94-.94-2.06-.94 2.06-2.06.94zm-11 1L8.5 8.5l.94-2.06 2.06-.94-2.06-.94L8.5 2.5l-.94 2.06-2.06.94zm10 10l.94 2.06.94-2.06 2.06-.94-2.06-.94-.94-2.06-.94 2.06-2.06.94z\"/><path d=\"M17.41 7.96l-1.37-1.37c-.4-.4-.92-.59-1.43-.59-.52 0-1.04.2-1.43.59L10.3 9.45l-7.72 7.72c-.78.78-.78 2.05 0 2.83L4 21.41c.39.39.9.59 1.41.59.51 0 1.02-.2 1.41-.59l7.78-7.78 2.81-2.81c.8-.78.8-2.07 0-2.86zM5.41 20L4 18.59l7.72-7.72 1.47 1.35L5.41 20z\"/>\n",
              "  </svg>\n",
              "      </button>\n",
              "      \n",
              "  <style>\n",
              "    .colab-df-container {\n",
              "      display:flex;\n",
              "      flex-wrap:wrap;\n",
              "      gap: 12px;\n",
              "    }\n",
              "\n",
              "    .colab-df-convert {\n",
              "      background-color: #E8F0FE;\n",
              "      border: none;\n",
              "      border-radius: 50%;\n",
              "      cursor: pointer;\n",
              "      display: none;\n",
              "      fill: #1967D2;\n",
              "      height: 32px;\n",
              "      padding: 0 0 0 0;\n",
              "      width: 32px;\n",
              "    }\n",
              "\n",
              "    .colab-df-convert:hover {\n",
              "      background-color: #E2EBFA;\n",
              "      box-shadow: 0px 1px 2px rgba(60, 64, 67, 0.3), 0px 1px 3px 1px rgba(60, 64, 67, 0.15);\n",
              "      fill: #174EA6;\n",
              "    }\n",
              "\n",
              "    [theme=dark] .colab-df-convert {\n",
              "      background-color: #3B4455;\n",
              "      fill: #D2E3FC;\n",
              "    }\n",
              "\n",
              "    [theme=dark] .colab-df-convert:hover {\n",
              "      background-color: #434B5C;\n",
              "      box-shadow: 0px 1px 3px 1px rgba(0, 0, 0, 0.15);\n",
              "      filter: drop-shadow(0px 1px 2px rgba(0, 0, 0, 0.3));\n",
              "      fill: #FFFFFF;\n",
              "    }\n",
              "  </style>\n",
              "\n",
              "      <script>\n",
              "        const buttonEl =\n",
              "          document.querySelector('#df-6444323c-0564-46f3-9d9f-f49f82e2b10e button.colab-df-convert');\n",
              "        buttonEl.style.display =\n",
              "          google.colab.kernel.accessAllowed ? 'block' : 'none';\n",
              "\n",
              "        async function convertToInteractive(key) {\n",
              "          const element = document.querySelector('#df-6444323c-0564-46f3-9d9f-f49f82e2b10e');\n",
              "          const dataTable =\n",
              "            await google.colab.kernel.invokeFunction('convertToInteractive',\n",
              "                                                     [key], {});\n",
              "          if (!dataTable) return;\n",
              "\n",
              "          const docLinkHtml = 'Like what you see? Visit the ' +\n",
              "            '<a target=\"_blank\" href=https://colab.research.google.com/notebooks/data_table.ipynb>data table notebook</a>'\n",
              "            + ' to learn more about interactive tables.';\n",
              "          element.innerHTML = '';\n",
              "          dataTable['output_type'] = 'display_data';\n",
              "          await google.colab.output.renderOutput(dataTable, element);\n",
              "          const docLink = document.createElement('div');\n",
              "          docLink.innerHTML = docLinkHtml;\n",
              "          element.appendChild(docLink);\n",
              "        }\n",
              "      </script>\n",
              "    </div>\n",
              "  </div>\n",
              "  "
            ]
          },
          "metadata": {},
          "execution_count": 35
        }
      ],
      "source": [
        "df = pd.read_csv('assess.dat', sep='\\t', index_col='NAME')\n",
        "df.head()"
      ]
    },
    {
      "cell_type": "code",
      "execution_count": null,
      "metadata": {
        "id": "thTBj1uMpDrf"
      },
      "outputs": [],
      "source": [
        "# В колонке NR находится номер объекта,\n",
        "# его нужно исключить из данных для кластеризации\n",
        "del df['NR']"
      ]
    },
    {
      "cell_type": "code",
      "execution_count": null,
      "metadata": {
        "id": "VDCniUTYpDrf",
        "outputId": "870a733a-719e-49f1-b24a-8ca805604c07",
        "colab": {
          "base_uri": "https://localhost:8080/"
        }
      },
      "outputs": [
        {
          "output_type": "execute_result",
          "data": {
            "text/plain": [
              "array([ 0,  2, -1,  0, -1,  2, -1, -1,  1,  2,  1,  0, -1,  1,  0, -1, -1,\n",
              "        1])"
            ]
          },
          "metadata": {},
          "execution_count": 37
        }
      ],
      "source": [
        "#  Создадим объект DBSCAN, зададим разумные начальные значения параметров.\n",
        "dbscan_1 = DBSCAN(eps=2, metric='euclidean', min_samples=3)\n",
        "\n",
        "\n",
        "#  Обучим модель  DBSCAN clustering algorithm\n",
        "dbscan_1.fit(df)\n",
        "\n",
        "#  к какому кластеру относится объект?\n",
        "# В какой кластер попало наблюдение - Numpy массив номеров кластеров\n",
        "\n",
        "dbscan_1.labels_\n"
      ]
    },
    {
      "cell_type": "code",
      "execution_count": null,
      "metadata": {
        "id": "Xp-D7WdRpDrg",
        "outputId": "a5c32604-48d1-48f6-b8d6-220075bd54db",
        "colab": {
          "base_uri": "https://localhost:8080/"
        }
      },
      "outputs": [
        {
          "output_type": "stream",
          "name": "stdout",
          "text": [
            "[[-1  7]\n",
            " [ 0  4]\n",
            " [ 1  4]\n",
            " [ 2  3]]\n"
          ]
        }
      ],
      "source": [
        "unique, counts = np.unique(dbscan_1.labels_, return_counts=True)\n",
        "print(np.asarray((unique, counts)).T)"
      ]
    },
    {
      "cell_type": "markdown",
      "metadata": {
        "id": "LI7GCwwgpDri"
      },
      "source": [
        "Много выбросов.   <br>\n",
        "В каком направлении меняем параметры?"
      ]
    },
    {
      "cell_type": "code",
      "execution_count": null,
      "metadata": {
        "id": "olJc0xLRpDri",
        "outputId": "9bb07e06-d52b-472b-a477-20dadc633f4c",
        "colab": {
          "base_uri": "https://localhost:8080/"
        }
      },
      "outputs": [
        {
          "output_type": "stream",
          "name": "stdout",
          "text": [
            "[[-1  2]\n",
            " [ 0  4]\n",
            " [ 1  4]\n",
            " [ 2  5]\n",
            " [ 3  3]]\n"
          ]
        }
      ],
      "source": [
        "dbscan_1 = DBSCAN(eps=3.1, metric='euclidean', min_samples=3)\n",
        "\n",
        "dbscan_1.fit(df)\n",
        "\n",
        "unique, counts = np.unique(dbscan_1.labels_, return_counts=True)\n",
        "print(np.asarray((unique, counts)).T)"
      ]
    },
    {
      "cell_type": "code",
      "execution_count": null,
      "metadata": {
        "id": "ftEAlopCpDrj",
        "outputId": "7886e369-83b0-40dd-f2c7-8d65b2542bbc",
        "colab": {
          "base_uri": "https://localhost:8080/"
        }
      },
      "outputs": [
        {
          "output_type": "stream",
          "name": "stdout",
          "text": [
            "[[0 4]\n",
            " [1 4]\n",
            " [2 5]\n",
            " [3 5]]\n"
          ]
        }
      ],
      "source": [
        "dbscan_2 = DBSCAN(eps=4.1, metric='euclidean', min_samples=3)\n",
        "\n",
        "dbscan_2.fit(df)\n",
        "\n",
        "unique, counts = np.unique(dbscan_2.labels_, return_counts=True)\n",
        "print(np.asarray((unique, counts)).T)\n",
        "\n",
        "\n"
      ]
    },
    {
      "cell_type": "markdown",
      "metadata": {
        "id": "WWpCgKuppDrl"
      },
      "source": [
        "Приемлемо. <br>\n",
        "Может это решение подходит?"
      ]
    },
    {
      "cell_type": "markdown",
      "metadata": {
        "id": "mlmOLnX4pDrl"
      },
      "source": [
        "###  Сравним результат с иерархической кластеризацией"
      ]
    },
    {
      "cell_type": "code",
      "execution_count": null,
      "metadata": {
        "scrolled": false,
        "id": "H8d8w7G5pDrm",
        "outputId": "fecf5bb3-cc19-42b7-bd90-c953cbbec864",
        "colab": {
          "base_uri": "https://localhost:8080/",
          "height": 434
        }
      },
      "outputs": [
        {
          "output_type": "display_data",
          "data": {
            "text/plain": [
              "<Figure size 640x480 with 1 Axes>"
            ],
            "image/png": "[encoded data removed]"
          },
          "metadata": {}
        }
      ],
      "source": [
        "link = linkage(df, 'ward', 'euclidean')\n",
        "dn = dendrogram(link)"
      ]
    },
    {
      "cell_type": "code",
      "execution_count": null,
      "metadata": {
        "id": "Ss97WpsspDrn"
      },
      "outputs": [],
      "source": [
        "\n",
        "df['dbscan_2'] = dbscan_2.labels_\n",
        "df['cluster'] = fcluster(link, 4, criterion='maxclust')"
      ]
    },
    {
      "cell_type": "code",
      "execution_count": null,
      "metadata": {
        "id": "NQ6Io5K8pDro",
        "outputId": "167b46cc-56e0-46e7-a32d-e2ffe6cef862",
        "colab": {
          "base_uri": "https://localhost:8080/"
        }
      },
      "outputs": [
        {
          "output_type": "stream",
          "name": "stdout",
          "text": [
            "cluster   1  2  3  4\n",
            "dbscan_2            \n",
            "0         0  0  4  0\n",
            "1         0  0  0  4\n",
            "2         5  0  0  0\n",
            "3         0  5  0  0\n"
          ]
        }
      ],
      "source": [
        "#  Таблица сопряженности для двух кластеризаций\n",
        "\n",
        "tab1 = pd.crosstab(df['dbscan_2'], df['cluster'])\n",
        "\n",
        "print(tab1)\n"
      ]
    },
    {
      "cell_type": "code",
      "execution_count": null,
      "metadata": {
        "id": "AFmT7LWWpDro",
        "outputId": "68490344-b057-481d-a8fd-73de119c2c6d",
        "colab": {
          "base_uri": "https://localhost:8080/"
        }
      },
      "outputs": [
        {
          "output_type": "stream",
          "name": "stdout",
          "text": [
            "col_0  1  2  3  4\n",
            "row_0            \n",
            "0      0  0  4  0\n",
            "1      0  0  0  4\n",
            "2      5  0  0  0\n",
            "3      0  5  0  0\n"
          ]
        }
      ],
      "source": [
        "#  Таблица сопряженности для двух кластеризаций\n",
        "#  Можно было и не создавать новые столбцы\n",
        "\n",
        "tab2 = pd.crosstab(dbscan_2.labels_, fcluster(link, 4, criterion='maxclust'))\n",
        "\n",
        "print(tab2)\n"
      ]
    },
    {
      "cell_type": "markdown",
      "metadata": {
        "id": "7zDchUOCpDrp"
      },
      "source": [
        "В этой задаче считать средние не нужно, <br>\n",
        "так как решение совпало с предыдущим, <br>\n",
        "для которого интерпретация есть. <br>\n",
        "\n",
        "Заготовка для тех, кто захочет использовать код  <br>\n",
        "для решения новых задач."
      ]
    },
    {
      "cell_type": "code",
      "execution_count": null,
      "metadata": {
        "id": "cO-IJ3bjpDrp",
        "outputId": "e5ae39aa-4249-4dc0-c163-6f6503cc8332",
        "colab": {
          "base_uri": "https://localhost:8080/",
          "height": 206
        }
      },
      "outputs": [
        {
          "output_type": "execute_result",
          "data": {
            "text/plain": [
              "           T1    T2     T3    T4     T5    T6     T7     T8     T9    T10  \\\n",
              "cluster                                                                     \n",
              "1         4.2   4.8  10.00   4.4  10.00   4.4  10.00   4.00   3.80  10.00   \n",
              "2         4.8   4.4   4.00   4.0   4.20  10.0   4.40  10.00  10.00   5.00   \n",
              "3        10.0  10.0   9.00  10.0  10.00   9.5   9.25   9.75  10.00   9.50   \n",
              "4        10.0  10.0   4.25  10.0   4.75   4.5   3.75   4.25   4.25   4.25   \n",
              "\n",
              "         dbscan_2  \n",
              "cluster            \n",
              "1             2.0  \n",
              "2             3.0  \n",
              "3             0.0  \n",
              "4             1.0  "
            ],
            "text/html": [
              "\n",
              "  <div id=\"df-3cd346f9-69c9-4fe2-aa10-e1ddbbd64084\">\n",
              "    <div class=\"colab-df-container\">\n",
              "      <div>\n",
              "<style scoped>\n",
              "    .dataframe tbody tr th:only-of-type {\n",
              "        vertical-align: middle;\n",
              "    }\n",
              "\n",
              "    .dataframe tbody tr th {\n",
              "        vertical-align: top;\n",
              "    }\n",
              "\n",
              "    .dataframe thead th {\n",
              "        text-align: right;\n",
              "    }\n",
              "</style>\n",
              "<table border=\"1\" class=\"dataframe\">\n",
              "  <thead>\n",
              "    <tr style=\"text-align: right;\">\n",
              "      <th></th>\n",
              "      <th>T1</th>\n",
              "      <th>T2</th>\n",
              "      <th>T3</th>\n",
              "      <th>T4</th>\n",
              "      <th>T5</th>\n",
              "      <th>T6</th>\n",
              "      <th>T7</th>\n",
              "      <th>T8</th>\n",
              "      <th>T9</th>\n",
              "      <th>T10</th>\n",
              "      <th>dbscan_2</th>\n",
              "    </tr>\n",
              "    <tr>\n",
              "      <th>cluster</th>\n",
              "      <th></th>\n",
              "      <th></th>\n",
              "      <th></th>\n",
              "      <th></th>\n",
              "      <th></th>\n",
              "      <th></th>\n",
              "      <th></th>\n",
              "      <th></th>\n",
              "      <th></th>\n",
              "      <th></th>\n",
              "      <th></th>\n",
              "    </tr>\n",
              "  </thead>\n",
              "  <tbody>\n",
              "    <tr>\n",
              "      <th>1</th>\n",
              "      <td>4.2</td>\n",
              "      <td>4.8</td>\n",
              "      <td>10.00</td>\n",
              "      <td>4.4</td>\n",
              "      <td>10.00</td>\n",
              "      <td>4.4</td>\n",
              "      <td>10.00</td>\n",
              "      <td>4.00</td>\n",
              "      <td>3.80</td>\n",
              "      <td>10.00</td>\n",
              "      <td>2.0</td>\n",
              "    </tr>\n",
              "    <tr>\n",
              "      <th>2</th>\n",
              "      <td>4.8</td>\n",
              "      <td>4.4</td>\n",
              "      <td>4.00</td>\n",
              "      <td>4.0</td>\n",
              "      <td>4.20</td>\n",
              "      <td>10.0</td>\n",
              "      <td>4.40</td>\n",
              "      <td>10.00</td>\n",
              "      <td>10.00</td>\n",
              "      <td>5.00</td>\n",
              "      <td>3.0</td>\n",
              "    </tr>\n",
              "    <tr>\n",
              "      <th>3</th>\n",
              "      <td>10.0</td>\n",
              "      <td>10.0</td>\n",
              "      <td>9.00</td>\n",
              "      <td>10.0</td>\n",
              "      <td>10.00</td>\n",
              "      <td>9.5</td>\n",
              "      <td>9.25</td>\n",
              "      <td>9.75</td>\n",
              "      <td>10.00</td>\n",
              "      <td>9.50</td>\n",
              "      <td>0.0</td>\n",
              "    </tr>\n",
              "    <tr>\n",
              "      <th>4</th>\n",
              "      <td>10.0</td>\n",
              "      <td>10.0</td>\n",
              "      <td>4.25</td>\n",
              "      <td>10.0</td>\n",
              "      <td>4.75</td>\n",
              "      <td>4.5</td>\n",
              "      <td>3.75</td>\n",
              "      <td>4.25</td>\n",
              "      <td>4.25</td>\n",
              "      <td>4.25</td>\n",
              "      <td>1.0</td>\n",
              "    </tr>\n",
              "  </tbody>\n",
              "</table>\n",
              "</div>\n",
              "      <button class=\"colab-df-convert\" onclick=\"convertToInteractive('df-3cd346f9-69c9-4fe2-aa10-e1ddbbd64084')\"\n",
              "              title=\"Convert this dataframe to an interactive table.\"\n",
              "              style=\"display:none;\">\n",
              "        \n",
              "  <svg xmlns=\"http://www.w3.org/2000/svg\" height=\"24px\"viewBox=\"0 0 24 24\"\n",
              "       width=\"24px\">\n",
              "    <path d=\"M0 0h24v24H0V0z\" fill=\"none\"/>\n",
              "    <path d=\"M18.56 5.44l.94 2.06.94-2.06 2.06-.94-2.06-.94-.94-2.06-.94 2.06-2.06.94zm-11 1L8.5 8.5l.94-2.06 2.06-.94-2.06-.94L8.5 2.5l-.94 2.06-2.06.94zm10 10l.94 2.06.94-2.06 2.06-.94-2.06-.94-.94-2.06-.94 2.06-2.06.94z\"/><path d=\"M17.41 7.96l-1.37-1.37c-.4-.4-.92-.59-1.43-.59-.52 0-1.04.2-1.43.59L10.3 9.45l-7.72 7.72c-.78.78-.78 2.05 0 2.83L4 21.41c.39.39.9.59 1.41.59.51 0 1.02-.2 1.41-.59l7.78-7.78 2.81-2.81c.8-.78.8-2.07 0-2.86zM5.41 20L4 18.59l7.72-7.72 1.47 1.35L5.41 20z\"/>\n",
              "  </svg>\n",
              "      </button>\n",
              "      \n",
              "  <style>\n",
              "    .colab-df-container {\n",
              "      display:flex;\n",
              "      flex-wrap:wrap;\n",
              "      gap: 12px;\n",
              "    }\n",
              "\n",
              "    .colab-df-convert {\n",
              "      background-color: #E8F0FE;\n",
              "      border: none;\n",
              "      border-radius: 50%;\n",
              "      cursor: pointer;\n",
              "      display: none;\n",
              "      fill: #1967D2;\n",
              "      height: 32px;\n",
              "      padding: 0 0 0 0;\n",
              "      width: 32px;\n",
              "    }\n",
              "\n",
              "    .colab-df-convert:hover {\n",
              "      background-color: #E2EBFA;\n",
              "      box-shadow: 0px 1px 2px rgba(60, 64, 67, 0.3), 0px 1px 3px 1px rgba(60, 64, 67, 0.15);\n",
              "      fill: #174EA6;\n",
              "    }\n",
              "\n",
              "    [theme=dark] .colab-df-convert {\n",
              "      background-color: #3B4455;\n",
              "      fill: #D2E3FC;\n",
              "    }\n",
              "\n",
              "    [theme=dark] .colab-df-convert:hover {\n",
              "      background-color: #434B5C;\n",
              "      box-shadow: 0px 1px 3px 1px rgba(0, 0, 0, 0.15);\n",
              "      filter: drop-shadow(0px 1px 2px rgba(0, 0, 0, 0.3));\n",
              "      fill: #FFFFFF;\n",
              "    }\n",
              "  </style>\n",
              "\n",
              "      <script>\n",
              "        const buttonEl =\n",
              "          document.querySelector('#df-3cd346f9-69c9-4fe2-aa10-e1ddbbd64084 button.colab-df-convert');\n",
              "        buttonEl.style.display =\n",
              "          google.colab.kernel.accessAllowed ? 'block' : 'none';\n",
              "\n",
              "        async function convertToInteractive(key) {\n",
              "          const element = document.querySelector('#df-3cd346f9-69c9-4fe2-aa10-e1ddbbd64084');\n",
              "          const dataTable =\n",
              "            await google.colab.kernel.invokeFunction('convertToInteractive',\n",
              "                                                     [key], {});\n",
              "          if (!dataTable) return;\n",
              "\n",
              "          const docLinkHtml = 'Like what you see? Visit the ' +\n",
              "            '<a target=\"_blank\" href=https://colab.research.google.com/notebooks/data_table.ipynb>data table notebook</a>'\n",
              "            + ' to learn more about interactive tables.';\n",
              "          element.innerHTML = '';\n",
              "          dataTable['output_type'] = 'display_data';\n",
              "          await google.colab.output.renderOutput(dataTable, element);\n",
              "          const docLink = document.createElement('div');\n",
              "          docLink.innerHTML = docLinkHtml;\n",
              "          element.appendChild(docLink);\n",
              "        }\n",
              "      </script>\n",
              "    </div>\n",
              "  </div>\n",
              "  "
            ]
          },
          "metadata": {},
          "execution_count": 45
        }
      ],
      "source": [
        "df.groupby('cluster').mean()"
      ]
    },
    {
      "cell_type": "code",
      "execution_count": null,
      "metadata": {
        "id": "yCGNEAZ8pDrq",
        "outputId": "e7162264-b291-4971-d459-79c3e911d84d",
        "colab": {
          "base_uri": "https://localhost:8080/",
          "height": 175
        }
      },
      "outputs": [
        {
          "output_type": "execute_result",
          "data": {
            "text/plain": [
              "     T1    T2     T3    T4     T5    T6     T7     T8     T9    T10  dbscan_2  \\\n",
              "0  10.0  10.0   9.00  10.0  10.00   9.5   9.25   9.75  10.00   9.50       0.0   \n",
              "1  10.0  10.0   4.25  10.0   4.75   4.5   3.75   4.25   4.25   4.25       1.0   \n",
              "2   4.2   4.8  10.00   4.4  10.00   4.4  10.00   4.00   3.80  10.00       2.0   \n",
              "3   4.8   4.4   4.00   4.0   4.20  10.0   4.40  10.00  10.00   5.00       3.0   \n",
              "\n",
              "   cluster  \n",
              "0      3.0  \n",
              "1      4.0  \n",
              "2      1.0  \n",
              "3      2.0  "
            ],
            "text/html": [
              "\n",
              "  <div id=\"df-4d6d41a1-8700-48fe-82eb-daeb07d543e2\">\n",
              "    <div class=\"colab-df-container\">\n",
              "      <div>\n",
              "<style scoped>\n",
              "    .dataframe tbody tr th:only-of-type {\n",
              "        vertical-align: middle;\n",
              "    }\n",
              "\n",
              "    .dataframe tbody tr th {\n",
              "        vertical-align: top;\n",
              "    }\n",
              "\n",
              "    .dataframe thead th {\n",
              "        text-align: right;\n",
              "    }\n",
              "</style>\n",
              "<table border=\"1\" class=\"dataframe\">\n",
              "  <thead>\n",
              "    <tr style=\"text-align: right;\">\n",
              "      <th></th>\n",
              "      <th>T1</th>\n",
              "      <th>T2</th>\n",
              "      <th>T3</th>\n",
              "      <th>T4</th>\n",
              "      <th>T5</th>\n",
              "      <th>T6</th>\n",
              "      <th>T7</th>\n",
              "      <th>T8</th>\n",
              "      <th>T9</th>\n",
              "      <th>T10</th>\n",
              "      <th>dbscan_2</th>\n",
              "      <th>cluster</th>\n",
              "    </tr>\n",
              "  </thead>\n",
              "  <tbody>\n",
              "    <tr>\n",
              "      <th>0</th>\n",
              "      <td>10.0</td>\n",
              "      <td>10.0</td>\n",
              "      <td>9.00</td>\n",
              "      <td>10.0</td>\n",
              "      <td>10.00</td>\n",
              "      <td>9.5</td>\n",
              "      <td>9.25</td>\n",
              "      <td>9.75</td>\n",
              "      <td>10.00</td>\n",
              "      <td>9.50</td>\n",
              "      <td>0.0</td>\n",
              "      <td>3.0</td>\n",
              "    </tr>\n",
              "    <tr>\n",
              "      <th>1</th>\n",
              "      <td>10.0</td>\n",
              "      <td>10.0</td>\n",
              "      <td>4.25</td>\n",
              "      <td>10.0</td>\n",
              "      <td>4.75</td>\n",
              "      <td>4.5</td>\n",
              "      <td>3.75</td>\n",
              "      <td>4.25</td>\n",
              "      <td>4.25</td>\n",
              "      <td>4.25</td>\n",
              "      <td>1.0</td>\n",
              "      <td>4.0</td>\n",
              "    </tr>\n",
              "    <tr>\n",
              "      <th>2</th>\n",
              "      <td>4.2</td>\n",
              "      <td>4.8</td>\n",
              "      <td>10.00</td>\n",
              "      <td>4.4</td>\n",
              "      <td>10.00</td>\n",
              "      <td>4.4</td>\n",
              "      <td>10.00</td>\n",
              "      <td>4.00</td>\n",
              "      <td>3.80</td>\n",
              "      <td>10.00</td>\n",
              "      <td>2.0</td>\n",
              "      <td>1.0</td>\n",
              "    </tr>\n",
              "    <tr>\n",
              "      <th>3</th>\n",
              "      <td>4.8</td>\n",
              "      <td>4.4</td>\n",
              "      <td>4.00</td>\n",
              "      <td>4.0</td>\n",
              "      <td>4.20</td>\n",
              "      <td>10.0</td>\n",
              "      <td>4.40</td>\n",
              "      <td>10.00</td>\n",
              "      <td>10.00</td>\n",
              "      <td>5.00</td>\n",
              "      <td>3.0</td>\n",
              "      <td>2.0</td>\n",
              "    </tr>\n",
              "  </tbody>\n",
              "</table>\n",
              "</div>\n",
              "      <button class=\"colab-df-convert\" onclick=\"convertToInteractive('df-4d6d41a1-8700-48fe-82eb-daeb07d543e2')\"\n",
              "              title=\"Convert this dataframe to an interactive table.\"\n",
              "              style=\"display:none;\">\n",
              "        \n",
              "  <svg xmlns=\"http://www.w3.org/2000/svg\" height=\"24px\"viewBox=\"0 0 24 24\"\n",
              "       width=\"24px\">\n",
              "    <path d=\"M0 0h24v24H0V0z\" fill=\"none\"/>\n",
              "    <path d=\"M18.56 5.44l.94 2.06.94-2.06 2.06-.94-2.06-.94-.94-2.06-.94 2.06-2.06.94zm-11 1L8.5 8.5l.94-2.06 2.06-.94-2.06-.94L8.5 2.5l-.94 2.06-2.06.94zm10 10l.94 2.06.94-2.06 2.06-.94-2.06-.94-.94-2.06-.94 2.06-2.06.94z\"/><path d=\"M17.41 7.96l-1.37-1.37c-.4-.4-.92-.59-1.43-.59-.52 0-1.04.2-1.43.59L10.3 9.45l-7.72 7.72c-.78.78-.78 2.05 0 2.83L4 21.41c.39.39.9.59 1.41.59.51 0 1.02-.2 1.41-.59l7.78-7.78 2.81-2.81c.8-.78.8-2.07 0-2.86zM5.41 20L4 18.59l7.72-7.72 1.47 1.35L5.41 20z\"/>\n",
              "  </svg>\n",
              "      </button>\n",
              "      \n",
              "  <style>\n",
              "    .colab-df-container {\n",
              "      display:flex;\n",
              "      flex-wrap:wrap;\n",
              "      gap: 12px;\n",
              "    }\n",
              "\n",
              "    .colab-df-convert {\n",
              "      background-color: #E8F0FE;\n",
              "      border: none;\n",
              "      border-radius: 50%;\n",
              "      cursor: pointer;\n",
              "      display: none;\n",
              "      fill: #1967D2;\n",
              "      height: 32px;\n",
              "      padding: 0 0 0 0;\n",
              "      width: 32px;\n",
              "    }\n",
              "\n",
              "    .colab-df-convert:hover {\n",
              "      background-color: #E2EBFA;\n",
              "      box-shadow: 0px 1px 2px rgba(60, 64, 67, 0.3), 0px 1px 3px 1px rgba(60, 64, 67, 0.15);\n",
              "      fill: #174EA6;\n",
              "    }\n",
              "\n",
              "    [theme=dark] .colab-df-convert {\n",
              "      background-color: #3B4455;\n",
              "      fill: #D2E3FC;\n",
              "    }\n",
              "\n",
              "    [theme=dark] .colab-df-convert:hover {\n",
              "      background-color: #434B5C;\n",
              "      box-shadow: 0px 1px 3px 1px rgba(0, 0, 0, 0.15);\n",
              "      filter: drop-shadow(0px 1px 2px rgba(0, 0, 0, 0.3));\n",
              "      fill: #FFFFFF;\n",
              "    }\n",
              "  </style>\n",
              "\n",
              "      <script>\n",
              "        const buttonEl =\n",
              "          document.querySelector('#df-4d6d41a1-8700-48fe-82eb-daeb07d543e2 button.colab-df-convert');\n",
              "        buttonEl.style.display =\n",
              "          google.colab.kernel.accessAllowed ? 'block' : 'none';\n",
              "\n",
              "        async function convertToInteractive(key) {\n",
              "          const element = document.querySelector('#df-4d6d41a1-8700-48fe-82eb-daeb07d543e2');\n",
              "          const dataTable =\n",
              "            await google.colab.kernel.invokeFunction('convertToInteractive',\n",
              "                                                     [key], {});\n",
              "          if (!dataTable) return;\n",
              "\n",
              "          const docLinkHtml = 'Like what you see? Visit the ' +\n",
              "            '<a target=\"_blank\" href=https://colab.research.google.com/notebooks/data_table.ipynb>data table notebook</a>'\n",
              "            + ' to learn more about interactive tables.';\n",
              "          element.innerHTML = '';\n",
              "          dataTable['output_type'] = 'display_data';\n",
              "          await google.colab.output.renderOutput(dataTable, element);\n",
              "          const docLink = document.createElement('div');\n",
              "          docLink.innerHTML = docLinkHtml;\n",
              "          element.appendChild(docLink);\n",
              "        }\n",
              "      </script>\n",
              "    </div>\n",
              "  </div>\n",
              "  "
            ]
          },
          "metadata": {},
          "execution_count": 46
        }
      ],
      "source": [
        "df.groupby(dbscan_2.labels_).mean()"
      ]
    },
    {
      "cell_type": "markdown",
      "metadata": {
        "id": "dPrroFxEpDrr"
      },
      "source": [
        "Пример 3. Потребление протеинов в Европе.\n",
        "------------------"
      ]
    },
    {
      "cell_type": "code",
      "execution_count": null,
      "metadata": {
        "id": "ETKdiDl3pDrs",
        "outputId": "796b5755-790a-4f96-d50c-8b0839d8be45",
        "colab": {
          "base_uri": "https://localhost:8080/",
          "height": 237
        }
      },
      "outputs": [
        {
          "output_type": "execute_result",
          "data": {
            "text/plain": [
              "                RedMeat  WhiteMeat  Eggs  Milk  Fish  Cereals  Starch  Nuts  \\\n",
              "Country                                                                       \n",
              "Albania            10.1        1.4   0.5   8.9   0.2     42.3     0.6   5.5   \n",
              "Austria             8.9       14.0   4.3  19.9   2.1     28.0     3.6   1.3   \n",
              "Belgium            13.5        9.3   4.1  17.5   4.5     26.6     5.7   2.1   \n",
              "Bulgaria            7.8        6.0   1.6   8.3   1.2     56.7     1.1   3.7   \n",
              "Czechoslovakia      9.7       11.4   2.8  12.5   2.0     34.3     5.0   1.1   \n",
              "\n",
              "                Fr&Veg  \n",
              "Country                 \n",
              "Albania            1.7  \n",
              "Austria            4.3  \n",
              "Belgium            4.0  \n",
              "Bulgaria           4.2  \n",
              "Czechoslovakia     4.0  "
            ],
            "text/html": [
              "\n",
              "  <div id=\"df-c319cd88-47a8-44ac-9713-e1c9d200c5cc\">\n",
              "    <div class=\"colab-df-container\">\n",
              "      <div>\n",
              "<style scoped>\n",
              "    .dataframe tbody tr th:only-of-type {\n",
              "        vertical-align: middle;\n",
              "    }\n",
              "\n",
              "    .dataframe tbody tr th {\n",
              "        vertical-align: top;\n",
              "    }\n",
              "\n",
              "    .dataframe thead th {\n",
              "        text-align: right;\n",
              "    }\n",
              "</style>\n",
              "<table border=\"1\" class=\"dataframe\">\n",
              "  <thead>\n",
              "    <tr style=\"text-align: right;\">\n",
              "      <th></th>\n",
              "      <th>RedMeat</th>\n",
              "      <th>WhiteMeat</th>\n",
              "      <th>Eggs</th>\n",
              "      <th>Milk</th>\n",
              "      <th>Fish</th>\n",
              "      <th>Cereals</th>\n",
              "      <th>Starch</th>\n",
              "      <th>Nuts</th>\n",
              "      <th>Fr&amp;Veg</th>\n",
              "    </tr>\n",
              "    <tr>\n",
              "      <th>Country</th>\n",
              "      <th></th>\n",
              "      <th></th>\n",
              "      <th></th>\n",
              "      <th></th>\n",
              "      <th></th>\n",
              "      <th></th>\n",
              "      <th></th>\n",
              "      <th></th>\n",
              "      <th></th>\n",
              "    </tr>\n",
              "  </thead>\n",
              "  <tbody>\n",
              "    <tr>\n",
              "      <th>Albania</th>\n",
              "      <td>10.1</td>\n",
              "      <td>1.4</td>\n",
              "      <td>0.5</td>\n",
              "      <td>8.9</td>\n",
              "      <td>0.2</td>\n",
              "      <td>42.3</td>\n",
              "      <td>0.6</td>\n",
              "      <td>5.5</td>\n",
              "      <td>1.7</td>\n",
              "    </tr>\n",
              "    <tr>\n",
              "      <th>Austria</th>\n",
              "      <td>8.9</td>\n",
              "      <td>14.0</td>\n",
              "      <td>4.3</td>\n",
              "      <td>19.9</td>\n",
              "      <td>2.1</td>\n",
              "      <td>28.0</td>\n",
              "      <td>3.6</td>\n",
              "      <td>1.3</td>\n",
              "      <td>4.3</td>\n",
              "    </tr>\n",
              "    <tr>\n",
              "      <th>Belgium</th>\n",
              "      <td>13.5</td>\n",
              "      <td>9.3</td>\n",
              "      <td>4.1</td>\n",
              "      <td>17.5</td>\n",
              "      <td>4.5</td>\n",
              "      <td>26.6</td>\n",
              "      <td>5.7</td>\n",
              "      <td>2.1</td>\n",
              "      <td>4.0</td>\n",
              "    </tr>\n",
              "    <tr>\n",
              "      <th>Bulgaria</th>\n",
              "      <td>7.8</td>\n",
              "      <td>6.0</td>\n",
              "      <td>1.6</td>\n",
              "      <td>8.3</td>\n",
              "      <td>1.2</td>\n",
              "      <td>56.7</td>\n",
              "      <td>1.1</td>\n",
              "      <td>3.7</td>\n",
              "      <td>4.2</td>\n",
              "    </tr>\n",
              "    <tr>\n",
              "      <th>Czechoslovakia</th>\n",
              "      <td>9.7</td>\n",
              "      <td>11.4</td>\n",
              "      <td>2.8</td>\n",
              "      <td>12.5</td>\n",
              "      <td>2.0</td>\n",
              "      <td>34.3</td>\n",
              "      <td>5.0</td>\n",
              "      <td>1.1</td>\n",
              "      <td>4.0</td>\n",
              "    </tr>\n",
              "  </tbody>\n",
              "</table>\n",
              "</div>\n",
              "      <button class=\"colab-df-convert\" onclick=\"convertToInteractive('df-c319cd88-47a8-44ac-9713-e1c9d200c5cc')\"\n",
              "              title=\"Convert this dataframe to an interactive table.\"\n",
              "              style=\"display:none;\">\n",
              "        \n",
              "  <svg xmlns=\"http://www.w3.org/2000/svg\" height=\"24px\"viewBox=\"0 0 24 24\"\n",
              "       width=\"24px\">\n",
              "    <path d=\"M0 0h24v24H0V0z\" fill=\"none\"/>\n",
              "    <path d=\"M18.56 5.44l.94 2.06.94-2.06 2.06-.94-2.06-.94-.94-2.06-.94 2.06-2.06.94zm-11 1L8.5 8.5l.94-2.06 2.06-.94-2.06-.94L8.5 2.5l-.94 2.06-2.06.94zm10 10l.94 2.06.94-2.06 2.06-.94-2.06-.94-.94-2.06-.94 2.06-2.06.94z\"/><path d=\"M17.41 7.96l-1.37-1.37c-.4-.4-.92-.59-1.43-.59-.52 0-1.04.2-1.43.59L10.3 9.45l-7.72 7.72c-.78.78-.78 2.05 0 2.83L4 21.41c.39.39.9.59 1.41.59.51 0 1.02-.2 1.41-.59l7.78-7.78 2.81-2.81c.8-.78.8-2.07 0-2.86zM5.41 20L4 18.59l7.72-7.72 1.47 1.35L5.41 20z\"/>\n",
              "  </svg>\n",
              "      </button>\n",
              "      \n",
              "  <style>\n",
              "    .colab-df-container {\n",
              "      display:flex;\n",
              "      flex-wrap:wrap;\n",
              "      gap: 12px;\n",
              "    }\n",
              "\n",
              "    .colab-df-convert {\n",
              "      background-color: #E8F0FE;\n",
              "      border: none;\n",
              "      border-radius: 50%;\n",
              "      cursor: pointer;\n",
              "      display: none;\n",
              "      fill: #1967D2;\n",
              "      height: 32px;\n",
              "      padding: 0 0 0 0;\n",
              "      width: 32px;\n",
              "    }\n",
              "\n",
              "    .colab-df-convert:hover {\n",
              "      background-color: #E2EBFA;\n",
              "      box-shadow: 0px 1px 2px rgba(60, 64, 67, 0.3), 0px 1px 3px 1px rgba(60, 64, 67, 0.15);\n",
              "      fill: #174EA6;\n",
              "    }\n",
              "\n",
              "    [theme=dark] .colab-df-convert {\n",
              "      background-color: #3B4455;\n",
              "      fill: #D2E3FC;\n",
              "    }\n",
              "\n",
              "    [theme=dark] .colab-df-convert:hover {\n",
              "      background-color: #434B5C;\n",
              "      box-shadow: 0px 1px 3px 1px rgba(0, 0, 0, 0.15);\n",
              "      filter: drop-shadow(0px 1px 2px rgba(0, 0, 0, 0.3));\n",
              "      fill: #FFFFFF;\n",
              "    }\n",
              "  </style>\n",
              "\n",
              "      <script>\n",
              "        const buttonEl =\n",
              "          document.querySelector('#df-c319cd88-47a8-44ac-9713-e1c9d200c5cc button.colab-df-convert');\n",
              "        buttonEl.style.display =\n",
              "          google.colab.kernel.accessAllowed ? 'block' : 'none';\n",
              "\n",
              "        async function convertToInteractive(key) {\n",
              "          const element = document.querySelector('#df-c319cd88-47a8-44ac-9713-e1c9d200c5cc');\n",
              "          const dataTable =\n",
              "            await google.colab.kernel.invokeFunction('convertToInteractive',\n",
              "                                                     [key], {});\n",
              "          if (!dataTable) return;\n",
              "\n",
              "          const docLinkHtml = 'Like what you see? Visit the ' +\n",
              "            '<a target=\"_blank\" href=https://colab.research.google.com/notebooks/data_table.ipynb>data table notebook</a>'\n",
              "            + ' to learn more about interactive tables.';\n",
              "          element.innerHTML = '';\n",
              "          dataTable['output_type'] = 'display_data';\n",
              "          await google.colab.output.renderOutput(dataTable, element);\n",
              "          const docLink = document.createElement('div');\n",
              "          docLink.innerHTML = docLinkHtml;\n",
              "          element.appendChild(docLink);\n",
              "        }\n",
              "      </script>\n",
              "    </div>\n",
              "  </div>\n",
              "  "
            ]
          },
          "metadata": {},
          "execution_count": 47
        }
      ],
      "source": [
        "df = pd.read_csv('Protein Consumption in Europe.csv', sep=';', decimal=',', index_col='Country')\n",
        "df.head()"
      ]
    },
    {
      "cell_type": "markdown",
      "metadata": {
        "id": "CHvV0YtCpDrs"
      },
      "source": [
        "Стандартизация данных\n",
        "--------------------\n",
        "В этом примере данные измерены в одной шкале, в одних и тех же единицах, но значения в разных столбцах различаются почти на два порядка.\n",
        "\n",
        "Вывод: данные надо стандартизировать.\n",
        "\n",
        "В модуле preprocessing библиотеки sklearn реализованы несколько классов стандартизации данных:\n",
        "* StandardScaler -- приведение к нулевому среднему и единичной дисперсии.\n",
        "* MinMaxScaler -- приведение данных к отрезку [0, 1].\n",
        "* MaxAbsScaler -- приведение к [-1, 1] (рекомендуется для разреженных данных).\n",
        "\n",
        "Замечание. У этих методов есть методы-аналоги ```scale```, ```minmax_scale``` и ```maxabs_scale```, которые делают практически то же самое, но в задачах распознавания, которые встретяся позже, удобнее использовать именно рассматриваемый вариант.\n",
        "\n",
        "Процесс стандартизации выглядит так:"
      ]
    },
    {
      "cell_type": "code",
      "execution_count": null,
      "metadata": {
        "id": "R3wY3D_2pDrt"
      },
      "outputs": [],
      "source": [
        "from sklearn import preprocessing\n",
        "\n",
        "# Выбираем один из вариантов нормализации\n",
        "\n",
        "norm = preprocessing.StandardScaler()\n",
        "# norm = preprocessing.MaxAbsScaler()\n",
        "# norm = preprocessing.MinMaxScaler()\n",
        "\n",
        "# вычисляем параметры нормализации (они будут сохранены внутри объекта norm)\n",
        "norm.fit(df)\n",
        "# преобразовываем данные с параметрами\n",
        "X = norm.transform(df)\n",
        "# Полученный на предыдущем шаге объект X -- это матрица класса numpy.ndarray.\n",
        "# Глазами на неё смотреть неудобно, лучше преобразовать её в объект класса pandas.DataFrame.\n",
        "X = pd.DataFrame(X, index=df.index, columns=df.columns)"
      ]
    },
    {
      "cell_type": "code",
      "execution_count": null,
      "metadata": {
        "id": "SMBFy5WnpDrt",
        "outputId": "0e5a515c-27af-48f5-f45e-950b993ba297",
        "colab": {
          "base_uri": "https://localhost:8080/",
          "height": 237
        }
      },
      "outputs": [
        {
          "output_type": "execute_result",
          "data": {
            "text/plain": [
              "                 RedMeat  WhiteMeat      Eggs      Milk      Fish   Cereals  \\\n",
              "Country                                                                       \n",
              "Albania         0.082941  -1.794750 -2.224584 -1.179570 -1.225033  0.934804   \n",
              "Austria        -0.282974   1.686446  1.245621  0.400468 -0.655111 -0.395051   \n",
              "Belgium         1.119699   0.387905  1.062979  0.055732  0.064791 -0.525246   \n",
              "Bulgaria       -0.618396  -0.523837 -1.220051 -1.265754 -0.925074  2.273959   \n",
              "Czechoslovakia -0.039031   0.968104 -0.124197 -0.662467 -0.685107  0.190830   \n",
              "\n",
              "                  Starch      Nuts    Fr&Veg  \n",
              "Country                                       \n",
              "Albania        -2.295965  1.247968 -1.378251  \n",
              "Austria        -0.422218 -0.910790  0.092789  \n",
              "Belgium         0.889405 -0.499598 -0.076947  \n",
              "Bulgaria       -1.983674  0.322786  0.036210  \n",
              "Czechoslovakia  0.452198 -1.013588 -0.076947  "
            ],
            "text/html": [
              "\n",
              "  <div id=\"df-5d1019f4-21d9-40b1-b61d-76b897606d59\">\n",
              "    <div class=\"colab-df-container\">\n",
              "      <div>\n",
              "<style scoped>\n",
              "    .dataframe tbody tr th:only-of-type {\n",
              "        vertical-align: middle;\n",
              "    }\n",
              "\n",
              "    .dataframe tbody tr th {\n",
              "        vertical-align: top;\n",
              "    }\n",
              "\n",
              "    .dataframe thead th {\n",
              "        text-align: right;\n",
              "    }\n",
              "</style>\n",
              "<table border=\"1\" class=\"dataframe\">\n",
              "  <thead>\n",
              "    <tr style=\"text-align: right;\">\n",
              "      <th></th>\n",
              "      <th>RedMeat</th>\n",
              "      <th>WhiteMeat</th>\n",
              "      <th>Eggs</th>\n",
              "      <th>Milk</th>\n",
              "      <th>Fish</th>\n",
              "      <th>Cereals</th>\n",
              "      <th>Starch</th>\n",
              "      <th>Nuts</th>\n",
              "      <th>Fr&amp;Veg</th>\n",
              "    </tr>\n",
              "    <tr>\n",
              "      <th>Country</th>\n",
              "      <th></th>\n",
              "      <th></th>\n",
              "      <th></th>\n",
              "      <th></th>\n",
              "      <th></th>\n",
              "      <th></th>\n",
              "      <th></th>\n",
              "      <th></th>\n",
              "      <th></th>\n",
              "    </tr>\n",
              "  </thead>\n",
              "  <tbody>\n",
              "    <tr>\n",
              "      <th>Albania</th>\n",
              "      <td>0.082941</td>\n",
              "      <td>-1.794750</td>\n",
              "      <td>-2.224584</td>\n",
              "      <td>-1.179570</td>\n",
              "      <td>-1.225033</td>\n",
              "      <td>0.934804</td>\n",
              "      <td>-2.295965</td>\n",
              "      <td>1.247968</td>\n",
              "      <td>-1.378251</td>\n",
              "    </tr>\n",
              "    <tr>\n",
              "      <th>Austria</th>\n",
              "      <td>-0.282974</td>\n",
              "      <td>1.686446</td>\n",
              "      <td>1.245621</td>\n",
              "      <td>0.400468</td>\n",
              "      <td>-0.655111</td>\n",
              "      <td>-0.395051</td>\n",
              "      <td>-0.422218</td>\n",
              "      <td>-0.910790</td>\n",
              "      <td>0.092789</td>\n",
              "    </tr>\n",
              "    <tr>\n",
              "      <th>Belgium</th>\n",
              "      <td>1.119699</td>\n",
              "      <td>0.387905</td>\n",
              "      <td>1.062979</td>\n",
              "      <td>0.055732</td>\n",
              "      <td>0.064791</td>\n",
              "      <td>-0.525246</td>\n",
              "      <td>0.889405</td>\n",
              "      <td>-0.499598</td>\n",
              "      <td>-0.076947</td>\n",
              "    </tr>\n",
              "    <tr>\n",
              "      <th>Bulgaria</th>\n",
              "      <td>-0.618396</td>\n",
              "      <td>-0.523837</td>\n",
              "      <td>-1.220051</td>\n",
              "      <td>-1.265754</td>\n",
              "      <td>-0.925074</td>\n",
              "      <td>2.273959</td>\n",
              "      <td>-1.983674</td>\n",
              "      <td>0.322786</td>\n",
              "      <td>0.036210</td>\n",
              "    </tr>\n",
              "    <tr>\n",
              "      <th>Czechoslovakia</th>\n",
              "      <td>-0.039031</td>\n",
              "      <td>0.968104</td>\n",
              "      <td>-0.124197</td>\n",
              "      <td>-0.662467</td>\n",
              "      <td>-0.685107</td>\n",
              "      <td>0.190830</td>\n",
              "      <td>0.452198</td>\n",
              "      <td>-1.013588</td>\n",
              "      <td>-0.076947</td>\n",
              "    </tr>\n",
              "  </tbody>\n",
              "</table>\n",
              "</div>\n",
              "      <button class=\"colab-df-convert\" onclick=\"convertToInteractive('df-5d1019f4-21d9-40b1-b61d-76b897606d59')\"\n",
              "              title=\"Convert this dataframe to an interactive table.\"\n",
              "              style=\"display:none;\">\n",
              "        \n",
              "  <svg xmlns=\"http://www.w3.org/2000/svg\" height=\"24px\"viewBox=\"0 0 24 24\"\n",
              "       width=\"24px\">\n",
              "    <path d=\"M0 0h24v24H0V0z\" fill=\"none\"/>\n",
              "    <path d=\"M18.56 5.44l.94 2.06.94-2.06 2.06-.94-2.06-.94-.94-2.06-.94 2.06-2.06.94zm-11 1L8.5 8.5l.94-2.06 2.06-.94-2.06-.94L8.5 2.5l-.94 2.06-2.06.94zm10 10l.94 2.06.94-2.06 2.06-.94-2.06-.94-.94-2.06-.94 2.06-2.06.94z\"/><path d=\"M17.41 7.96l-1.37-1.37c-.4-.4-.92-.59-1.43-.59-.52 0-1.04.2-1.43.59L10.3 9.45l-7.72 7.72c-.78.78-.78 2.05 0 2.83L4 21.41c.39.39.9.59 1.41.59.51 0 1.02-.2 1.41-.59l7.78-7.78 2.81-2.81c.8-.78.8-2.07 0-2.86zM5.41 20L4 18.59l7.72-7.72 1.47 1.35L5.41 20z\"/>\n",
              "  </svg>\n",
              "      </button>\n",
              "      \n",
              "  <style>\n",
              "    .colab-df-container {\n",
              "      display:flex;\n",
              "      flex-wrap:wrap;\n",
              "      gap: 12px;\n",
              "    }\n",
              "\n",
              "    .colab-df-convert {\n",
              "      background-color: #E8F0FE;\n",
              "      border: none;\n",
              "      border-radius: 50%;\n",
              "      cursor: pointer;\n",
              "      display: none;\n",
              "      fill: #1967D2;\n",
              "      height: 32px;\n",
              "      padding: 0 0 0 0;\n",
              "      width: 32px;\n",
              "    }\n",
              "\n",
              "    .colab-df-convert:hover {\n",
              "      background-color: #E2EBFA;\n",
              "      box-shadow: 0px 1px 2px rgba(60, 64, 67, 0.3), 0px 1px 3px 1px rgba(60, 64, 67, 0.15);\n",
              "      fill: #174EA6;\n",
              "    }\n",
              "\n",
              "    [theme=dark] .colab-df-convert {\n",
              "      background-color: #3B4455;\n",
              "      fill: #D2E3FC;\n",
              "    }\n",
              "\n",
              "    [theme=dark] .colab-df-convert:hover {\n",
              "      background-color: #434B5C;\n",
              "      box-shadow: 0px 1px 3px 1px rgba(0, 0, 0, 0.15);\n",
              "      filter: drop-shadow(0px 1px 2px rgba(0, 0, 0, 0.3));\n",
              "      fill: #FFFFFF;\n",
              "    }\n",
              "  </style>\n",
              "\n",
              "      <script>\n",
              "        const buttonEl =\n",
              "          document.querySelector('#df-5d1019f4-21d9-40b1-b61d-76b897606d59 button.colab-df-convert');\n",
              "        buttonEl.style.display =\n",
              "          google.colab.kernel.accessAllowed ? 'block' : 'none';\n",
              "\n",
              "        async function convertToInteractive(key) {\n",
              "          const element = document.querySelector('#df-5d1019f4-21d9-40b1-b61d-76b897606d59');\n",
              "          const dataTable =\n",
              "            await google.colab.kernel.invokeFunction('convertToInteractive',\n",
              "                                                     [key], {});\n",
              "          if (!dataTable) return;\n",
              "\n",
              "          const docLinkHtml = 'Like what you see? Visit the ' +\n",
              "            '<a target=\"_blank\" href=https://colab.research.google.com/notebooks/data_table.ipynb>data table notebook</a>'\n",
              "            + ' to learn more about interactive tables.';\n",
              "          element.innerHTML = '';\n",
              "          dataTable['output_type'] = 'display_data';\n",
              "          await google.colab.output.renderOutput(dataTable, element);\n",
              "          const docLink = document.createElement('div');\n",
              "          docLink.innerHTML = docLinkHtml;\n",
              "          element.appendChild(docLink);\n",
              "        }\n",
              "      </script>\n",
              "    </div>\n",
              "  </div>\n",
              "  "
            ]
          },
          "metadata": {},
          "execution_count": 49
        }
      ],
      "source": [
        "X.head()"
      ]
    },
    {
      "cell_type": "code",
      "execution_count": null,
      "metadata": {
        "id": "imxTnK_ypDru",
        "outputId": "9cf72447-d888-4d91-89dd-406438fae6f6",
        "colab": {
          "base_uri": "https://localhost:8080/"
        }
      },
      "outputs": [
        {
          "output_type": "stream",
          "name": "stdout",
          "text": [
            "[[-1 10]\n",
            " [ 0  9]\n",
            " [ 1  3]\n",
            " [ 2  3]]\n"
          ]
        }
      ],
      "source": [
        "dbscan_2 = DBSCAN(eps=2.1, metric='euclidean', min_samples=2)\n",
        "\n",
        "dbscan_2.fit(X)\n",
        "\n",
        "unique, counts = np.unique(dbscan_2.labels_, return_counts=True)\n",
        "print(np.asarray((unique, counts)).T)"
      ]
    },
    {
      "cell_type": "markdown",
      "metadata": {
        "id": "51XpE9RSpDru"
      },
      "source": [
        "До сих пор мы подгоняли решение под кластеризацию, <br>\n",
        "полученную ранее другой процедурой. <br>\n",
        "Это нелогично, мы же надеемся получить новый взгляд на данные. <br>\n",
        "Попробуем оценивать кластеры, основываясь на составе полученных кластеров."
      ]
    },
    {
      "cell_type": "code",
      "execution_count": null,
      "metadata": {
        "id": "6MV1_0VnpDrv",
        "outputId": "ebc0e234-a414-428a-833d-8c7e402757ee",
        "colab": {
          "base_uri": "https://localhost:8080/"
        }
      },
      "outputs": [
        {
          "output_type": "execute_result",
          "data": {
            "text/plain": [
              "Country\n",
              "Albania          -1\n",
              "USSR             -1\n",
              "Spain            -1\n",
              "Portugal         -1\n",
              "Poland           -1\n",
              "Hungary          -1\n",
              "Greece           -1\n",
              "France           -1\n",
              "Italy            -1\n",
              "Finland          -1\n",
              "E_Germany         0\n",
              "Ireland           0\n",
              "W_Germany         0\n",
              "Netherlands       0\n",
              "Czechoslovakia    0\n",
              "Belgium           0\n",
              "Switzerland       0\n",
              "UK                0\n",
              "Austria           0\n",
              "Bulgaria          1\n",
              "Romania           1\n",
              "Yugoslavia        1\n",
              "Denmark           2\n",
              "Norway            2\n",
              "Sweden            2\n",
              "Name: dbscan, dtype: int64"
            ]
          },
          "metadata": {},
          "execution_count": 51
        }
      ],
      "source": [
        "df['dbscan'] = dbscan_2.labels_\n",
        "\n",
        "\n",
        "df['dbscan'].sort_values()"
      ]
    },
    {
      "cell_type": "code",
      "execution_count": null,
      "metadata": {
        "id": "okcBlDCFpDrv"
      },
      "outputs": [],
      "source": []
    },
    {
      "cell_type": "code",
      "execution_count": null,
      "metadata": {
        "id": "SuuoZt2kpDrv",
        "outputId": "76f4969f-e89d-4cd6-ee35-3cd7e6a3410f",
        "colab": {
          "base_uri": "https://localhost:8080/"
        }
      },
      "outputs": [
        {
          "output_type": "stream",
          "name": "stdout",
          "text": [
            "[[-1  4]\n",
            " [ 0 15]\n",
            " [ 1  4]\n",
            " [ 2  2]]\n"
          ]
        }
      ],
      "source": [
        "dbscan_2 = DBSCAN(eps=2.6, metric='euclidean', min_samples=2)\n",
        "\n",
        "dbscan_2.fit(X)\n",
        "\n",
        "unique, counts = np.unique(dbscan_2.labels_, return_counts=True)\n",
        "print(np.asarray((unique, counts)).T)"
      ]
    },
    {
      "cell_type": "code",
      "execution_count": null,
      "metadata": {
        "id": "xkrgTQjOpDrw",
        "outputId": "34aa6ded-7ed8-46e1-f77c-329c8bebed14",
        "colab": {
          "base_uri": "https://localhost:8080/"
        }
      },
      "outputs": [
        {
          "output_type": "execute_result",
          "data": {
            "text/plain": [
              "Country\n",
              "Albania          -1\n",
              "Portugal         -1\n",
              "USSR             -1\n",
              "Spain            -1\n",
              "Czechoslovakia    0\n",
              "Denmark           0\n",
              "E_Germany         0\n",
              "Finland           0\n",
              "France            0\n",
              "Sweden            0\n",
              "Switzerland       0\n",
              "Ireland           0\n",
              "W_Germany         0\n",
              "Netherlands       0\n",
              "Norway            0\n",
              "Poland            0\n",
              "Austria           0\n",
              "Belgium           0\n",
              "UK                0\n",
              "Yugoslavia        1\n",
              "Hungary           1\n",
              "Bulgaria          1\n",
              "Romania           1\n",
              "Greece            2\n",
              "Italy             2\n",
              "Name: dbscan, dtype: int64"
            ]
          },
          "metadata": {},
          "execution_count": 53
        }
      ],
      "source": [
        "df['dbscan'] = dbscan_2.labels_\n",
        "\n",
        "df['dbscan'].sort_values()"
      ]
    },
    {
      "cell_type": "code",
      "execution_count": null,
      "metadata": {
        "id": "wRMn98jEpDrw",
        "outputId": "2ab9ec23-a297-4792-9001-1889258b2ec8",
        "colab": {
          "base_uri": "https://localhost:8080/"
        }
      },
      "outputs": [
        {
          "output_type": "stream",
          "name": "stdout",
          "text": [
            "[[-1  6]\n",
            " [ 0 15]\n",
            " [ 1  4]]\n"
          ]
        }
      ],
      "source": [
        "dbscan_2 = DBSCAN(eps=2.6, metric='euclidean', min_samples=3)\n",
        "\n",
        "dbscan_2.fit(X)\n",
        "\n",
        "unique, counts = np.unique(dbscan_2.labels_, return_counts=True)\n",
        "print(np.asarray((unique, counts)).T)"
      ]
    },
    {
      "cell_type": "markdown",
      "metadata": {
        "id": "ZhuGNQeZpDr6"
      },
      "source": [
        "###  Silhouette для автоматического определения значений параметров"
      ]
    },
    {
      "cell_type": "code",
      "execution_count": null,
      "metadata": {
        "id": "qjSIMo9hpDr8"
      },
      "outputs": [],
      "source": [
        "#  Активирую процедуры измерения качества кластеризации\n",
        "#  Будет нужна процедура силуэт\n",
        "\n",
        "from sklearn import metrics\n"
      ]
    },
    {
      "cell_type": "code",
      "execution_count": null,
      "metadata": {
        "id": "yb306HsIpDr8"
      },
      "outputs": [],
      "source": [
        "#  Создаю списки тех значений параметров, которые собираюся перебирать.\n",
        "#  Терминология: решетка (grid)\n",
        "#  Терминология: поиск на решетке (grid search)\n",
        "\n",
        "eps_1 = [0.95, 1, 1.25, 1.5, 1.75, 2, 2.25, 2.5, 2.75, 3, 3.25, 3.5, 3.75, 4]\n",
        "min_samples_1 = [2, 3, 4, 5, 6, 7, 8, 9, 10]\n",
        "\n"
      ]
    },
    {
      "cell_type": "code",
      "execution_count": null,
      "metadata": {
        "id": "OnBeBTAApDr8"
      },
      "outputs": [],
      "source": [
        "sil_avg = []\n",
        "\n",
        "#  Для сохранения наилучшено набора параметров\n",
        "max_value = [0, 0, 0, -1]\n",
        "\n"
      ]
    },
    {
      "cell_type": "code",
      "execution_count": null,
      "metadata": {
        "id": "UvYrYba8pDr9",
        "outputId": "6e72e7eb-55a2-4dd5-a408-c1fffc3fef76",
        "colab": {
          "base_uri": "https://localhost:8080/"
        }
      },
      "outputs": [
        {
          "output_type": "stream",
          "name": "stdout",
          "text": [
            "epsilon= 2.5 \n",
            "min_sample= 3 \n",
            "number of clusters= 2 \n",
            "average silhouette score= 0.3452\n"
          ]
        }
      ],
      "source": [
        "#  Перебираю все пары значений параметров\n",
        "#  Сохраняю лучшее решение\n",
        "\n",
        "for i in range(len(eps_1)):\n",
        "    for j in range(len(min_samples_1)):\n",
        "\n",
        "        db = DBSCAN(min_samples = min_samples_1[j], eps =eps_1[i]).fit(X)\n",
        "\n",
        "        labels = db.labels_\n",
        "\n",
        "        # Число кластеров, после отбрасывания выбросов.\n",
        "        n_clusters_ = len(set(labels)) - (1 if -1 in labels else 0)\n",
        "\n",
        "        # Число выбросов.\n",
        "        # n_noise_ = list(labels).count(-1)\n",
        "\n",
        "        if n_clusters_ > 1:\n",
        "            silhouette_avg = metrics.silhouette_score(df, labels)\n",
        "            if silhouette_avg > max_value[3]:\n",
        "                max_value=(eps_1[i], min_samples_1[j], n_clusters_, silhouette_avg)\n",
        "            sil_avg.append(silhouette_avg)\n",
        "\n",
        "print(\"epsilon=\", max_value[0],\n",
        "      \"\\nmin_sample=\", max_value[1],\n",
        "      \"\\nnumber of clusters=\", max_value[2],\n",
        "      \"\\naverage silhouette score= %.4f\" % max_value[3])"
      ]
    },
    {
      "cell_type": "code",
      "execution_count": null,
      "metadata": {
        "id": "pI3LeAwzpDr-",
        "outputId": "32a16a67-4850-45c2-d356-e9f93cb47cf8",
        "colab": {
          "base_uri": "https://localhost:8080/"
        }
      },
      "outputs": [
        {
          "output_type": "stream",
          "name": "stdout",
          "text": [
            "[[-1  7]\n",
            " [ 0 15]\n",
            " [ 1  3]]\n"
          ]
        }
      ],
      "source": [
        "dbscan_4 = DBSCAN(eps=max_value[0], metric='euclidean', min_samples=max_value[1], algorithm= 'brute')\n",
        "\n",
        "dbscan_4.fit(X)\n",
        "\n",
        "unique, counts = np.unique(dbscan_4.labels_, return_counts=True)\n",
        "print(np.asarray((unique, counts)).T)"
      ]
    },
    {
      "cell_type": "code",
      "execution_count": null,
      "metadata": {
        "id": "uSmgsrvGpDsA",
        "outputId": "825250bc-67f7-4682-87dd-f0bbd75d9eeb",
        "colab": {
          "base_uri": "https://localhost:8080/",
          "height": 523
        }
      },
      "outputs": [
        {
          "output_type": "display_data",
          "data": {
            "text/plain": [
              "<Figure size 640x480 with 1 Axes>"
            ],
            "image/png": "[encoded data removed]"
          },
          "metadata": {}
        }
      ],
      "source": [
        "link = linkage(X, 'ward', 'euclidean')\n",
        "dn = dendrogram(link,\n",
        "                # массив с названиями объектов для подписи по оси X\n",
        "                labels=X.index.tolist(),\n",
        "                # опция для более красивого отображения слишком ветввистой дендрограммы\n",
        "                truncate_mode='lastp',\n",
        "                # повернуть подписи вертикально\n",
        "                color_threshold=5,\n",
        "                leaf_rotation=90.)"
      ]
    },
    {
      "cell_type": "code",
      "execution_count": null,
      "metadata": {
        "collapsed": true,
        "id": "vMJeWY3IpDsA"
      },
      "outputs": [],
      "source": [
        "df['cluster'] = fcluster(link, 5, criterion='distance')"
      ]
    },
    {
      "cell_type": "code",
      "execution_count": null,
      "metadata": {
        "id": "gAJ6UVAmpDsB",
        "outputId": "c0ef8bc9-41b9-4544-b83e-3ca1ef429be1",
        "colab": {
          "base_uri": "https://localhost:8080/",
          "height": 269
        }
      },
      "outputs": [
        {
          "output_type": "execute_result",
          "data": {
            "text/plain": [
              "         RedMeat  WhiteMeat    Eggs     Milk    Fish  Cereals  Starch    Nuts  \\\n",
              "cluster                                                                         \n",
              "1         7.9200    10.0400  2.8400  13.8400   2.740   35.740    5.56  2.5400   \n",
              "2         9.8500     7.0500  3.1500  26.6750   8.225   22.675    4.55  1.1750   \n",
              "3        13.2125    10.6375  3.9875  21.1625   3.375   24.700    4.65  2.0625   \n",
              "4         7.1250     4.6750  1.2000   9.4500   0.750   51.125    1.95  5.0500   \n",
              "5         9.6000     4.0500  2.8500  15.6500   4.650   39.250    2.15  6.0500   \n",
              "6         6.6500     3.5500  2.1000   6.7500  10.600   28.100    5.80  5.3000   \n",
              "\n",
              "         Fr&Veg  dbscan  \n",
              "cluster                  \n",
              "1         4.260     0.0  \n",
              "2         2.125     0.0  \n",
              "3         4.175     0.0  \n",
              "4         2.975     0.5  \n",
              "5         6.600     2.0  \n",
              "6         7.550    -1.0  "
            ],
            "text/html": [
              "\n",
              "  <div id=\"df-dbbbb54c-63b6-433f-b846-c921d68e9a44\">\n",
              "    <div class=\"colab-df-container\">\n",
              "      <div>\n",
              "<style scoped>\n",
              "    .dataframe tbody tr th:only-of-type {\n",
              "        vertical-align: middle;\n",
              "    }\n",
              "\n",
              "    .dataframe tbody tr th {\n",
              "        vertical-align: top;\n",
              "    }\n",
              "\n",
              "    .dataframe thead th {\n",
              "        text-align: right;\n",
              "    }\n",
              "</style>\n",
              "<table border=\"1\" class=\"dataframe\">\n",
              "  <thead>\n",
              "    <tr style=\"text-align: right;\">\n",
              "      <th></th>\n",
              "      <th>RedMeat</th>\n",
              "      <th>WhiteMeat</th>\n",
              "      <th>Eggs</th>\n",
              "      <th>Milk</th>\n",
              "      <th>Fish</th>\n",
              "      <th>Cereals</th>\n",
              "      <th>Starch</th>\n",
              "      <th>Nuts</th>\n",
              "      <th>Fr&amp;Veg</th>\n",
              "      <th>dbscan</th>\n",
              "    </tr>\n",
              "    <tr>\n",
              "      <th>cluster</th>\n",
              "      <th></th>\n",
              "      <th></th>\n",
              "      <th></th>\n",
              "      <th></th>\n",
              "      <th></th>\n",
              "      <th></th>\n",
              "      <th></th>\n",
              "      <th></th>\n",
              "      <th></th>\n",
              "      <th></th>\n",
              "    </tr>\n",
              "  </thead>\n",
              "  <tbody>\n",
              "    <tr>\n",
              "      <th>1</th>\n",
              "      <td>7.9200</td>\n",
              "      <td>10.0400</td>\n",
              "      <td>2.8400</td>\n",
              "      <td>13.8400</td>\n",
              "      <td>2.740</td>\n",
              "      <td>35.740</td>\n",
              "      <td>5.56</td>\n",
              "      <td>2.5400</td>\n",
              "      <td>4.260</td>\n",
              "      <td>0.0</td>\n",
              "    </tr>\n",
              "    <tr>\n",
              "      <th>2</th>\n",
              "      <td>9.8500</td>\n",
              "      <td>7.0500</td>\n",
              "      <td>3.1500</td>\n",
              "      <td>26.6750</td>\n",
              "      <td>8.225</td>\n",
              "      <td>22.675</td>\n",
              "      <td>4.55</td>\n",
              "      <td>1.1750</td>\n",
              "      <td>2.125</td>\n",
              "      <td>0.0</td>\n",
              "    </tr>\n",
              "    <tr>\n",
              "      <th>3</th>\n",
              "      <td>13.2125</td>\n",
              "      <td>10.6375</td>\n",
              "      <td>3.9875</td>\n",
              "      <td>21.1625</td>\n",
              "      <td>3.375</td>\n",
              "      <td>24.700</td>\n",
              "      <td>4.65</td>\n",
              "      <td>2.0625</td>\n",
              "      <td>4.175</td>\n",
              "      <td>0.0</td>\n",
              "    </tr>\n",
              "    <tr>\n",
              "      <th>4</th>\n",
              "      <td>7.1250</td>\n",
              "      <td>4.6750</td>\n",
              "      <td>1.2000</td>\n",
              "      <td>9.4500</td>\n",
              "      <td>0.750</td>\n",
              "      <td>51.125</td>\n",
              "      <td>1.95</td>\n",
              "      <td>5.0500</td>\n",
              "      <td>2.975</td>\n",
              "      <td>0.5</td>\n",
              "    </tr>\n",
              "    <tr>\n",
              "      <th>5</th>\n",
              "      <td>9.6000</td>\n",
              "      <td>4.0500</td>\n",
              "      <td>2.8500</td>\n",
              "      <td>15.6500</td>\n",
              "      <td>4.650</td>\n",
              "      <td>39.250</td>\n",
              "      <td>2.15</td>\n",
              "      <td>6.0500</td>\n",
              "      <td>6.600</td>\n",
              "      <td>2.0</td>\n",
              "    </tr>\n",
              "    <tr>\n",
              "      <th>6</th>\n",
              "      <td>6.6500</td>\n",
              "      <td>3.5500</td>\n",
              "      <td>2.1000</td>\n",
              "      <td>6.7500</td>\n",
              "      <td>10.600</td>\n",
              "      <td>28.100</td>\n",
              "      <td>5.80</td>\n",
              "      <td>5.3000</td>\n",
              "      <td>7.550</td>\n",
              "      <td>-1.0</td>\n",
              "    </tr>\n",
              "  </tbody>\n",
              "</table>\n",
              "</div>\n",
              "      <button class=\"colab-df-convert\" onclick=\"convertToInteractive('df-dbbbb54c-63b6-433f-b846-c921d68e9a44')\"\n",
              "              title=\"Convert this dataframe to an interactive table.\"\n",
              "              style=\"display:none;\">\n",
              "        \n",
              "  <svg xmlns=\"http://www.w3.org/2000/svg\" height=\"24px\"viewBox=\"0 0 24 24\"\n",
              "       width=\"24px\">\n",
              "    <path d=\"M0 0h24v24H0V0z\" fill=\"none\"/>\n",
              "    <path d=\"M18.56 5.44l.94 2.06.94-2.06 2.06-.94-2.06-.94-.94-2.06-.94 2.06-2.06.94zm-11 1L8.5 8.5l.94-2.06 2.06-.94-2.06-.94L8.5 2.5l-.94 2.06-2.06.94zm10 10l.94 2.06.94-2.06 2.06-.94-2.06-.94-.94-2.06-.94 2.06-2.06.94z\"/><path d=\"M17.41 7.96l-1.37-1.37c-.4-.4-.92-.59-1.43-.59-.52 0-1.04.2-1.43.59L10.3 9.45l-7.72 7.72c-.78.78-.78 2.05 0 2.83L4 21.41c.39.39.9.59 1.41.59.51 0 1.02-.2 1.41-.59l7.78-7.78 2.81-2.81c.8-.78.8-2.07 0-2.86zM5.41 20L4 18.59l7.72-7.72 1.47 1.35L5.41 20z\"/>\n",
              "  </svg>\n",
              "      </button>\n",
              "      \n",
              "  <style>\n",
              "    .colab-df-container {\n",
              "      display:flex;\n",
              "      flex-wrap:wrap;\n",
              "      gap: 12px;\n",
              "    }\n",
              "\n",
              "    .colab-df-convert {\n",
              "      background-color: #E8F0FE;\n",
              "      border: none;\n",
              "      border-radius: 50%;\n",
              "      cursor: pointer;\n",
              "      display: none;\n",
              "      fill: #1967D2;\n",
              "      height: 32px;\n",
              "      padding: 0 0 0 0;\n",
              "      width: 32px;\n",
              "    }\n",
              "\n",
              "    .colab-df-convert:hover {\n",
              "      background-color: #E2EBFA;\n",
              "      box-shadow: 0px 1px 2px rgba(60, 64, 67, 0.3), 0px 1px 3px 1px rgba(60, 64, 67, 0.15);\n",
              "      fill: #174EA6;\n",
              "    }\n",
              "\n",
              "    [theme=dark] .colab-df-convert {\n",
              "      background-color: #3B4455;\n",
              "      fill: #D2E3FC;\n",
              "    }\n",
              "\n",
              "    [theme=dark] .colab-df-convert:hover {\n",
              "      background-color: #434B5C;\n",
              "      box-shadow: 0px 1px 3px 1px rgba(0, 0, 0, 0.15);\n",
              "      filter: drop-shadow(0px 1px 2px rgba(0, 0, 0, 0.3));\n",
              "      fill: #FFFFFF;\n",
              "    }\n",
              "  </style>\n",
              "\n",
              "      <script>\n",
              "        const buttonEl =\n",
              "          document.querySelector('#df-dbbbb54c-63b6-433f-b846-c921d68e9a44 button.colab-df-convert');\n",
              "        buttonEl.style.display =\n",
              "          google.colab.kernel.accessAllowed ? 'block' : 'none';\n",
              "\n",
              "        async function convertToInteractive(key) {\n",
              "          const element = document.querySelector('#df-dbbbb54c-63b6-433f-b846-c921d68e9a44');\n",
              "          const dataTable =\n",
              "            await google.colab.kernel.invokeFunction('convertToInteractive',\n",
              "                                                     [key], {});\n",
              "          if (!dataTable) return;\n",
              "\n",
              "          const docLinkHtml = 'Like what you see? Visit the ' +\n",
              "            '<a target=\"_blank\" href=https://colab.research.google.com/notebooks/data_table.ipynb>data table notebook</a>'\n",
              "            + ' to learn more about interactive tables.';\n",
              "          element.innerHTML = '';\n",
              "          dataTable['output_type'] = 'display_data';\n",
              "          await google.colab.output.renderOutput(dataTable, element);\n",
              "          const docLink = document.createElement('div');\n",
              "          docLink.innerHTML = docLinkHtml;\n",
              "          element.appendChild(docLink);\n",
              "        }\n",
              "      </script>\n",
              "    </div>\n",
              "  </div>\n",
              "  "
            ]
          },
          "metadata": {},
          "execution_count": 61
        }
      ],
      "source": [
        "df.groupby('cluster').mean()"
      ]
    },
    {
      "cell_type": "markdown",
      "metadata": {
        "id": "fWmzAFompDsB"
      },
      "source": [
        "###   Вспомогательные ячейки.\n",
        "###   Для обучения не нужны"
      ]
    },
    {
      "cell_type": "code",
      "execution_count": null,
      "metadata": {
        "id": "0-BZAOMBpDsE"
      },
      "outputs": [],
      "source": [
        "#  Вопрос Почему не работает подход как в R?\n",
        "#  Какие-то капризы Pandas\n",
        "\n",
        "# Создаю таблицу res_  с результатами разных кластеризаций\n",
        "\n",
        "res_ = pd.DataFrame()\n",
        "\n",
        "res_['dbscan_2'] = dbscan_2.labels_\n",
        "res_['dbscan_3'] = dbscan_4.labels_\n",
        "res_['cluster']  = fcluster(link, 3, criterion='maxclust')\n",
        "\n"
      ]
    },
    {
      "cell_type": "code",
      "execution_count": null,
      "metadata": {
        "id": "ZYucFFN4pDsF",
        "colab": {
          "base_uri": "https://localhost:8080/",
          "height": 81
        },
        "outputId": "1f657ce7-7f39-4eb2-d4fc-0e97967581e7"
      },
      "outputs": [
        {
          "output_type": "execute_result",
          "data": {
            "text/plain": [
              "Empty DataFrame\n",
              "Columns: [RedMeat, WhiteMeat, Eggs, Milk, Fish, Cereals, Starch, Nuts, Fr&Veg, dbscan, cluster]\n",
              "Index: []"
            ],
            "text/html": [
              "\n",
              "  <div id=\"df-2e9eb73b-86b6-4068-bea1-4b2b1866d0ee\">\n",
              "    <div class=\"colab-df-container\">\n",
              "      <div>\n",
              "<style scoped>\n",
              "    .dataframe tbody tr th:only-of-type {\n",
              "        vertical-align: middle;\n",
              "    }\n",
              "\n",
              "    .dataframe tbody tr th {\n",
              "        vertical-align: top;\n",
              "    }\n",
              "\n",
              "    .dataframe thead th {\n",
              "        text-align: right;\n",
              "    }\n",
              "</style>\n",
              "<table border=\"1\" class=\"dataframe\">\n",
              "  <thead>\n",
              "    <tr style=\"text-align: right;\">\n",
              "      <th></th>\n",
              "      <th>RedMeat</th>\n",
              "      <th>WhiteMeat</th>\n",
              "      <th>Eggs</th>\n",
              "      <th>Milk</th>\n",
              "      <th>Fish</th>\n",
              "      <th>Cereals</th>\n",
              "      <th>Starch</th>\n",
              "      <th>Nuts</th>\n",
              "      <th>Fr&amp;Veg</th>\n",
              "      <th>dbscan</th>\n",
              "      <th>cluster</th>\n",
              "    </tr>\n",
              "    <tr>\n",
              "      <th>dbscan_2</th>\n",
              "      <th></th>\n",
              "      <th></th>\n",
              "      <th></th>\n",
              "      <th></th>\n",
              "      <th></th>\n",
              "      <th></th>\n",
              "      <th></th>\n",
              "      <th></th>\n",
              "      <th></th>\n",
              "      <th></th>\n",
              "      <th></th>\n",
              "    </tr>\n",
              "  </thead>\n",
              "  <tbody>\n",
              "  </tbody>\n",
              "</table>\n",
              "</div>\n",
              "      <button class=\"colab-df-convert\" onclick=\"convertToInteractive('df-2e9eb73b-86b6-4068-bea1-4b2b1866d0ee')\"\n",
              "              title=\"Convert this dataframe to an interactive table.\"\n",
              "              style=\"display:none;\">\n",
              "        \n",
              "  <svg xmlns=\"http://www.w3.org/2000/svg\" height=\"24px\"viewBox=\"0 0 24 24\"\n",
              "       width=\"24px\">\n",
              "    <path d=\"M0 0h24v24H0V0z\" fill=\"none\"/>\n",
              "    <path d=\"M18.56 5.44l.94 2.06.94-2.06 2.06-.94-2.06-.94-.94-2.06-.94 2.06-2.06.94zm-11 1L8.5 8.5l.94-2.06 2.06-.94-2.06-.94L8.5 2.5l-.94 2.06-2.06.94zm10 10l.94 2.06.94-2.06 2.06-.94-2.06-.94-.94-2.06-.94 2.06-2.06.94z\"/><path d=\"M17.41 7.96l-1.37-1.37c-.4-.4-.92-.59-1.43-.59-.52 0-1.04.2-1.43.59L10.3 9.45l-7.72 7.72c-.78.78-.78 2.05 0 2.83L4 21.41c.39.39.9.59 1.41.59.51 0 1.02-.2 1.41-.59l7.78-7.78 2.81-2.81c.8-.78.8-2.07 0-2.86zM5.41 20L4 18.59l7.72-7.72 1.47 1.35L5.41 20z\"/>\n",
              "  </svg>\n",
              "      </button>\n",
              "      \n",
              "  <style>\n",
              "    .colab-df-container {\n",
              "      display:flex;\n",
              "      flex-wrap:wrap;\n",
              "      gap: 12px;\n",
              "    }\n",
              "\n",
              "    .colab-df-convert {\n",
              "      background-color: #E8F0FE;\n",
              "      border: none;\n",
              "      border-radius: 50%;\n",
              "      cursor: pointer;\n",
              "      display: none;\n",
              "      fill: #1967D2;\n",
              "      height: 32px;\n",
              "      padding: 0 0 0 0;\n",
              "      width: 32px;\n",
              "    }\n",
              "\n",
              "    .colab-df-convert:hover {\n",
              "      background-color: #E2EBFA;\n",
              "      box-shadow: 0px 1px 2px rgba(60, 64, 67, 0.3), 0px 1px 3px 1px rgba(60, 64, 67, 0.15);\n",
              "      fill: #174EA6;\n",
              "    }\n",
              "\n",
              "    [theme=dark] .colab-df-convert {\n",
              "      background-color: #3B4455;\n",
              "      fill: #D2E3FC;\n",
              "    }\n",
              "\n",
              "    [theme=dark] .colab-df-convert:hover {\n",
              "      background-color: #434B5C;\n",
              "      box-shadow: 0px 1px 3px 1px rgba(0, 0, 0, 0.15);\n",
              "      filter: drop-shadow(0px 1px 2px rgba(0, 0, 0, 0.3));\n",
              "      fill: #FFFFFF;\n",
              "    }\n",
              "  </style>\n",
              "\n",
              "      <script>\n",
              "        const buttonEl =\n",
              "          document.querySelector('#df-2e9eb73b-86b6-4068-bea1-4b2b1866d0ee button.colab-df-convert');\n",
              "        buttonEl.style.display =\n",
              "          google.colab.kernel.accessAllowed ? 'block' : 'none';\n",
              "\n",
              "        async function convertToInteractive(key) {\n",
              "          const element = document.querySelector('#df-2e9eb73b-86b6-4068-bea1-4b2b1866d0ee');\n",
              "          const dataTable =\n",
              "            await google.colab.kernel.invokeFunction('convertToInteractive',\n",
              "                                                     [key], {});\n",
              "          if (!dataTable) return;\n",
              "\n",
              "          const docLinkHtml = 'Like what you see? Visit the ' +\n",
              "            '<a target=\"_blank\" href=https://colab.research.google.com/notebooks/data_table.ipynb>data table notebook</a>'\n",
              "            + ' to learn more about interactive tables.';\n",
              "          element.innerHTML = '';\n",
              "          dataTable['output_type'] = 'display_data';\n",
              "          await google.colab.output.renderOutput(dataTable, element);\n",
              "          const docLink = document.createElement('div');\n",
              "          docLink.innerHTML = docLinkHtml;\n",
              "          element.appendChild(docLink);\n",
              "        }\n",
              "      </script>\n",
              "    </div>\n",
              "  </div>\n",
              "  "
            ]
          },
          "metadata": {},
          "execution_count": 64
        }
      ],
      "source": [
        "df.groupby(res_['dbscan_2']).mean()"
      ]
    },
    {
      "cell_type": "code",
      "execution_count": null,
      "metadata": {
        "id": "EP-jn9bYpDsG",
        "colab": {
          "base_uri": "https://localhost:8080/",
          "height": 81
        },
        "outputId": "06166d49-bb4a-4f37-d1b4-719bf4e6bea6"
      },
      "outputs": [
        {
          "output_type": "execute_result",
          "data": {
            "text/plain": [
              "Empty DataFrame\n",
              "Columns: [RedMeat, WhiteMeat, Eggs, Milk, Fish, Cereals, Starch, Nuts, Fr&Veg, dbscan, cluster]\n",
              "Index: []"
            ],
            "text/html": [
              "\n",
              "  <div id=\"df-ad9c5cfa-b490-4804-b9f4-653d33aabd1f\">\n",
              "    <div class=\"colab-df-container\">\n",
              "      <div>\n",
              "<style scoped>\n",
              "    .dataframe tbody tr th:only-of-type {\n",
              "        vertical-align: middle;\n",
              "    }\n",
              "\n",
              "    .dataframe tbody tr th {\n",
              "        vertical-align: top;\n",
              "    }\n",
              "\n",
              "    .dataframe thead th {\n",
              "        text-align: right;\n",
              "    }\n",
              "</style>\n",
              "<table border=\"1\" class=\"dataframe\">\n",
              "  <thead>\n",
              "    <tr style=\"text-align: right;\">\n",
              "      <th></th>\n",
              "      <th>RedMeat</th>\n",
              "      <th>WhiteMeat</th>\n",
              "      <th>Eggs</th>\n",
              "      <th>Milk</th>\n",
              "      <th>Fish</th>\n",
              "      <th>Cereals</th>\n",
              "      <th>Starch</th>\n",
              "      <th>Nuts</th>\n",
              "      <th>Fr&amp;Veg</th>\n",
              "      <th>dbscan</th>\n",
              "      <th>cluster</th>\n",
              "    </tr>\n",
              "    <tr>\n",
              "      <th>cluster</th>\n",
              "      <th></th>\n",
              "      <th></th>\n",
              "      <th></th>\n",
              "      <th></th>\n",
              "      <th></th>\n",
              "      <th></th>\n",
              "      <th></th>\n",
              "      <th></th>\n",
              "      <th></th>\n",
              "      <th></th>\n",
              "      <th></th>\n",
              "    </tr>\n",
              "  </thead>\n",
              "  <tbody>\n",
              "  </tbody>\n",
              "</table>\n",
              "</div>\n",
              "      <button class=\"colab-df-convert\" onclick=\"convertToInteractive('df-ad9c5cfa-b490-4804-b9f4-653d33aabd1f')\"\n",
              "              title=\"Convert this dataframe to an interactive table.\"\n",
              "              style=\"display:none;\">\n",
              "        \n",
              "  <svg xmlns=\"http://www.w3.org/2000/svg\" height=\"24px\"viewBox=\"0 0 24 24\"\n",
              "       width=\"24px\">\n",
              "    <path d=\"M0 0h24v24H0V0z\" fill=\"none\"/>\n",
              "    <path d=\"M18.56 5.44l.94 2.06.94-2.06 2.06-.94-2.06-.94-.94-2.06-.94 2.06-2.06.94zm-11 1L8.5 8.5l.94-2.06 2.06-.94-2.06-.94L8.5 2.5l-.94 2.06-2.06.94zm10 10l.94 2.06.94-2.06 2.06-.94-2.06-.94-.94-2.06-.94 2.06-2.06.94z\"/><path d=\"M17.41 7.96l-1.37-1.37c-.4-.4-.92-.59-1.43-.59-.52 0-1.04.2-1.43.59L10.3 9.45l-7.72 7.72c-.78.78-.78 2.05 0 2.83L4 21.41c.39.39.9.59 1.41.59.51 0 1.02-.2 1.41-.59l7.78-7.78 2.81-2.81c.8-.78.8-2.07 0-2.86zM5.41 20L4 18.59l7.72-7.72 1.47 1.35L5.41 20z\"/>\n",
              "  </svg>\n",
              "      </button>\n",
              "      \n",
              "  <style>\n",
              "    .colab-df-container {\n",
              "      display:flex;\n",
              "      flex-wrap:wrap;\n",
              "      gap: 12px;\n",
              "    }\n",
              "\n",
              "    .colab-df-convert {\n",
              "      background-color: #E8F0FE;\n",
              "      border: none;\n",
              "      border-radius: 50%;\n",
              "      cursor: pointer;\n",
              "      display: none;\n",
              "      fill: #1967D2;\n",
              "      height: 32px;\n",
              "      padding: 0 0 0 0;\n",
              "      width: 32px;\n",
              "    }\n",
              "\n",
              "    .colab-df-convert:hover {\n",
              "      background-color: #E2EBFA;\n",
              "      box-shadow: 0px 1px 2px rgba(60, 64, 67, 0.3), 0px 1px 3px 1px rgba(60, 64, 67, 0.15);\n",
              "      fill: #174EA6;\n",
              "    }\n",
              "\n",
              "    [theme=dark] .colab-df-convert {\n",
              "      background-color: #3B4455;\n",
              "      fill: #D2E3FC;\n",
              "    }\n",
              "\n",
              "    [theme=dark] .colab-df-convert:hover {\n",
              "      background-color: #434B5C;\n",
              "      box-shadow: 0px 1px 3px 1px rgba(0, 0, 0, 0.15);\n",
              "      filter: drop-shadow(0px 1px 2px rgba(0, 0, 0, 0.3));\n",
              "      fill: #FFFFFF;\n",
              "    }\n",
              "  </style>\n",
              "\n",
              "      <script>\n",
              "        const buttonEl =\n",
              "          document.querySelector('#df-ad9c5cfa-b490-4804-b9f4-653d33aabd1f button.colab-df-convert');\n",
              "        buttonEl.style.display =\n",
              "          google.colab.kernel.accessAllowed ? 'block' : 'none';\n",
              "\n",
              "        async function convertToInteractive(key) {\n",
              "          const element = document.querySelector('#df-ad9c5cfa-b490-4804-b9f4-653d33aabd1f');\n",
              "          const dataTable =\n",
              "            await google.colab.kernel.invokeFunction('convertToInteractive',\n",
              "                                                     [key], {});\n",
              "          if (!dataTable) return;\n",
              "\n",
              "          const docLinkHtml = 'Like what you see? Visit the ' +\n",
              "            '<a target=\"_blank\" href=https://colab.research.google.com/notebooks/data_table.ipynb>data table notebook</a>'\n",
              "            + ' to learn more about interactive tables.';\n",
              "          element.innerHTML = '';\n",
              "          dataTable['output_type'] = 'display_data';\n",
              "          await google.colab.output.renderOutput(dataTable, element);\n",
              "          const docLink = document.createElement('div');\n",
              "          docLink.innerHTML = docLinkHtml;\n",
              "          element.appendChild(docLink);\n",
              "        }\n",
              "      </script>\n",
              "    </div>\n",
              "  </div>\n",
              "  "
            ]
          },
          "metadata": {},
          "execution_count": 65
        }
      ],
      "source": [
        "df.groupby(res_['cluster']).mean()"
      ]
    },
    {
      "cell_type": "code",
      "execution_count": null,
      "metadata": {
        "id": "MkAHD0KbpDsG",
        "colab": {
          "base_uri": "https://localhost:8080/"
        },
        "outputId": "98963761-d925-43d1-cfc0-59b145566a02"
      },
      "outputs": [
        {
          "output_type": "stream",
          "name": "stdout",
          "text": [
            "cluster    1  2  3\n",
            "dbscan_2          \n",
            "-1         1  1  4\n",
            " 0        15  0  0\n",
            " 1         1  3  0\n"
          ]
        }
      ],
      "source": [
        "#  Таблица сопряженности для двух кластеризаций\n",
        "tab = pd.crosstab(res_['dbscan_2'], res_['cluster'])\n",
        "\n",
        "print(tab)\n"
      ]
    },
    {
      "cell_type": "code",
      "execution_count": null,
      "metadata": {
        "id": "Lu3ZkbjqpDsH",
        "colab": {
          "base_uri": "https://localhost:8080/"
        },
        "outputId": "22d55ff1-c477-4342-f51e-75435b37ec1f"
      },
      "outputs": [
        {
          "output_type": "stream",
          "name": "stdout",
          "text": [
            "cluster    1  2  3\n",
            "dbscan_3          \n",
            "-1         2  1  4\n",
            " 0        15  0  0\n",
            " 1         0  3  0\n"
          ]
        }
      ],
      "source": [
        "#  Таблица сопряженности для двух других кластеризаций\n",
        "\n",
        "tab2 = pd.crosstab(res_['dbscan_3'], res_['cluster'])\n",
        "\n",
        "print(tab2)\n"
      ]
    }
  ],
  "metadata": {
    "kernelspec": {
      "display_name": "Python 3",
      "language": "python",
      "name": "python3"
    },
    "language_info": {
      "codemirror_mode": {
        "name": "ipython",
        "version": 3
      },
      "file_extension": ".py",
      "mimetype": "text/x-python",
      "name": "python",
      "nbconvert_exporter": "python",
      "pygments_lexer": "ipython3",
      "version": "3.7.10"
    },
    "colab": {
      "provenance": []
    }
  },
  "nbformat": 4,
  "nbformat_minor": 0
}