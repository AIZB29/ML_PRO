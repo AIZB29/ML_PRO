{
  "nbformat": 4,
  "nbformat_minor": 0,
  "metadata": {
    "colab": {
      "provenance": []
    },
    "kernelspec": {
      "name": "python3",
      "display_name": "Python 3"
    },
    "language_info": {
      "name": "python"
    }
  },
  "cells": [
    {
      "cell_type": "code",
      "metadata": {
        "colab": {
          "base_uri": "https://localhost:8080/",
          "height": 1000
        },
        "id": "2aEQws1__x5W",
        "outputId": "78b20017-ba3e-49d1-b8e5-7f0d923653d7",
        "cellView": "form"
      },
      "source": [
        "#@title Установка нужных версий библиотек\n",
        "!wget 'https://drive.google.com/uc?export=download&id=1oSFOP0j25OZAuhD8YXxyQXNTdr2lUdtn' -O requirements.txt\n",
        "!pip install -r requirements.txt"
      ],
      "execution_count": null,
      "outputs": [
        {
          "output_type": "stream",
          "name": "stdout",
          "text": [
            "--2022-04-22 09:31:56--  https://drive.google.com/uc?export=download&id=1oSFOP0j25OZAuhD8YXxyQXNTdr2lUdtn\n",
            "Resolving drive.google.com (drive.google.com)... 142.250.188.46, 2607:f8b0:4004:c06::8b, 2607:f8b0:4004:c06::71, ...\n",
            "Connecting to drive.google.com (drive.google.com)|142.250.188.46|:443... connected.\n",
            "HTTP request sent, awaiting response... 303 See Other\n",
            "Location: https://doc-0g-c0-docs.googleusercontent.com/docs/securesc/ha0ro937gcuc7l7deffksulhg5h7mbp1/2qdvung9g09eq7r3mjr3i9j8eo2gnr2j/1650619875000/14904333240138417226/*/1oSFOP0j25OZAuhD8YXxyQXNTdr2lUdtn?e=download [following]\n",
            "Warning: wildcards not supported in HTTP.\n",
            "--2022-04-22 09:31:57--  https://doc-0g-c0-docs.googleusercontent.com/docs/securesc/ha0ro937gcuc7l7deffksulhg5h7mbp1/2qdvung9g09eq7r3mjr3i9j8eo2gnr2j/1650619875000/14904333240138417226/*/1oSFOP0j25OZAuhD8YXxyQXNTdr2lUdtn?e=download\n",
            "Resolving doc-0g-c0-docs.googleusercontent.com (doc-0g-c0-docs.googleusercontent.com)... 142.250.31.132, 2607:f8b0:4004:c0b::84\n",
            "Connecting to doc-0g-c0-docs.googleusercontent.com (doc-0g-c0-docs.googleusercontent.com)|142.250.31.132|:443... connected.\n",
            "HTTP request sent, awaiting response... 200 OK\n",
            "Length: 74 [text/plain]\n",
            "Saving to: ‘requirements.txt’\n",
            "\n",
            "requirements.txt    100%[===================>]      74  --.-KB/s    in 0s      \n",
            "\n",
            "2022-04-22 09:31:57 (2.09 MB/s) - ‘requirements.txt’ saved [74/74]\n",
            "\n",
            "Collecting scikit-learn==0.22.2.post1\n",
            "  Downloading scikit_learn-0.22.2.post1-cp37-cp37m-manylinux1_x86_64.whl (7.1 MB)\n",
            "\u001b[K     |████████████████████████████████| 7.1 MB 26.0 MB/s \n",
            "\u001b[?25hCollecting pandas==1.1.5\n",
            "  Downloading pandas-1.1.5-cp37-cp37m-manylinux1_x86_64.whl (9.5 MB)\n",
            "\u001b[K     |████████████████████████████████| 9.5 MB 35.2 MB/s \n",
            "\u001b[?25hRequirement already satisfied: matplotlib==3.2.2 in /usr/local/lib/python3.7/dist-packages (from -r requirements.txt (line 3)) (3.2.2)\n",
            "Collecting numpy==1.19.5\n",
            "  Downloading numpy-1.19.5-cp37-cp37m-manylinux2010_x86_64.whl (14.8 MB)\n",
            "\u001b[K     |████████████████████████████████| 14.8 MB 54.7 MB/s \n",
            "\u001b[?25hRequirement already satisfied: scipy>=0.17.0 in /usr/local/lib/python3.7/dist-packages (from scikit-learn==0.22.2.post1->-r requirements.txt (line 1)) (1.4.1)\n",
            "Requirement already satisfied: joblib>=0.11 in /usr/local/lib/python3.7/dist-packages (from scikit-learn==0.22.2.post1->-r requirements.txt (line 1)) (1.1.0)\n",
            "Requirement already satisfied: pytz>=2017.2 in /usr/local/lib/python3.7/dist-packages (from pandas==1.1.5->-r requirements.txt (line 2)) (2022.1)\n",
            "Requirement already satisfied: python-dateutil>=2.7.3 in /usr/local/lib/python3.7/dist-packages (from pandas==1.1.5->-r requirements.txt (line 2)) (2.8.2)\n",
            "Requirement already satisfied: pyparsing!=2.0.4,!=2.1.2,!=2.1.6,>=2.0.1 in /usr/local/lib/python3.7/dist-packages (from matplotlib==3.2.2->-r requirements.txt (line 3)) (3.0.8)\n",
            "Requirement already satisfied: kiwisolver>=1.0.1 in /usr/local/lib/python3.7/dist-packages (from matplotlib==3.2.2->-r requirements.txt (line 3)) (1.4.2)\n",
            "Requirement already satisfied: cycler>=0.10 in /usr/local/lib/python3.7/dist-packages (from matplotlib==3.2.2->-r requirements.txt (line 3)) (0.11.0)\n",
            "Requirement already satisfied: typing-extensions in /usr/local/lib/python3.7/dist-packages (from kiwisolver>=1.0.1->matplotlib==3.2.2->-r requirements.txt (line 3)) (4.1.1)\n",
            "Requirement already satisfied: six>=1.5 in /usr/local/lib/python3.7/dist-packages (from python-dateutil>=2.7.3->pandas==1.1.5->-r requirements.txt (line 2)) (1.15.0)\n",
            "Installing collected packages: numpy, scikit-learn, pandas\n",
            "  Attempting uninstall: numpy\n",
            "    Found existing installation: numpy 1.21.6\n",
            "    Uninstalling numpy-1.21.6:\n",
            "      Successfully uninstalled numpy-1.21.6\n",
            "  Attempting uninstall: scikit-learn\n",
            "    Found existing installation: scikit-learn 1.0.2\n",
            "    Uninstalling scikit-learn-1.0.2:\n",
            "      Successfully uninstalled scikit-learn-1.0.2\n",
            "  Attempting uninstall: pandas\n",
            "    Found existing installation: pandas 1.3.5\n",
            "    Uninstalling pandas-1.3.5:\n",
            "      Successfully uninstalled pandas-1.3.5\n",
            "\u001b[31mERROR: pip's dependency resolver does not currently take into account all the packages that are installed. This behaviour is the source of the following dependency conflicts.\n",
            "tensorflow 2.8.0 requires tf-estimator-nightly==2.8.0.dev2021122109, which is not installed.\n",
            "yellowbrick 1.4 requires scikit-learn>=1.0.0, but you have scikit-learn 0.22.2.post1 which is incompatible.\n",
            "tensorflow 2.8.0 requires numpy>=1.20, but you have numpy 1.19.5 which is incompatible.\n",
            "imbalanced-learn 0.8.1 requires scikit-learn>=0.24, but you have scikit-learn 0.22.2.post1 which is incompatible.\n",
            "datascience 0.10.6 requires folium==0.2.1, but you have folium 0.8.3 which is incompatible.\n",
            "albumentations 0.1.12 requires imgaug<0.2.7,>=0.2.5, but you have imgaug 0.2.9 which is incompatible.\u001b[0m\n",
            "Successfully installed numpy-1.19.5 pandas-1.1.5 scikit-learn-0.22.2.post1\n"
          ]
        },
        {
          "output_type": "display_data",
          "data": {
            "application/vnd.colab-display-data+json": {
              "pip_warning": {
                "packages": [
                  "numpy"
                ]
              }
            }
          },
          "metadata": {}
        }
      ]
    },
    {
      "cell_type": "markdown",
      "source": [
        "# Суть модели *K* ближайших соседей"
      ],
      "metadata": {
        "id": "Faqf8pG8itot"
      }
    },
    {
      "cell_type": "markdown",
      "source": [
        "## KNN для классификации"
      ],
      "metadata": {
        "id": "rFxDo7kHg45p"
      }
    },
    {
      "cell_type": "markdown",
      "metadata": {
        "id": "-gROL4l_uf94"
      },
      "source": [
        "Начнем обсуждение с алгоритма kNN для задачи классификации. Расшифровывается его название как _\"k ближайших соседей (k nearest neighbours)\"_."
      ]
    },
    {
      "cell_type": "markdown",
      "source": [
        "На изображении показано два класс (синие квадраты и красные треугольники), а в центре находится неопределившийся объект - зеленый круг, вот для него то и будем искать ближайших соседей.\n",
        "\n",
        " <img src='https://upload.wikimedia.org/wikipedia/commons/thumb/e/e7/KnnClassification.svg/220px-KnnClassification.svg.png'>\n",
        "\n",
        " При инициализации алгоритмы KNN нужно указывать, на какое количество соседей вы хотите опираться, на изображении опираемся на трех ближайших соседей и видим, что два соседа имеют красный класс, а один сосед - синий класс, значит по большинству побеждает красный класс. И новый объект, зеленый круг, будет классифицирован, как красный треугольник."
      ],
      "metadata": {
        "id": "6eN1mepjVJ5D"
      }
    },
    {
      "cell_type": "markdown",
      "source": [
        "Модель очень ленивая, ведь вся суть её обучения сводится к запоминанию объектов из обучающей выборки."
      ],
      "metadata": {
        "id": "5H4tVVknVc4k"
      }
    },
    {
      "cell_type": "markdown",
      "source": [
        "Давайте обучим модель KNN из `sklearn` на сгенерированных данных.\n",
        "\n",
        "Сгенерируем два класса с помощью функции `make_classification`."
      ],
      "metadata": {
        "id": "vArDNjL1WeRv"
      }
    },
    {
      "cell_type": "code",
      "source": [
        "from sklearn.datasets import make_classification\n",
        "\n",
        "X, y = make_classification(n_samples=110, n_features=2, n_informative=2,\n",
        "                           n_redundant=0, n_classes=2, random_state=6)\n",
        "\n",
        "display(X, y)"
      ],
      "metadata": {
        "colab": {
          "base_uri": "https://localhost:8080/",
          "height": 1000
        },
        "id": "-BI3C8CZWtY1",
        "outputId": "1cc36717-4f8f-47cf-f787-5e2d48b2c779"
      },
      "execution_count": null,
      "outputs": [
        {
          "output_type": "display_data",
          "data": {
            "text/plain": [
              "array([[-1.71435607,  1.05793305],\n",
              "       [ 1.22308043, -2.2635163 ],\n",
              "       [-0.74339553, -0.82836749],\n",
              "       [-3.10114999,  0.55737705],\n",
              "       [-1.25272785, -1.99962916],\n",
              "       [ 1.295549  , -0.90585939],\n",
              "       [-0.39121512,  1.30843756],\n",
              "       [-2.29436606, -0.32114685],\n",
              "       [-0.37326143, -1.5106069 ],\n",
              "       [ 0.84350362,  0.03804169],\n",
              "       [-1.23337772,  0.62869299],\n",
              "       [-0.51595847, -1.69033762],\n",
              "       [ 0.11293492, -1.46417755],\n",
              "       [ 0.39978471, -1.3120226 ],\n",
              "       [-2.49684085, -0.0139064 ],\n",
              "       [ 1.19899006,  1.27323302],\n",
              "       [-1.84733371,  1.17918884],\n",
              "       [-1.68009315,  0.94130391],\n",
              "       [ 2.6400623 , -0.13810078],\n",
              "       [-1.8453037 ,  0.96321745],\n",
              "       [-0.71170663,  0.71554382],\n",
              "       [-0.02934338, -1.59054511],\n",
              "       [ 1.23158511,  1.36757795],\n",
              "       [ 1.72196418, -0.7425116 ],\n",
              "       [ 1.5719743 , -3.17595646],\n",
              "       [ 0.14132289, -1.44743003],\n",
              "       [ 1.80872881, -0.63583078],\n",
              "       [ 1.79510491, -0.69260501],\n",
              "       [ 0.07462334,  1.01023259],\n",
              "       [ 0.95171302,  1.44854725],\n",
              "       [-1.19446451, -0.8474957 ],\n",
              "       [ 1.25632941,  0.35620977],\n",
              "       [-2.24908252, -0.28644243],\n",
              "       [ 0.82474865, -0.03271731],\n",
              "       [ 0.18634794,  0.05062521],\n",
              "       [ 1.03098019,  1.42444297],\n",
              "       [ 0.68659065, -0.02781403],\n",
              "       [-1.14524878,  1.4430906 ],\n",
              "       [ 0.22013091,  0.9582595 ],\n",
              "       [ 0.40798076, -2.16809281],\n",
              "       [ 0.4668523 ,  1.1886345 ],\n",
              "       [ 0.82664994,  1.4672776 ],\n",
              "       [-0.47732004,  0.97301565],\n",
              "       [-0.52964965, -1.61180206],\n",
              "       [ 1.18049148, -0.88573201],\n",
              "       [ 0.56858555,  1.63416065],\n",
              "       [-1.63075668,  0.88990026],\n",
              "       [-0.52147411, -1.29269155],\n",
              "       [ 1.17920531, -0.95482454],\n",
              "       [-1.08235506, -0.95981772],\n",
              "       [-0.01062043, -1.51978412],\n",
              "       [-1.11904418, -1.35724946],\n",
              "       [-0.43372781,  0.81710993],\n",
              "       [-1.90408022,  0.78778037],\n",
              "       [-0.12250595, -1.89663844],\n",
              "       [-1.19512354,  1.02316418],\n",
              "       [-0.11045328, -1.70842715],\n",
              "       [-1.5727935 ,  0.95296353],\n",
              "       [-0.13483089,  0.36769071],\n",
              "       [-1.58212305,  0.2779565 ],\n",
              "       [ 1.28048571, -0.66705982],\n",
              "       [-1.29807152,  1.00564621],\n",
              "       [-2.60556052,  0.20090259],\n",
              "       [ 0.22402532,  1.70119761],\n",
              "       [ 0.01109194,  0.81931453],\n",
              "       [ 1.12696083,  2.34009809],\n",
              "       [ 0.34701998,  0.64856096],\n",
              "       [ 4.58019646,  0.59593671],\n",
              "       [ 1.68669243, -0.82136343],\n",
              "       [ 0.52861697, -0.97362376],\n",
              "       [ 1.08127939, -0.76460936],\n",
              "       [-1.47184038,  1.03743568],\n",
              "       [-0.21275877, -1.83408772],\n",
              "       [-2.16271324,  0.22109986],\n",
              "       [ 1.10337767,  1.54338503],\n",
              "       [ 1.24406513, -0.13074864],\n",
              "       [-0.40739519, -1.42213182],\n",
              "       [-0.93039933, -1.09566136],\n",
              "       [ 0.23490551, -0.37733286],\n",
              "       [ 1.02465948, -0.19060412],\n",
              "       [ 1.61901905,  1.94712244],\n",
              "       [ 1.23318754, -0.76543014],\n",
              "       [ 0.61407512, -2.55871026],\n",
              "       [ 1.29357898, -0.96566098],\n",
              "       [-2.14728937,  0.55909197],\n",
              "       [-0.70433282, -0.63475682],\n",
              "       [-2.29338649,  0.20224234],\n",
              "       [-0.23878794,  1.09339004],\n",
              "       [ 1.2265298 ,  1.8491658 ],\n",
              "       [ 1.64658987, -0.55485143],\n",
              "       [ 1.99181785,  1.11576034],\n",
              "       [ 1.09924989, -0.90411481],\n",
              "       [ 0.80976032, -1.12345802],\n",
              "       [-0.0794199 ,  1.66274856],\n",
              "       [-2.00891792, -0.15619181],\n",
              "       [-0.4338418 , -1.93937779],\n",
              "       [-0.68161073,  1.14872781],\n",
              "       [ 1.2366826 , -0.97721481],\n",
              "       [ 0.02942419, -1.32562721],\n",
              "       [ 2.61750165,  2.21818536],\n",
              "       [ 1.35553342,  1.26584188],\n",
              "       [-1.03567978,  1.0224662 ],\n",
              "       [-1.73036196, -0.17567094],\n",
              "       [-0.71819552,  0.30636576],\n",
              "       [-1.74881986,  0.94640166],\n",
              "       [ 0.362523  , -1.99527252],\n",
              "       [-0.10894122, -1.62186578],\n",
              "       [-1.79350521, -1.06662938],\n",
              "       [ 0.43640371,  0.59084543],\n",
              "       [ 0.78339011, -1.07954513]])"
            ]
          },
          "metadata": {}
        },
        {
          "output_type": "display_data",
          "data": {
            "text/plain": [
              "array([1, 0, 0, 0, 0, 0, 1, 0, 0, 1, 1, 0, 0, 0, 0, 1, 1, 1, 0, 1, 1, 0,\n",
              "       1, 0, 0, 0, 0, 0, 1, 1, 0, 1, 0, 1, 1, 1, 1, 1, 1, 0, 1, 1, 1, 0,\n",
              "       0, 1, 1, 0, 0, 0, 0, 0, 1, 1, 0, 1, 0, 1, 1, 1, 0, 1, 0, 1, 1, 1,\n",
              "       1, 0, 0, 0, 1, 1, 0, 0, 1, 1, 0, 0, 1, 1, 1, 1, 0, 0, 1, 0, 0, 1,\n",
              "       1, 0, 1, 0, 0, 1, 0, 0, 1, 0, 0, 1, 1, 1, 0, 1, 1, 0, 0, 0, 1, 0])"
            ]
          },
          "metadata": {}
        }
      ]
    },
    {
      "cell_type": "markdown",
      "source": [
        "Разобьем выборку на обучение и тест с помощью `train_test_split`."
      ],
      "metadata": {
        "id": "qBHrLQeIaOYy"
      }
    },
    {
      "cell_type": "code",
      "source": [
        "from sklearn.model_selection import train_test_split\n",
        "\n",
        "X_train, X_test, y_train, y_test = train_test_split(X, y, random_state=10, test_size=10)\n",
        "X_train.shape, X_test.shape"
      ],
      "metadata": {
        "colab": {
          "base_uri": "https://localhost:8080/"
        },
        "id": "THfMKGCXZBeX",
        "outputId": "ad302bd1-bdfb-4623-e52e-5b11638ebc53"
      },
      "execution_count": null,
      "outputs": [
        {
          "output_type": "execute_result",
          "data": {
            "text/plain": [
              "((100, 2), (10, 2))"
            ]
          },
          "metadata": {},
          "execution_count": 2
        }
      ]
    },
    {
      "cell_type": "markdown",
      "source": [
        "И отрисуем полученные точки, синие - это один класс, оранжевые - это второй класс, а вот зеленые звезды - это тестовые точки, для них будет искать ближайших соседей."
      ],
      "metadata": {
        "id": "lFklshUYaTKQ"
      }
    },
    {
      "cell_type": "code",
      "source": [
        "import seaborn as sns\n",
        "import matplotlib.pyplot as plt\n",
        "from matplotlib.colors import ListedColormap\n",
        "\n",
        "# Create color maps\n",
        "cmap_bold = [\"darkorange\", \"darkblue\"]\n",
        "\n",
        "plt.figure(figsize=(10, 8))\n",
        "sns.scatterplot(\n",
        "    x=X_train[:, 0],\n",
        "    y=X_train[:, 1],\n",
        "    hue=y_train,\n",
        "    palette=cmap_bold\n",
        ")\n",
        "\n",
        "plt.scatter(X_test[:, 0], X_test[:, 1], c='g', marker='*', s=100, label='test dots')\n",
        "plt.legend();"
      ],
      "metadata": {
        "colab": {
          "base_uri": "https://localhost:8080/",
          "height": 676
        },
        "id": "f4Gb9GgPXgnu",
        "outputId": "879a2d3f-2aad-4b16-a61a-e591fc70c692"
      },
      "execution_count": null,
      "outputs": [
        {
          "output_type": "display_data",
          "data": {
            "text/plain": [
              "<Figure size 1000x800 with 1 Axes>"
            ],
            "image/png": "[encoded data removed]"
          },
          "metadata": {}
        }
      ]
    },
    {
      "cell_type": "markdown",
      "source": [
        "### Обучение KNN"
      ],
      "metadata": {
        "id": "lTbPZinEgbWk"
      }
    },
    {
      "cell_type": "markdown",
      "source": [
        "Инициализируем модель `KNeighborsClassifier` для задачи классификации из `sklearn`."
      ],
      "metadata": {
        "id": "z3xaqbVhab_H"
      }
    },
    {
      "cell_type": "code",
      "source": [
        "from sklearn.neighbors import KNeighborsClassifier\n",
        "\n",
        "n_neighbors = 3\n",
        "model = KNeighborsClassifier(n_neighbors=n_neighbors)"
      ],
      "metadata": {
        "id": "1WGhw4MiWhKt"
      },
      "execution_count": null,
      "outputs": []
    },
    {
      "cell_type": "markdown",
      "source": [
        "И обучаем на обучающей выборке.\n",
        "\n",
        "При этом помним, что никакого обучения нет, модель просто сохраняет выборку."
      ],
      "metadata": {
        "id": "i-jqM5mTajGr"
      }
    },
    {
      "cell_type": "code",
      "source": [
        "model.fit(X_train, y_train)"
      ],
      "metadata": {
        "colab": {
          "base_uri": "https://localhost:8080/",
          "height": 75
        },
        "id": "eNIA8S9xaqKR",
        "outputId": "71c94280-b72f-4ca8-8187-f9dc7ef472b8"
      },
      "execution_count": null,
      "outputs": [
        {
          "output_type": "execute_result",
          "data": {
            "text/plain": [
              "KNeighborsClassifier(n_neighbors=3)"
            ],
            "text/html": [
              "<style>#sk-container-id-1 {color: black;background-color: white;}#sk-container-id-1 pre{padding: 0;}#sk-container-id-1 div.sk-toggleable {background-color: white;}#sk-container-id-1 label.sk-toggleable__label {cursor: pointer;display: block;width: 100%;margin-bottom: 0;padding: 0.3em;box-sizing: border-box;text-align: center;}#sk-container-id-1 label.sk-toggleable__label-arrow:before {content: \"▸\";float: left;margin-right: 0.25em;color: #696969;}#sk-container-id-1 label.sk-toggleable__label-arrow:hover:before {color: black;}#sk-container-id-1 div.sk-estimator:hover label.sk-toggleable__label-arrow:before {color: black;}#sk-container-id-1 div.sk-toggleable__content {max-height: 0;max-width: 0;overflow: hidden;text-align: left;background-color: #f0f8ff;}#sk-container-id-1 div.sk-toggleable__content pre {margin: 0.2em;color: black;border-radius: 0.25em;background-color: #f0f8ff;}#sk-container-id-1 input.sk-toggleable__control:checked~div.sk-toggleable__content {max-height: 200px;max-width: 100%;overflow: auto;}#sk-container-id-1 input.sk-toggleable__control:checked~label.sk-toggleable__label-arrow:before {content: \"▾\";}#sk-container-id-1 div.sk-estimator input.sk-toggleable__control:checked~label.sk-toggleable__label {background-color: #d4ebff;}#sk-container-id-1 div.sk-label input.sk-toggleable__control:checked~label.sk-toggleable__label {background-color: #d4ebff;}#sk-container-id-1 input.sk-hidden--visually {border: 0;clip: rect(1px 1px 1px 1px);clip: rect(1px, 1px, 1px, 1px);height: 1px;margin: -1px;overflow: hidden;padding: 0;position: absolute;width: 1px;}#sk-container-id-1 div.sk-estimator {font-family: monospace;background-color: #f0f8ff;border: 1px dotted black;border-radius: 0.25em;box-sizing: border-box;margin-bottom: 0.5em;}#sk-container-id-1 div.sk-estimator:hover {background-color: #d4ebff;}#sk-container-id-1 div.sk-parallel-item::after {content: \"\";width: 100%;border-bottom: 1px solid gray;flex-grow: 1;}#sk-container-id-1 div.sk-label:hover label.sk-toggleable__label {background-color: #d4ebff;}#sk-container-id-1 div.sk-serial::before {content: \"\";position: absolute;border-left: 1px solid gray;box-sizing: border-box;top: 0;bottom: 0;left: 50%;z-index: 0;}#sk-container-id-1 div.sk-serial {display: flex;flex-direction: column;align-items: center;background-color: white;padding-right: 0.2em;padding-left: 0.2em;position: relative;}#sk-container-id-1 div.sk-item {position: relative;z-index: 1;}#sk-container-id-1 div.sk-parallel {display: flex;align-items: stretch;justify-content: center;background-color: white;position: relative;}#sk-container-id-1 div.sk-item::before, #sk-container-id-1 div.sk-parallel-item::before {content: \"\";position: absolute;border-left: 1px solid gray;box-sizing: border-box;top: 0;bottom: 0;left: 50%;z-index: -1;}#sk-container-id-1 div.sk-parallel-item {display: flex;flex-direction: column;z-index: 1;position: relative;background-color: white;}#sk-container-id-1 div.sk-parallel-item:first-child::after {align-self: flex-end;width: 50%;}#sk-container-id-1 div.sk-parallel-item:last-child::after {align-self: flex-start;width: 50%;}#sk-container-id-1 div.sk-parallel-item:only-child::after {width: 0;}#sk-container-id-1 div.sk-dashed-wrapped {border: 1px dashed gray;margin: 0 0.4em 0.5em 0.4em;box-sizing: border-box;padding-bottom: 0.4em;background-color: white;}#sk-container-id-1 div.sk-label label {font-family: monospace;font-weight: bold;display: inline-block;line-height: 1.2em;}#sk-container-id-1 div.sk-label-container {text-align: center;}#sk-container-id-1 div.sk-container {/* jupyter's `normalize.less` sets `[hidden] { display: none; }` but bootstrap.min.css set `[hidden] { display: none !important; }` so we also need the `!important` here to be able to override the default hidden behavior on the sphinx rendered scikit-learn.org. See: https://github.com/scikit-learn/scikit-learn/issues/21755 */display: inline-block !important;position: relative;}#sk-container-id-1 div.sk-text-repr-fallback {display: none;}</style><div id=\"sk-container-id-1\" class=\"sk-top-container\"><div class=\"sk-text-repr-fallback\"><pre>KNeighborsClassifier(n_neighbors=3)</pre><b>In a Jupyter environment, please rerun this cell to show the HTML representation or trust the notebook. <br />On GitHub, the HTML representation is unable to render, please try loading this page with nbviewer.org.</b></div><div class=\"sk-container\" hidden><div class=\"sk-item\"><div class=\"sk-estimator sk-toggleable\"><input class=\"sk-toggleable__control sk-hidden--visually\" id=\"sk-estimator-id-1\" type=\"checkbox\" checked><label for=\"sk-estimator-id-1\" class=\"sk-toggleable__label sk-toggleable__label-arrow\">KNeighborsClassifier</label><div class=\"sk-toggleable__content\"><pre>KNeighborsClassifier(n_neighbors=3)</pre></div></div></div></div></div>"
            ]
          },
          "metadata": {},
          "execution_count": 5
        }
      ]
    },
    {
      "cell_type": "markdown",
      "source": [
        "![image.png](data:image/png;base64,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)"
      ],
      "metadata": {
        "id": "BapuVFT9KkFC"
      }
    },
    {
      "cell_type": "markdown",
      "source": [
        "### Предсказание KNN"
      ],
      "metadata": {
        "id": "KQDVDzPjggO3"
      }
    },
    {
      "cell_type": "markdown",
      "source": [
        "И теперь можем сделать предсказания для наших тестовых объектов."
      ],
      "metadata": {
        "id": "TtLsG-dnateC"
      }
    },
    {
      "cell_type": "code",
      "source": [
        "pred_test = model.predict(X_test)\n",
        "pred_test"
      ],
      "metadata": {
        "colab": {
          "base_uri": "https://localhost:8080/"
        },
        "id": "85hnvzsSaxgw",
        "outputId": "93c361c0-f8ea-45da-b0bd-9b1851a820a4"
      },
      "execution_count": null,
      "outputs": [
        {
          "output_type": "execute_result",
          "data": {
            "text/plain": [
              "array([1, 1, 0, 0, 1, 1, 1, 1, 0, 1])"
            ]
          },
          "metadata": {},
          "execution_count": 6
        }
      ]
    },
    {
      "cell_type": "markdown",
      "source": [
        "И посмотрим, насколько предсказанные классы похожи на правду."
      ],
      "metadata": {
        "id": "5wV0RIxSa0_r"
      }
    },
    {
      "cell_type": "code",
      "source": [
        "display(pred_test, y_test)"
      ],
      "metadata": {
        "colab": {
          "base_uri": "https://localhost:8080/",
          "height": 52
        },
        "id": "EjzPaoBwa4e8",
        "outputId": "9e0f85be-42c8-416f-ac38-cff0836b218e"
      },
      "execution_count": null,
      "outputs": [
        {
          "output_type": "display_data",
          "data": {
            "text/plain": [
              "array([1, 1, 0, 0, 1, 1, 1, 1, 0, 1])"
            ]
          },
          "metadata": {}
        },
        {
          "output_type": "display_data",
          "data": {
            "text/plain": [
              "array([1, 1, 0, 0, 1, 1, 1, 1, 0, 1])"
            ]
          },
          "metadata": {}
        }
      ]
    },
    {
      "cell_type": "markdown",
      "source": [
        "А они прям идеально совпадают, значит действительно посмотреть на ближайших соседей и принять решения, а какого класса будет объект - очень разумно."
      ],
      "metadata": {
        "id": "1fHGnnMga8BQ"
      }
    },
    {
      "cell_type": "markdown",
      "source": [
        "#### Детали получения предсказания в KNN"
      ],
      "metadata": {
        "id": "nka4yvRqgiaI"
      }
    },
    {
      "cell_type": "markdown",
      "source": [
        "А давайте увидем ближайших соседей для пары тестовых объектов.\n",
        "\n",
        "Для этого\n",
        "1. пройдемся по всем обучающим объектам\n",
        "2. посчитаем Эвклидово расстояние (ведь именно оно и считается по умолчанию в KNN в `sklearn`) через `numpy.linalg.norm`."
      ],
      "metadata": {
        "id": "t_Qfp4LlduwF"
      }
    },
    {
      "cell_type": "code",
      "source": [
        "import numpy as np\n",
        "import pandas as pd\n",
        "\n",
        "\n",
        "idx = 0\n",
        "test_dot = X_test[idx]\n",
        "\n",
        "distances = pd.DataFrame()\n",
        "for i, train_dot in enumerate(X_train):  # 1\n",
        "    distances = distances.append({\n",
        "        'train_idx': i,\n",
        "        'dst': np.linalg.norm(train_dot - test_dot, ord=2)  # 2\n",
        "    }, ignore_index=True)"
      ],
      "metadata": {
        "id": "gOdcvkp0biqs",
        "outputId": "9355704a-a5fa-4a05-feaa-e2661078ed12",
        "colab": {
          "base_uri": "https://localhost:8080/"
        }
      },
      "execution_count": null,
      "outputs": [
        {
          "output_type": "stream",
          "name": "stderr",
          "text": [
            "<ipython-input-8-d7a5f4ce36ec>:10: FutureWarning: The frame.append method is deprecated and will be removed from pandas in a future version. Use pandas.concat instead.\n",
            "  distances = distances.append({\n",
            "<ipython-input-8-d7a5f4ce36ec>:10: FutureWarning: The frame.append method is deprecated and will be removed from pandas in a future version. Use pandas.concat instead.\n",
            "  distances = distances.append({\n",
            "<ipython-input-8-d7a5f4ce36ec>:10: FutureWarning: The frame.append method is deprecated and will be removed from pandas in a future version. Use pandas.concat instead.\n",
            "  distances = distances.append({\n",
            "<ipython-input-8-d7a5f4ce36ec>:10: FutureWarning: The frame.append method is deprecated and will be removed from pandas in a future version. Use pandas.concat instead.\n",
            "  distances = distances.append({\n",
            "<ipython-input-8-d7a5f4ce36ec>:10: FutureWarning: The frame.append method is deprecated and will be removed from pandas in a future version. Use pandas.concat instead.\n",
            "  distances = distances.append({\n",
            "<ipython-input-8-d7a5f4ce36ec>:10: FutureWarning: The frame.append method is deprecated and will be removed from pandas in a future version. Use pandas.concat instead.\n",
            "  distances = distances.append({\n",
            "<ipython-input-8-d7a5f4ce36ec>:10: FutureWarning: The frame.append method is deprecated and will be removed from pandas in a future version. Use pandas.concat instead.\n",
            "  distances = distances.append({\n",
            "<ipython-input-8-d7a5f4ce36ec>:10: FutureWarning: The frame.append method is deprecated and will be removed from pandas in a future version. Use pandas.concat instead.\n",
            "  distances = distances.append({\n",
            "<ipython-input-8-d7a5f4ce36ec>:10: FutureWarning: The frame.append method is deprecated and will be removed from pandas in a future version. Use pandas.concat instead.\n",
            "  distances = distances.append({\n",
            "<ipython-input-8-d7a5f4ce36ec>:10: FutureWarning: The frame.append method is deprecated and will be removed from pandas in a future version. Use pandas.concat instead.\n",
            "  distances = distances.append({\n",
            "<ipython-input-8-d7a5f4ce36ec>:10: FutureWarning: The frame.append method is deprecated and will be removed from pandas in a future version. Use pandas.concat instead.\n",
            "  distances = distances.append({\n",
            "<ipython-input-8-d7a5f4ce36ec>:10: FutureWarning: The frame.append method is deprecated and will be removed from pandas in a future version. Use pandas.concat instead.\n",
            "  distances = distances.append({\n",
            "<ipython-input-8-d7a5f4ce36ec>:10: FutureWarning: The frame.append method is deprecated and will be removed from pandas in a future version. Use pandas.concat instead.\n",
            "  distances = distances.append({\n",
            "<ipython-input-8-d7a5f4ce36ec>:10: FutureWarning: The frame.append method is deprecated and will be removed from pandas in a future version. Use pandas.concat instead.\n",
            "  distances = distances.append({\n",
            "<ipython-input-8-d7a5f4ce36ec>:10: FutureWarning: The frame.append method is deprecated and will be removed from pandas in a future version. Use pandas.concat instead.\n",
            "  distances = distances.append({\n",
            "<ipython-input-8-d7a5f4ce36ec>:10: FutureWarning: The frame.append method is deprecated and will be removed from pandas in a future version. Use pandas.concat instead.\n",
            "  distances = distances.append({\n",
            "<ipython-input-8-d7a5f4ce36ec>:10: FutureWarning: The frame.append method is deprecated and will be removed from pandas in a future version. Use pandas.concat instead.\n",
            "  distances = distances.append({\n",
            "<ipython-input-8-d7a5f4ce36ec>:10: FutureWarning: The frame.append method is deprecated and will be removed from pandas in a future version. Use pandas.concat instead.\n",
            "  distances = distances.append({\n",
            "<ipython-input-8-d7a5f4ce36ec>:10: FutureWarning: The frame.append method is deprecated and will be removed from pandas in a future version. Use pandas.concat instead.\n",
            "  distances = distances.append({\n",
            "<ipython-input-8-d7a5f4ce36ec>:10: FutureWarning: The frame.append method is deprecated and will be removed from pandas in a future version. Use pandas.concat instead.\n",
            "  distances = distances.append({\n",
            "<ipython-input-8-d7a5f4ce36ec>:10: FutureWarning: The frame.append method is deprecated and will be removed from pandas in a future version. Use pandas.concat instead.\n",
            "  distances = distances.append({\n",
            "<ipython-input-8-d7a5f4ce36ec>:10: FutureWarning: The frame.append method is deprecated and will be removed from pandas in a future version. Use pandas.concat instead.\n",
            "  distances = distances.append({\n",
            "<ipython-input-8-d7a5f4ce36ec>:10: FutureWarning: The frame.append method is deprecated and will be removed from pandas in a future version. Use pandas.concat instead.\n",
            "  distances = distances.append({\n",
            "<ipython-input-8-d7a5f4ce36ec>:10: FutureWarning: The frame.append method is deprecated and will be removed from pandas in a future version. Use pandas.concat instead.\n",
            "  distances = distances.append({\n",
            "<ipython-input-8-d7a5f4ce36ec>:10: FutureWarning: The frame.append method is deprecated and will be removed from pandas in a future version. Use pandas.concat instead.\n",
            "  distances = distances.append({\n",
            "<ipython-input-8-d7a5f4ce36ec>:10: FutureWarning: The frame.append method is deprecated and will be removed from pandas in a future version. Use pandas.concat instead.\n",
            "  distances = distances.append({\n",
            "<ipython-input-8-d7a5f4ce36ec>:10: FutureWarning: The frame.append method is deprecated and will be removed from pandas in a future version. Use pandas.concat instead.\n",
            "  distances = distances.append({\n",
            "<ipython-input-8-d7a5f4ce36ec>:10: FutureWarning: The frame.append method is deprecated and will be removed from pandas in a future version. Use pandas.concat instead.\n",
            "  distances = distances.append({\n",
            "<ipython-input-8-d7a5f4ce36ec>:10: FutureWarning: The frame.append method is deprecated and will be removed from pandas in a future version. Use pandas.concat instead.\n",
            "  distances = distances.append({\n",
            "<ipython-input-8-d7a5f4ce36ec>:10: FutureWarning: The frame.append method is deprecated and will be removed from pandas in a future version. Use pandas.concat instead.\n",
            "  distances = distances.append({\n",
            "<ipython-input-8-d7a5f4ce36ec>:10: FutureWarning: The frame.append method is deprecated and will be removed from pandas in a future version. Use pandas.concat instead.\n",
            "  distances = distances.append({\n",
            "<ipython-input-8-d7a5f4ce36ec>:10: FutureWarning: The frame.append method is deprecated and will be removed from pandas in a future version. Use pandas.concat instead.\n",
            "  distances = distances.append({\n",
            "<ipython-input-8-d7a5f4ce36ec>:10: FutureWarning: The frame.append method is deprecated and will be removed from pandas in a future version. Use pandas.concat instead.\n",
            "  distances = distances.append({\n",
            "<ipython-input-8-d7a5f4ce36ec>:10: FutureWarning: The frame.append method is deprecated and will be removed from pandas in a future version. Use pandas.concat instead.\n",
            "  distances = distances.append({\n",
            "<ipython-input-8-d7a5f4ce36ec>:10: FutureWarning: The frame.append method is deprecated and will be removed from pandas in a future version. Use pandas.concat instead.\n",
            "  distances = distances.append({\n",
            "<ipython-input-8-d7a5f4ce36ec>:10: FutureWarning: The frame.append method is deprecated and will be removed from pandas in a future version. Use pandas.concat instead.\n",
            "  distances = distances.append({\n",
            "<ipython-input-8-d7a5f4ce36ec>:10: FutureWarning: The frame.append method is deprecated and will be removed from pandas in a future version. Use pandas.concat instead.\n",
            "  distances = distances.append({\n",
            "<ipython-input-8-d7a5f4ce36ec>:10: FutureWarning: The frame.append method is deprecated and will be removed from pandas in a future version. Use pandas.concat instead.\n",
            "  distances = distances.append({\n",
            "<ipython-input-8-d7a5f4ce36ec>:10: FutureWarning: The frame.append method is deprecated and will be removed from pandas in a future version. Use pandas.concat instead.\n",
            "  distances = distances.append({\n",
            "<ipython-input-8-d7a5f4ce36ec>:10: FutureWarning: The frame.append method is deprecated and will be removed from pandas in a future version. Use pandas.concat instead.\n",
            "  distances = distances.append({\n",
            "<ipython-input-8-d7a5f4ce36ec>:10: FutureWarning: The frame.append method is deprecated and will be removed from pandas in a future version. Use pandas.concat instead.\n",
            "  distances = distances.append({\n",
            "<ipython-input-8-d7a5f4ce36ec>:10: FutureWarning: The frame.append method is deprecated and will be removed from pandas in a future version. Use pandas.concat instead.\n",
            "  distances = distances.append({\n",
            "<ipython-input-8-d7a5f4ce36ec>:10: FutureWarning: The frame.append method is deprecated and will be removed from pandas in a future version. Use pandas.concat instead.\n",
            "  distances = distances.append({\n",
            "<ipython-input-8-d7a5f4ce36ec>:10: FutureWarning: The frame.append method is deprecated and will be removed from pandas in a future version. Use pandas.concat instead.\n",
            "  distances = distances.append({\n",
            "<ipython-input-8-d7a5f4ce36ec>:10: FutureWarning: The frame.append method is deprecated and will be removed from pandas in a future version. Use pandas.concat instead.\n",
            "  distances = distances.append({\n",
            "<ipython-input-8-d7a5f4ce36ec>:10: FutureWarning: The frame.append method is deprecated and will be removed from pandas in a future version. Use pandas.concat instead.\n",
            "  distances = distances.append({\n",
            "<ipython-input-8-d7a5f4ce36ec>:10: FutureWarning: The frame.append method is deprecated and will be removed from pandas in a future version. Use pandas.concat instead.\n",
            "  distances = distances.append({\n",
            "<ipython-input-8-d7a5f4ce36ec>:10: FutureWarning: The frame.append method is deprecated and will be removed from pandas in a future version. Use pandas.concat instead.\n",
            "  distances = distances.append({\n",
            "<ipython-input-8-d7a5f4ce36ec>:10: FutureWarning: The frame.append method is deprecated and will be removed from pandas in a future version. Use pandas.concat instead.\n",
            "  distances = distances.append({\n",
            "<ipython-input-8-d7a5f4ce36ec>:10: FutureWarning: The frame.append method is deprecated and will be removed from pandas in a future version. Use pandas.concat instead.\n",
            "  distances = distances.append({\n",
            "<ipython-input-8-d7a5f4ce36ec>:10: FutureWarning: The frame.append method is deprecated and will be removed from pandas in a future version. Use pandas.concat instead.\n",
            "  distances = distances.append({\n",
            "<ipython-input-8-d7a5f4ce36ec>:10: FutureWarning: The frame.append method is deprecated and will be removed from pandas in a future version. Use pandas.concat instead.\n",
            "  distances = distances.append({\n",
            "<ipython-input-8-d7a5f4ce36ec>:10: FutureWarning: The frame.append method is deprecated and will be removed from pandas in a future version. Use pandas.concat instead.\n",
            "  distances = distances.append({\n",
            "<ipython-input-8-d7a5f4ce36ec>:10: FutureWarning: The frame.append method is deprecated and will be removed from pandas in a future version. Use pandas.concat instead.\n",
            "  distances = distances.append({\n",
            "<ipython-input-8-d7a5f4ce36ec>:10: FutureWarning: The frame.append method is deprecated and will be removed from pandas in a future version. Use pandas.concat instead.\n",
            "  distances = distances.append({\n",
            "<ipython-input-8-d7a5f4ce36ec>:10: FutureWarning: The frame.append method is deprecated and will be removed from pandas in a future version. Use pandas.concat instead.\n",
            "  distances = distances.append({\n",
            "<ipython-input-8-d7a5f4ce36ec>:10: FutureWarning: The frame.append method is deprecated and will be removed from pandas in a future version. Use pandas.concat instead.\n",
            "  distances = distances.append({\n",
            "<ipython-input-8-d7a5f4ce36ec>:10: FutureWarning: The frame.append method is deprecated and will be removed from pandas in a future version. Use pandas.concat instead.\n",
            "  distances = distances.append({\n",
            "<ipython-input-8-d7a5f4ce36ec>:10: FutureWarning: The frame.append method is deprecated and will be removed from pandas in a future version. Use pandas.concat instead.\n",
            "  distances = distances.append({\n",
            "<ipython-input-8-d7a5f4ce36ec>:10: FutureWarning: The frame.append method is deprecated and will be removed from pandas in a future version. Use pandas.concat instead.\n",
            "  distances = distances.append({\n",
            "<ipython-input-8-d7a5f4ce36ec>:10: FutureWarning: The frame.append method is deprecated and will be removed from pandas in a future version. Use pandas.concat instead.\n",
            "  distances = distances.append({\n",
            "<ipython-input-8-d7a5f4ce36ec>:10: FutureWarning: The frame.append method is deprecated and will be removed from pandas in a future version. Use pandas.concat instead.\n",
            "  distances = distances.append({\n",
            "<ipython-input-8-d7a5f4ce36ec>:10: FutureWarning: The frame.append method is deprecated and will be removed from pandas in a future version. Use pandas.concat instead.\n",
            "  distances = distances.append({\n",
            "<ipython-input-8-d7a5f4ce36ec>:10: FutureWarning: The frame.append method is deprecated and will be removed from pandas in a future version. Use pandas.concat instead.\n",
            "  distances = distances.append({\n",
            "<ipython-input-8-d7a5f4ce36ec>:10: FutureWarning: The frame.append method is deprecated and will be removed from pandas in a future version. Use pandas.concat instead.\n",
            "  distances = distances.append({\n",
            "<ipython-input-8-d7a5f4ce36ec>:10: FutureWarning: The frame.append method is deprecated and will be removed from pandas in a future version. Use pandas.concat instead.\n",
            "  distances = distances.append({\n",
            "<ipython-input-8-d7a5f4ce36ec>:10: FutureWarning: The frame.append method is deprecated and will be removed from pandas in a future version. Use pandas.concat instead.\n",
            "  distances = distances.append({\n",
            "<ipython-input-8-d7a5f4ce36ec>:10: FutureWarning: The frame.append method is deprecated and will be removed from pandas in a future version. Use pandas.concat instead.\n",
            "  distances = distances.append({\n",
            "<ipython-input-8-d7a5f4ce36ec>:10: FutureWarning: The frame.append method is deprecated and will be removed from pandas in a future version. Use pandas.concat instead.\n",
            "  distances = distances.append({\n",
            "<ipython-input-8-d7a5f4ce36ec>:10: FutureWarning: The frame.append method is deprecated and will be removed from pandas in a future version. Use pandas.concat instead.\n",
            "  distances = distances.append({\n",
            "<ipython-input-8-d7a5f4ce36ec>:10: FutureWarning: The frame.append method is deprecated and will be removed from pandas in a future version. Use pandas.concat instead.\n",
            "  distances = distances.append({\n",
            "<ipython-input-8-d7a5f4ce36ec>:10: FutureWarning: The frame.append method is deprecated and will be removed from pandas in a future version. Use pandas.concat instead.\n",
            "  distances = distances.append({\n",
            "<ipython-input-8-d7a5f4ce36ec>:10: FutureWarning: The frame.append method is deprecated and will be removed from pandas in a future version. Use pandas.concat instead.\n",
            "  distances = distances.append({\n",
            "<ipython-input-8-d7a5f4ce36ec>:10: FutureWarning: The frame.append method is deprecated and will be removed from pandas in a future version. Use pandas.concat instead.\n",
            "  distances = distances.append({\n",
            "<ipython-input-8-d7a5f4ce36ec>:10: FutureWarning: The frame.append method is deprecated and will be removed from pandas in a future version. Use pandas.concat instead.\n",
            "  distances = distances.append({\n",
            "<ipython-input-8-d7a5f4ce36ec>:10: FutureWarning: The frame.append method is deprecated and will be removed from pandas in a future version. Use pandas.concat instead.\n",
            "  distances = distances.append({\n",
            "<ipython-input-8-d7a5f4ce36ec>:10: FutureWarning: The frame.append method is deprecated and will be removed from pandas in a future version. Use pandas.concat instead.\n",
            "  distances = distances.append({\n",
            "<ipython-input-8-d7a5f4ce36ec>:10: FutureWarning: The frame.append method is deprecated and will be removed from pandas in a future version. Use pandas.concat instead.\n",
            "  distances = distances.append({\n",
            "<ipython-input-8-d7a5f4ce36ec>:10: FutureWarning: The frame.append method is deprecated and will be removed from pandas in a future version. Use pandas.concat instead.\n",
            "  distances = distances.append({\n",
            "<ipython-input-8-d7a5f4ce36ec>:10: FutureWarning: The frame.append method is deprecated and will be removed from pandas in a future version. Use pandas.concat instead.\n",
            "  distances = distances.append({\n",
            "<ipython-input-8-d7a5f4ce36ec>:10: FutureWarning: The frame.append method is deprecated and will be removed from pandas in a future version. Use pandas.concat instead.\n",
            "  distances = distances.append({\n",
            "<ipython-input-8-d7a5f4ce36ec>:10: FutureWarning: The frame.append method is deprecated and will be removed from pandas in a future version. Use pandas.concat instead.\n",
            "  distances = distances.append({\n",
            "<ipython-input-8-d7a5f4ce36ec>:10: FutureWarning: The frame.append method is deprecated and will be removed from pandas in a future version. Use pandas.concat instead.\n",
            "  distances = distances.append({\n",
            "<ipython-input-8-d7a5f4ce36ec>:10: FutureWarning: The frame.append method is deprecated and will be removed from pandas in a future version. Use pandas.concat instead.\n",
            "  distances = distances.append({\n",
            "<ipython-input-8-d7a5f4ce36ec>:10: FutureWarning: The frame.append method is deprecated and will be removed from pandas in a future version. Use pandas.concat instead.\n",
            "  distances = distances.append({\n",
            "<ipython-input-8-d7a5f4ce36ec>:10: FutureWarning: The frame.append method is deprecated and will be removed from pandas in a future version. Use pandas.concat instead.\n",
            "  distances = distances.append({\n",
            "<ipython-input-8-d7a5f4ce36ec>:10: FutureWarning: The frame.append method is deprecated and will be removed from pandas in a future version. Use pandas.concat instead.\n",
            "  distances = distances.append({\n",
            "<ipython-input-8-d7a5f4ce36ec>:10: FutureWarning: The frame.append method is deprecated and will be removed from pandas in a future version. Use pandas.concat instead.\n",
            "  distances = distances.append({\n",
            "<ipython-input-8-d7a5f4ce36ec>:10: FutureWarning: The frame.append method is deprecated and will be removed from pandas in a future version. Use pandas.concat instead.\n",
            "  distances = distances.append({\n",
            "<ipython-input-8-d7a5f4ce36ec>:10: FutureWarning: The frame.append method is deprecated and will be removed from pandas in a future version. Use pandas.concat instead.\n",
            "  distances = distances.append({\n",
            "<ipython-input-8-d7a5f4ce36ec>:10: FutureWarning: The frame.append method is deprecated and will be removed from pandas in a future version. Use pandas.concat instead.\n",
            "  distances = distances.append({\n",
            "<ipython-input-8-d7a5f4ce36ec>:10: FutureWarning: The frame.append method is deprecated and will be removed from pandas in a future version. Use pandas.concat instead.\n",
            "  distances = distances.append({\n",
            "<ipython-input-8-d7a5f4ce36ec>:10: FutureWarning: The frame.append method is deprecated and will be removed from pandas in a future version. Use pandas.concat instead.\n",
            "  distances = distances.append({\n",
            "<ipython-input-8-d7a5f4ce36ec>:10: FutureWarning: The frame.append method is deprecated and will be removed from pandas in a future version. Use pandas.concat instead.\n",
            "  distances = distances.append({\n",
            "<ipython-input-8-d7a5f4ce36ec>:10: FutureWarning: The frame.append method is deprecated and will be removed from pandas in a future version. Use pandas.concat instead.\n",
            "  distances = distances.append({\n",
            "<ipython-input-8-d7a5f4ce36ec>:10: FutureWarning: The frame.append method is deprecated and will be removed from pandas in a future version. Use pandas.concat instead.\n",
            "  distances = distances.append({\n",
            "<ipython-input-8-d7a5f4ce36ec>:10: FutureWarning: The frame.append method is deprecated and will be removed from pandas in a future version. Use pandas.concat instead.\n",
            "  distances = distances.append({\n",
            "<ipython-input-8-d7a5f4ce36ec>:10: FutureWarning: The frame.append method is deprecated and will be removed from pandas in a future version. Use pandas.concat instead.\n",
            "  distances = distances.append({\n",
            "<ipython-input-8-d7a5f4ce36ec>:10: FutureWarning: The frame.append method is deprecated and will be removed from pandas in a future version. Use pandas.concat instead.\n",
            "  distances = distances.append({\n",
            "<ipython-input-8-d7a5f4ce36ec>:10: FutureWarning: The frame.append method is deprecated and will be removed from pandas in a future version. Use pandas.concat instead.\n",
            "  distances = distances.append({\n"
          ]
        }
      ]
    },
    {
      "cell_type": "code",
      "source": [
        "X_train[0]"
      ],
      "metadata": {
        "id": "PfdVp8SvLwXk",
        "outputId": "d9838326-e3e5-4267-e0e1-dfe76839a66c",
        "colab": {
          "base_uri": "https://localhost:8080/"
        }
      },
      "execution_count": null,
      "outputs": [
        {
          "output_type": "execute_result",
          "data": {
            "text/plain": [
              "array([ 1.17920531, -0.95482454])"
            ]
          },
          "metadata": {},
          "execution_count": 13
        }
      ]
    },
    {
      "cell_type": "code",
      "source": [
        "X_test[0]"
      ],
      "metadata": {
        "id": "E_TW7mbTLxio",
        "outputId": "c7ac0ada-d9f4-4e7d-abf2-b976b952fb0d",
        "colab": {
          "base_uri": "https://localhost:8080/"
        }
      },
      "execution_count": null,
      "outputs": [
        {
          "output_type": "execute_result",
          "data": {
            "text/plain": [
              "array([-1.03567978,  1.0224662 ])"
            ]
          },
          "metadata": {},
          "execution_count": 14
        }
      ]
    },
    {
      "cell_type": "code",
      "source": [
        "round(np.linalg.norm(X_train[0] - X_test[0], ord=2),5)"
      ],
      "metadata": {
        "id": "z1GxX4ztLdEe",
        "outputId": "040afdce-af88-4e69-fa79-83a93d672cab",
        "colab": {
          "base_uri": "https://localhost:8080/"
        }
      },
      "execution_count": null,
      "outputs": [
        {
          "output_type": "execute_result",
          "data": {
            "text/plain": [
              "2.96907"
            ]
          },
          "metadata": {},
          "execution_count": 15
        }
      ]
    },
    {
      "cell_type": "code",
      "source": [
        "distances"
      ],
      "metadata": {
        "id": "yjKzv8Z1LShg",
        "outputId": "b8caf844-290d-4bd0-9b66-07f4cd9f8488",
        "colab": {
          "base_uri": "https://localhost:8080/",
          "height": 424
        }
      },
      "execution_count": null,
      "outputs": [
        {
          "output_type": "execute_result",
          "data": {
            "text/plain": [
              "    train_idx       dst\n",
              "0         0.0  2.969073\n",
              "1         1.0  2.524045\n",
              "2         2.0  1.534056\n",
              "3         3.0  1.384961\n",
              "4         4.0  3.987440\n",
              "..        ...       ...\n",
              "95       95.0  1.110371\n",
              "96       96.0  1.066303\n",
              "97       97.0  2.248696\n",
              "98       98.0  2.403567\n",
              "99       99.0  2.121420\n",
              "\n",
              "[100 rows x 2 columns]"
            ],
            "text/html": [
              "\n",
              "  <div id=\"df-f5a9f72a-42b2-4341-97e7-2df8c0f9757c\">\n",
              "    <div class=\"colab-df-container\">\n",
              "      <div>\n",
              "<style scoped>\n",
              "    .dataframe tbody tr th:only-of-type {\n",
              "        vertical-align: middle;\n",
              "    }\n",
              "\n",
              "    .dataframe tbody tr th {\n",
              "        vertical-align: top;\n",
              "    }\n",
              "\n",
              "    .dataframe thead th {\n",
              "        text-align: right;\n",
              "    }\n",
              "</style>\n",
              "<table border=\"1\" class=\"dataframe\">\n",
              "  <thead>\n",
              "    <tr style=\"text-align: right;\">\n",
              "      <th></th>\n",
              "      <th>train_idx</th>\n",
              "      <th>dst</th>\n",
              "    </tr>\n",
              "  </thead>\n",
              "  <tbody>\n",
              "    <tr>\n",
              "      <th>0</th>\n",
              "      <td>0.0</td>\n",
              "      <td>2.969073</td>\n",
              "    </tr>\n",
              "    <tr>\n",
              "      <th>1</th>\n",
              "      <td>1.0</td>\n",
              "      <td>2.524045</td>\n",
              "    </tr>\n",
              "    <tr>\n",
              "      <th>2</th>\n",
              "      <td>2.0</td>\n",
              "      <td>1.534056</td>\n",
              "    </tr>\n",
              "    <tr>\n",
              "      <th>3</th>\n",
              "      <td>3.0</td>\n",
              "      <td>1.384961</td>\n",
              "    </tr>\n",
              "    <tr>\n",
              "      <th>4</th>\n",
              "      <td>4.0</td>\n",
              "      <td>3.987440</td>\n",
              "    </tr>\n",
              "    <tr>\n",
              "      <th>...</th>\n",
              "      <td>...</td>\n",
              "      <td>...</td>\n",
              "    </tr>\n",
              "    <tr>\n",
              "      <th>95</th>\n",
              "      <td>95.0</td>\n",
              "      <td>1.110371</td>\n",
              "    </tr>\n",
              "    <tr>\n",
              "      <th>96</th>\n",
              "      <td>96.0</td>\n",
              "      <td>1.066303</td>\n",
              "    </tr>\n",
              "    <tr>\n",
              "      <th>97</th>\n",
              "      <td>97.0</td>\n",
              "      <td>2.248696</td>\n",
              "    </tr>\n",
              "    <tr>\n",
              "      <th>98</th>\n",
              "      <td>98.0</td>\n",
              "      <td>2.403567</td>\n",
              "    </tr>\n",
              "    <tr>\n",
              "      <th>99</th>\n",
              "      <td>99.0</td>\n",
              "      <td>2.121420</td>\n",
              "    </tr>\n",
              "  </tbody>\n",
              "</table>\n",
              "<p>100 rows × 2 columns</p>\n",
              "</div>\n",
              "      <button class=\"colab-df-convert\" onclick=\"convertToInteractive('df-f5a9f72a-42b2-4341-97e7-2df8c0f9757c')\"\n",
              "              title=\"Convert this dataframe to an interactive table.\"\n",
              "              style=\"display:none;\">\n",
              "        \n",
              "  <svg xmlns=\"http://www.w3.org/2000/svg\" height=\"24px\"viewBox=\"0 0 24 24\"\n",
              "       width=\"24px\">\n",
              "    <path d=\"M0 0h24v24H0V0z\" fill=\"none\"/>\n",
              "    <path d=\"M18.56 5.44l.94 2.06.94-2.06 2.06-.94-2.06-.94-.94-2.06-.94 2.06-2.06.94zm-11 1L8.5 8.5l.94-2.06 2.06-.94-2.06-.94L8.5 2.5l-.94 2.06-2.06.94zm10 10l.94 2.06.94-2.06 2.06-.94-2.06-.94-.94-2.06-.94 2.06-2.06.94z\"/><path d=\"M17.41 7.96l-1.37-1.37c-.4-.4-.92-.59-1.43-.59-.52 0-1.04.2-1.43.59L10.3 9.45l-7.72 7.72c-.78.78-.78 2.05 0 2.83L4 21.41c.39.39.9.59 1.41.59.51 0 1.02-.2 1.41-.59l7.78-7.78 2.81-2.81c.8-.78.8-2.07 0-2.86zM5.41 20L4 18.59l7.72-7.72 1.47 1.35L5.41 20z\"/>\n",
              "  </svg>\n",
              "      </button>\n",
              "      \n",
              "  <style>\n",
              "    .colab-df-container {\n",
              "      display:flex;\n",
              "      flex-wrap:wrap;\n",
              "      gap: 12px;\n",
              "    }\n",
              "\n",
              "    .colab-df-convert {\n",
              "      background-color: #E8F0FE;\n",
              "      border: none;\n",
              "      border-radius: 50%;\n",
              "      cursor: pointer;\n",
              "      display: none;\n",
              "      fill: #1967D2;\n",
              "      height: 32px;\n",
              "      padding: 0 0 0 0;\n",
              "      width: 32px;\n",
              "    }\n",
              "\n",
              "    .colab-df-convert:hover {\n",
              "      background-color: #E2EBFA;\n",
              "      box-shadow: 0px 1px 2px rgba(60, 64, 67, 0.3), 0px 1px 3px 1px rgba(60, 64, 67, 0.15);\n",
              "      fill: #174EA6;\n",
              "    }\n",
              "\n",
              "    [theme=dark] .colab-df-convert {\n",
              "      background-color: #3B4455;\n",
              "      fill: #D2E3FC;\n",
              "    }\n",
              "\n",
              "    [theme=dark] .colab-df-convert:hover {\n",
              "      background-color: #434B5C;\n",
              "      box-shadow: 0px 1px 3px 1px rgba(0, 0, 0, 0.15);\n",
              "      filter: drop-shadow(0px 1px 2px rgba(0, 0, 0, 0.3));\n",
              "      fill: #FFFFFF;\n",
              "    }\n",
              "  </style>\n",
              "\n",
              "      <script>\n",
              "        const buttonEl =\n",
              "          document.querySelector('#df-f5a9f72a-42b2-4341-97e7-2df8c0f9757c button.colab-df-convert');\n",
              "        buttonEl.style.display =\n",
              "          google.colab.kernel.accessAllowed ? 'block' : 'none';\n",
              "\n",
              "        async function convertToInteractive(key) {\n",
              "          const element = document.querySelector('#df-f5a9f72a-42b2-4341-97e7-2df8c0f9757c');\n",
              "          const dataTable =\n",
              "            await google.colab.kernel.invokeFunction('convertToInteractive',\n",
              "                                                     [key], {});\n",
              "          if (!dataTable) return;\n",
              "\n",
              "          const docLinkHtml = 'Like what you see? Visit the ' +\n",
              "            '<a target=\"_blank\" href=https://colab.research.google.com/notebooks/data_table.ipynb>data table notebook</a>'\n",
              "            + ' to learn more about interactive tables.';\n",
              "          element.innerHTML = '';\n",
              "          dataTable['output_type'] = 'display_data';\n",
              "          await google.colab.output.renderOutput(dataTable, element);\n",
              "          const docLink = document.createElement('div');\n",
              "          docLink.innerHTML = docLinkHtml;\n",
              "          element.appendChild(docLink);\n",
              "        }\n",
              "      </script>\n",
              "    </div>\n",
              "  </div>\n",
              "  "
            ]
          },
          "metadata": {},
          "execution_count": 10
        }
      ]
    },
    {
      "cell_type": "markdown",
      "source": [
        "И после подсчета всех расстояний от тестового объекта до обучающих объектов мы берем наиближайших, тех у которых расстояние меньше всех.\n",
        "\n",
        "И возьмем только 3 соседей."
      ],
      "metadata": {
        "id": "iryvwZfseG7S"
      }
    },
    {
      "cell_type": "code",
      "source": [
        "distances.sort_values('dst').head(n_neighbors)"
      ],
      "metadata": {
        "colab": {
          "base_uri": "https://localhost:8080/",
          "height": 143
        },
        "id": "3S2JLDFEebiU",
        "outputId": "731b7698-54ea-4e55-e246-cd57909f4b08"
      },
      "execution_count": null,
      "outputs": [
        {
          "output_type": "execute_result",
          "data": {
            "text/plain": [
              "    train_idx       dst\n",
              "40       40.0  0.159445\n",
              "41       41.0  0.262930\n",
              "15       15.0  0.375908"
            ],
            "text/html": [
              "\n",
              "  <div id=\"df-da3b0ec8-1fcd-428f-b344-9759bbc7f59b\">\n",
              "    <div class=\"colab-df-container\">\n",
              "      <div>\n",
              "<style scoped>\n",
              "    .dataframe tbody tr th:only-of-type {\n",
              "        vertical-align: middle;\n",
              "    }\n",
              "\n",
              "    .dataframe tbody tr th {\n",
              "        vertical-align: top;\n",
              "    }\n",
              "\n",
              "    .dataframe thead th {\n",
              "        text-align: right;\n",
              "    }\n",
              "</style>\n",
              "<table border=\"1\" class=\"dataframe\">\n",
              "  <thead>\n",
              "    <tr style=\"text-align: right;\">\n",
              "      <th></th>\n",
              "      <th>train_idx</th>\n",
              "      <th>dst</th>\n",
              "    </tr>\n",
              "  </thead>\n",
              "  <tbody>\n",
              "    <tr>\n",
              "      <th>40</th>\n",
              "      <td>40.0</td>\n",
              "      <td>0.159445</td>\n",
              "    </tr>\n",
              "    <tr>\n",
              "      <th>41</th>\n",
              "      <td>41.0</td>\n",
              "      <td>0.262930</td>\n",
              "    </tr>\n",
              "    <tr>\n",
              "      <th>15</th>\n",
              "      <td>15.0</td>\n",
              "      <td>0.375908</td>\n",
              "    </tr>\n",
              "  </tbody>\n",
              "</table>\n",
              "</div>\n",
              "      <button class=\"colab-df-convert\" onclick=\"convertToInteractive('df-da3b0ec8-1fcd-428f-b344-9759bbc7f59b')\"\n",
              "              title=\"Convert this dataframe to an interactive table.\"\n",
              "              style=\"display:none;\">\n",
              "        \n",
              "  <svg xmlns=\"http://www.w3.org/2000/svg\" height=\"24px\"viewBox=\"0 0 24 24\"\n",
              "       width=\"24px\">\n",
              "    <path d=\"M0 0h24v24H0V0z\" fill=\"none\"/>\n",
              "    <path d=\"M18.56 5.44l.94 2.06.94-2.06 2.06-.94-2.06-.94-.94-2.06-.94 2.06-2.06.94zm-11 1L8.5 8.5l.94-2.06 2.06-.94-2.06-.94L8.5 2.5l-.94 2.06-2.06.94zm10 10l.94 2.06.94-2.06 2.06-.94-2.06-.94-.94-2.06-.94 2.06-2.06.94z\"/><path d=\"M17.41 7.96l-1.37-1.37c-.4-.4-.92-.59-1.43-.59-.52 0-1.04.2-1.43.59L10.3 9.45l-7.72 7.72c-.78.78-.78 2.05 0 2.83L4 21.41c.39.39.9.59 1.41.59.51 0 1.02-.2 1.41-.59l7.78-7.78 2.81-2.81c.8-.78.8-2.07 0-2.86zM5.41 20L4 18.59l7.72-7.72 1.47 1.35L5.41 20z\"/>\n",
              "  </svg>\n",
              "      </button>\n",
              "      \n",
              "  <style>\n",
              "    .colab-df-container {\n",
              "      display:flex;\n",
              "      flex-wrap:wrap;\n",
              "      gap: 12px;\n",
              "    }\n",
              "\n",
              "    .colab-df-convert {\n",
              "      background-color: #E8F0FE;\n",
              "      border: none;\n",
              "      border-radius: 50%;\n",
              "      cursor: pointer;\n",
              "      display: none;\n",
              "      fill: #1967D2;\n",
              "      height: 32px;\n",
              "      padding: 0 0 0 0;\n",
              "      width: 32px;\n",
              "    }\n",
              "\n",
              "    .colab-df-convert:hover {\n",
              "      background-color: #E2EBFA;\n",
              "      box-shadow: 0px 1px 2px rgba(60, 64, 67, 0.3), 0px 1px 3px 1px rgba(60, 64, 67, 0.15);\n",
              "      fill: #174EA6;\n",
              "    }\n",
              "\n",
              "    [theme=dark] .colab-df-convert {\n",
              "      background-color: #3B4455;\n",
              "      fill: #D2E3FC;\n",
              "    }\n",
              "\n",
              "    [theme=dark] .colab-df-convert:hover {\n",
              "      background-color: #434B5C;\n",
              "      box-shadow: 0px 1px 3px 1px rgba(0, 0, 0, 0.15);\n",
              "      filter: drop-shadow(0px 1px 2px rgba(0, 0, 0, 0.3));\n",
              "      fill: #FFFFFF;\n",
              "    }\n",
              "  </style>\n",
              "\n",
              "      <script>\n",
              "        const buttonEl =\n",
              "          document.querySelector('#df-da3b0ec8-1fcd-428f-b344-9759bbc7f59b button.colab-df-convert');\n",
              "        buttonEl.style.display =\n",
              "          google.colab.kernel.accessAllowed ? 'block' : 'none';\n",
              "\n",
              "        async function convertToInteractive(key) {\n",
              "          const element = document.querySelector('#df-da3b0ec8-1fcd-428f-b344-9759bbc7f59b');\n",
              "          const dataTable =\n",
              "            await google.colab.kernel.invokeFunction('convertToInteractive',\n",
              "                                                     [key], {});\n",
              "          if (!dataTable) return;\n",
              "\n",
              "          const docLinkHtml = 'Like what you see? Visit the ' +\n",
              "            '<a target=\"_blank\" href=https://colab.research.google.com/notebooks/data_table.ipynb>data table notebook</a>'\n",
              "            + ' to learn more about interactive tables.';\n",
              "          element.innerHTML = '';\n",
              "          dataTable['output_type'] = 'display_data';\n",
              "          await google.colab.output.renderOutput(dataTable, element);\n",
              "          const docLink = document.createElement('div');\n",
              "          docLink.innerHTML = docLinkHtml;\n",
              "          element.appendChild(docLink);\n",
              "        }\n",
              "      </script>\n",
              "    </div>\n",
              "  </div>\n",
              "  "
            ]
          },
          "metadata": {},
          "execution_count": 16
        }
      ]
    },
    {
      "cell_type": "markdown",
      "source": [
        "И получим их индексы для дальнейшей отрисовки."
      ],
      "metadata": {
        "id": "-2XPtP0vejac"
      }
    },
    {
      "cell_type": "code",
      "source": [
        "nearest_neigbors_idxs = distances.sort_values('dst').head(n_neighbors).index\n",
        "nearest_neigbors_idxs"
      ],
      "metadata": {
        "colab": {
          "base_uri": "https://localhost:8080/"
        },
        "id": "R6FNlJGbcnaj",
        "outputId": "1913d4d3-b329-4dd3-d9cd-3865c7f8c2b6"
      },
      "execution_count": null,
      "outputs": [
        {
          "output_type": "execute_result",
          "data": {
            "text/plain": [
              "Int64Index([40, 41, 15], dtype='int64')"
            ]
          },
          "metadata": {},
          "execution_count": 17
        }
      ]
    },
    {
      "cell_type": "markdown",
      "source": [
        "Отрисовываем три найденных соседа в полупрозрачные зеленые окружности.\n",
        "\n",
        "И видим, что действительно, эти три объекта самые близкие для данного тестового объекта и они все синего цвета, а значит по большинству побеждает именно синий класс."
      ],
      "metadata": {
        "id": "b6qHbzQFemjM"
      }
    },
    {
      "cell_type": "code",
      "source": [
        "# Create color maps\n",
        "cmap_bold = [\"darkorange\", \"darkblue\"]\n",
        "\n",
        "plt.figure(figsize=(10, 8))\n",
        "sns.scatterplot(\n",
        "    x=X_train[:, 0],\n",
        "    y=X_train[:, 1],\n",
        "    hue=y_train,\n",
        "    palette=cmap_bold\n",
        ")\n",
        "\n",
        "plt.scatter(X_train[nearest_neigbors_idxs, 0], X_train[nearest_neigbors_idxs, 1],\n",
        "            c='g', alpha=0.3, marker='o', s=100, label='nearest neighbors')\n",
        "\n",
        "plt.scatter(X_test[idx, 0], X_test[idx, 1], c='g', marker='*', s=100, label='test dot')\n",
        "plt.legend();"
      ],
      "metadata": {
        "colab": {
          "base_uri": "https://localhost:8080/",
          "height": 676
        },
        "id": "XSoucL19bHAj",
        "outputId": "ae1675de-f44b-4840-d67b-e81d56b47c03"
      },
      "execution_count": null,
      "outputs": [
        {
          "output_type": "display_data",
          "data": {
            "text/plain": [
              "<Figure size 1000x800 with 1 Axes>"
            ],
            "image/png": "[encoded data removed]"
          },
          "metadata": {}
        }
      ]
    },
    {
      "cell_type": "markdown",
      "source": [
        "А давайте возьмем еще один тестовый объект и сделаем для него точно такие же действия."
      ],
      "metadata": {
        "id": "g_gXbUI6e0a6"
      }
    },
    {
      "cell_type": "code",
      "source": [
        "idx = 8\n",
        "test_dot = X_test[idx]\n",
        "\n",
        "distances = pd.DataFrame()\n",
        "for i, train_dot in enumerate(X_train):  # 1\n",
        "    distances = distances.append({\n",
        "        'train_idx': i,\n",
        "        'dst': np.linalg.norm(train_dot - test_dot, ord=2)  # 2\n",
        "    }, ignore_index=True)\n",
        "\n",
        "distances.sort_values('dst').head(n_neighbors)"
      ],
      "metadata": {
        "colab": {
          "base_uri": "https://localhost:8080/",
          "height": 1000
        },
        "id": "qkuOthGAe0a7",
        "outputId": "d52a3efe-7a45-4943-cdf2-0f8cbd9e8703"
      },
      "execution_count": null,
      "outputs": [
        {
          "output_type": "stream",
          "name": "stderr",
          "text": [
            "<ipython-input-19-12cb99f3a1a5>:6: FutureWarning: The frame.append method is deprecated and will be removed from pandas in a future version. Use pandas.concat instead.\n",
            "  distances = distances.append({\n",
            "<ipython-input-19-12cb99f3a1a5>:6: FutureWarning: The frame.append method is deprecated and will be removed from pandas in a future version. Use pandas.concat instead.\n",
            "  distances = distances.append({\n",
            "<ipython-input-19-12cb99f3a1a5>:6: FutureWarning: The frame.append method is deprecated and will be removed from pandas in a future version. Use pandas.concat instead.\n",
            "  distances = distances.append({\n",
            "<ipython-input-19-12cb99f3a1a5>:6: FutureWarning: The frame.append method is deprecated and will be removed from pandas in a future version. Use pandas.concat instead.\n",
            "  distances = distances.append({\n",
            "<ipython-input-19-12cb99f3a1a5>:6: FutureWarning: The frame.append method is deprecated and will be removed from pandas in a future version. Use pandas.concat instead.\n",
            "  distances = distances.append({\n",
            "<ipython-input-19-12cb99f3a1a5>:6: FutureWarning: The frame.append method is deprecated and will be removed from pandas in a future version. Use pandas.concat instead.\n",
            "  distances = distances.append({\n",
            "<ipython-input-19-12cb99f3a1a5>:6: FutureWarning: The frame.append method is deprecated and will be removed from pandas in a future version. Use pandas.concat instead.\n",
            "  distances = distances.append({\n",
            "<ipython-input-19-12cb99f3a1a5>:6: FutureWarning: The frame.append method is deprecated and will be removed from pandas in a future version. Use pandas.concat instead.\n",
            "  distances = distances.append({\n",
            "<ipython-input-19-12cb99f3a1a5>:6: FutureWarning: The frame.append method is deprecated and will be removed from pandas in a future version. Use pandas.concat instead.\n",
            "  distances = distances.append({\n",
            "<ipython-input-19-12cb99f3a1a5>:6: FutureWarning: The frame.append method is deprecated and will be removed from pandas in a future version. Use pandas.concat instead.\n",
            "  distances = distances.append({\n",
            "<ipython-input-19-12cb99f3a1a5>:6: FutureWarning: The frame.append method is deprecated and will be removed from pandas in a future version. Use pandas.concat instead.\n",
            "  distances = distances.append({\n",
            "<ipython-input-19-12cb99f3a1a5>:6: FutureWarning: The frame.append method is deprecated and will be removed from pandas in a future version. Use pandas.concat instead.\n",
            "  distances = distances.append({\n",
            "<ipython-input-19-12cb99f3a1a5>:6: FutureWarning: The frame.append method is deprecated and will be removed from pandas in a future version. Use pandas.concat instead.\n",
            "  distances = distances.append({\n",
            "<ipython-input-19-12cb99f3a1a5>:6: FutureWarning: The frame.append method is deprecated and will be removed from pandas in a future version. Use pandas.concat instead.\n",
            "  distances = distances.append({\n",
            "<ipython-input-19-12cb99f3a1a5>:6: FutureWarning: The frame.append method is deprecated and will be removed from pandas in a future version. Use pandas.concat instead.\n",
            "  distances = distances.append({\n",
            "<ipython-input-19-12cb99f3a1a5>:6: FutureWarning: The frame.append method is deprecated and will be removed from pandas in a future version. Use pandas.concat instead.\n",
            "  distances = distances.append({\n",
            "<ipython-input-19-12cb99f3a1a5>:6: FutureWarning: The frame.append method is deprecated and will be removed from pandas in a future version. Use pandas.concat instead.\n",
            "  distances = distances.append({\n",
            "<ipython-input-19-12cb99f3a1a5>:6: FutureWarning: The frame.append method is deprecated and will be removed from pandas in a future version. Use pandas.concat instead.\n",
            "  distances = distances.append({\n",
            "<ipython-input-19-12cb99f3a1a5>:6: FutureWarning: The frame.append method is deprecated and will be removed from pandas in a future version. Use pandas.concat instead.\n",
            "  distances = distances.append({\n",
            "<ipython-input-19-12cb99f3a1a5>:6: FutureWarning: The frame.append method is deprecated and will be removed from pandas in a future version. Use pandas.concat instead.\n",
            "  distances = distances.append({\n",
            "<ipython-input-19-12cb99f3a1a5>:6: FutureWarning: The frame.append method is deprecated and will be removed from pandas in a future version. Use pandas.concat instead.\n",
            "  distances = distances.append({\n",
            "<ipython-input-19-12cb99f3a1a5>:6: FutureWarning: The frame.append method is deprecated and will be removed from pandas in a future version. Use pandas.concat instead.\n",
            "  distances = distances.append({\n",
            "<ipython-input-19-12cb99f3a1a5>:6: FutureWarning: The frame.append method is deprecated and will be removed from pandas in a future version. Use pandas.concat instead.\n",
            "  distances = distances.append({\n",
            "<ipython-input-19-12cb99f3a1a5>:6: FutureWarning: The frame.append method is deprecated and will be removed from pandas in a future version. Use pandas.concat instead.\n",
            "  distances = distances.append({\n",
            "<ipython-input-19-12cb99f3a1a5>:6: FutureWarning: The frame.append method is deprecated and will be removed from pandas in a future version. Use pandas.concat instead.\n",
            "  distances = distances.append({\n",
            "<ipython-input-19-12cb99f3a1a5>:6: FutureWarning: The frame.append method is deprecated and will be removed from pandas in a future version. Use pandas.concat instead.\n",
            "  distances = distances.append({\n",
            "<ipython-input-19-12cb99f3a1a5>:6: FutureWarning: The frame.append method is deprecated and will be removed from pandas in a future version. Use pandas.concat instead.\n",
            "  distances = distances.append({\n",
            "<ipython-input-19-12cb99f3a1a5>:6: FutureWarning: The frame.append method is deprecated and will be removed from pandas in a future version. Use pandas.concat instead.\n",
            "  distances = distances.append({\n",
            "<ipython-input-19-12cb99f3a1a5>:6: FutureWarning: The frame.append method is deprecated and will be removed from pandas in a future version. Use pandas.concat instead.\n",
            "  distances = distances.append({\n",
            "<ipython-input-19-12cb99f3a1a5>:6: FutureWarning: The frame.append method is deprecated and will be removed from pandas in a future version. Use pandas.concat instead.\n",
            "  distances = distances.append({\n",
            "<ipython-input-19-12cb99f3a1a5>:6: FutureWarning: The frame.append method is deprecated and will be removed from pandas in a future version. Use pandas.concat instead.\n",
            "  distances = distances.append({\n",
            "<ipython-input-19-12cb99f3a1a5>:6: FutureWarning: The frame.append method is deprecated and will be removed from pandas in a future version. Use pandas.concat instead.\n",
            "  distances = distances.append({\n",
            "<ipython-input-19-12cb99f3a1a5>:6: FutureWarning: The frame.append method is deprecated and will be removed from pandas in a future version. Use pandas.concat instead.\n",
            "  distances = distances.append({\n",
            "<ipython-input-19-12cb99f3a1a5>:6: FutureWarning: The frame.append method is deprecated and will be removed from pandas in a future version. Use pandas.concat instead.\n",
            "  distances = distances.append({\n",
            "<ipython-input-19-12cb99f3a1a5>:6: FutureWarning: The frame.append method is deprecated and will be removed from pandas in a future version. Use pandas.concat instead.\n",
            "  distances = distances.append({\n",
            "<ipython-input-19-12cb99f3a1a5>:6: FutureWarning: The frame.append method is deprecated and will be removed from pandas in a future version. Use pandas.concat instead.\n",
            "  distances = distances.append({\n",
            "<ipython-input-19-12cb99f3a1a5>:6: FutureWarning: The frame.append method is deprecated and will be removed from pandas in a future version. Use pandas.concat instead.\n",
            "  distances = distances.append({\n",
            "<ipython-input-19-12cb99f3a1a5>:6: FutureWarning: The frame.append method is deprecated and will be removed from pandas in a future version. Use pandas.concat instead.\n",
            "  distances = distances.append({\n",
            "<ipython-input-19-12cb99f3a1a5>:6: FutureWarning: The frame.append method is deprecated and will be removed from pandas in a future version. Use pandas.concat instead.\n",
            "  distances = distances.append({\n",
            "<ipython-input-19-12cb99f3a1a5>:6: FutureWarning: The frame.append method is deprecated and will be removed from pandas in a future version. Use pandas.concat instead.\n",
            "  distances = distances.append({\n",
            "<ipython-input-19-12cb99f3a1a5>:6: FutureWarning: The frame.append method is deprecated and will be removed from pandas in a future version. Use pandas.concat instead.\n",
            "  distances = distances.append({\n",
            "<ipython-input-19-12cb99f3a1a5>:6: FutureWarning: The frame.append method is deprecated and will be removed from pandas in a future version. Use pandas.concat instead.\n",
            "  distances = distances.append({\n",
            "<ipython-input-19-12cb99f3a1a5>:6: FutureWarning: The frame.append method is deprecated and will be removed from pandas in a future version. Use pandas.concat instead.\n",
            "  distances = distances.append({\n",
            "<ipython-input-19-12cb99f3a1a5>:6: FutureWarning: The frame.append method is deprecated and will be removed from pandas in a future version. Use pandas.concat instead.\n",
            "  distances = distances.append({\n",
            "<ipython-input-19-12cb99f3a1a5>:6: FutureWarning: The frame.append method is deprecated and will be removed from pandas in a future version. Use pandas.concat instead.\n",
            "  distances = distances.append({\n",
            "<ipython-input-19-12cb99f3a1a5>:6: FutureWarning: The frame.append method is deprecated and will be removed from pandas in a future version. Use pandas.concat instead.\n",
            "  distances = distances.append({\n",
            "<ipython-input-19-12cb99f3a1a5>:6: FutureWarning: The frame.append method is deprecated and will be removed from pandas in a future version. Use pandas.concat instead.\n",
            "  distances = distances.append({\n",
            "<ipython-input-19-12cb99f3a1a5>:6: FutureWarning: The frame.append method is deprecated and will be removed from pandas in a future version. Use pandas.concat instead.\n",
            "  distances = distances.append({\n",
            "<ipython-input-19-12cb99f3a1a5>:6: FutureWarning: The frame.append method is deprecated and will be removed from pandas in a future version. Use pandas.concat instead.\n",
            "  distances = distances.append({\n",
            "<ipython-input-19-12cb99f3a1a5>:6: FutureWarning: The frame.append method is deprecated and will be removed from pandas in a future version. Use pandas.concat instead.\n",
            "  distances = distances.append({\n",
            "<ipython-input-19-12cb99f3a1a5>:6: FutureWarning: The frame.append method is deprecated and will be removed from pandas in a future version. Use pandas.concat instead.\n",
            "  distances = distances.append({\n",
            "<ipython-input-19-12cb99f3a1a5>:6: FutureWarning: The frame.append method is deprecated and will be removed from pandas in a future version. Use pandas.concat instead.\n",
            "  distances = distances.append({\n",
            "<ipython-input-19-12cb99f3a1a5>:6: FutureWarning: The frame.append method is deprecated and will be removed from pandas in a future version. Use pandas.concat instead.\n",
            "  distances = distances.append({\n",
            "<ipython-input-19-12cb99f3a1a5>:6: FutureWarning: The frame.append method is deprecated and will be removed from pandas in a future version. Use pandas.concat instead.\n",
            "  distances = distances.append({\n",
            "<ipython-input-19-12cb99f3a1a5>:6: FutureWarning: The frame.append method is deprecated and will be removed from pandas in a future version. Use pandas.concat instead.\n",
            "  distances = distances.append({\n",
            "<ipython-input-19-12cb99f3a1a5>:6: FutureWarning: The frame.append method is deprecated and will be removed from pandas in a future version. Use pandas.concat instead.\n",
            "  distances = distances.append({\n",
            "<ipython-input-19-12cb99f3a1a5>:6: FutureWarning: The frame.append method is deprecated and will be removed from pandas in a future version. Use pandas.concat instead.\n",
            "  distances = distances.append({\n",
            "<ipython-input-19-12cb99f3a1a5>:6: FutureWarning: The frame.append method is deprecated and will be removed from pandas in a future version. Use pandas.concat instead.\n",
            "  distances = distances.append({\n",
            "<ipython-input-19-12cb99f3a1a5>:6: FutureWarning: The frame.append method is deprecated and will be removed from pandas in a future version. Use pandas.concat instead.\n",
            "  distances = distances.append({\n",
            "<ipython-input-19-12cb99f3a1a5>:6: FutureWarning: The frame.append method is deprecated and will be removed from pandas in a future version. Use pandas.concat instead.\n",
            "  distances = distances.append({\n",
            "<ipython-input-19-12cb99f3a1a5>:6: FutureWarning: The frame.append method is deprecated and will be removed from pandas in a future version. Use pandas.concat instead.\n",
            "  distances = distances.append({\n",
            "<ipython-input-19-12cb99f3a1a5>:6: FutureWarning: The frame.append method is deprecated and will be removed from pandas in a future version. Use pandas.concat instead.\n",
            "  distances = distances.append({\n",
            "<ipython-input-19-12cb99f3a1a5>:6: FutureWarning: The frame.append method is deprecated and will be removed from pandas in a future version. Use pandas.concat instead.\n",
            "  distances = distances.append({\n",
            "<ipython-input-19-12cb99f3a1a5>:6: FutureWarning: The frame.append method is deprecated and will be removed from pandas in a future version. Use pandas.concat instead.\n",
            "  distances = distances.append({\n",
            "<ipython-input-19-12cb99f3a1a5>:6: FutureWarning: The frame.append method is deprecated and will be removed from pandas in a future version. Use pandas.concat instead.\n",
            "  distances = distances.append({\n",
            "<ipython-input-19-12cb99f3a1a5>:6: FutureWarning: The frame.append method is deprecated and will be removed from pandas in a future version. Use pandas.concat instead.\n",
            "  distances = distances.append({\n",
            "<ipython-input-19-12cb99f3a1a5>:6: FutureWarning: The frame.append method is deprecated and will be removed from pandas in a future version. Use pandas.concat instead.\n",
            "  distances = distances.append({\n",
            "<ipython-input-19-12cb99f3a1a5>:6: FutureWarning: The frame.append method is deprecated and will be removed from pandas in a future version. Use pandas.concat instead.\n",
            "  distances = distances.append({\n",
            "<ipython-input-19-12cb99f3a1a5>:6: FutureWarning: The frame.append method is deprecated and will be removed from pandas in a future version. Use pandas.concat instead.\n",
            "  distances = distances.append({\n",
            "<ipython-input-19-12cb99f3a1a5>:6: FutureWarning: The frame.append method is deprecated and will be removed from pandas in a future version. Use pandas.concat instead.\n",
            "  distances = distances.append({\n",
            "<ipython-input-19-12cb99f3a1a5>:6: FutureWarning: The frame.append method is deprecated and will be removed from pandas in a future version. Use pandas.concat instead.\n",
            "  distances = distances.append({\n",
            "<ipython-input-19-12cb99f3a1a5>:6: FutureWarning: The frame.append method is deprecated and will be removed from pandas in a future version. Use pandas.concat instead.\n",
            "  distances = distances.append({\n",
            "<ipython-input-19-12cb99f3a1a5>:6: FutureWarning: The frame.append method is deprecated and will be removed from pandas in a future version. Use pandas.concat instead.\n",
            "  distances = distances.append({\n",
            "<ipython-input-19-12cb99f3a1a5>:6: FutureWarning: The frame.append method is deprecated and will be removed from pandas in a future version. Use pandas.concat instead.\n",
            "  distances = distances.append({\n",
            "<ipython-input-19-12cb99f3a1a5>:6: FutureWarning: The frame.append method is deprecated and will be removed from pandas in a future version. Use pandas.concat instead.\n",
            "  distances = distances.append({\n",
            "<ipython-input-19-12cb99f3a1a5>:6: FutureWarning: The frame.append method is deprecated and will be removed from pandas in a future version. Use pandas.concat instead.\n",
            "  distances = distances.append({\n",
            "<ipython-input-19-12cb99f3a1a5>:6: FutureWarning: The frame.append method is deprecated and will be removed from pandas in a future version. Use pandas.concat instead.\n",
            "  distances = distances.append({\n",
            "<ipython-input-19-12cb99f3a1a5>:6: FutureWarning: The frame.append method is deprecated and will be removed from pandas in a future version. Use pandas.concat instead.\n",
            "  distances = distances.append({\n",
            "<ipython-input-19-12cb99f3a1a5>:6: FutureWarning: The frame.append method is deprecated and will be removed from pandas in a future version. Use pandas.concat instead.\n",
            "  distances = distances.append({\n",
            "<ipython-input-19-12cb99f3a1a5>:6: FutureWarning: The frame.append method is deprecated and will be removed from pandas in a future version. Use pandas.concat instead.\n",
            "  distances = distances.append({\n",
            "<ipython-input-19-12cb99f3a1a5>:6: FutureWarning: The frame.append method is deprecated and will be removed from pandas in a future version. Use pandas.concat instead.\n",
            "  distances = distances.append({\n",
            "<ipython-input-19-12cb99f3a1a5>:6: FutureWarning: The frame.append method is deprecated and will be removed from pandas in a future version. Use pandas.concat instead.\n",
            "  distances = distances.append({\n",
            "<ipython-input-19-12cb99f3a1a5>:6: FutureWarning: The frame.append method is deprecated and will be removed from pandas in a future version. Use pandas.concat instead.\n",
            "  distances = distances.append({\n",
            "<ipython-input-19-12cb99f3a1a5>:6: FutureWarning: The frame.append method is deprecated and will be removed from pandas in a future version. Use pandas.concat instead.\n",
            "  distances = distances.append({\n",
            "<ipython-input-19-12cb99f3a1a5>:6: FutureWarning: The frame.append method is deprecated and will be removed from pandas in a future version. Use pandas.concat instead.\n",
            "  distances = distances.append({\n",
            "<ipython-input-19-12cb99f3a1a5>:6: FutureWarning: The frame.append method is deprecated and will be removed from pandas in a future version. Use pandas.concat instead.\n",
            "  distances = distances.append({\n",
            "<ipython-input-19-12cb99f3a1a5>:6: FutureWarning: The frame.append method is deprecated and will be removed from pandas in a future version. Use pandas.concat instead.\n",
            "  distances = distances.append({\n",
            "<ipython-input-19-12cb99f3a1a5>:6: FutureWarning: The frame.append method is deprecated and will be removed from pandas in a future version. Use pandas.concat instead.\n",
            "  distances = distances.append({\n",
            "<ipython-input-19-12cb99f3a1a5>:6: FutureWarning: The frame.append method is deprecated and will be removed from pandas in a future version. Use pandas.concat instead.\n",
            "  distances = distances.append({\n",
            "<ipython-input-19-12cb99f3a1a5>:6: FutureWarning: The frame.append method is deprecated and will be removed from pandas in a future version. Use pandas.concat instead.\n",
            "  distances = distances.append({\n",
            "<ipython-input-19-12cb99f3a1a5>:6: FutureWarning: The frame.append method is deprecated and will be removed from pandas in a future version. Use pandas.concat instead.\n",
            "  distances = distances.append({\n",
            "<ipython-input-19-12cb99f3a1a5>:6: FutureWarning: The frame.append method is deprecated and will be removed from pandas in a future version. Use pandas.concat instead.\n",
            "  distances = distances.append({\n",
            "<ipython-input-19-12cb99f3a1a5>:6: FutureWarning: The frame.append method is deprecated and will be removed from pandas in a future version. Use pandas.concat instead.\n",
            "  distances = distances.append({\n",
            "<ipython-input-19-12cb99f3a1a5>:6: FutureWarning: The frame.append method is deprecated and will be removed from pandas in a future version. Use pandas.concat instead.\n",
            "  distances = distances.append({\n",
            "<ipython-input-19-12cb99f3a1a5>:6: FutureWarning: The frame.append method is deprecated and will be removed from pandas in a future version. Use pandas.concat instead.\n",
            "  distances = distances.append({\n",
            "<ipython-input-19-12cb99f3a1a5>:6: FutureWarning: The frame.append method is deprecated and will be removed from pandas in a future version. Use pandas.concat instead.\n",
            "  distances = distances.append({\n",
            "<ipython-input-19-12cb99f3a1a5>:6: FutureWarning: The frame.append method is deprecated and will be removed from pandas in a future version. Use pandas.concat instead.\n",
            "  distances = distances.append({\n",
            "<ipython-input-19-12cb99f3a1a5>:6: FutureWarning: The frame.append method is deprecated and will be removed from pandas in a future version. Use pandas.concat instead.\n",
            "  distances = distances.append({\n",
            "<ipython-input-19-12cb99f3a1a5>:6: FutureWarning: The frame.append method is deprecated and will be removed from pandas in a future version. Use pandas.concat instead.\n",
            "  distances = distances.append({\n",
            "<ipython-input-19-12cb99f3a1a5>:6: FutureWarning: The frame.append method is deprecated and will be removed from pandas in a future version. Use pandas.concat instead.\n",
            "  distances = distances.append({\n"
          ]
        },
        {
          "output_type": "execute_result",
          "data": {
            "text/plain": [
              "    train_idx       dst\n",
              "18       18.0  0.197512\n",
              "75       75.0  0.326215\n",
              "78       78.0  0.363556"
            ],
            "text/html": [
              "\n",
              "  <div id=\"df-bae29e95-1cab-4f80-929c-7ff206d7b694\">\n",
              "    <div class=\"colab-df-container\">\n",
              "      <div>\n",
              "<style scoped>\n",
              "    .dataframe tbody tr th:only-of-type {\n",
              "        vertical-align: middle;\n",
              "    }\n",
              "\n",
              "    .dataframe tbody tr th {\n",
              "        vertical-align: top;\n",
              "    }\n",
              "\n",
              "    .dataframe thead th {\n",
              "        text-align: right;\n",
              "    }\n",
              "</style>\n",
              "<table border=\"1\" class=\"dataframe\">\n",
              "  <thead>\n",
              "    <tr style=\"text-align: right;\">\n",
              "      <th></th>\n",
              "      <th>train_idx</th>\n",
              "      <th>dst</th>\n",
              "    </tr>\n",
              "  </thead>\n",
              "  <tbody>\n",
              "    <tr>\n",
              "      <th>18</th>\n",
              "      <td>18.0</td>\n",
              "      <td>0.197512</td>\n",
              "    </tr>\n",
              "    <tr>\n",
              "      <th>75</th>\n",
              "      <td>75.0</td>\n",
              "      <td>0.326215</td>\n",
              "    </tr>\n",
              "    <tr>\n",
              "      <th>78</th>\n",
              "      <td>78.0</td>\n",
              "      <td>0.363556</td>\n",
              "    </tr>\n",
              "  </tbody>\n",
              "</table>\n",
              "</div>\n",
              "      <button class=\"colab-df-convert\" onclick=\"convertToInteractive('df-bae29e95-1cab-4f80-929c-7ff206d7b694')\"\n",
              "              title=\"Convert this dataframe to an interactive table.\"\n",
              "              style=\"display:none;\">\n",
              "        \n",
              "  <svg xmlns=\"http://www.w3.org/2000/svg\" height=\"24px\"viewBox=\"0 0 24 24\"\n",
              "       width=\"24px\">\n",
              "    <path d=\"M0 0h24v24H0V0z\" fill=\"none\"/>\n",
              "    <path d=\"M18.56 5.44l.94 2.06.94-2.06 2.06-.94-2.06-.94-.94-2.06-.94 2.06-2.06.94zm-11 1L8.5 8.5l.94-2.06 2.06-.94-2.06-.94L8.5 2.5l-.94 2.06-2.06.94zm10 10l.94 2.06.94-2.06 2.06-.94-2.06-.94-.94-2.06-.94 2.06-2.06.94z\"/><path d=\"M17.41 7.96l-1.37-1.37c-.4-.4-.92-.59-1.43-.59-.52 0-1.04.2-1.43.59L10.3 9.45l-7.72 7.72c-.78.78-.78 2.05 0 2.83L4 21.41c.39.39.9.59 1.41.59.51 0 1.02-.2 1.41-.59l7.78-7.78 2.81-2.81c.8-.78.8-2.07 0-2.86zM5.41 20L4 18.59l7.72-7.72 1.47 1.35L5.41 20z\"/>\n",
              "  </svg>\n",
              "      </button>\n",
              "      \n",
              "  <style>\n",
              "    .colab-df-container {\n",
              "      display:flex;\n",
              "      flex-wrap:wrap;\n",
              "      gap: 12px;\n",
              "    }\n",
              "\n",
              "    .colab-df-convert {\n",
              "      background-color: #E8F0FE;\n",
              "      border: none;\n",
              "      border-radius: 50%;\n",
              "      cursor: pointer;\n",
              "      display: none;\n",
              "      fill: #1967D2;\n",
              "      height: 32px;\n",
              "      padding: 0 0 0 0;\n",
              "      width: 32px;\n",
              "    }\n",
              "\n",
              "    .colab-df-convert:hover {\n",
              "      background-color: #E2EBFA;\n",
              "      box-shadow: 0px 1px 2px rgba(60, 64, 67, 0.3), 0px 1px 3px 1px rgba(60, 64, 67, 0.15);\n",
              "      fill: #174EA6;\n",
              "    }\n",
              "\n",
              "    [theme=dark] .colab-df-convert {\n",
              "      background-color: #3B4455;\n",
              "      fill: #D2E3FC;\n",
              "    }\n",
              "\n",
              "    [theme=dark] .colab-df-convert:hover {\n",
              "      background-color: #434B5C;\n",
              "      box-shadow: 0px 1px 3px 1px rgba(0, 0, 0, 0.15);\n",
              "      filter: drop-shadow(0px 1px 2px rgba(0, 0, 0, 0.3));\n",
              "      fill: #FFFFFF;\n",
              "    }\n",
              "  </style>\n",
              "\n",
              "      <script>\n",
              "        const buttonEl =\n",
              "          document.querySelector('#df-bae29e95-1cab-4f80-929c-7ff206d7b694 button.colab-df-convert');\n",
              "        buttonEl.style.display =\n",
              "          google.colab.kernel.accessAllowed ? 'block' : 'none';\n",
              "\n",
              "        async function convertToInteractive(key) {\n",
              "          const element = document.querySelector('#df-bae29e95-1cab-4f80-929c-7ff206d7b694');\n",
              "          const dataTable =\n",
              "            await google.colab.kernel.invokeFunction('convertToInteractive',\n",
              "                                                     [key], {});\n",
              "          if (!dataTable) return;\n",
              "\n",
              "          const docLinkHtml = 'Like what you see? Visit the ' +\n",
              "            '<a target=\"_blank\" href=https://colab.research.google.com/notebooks/data_table.ipynb>data table notebook</a>'\n",
              "            + ' to learn more about interactive tables.';\n",
              "          element.innerHTML = '';\n",
              "          dataTable['output_type'] = 'display_data';\n",
              "          await google.colab.output.renderOutput(dataTable, element);\n",
              "          const docLink = document.createElement('div');\n",
              "          docLink.innerHTML = docLinkHtml;\n",
              "          element.appendChild(docLink);\n",
              "        }\n",
              "      </script>\n",
              "    </div>\n",
              "  </div>\n",
              "  "
            ]
          },
          "metadata": {},
          "execution_count": 19
        }
      ]
    },
    {
      "cell_type": "markdown",
      "source": [
        "И получае индексы для отрисовки."
      ],
      "metadata": {
        "id": "BKsBI38Pe0a8"
      }
    },
    {
      "cell_type": "code",
      "source": [
        "nearest_neigbors_idxs = distances.sort_values('dst').head(n_neighbors).index\n",
        "nearest_neigbors_idxs"
      ],
      "metadata": {
        "colab": {
          "base_uri": "https://localhost:8080/"
        },
        "outputId": "dc81df12-6d06-4b98-8c14-14f708e84b89",
        "id": "mWIuYNwse0a8"
      },
      "execution_count": null,
      "outputs": [
        {
          "output_type": "execute_result",
          "data": {
            "text/plain": [
              "Int64Index([18, 75, 78], dtype='int64')"
            ]
          },
          "metadata": {},
          "execution_count": 20
        }
      ]
    },
    {
      "cell_type": "markdown",
      "source": [
        "Отрисовываем три найденных соседа в полупрозрачные зеленые окружности.\n",
        "\n",
        "И снова, эти три объекта самые близкие к тестовому объекту, а вот они все имеют метку оранжевого класса, а значит наш тестовый объект тоже приобретет метку \"оранжевый класс\"."
      ],
      "metadata": {
        "id": "o9Wydp7fe0a9"
      }
    },
    {
      "cell_type": "code",
      "source": [
        "# Create color maps\n",
        "cmap_bold = [\"darkorange\", \"darkblue\"]\n",
        "\n",
        "plt.figure(figsize=(10, 8))\n",
        "sns.scatterplot(\n",
        "    x=X_train[:, 0],\n",
        "    y=X_train[:, 1],\n",
        "    hue=y_train,\n",
        "    palette=cmap_bold\n",
        ")\n",
        "\n",
        "plt.scatter(X_train[nearest_neigbors_idxs, 0], X_train[nearest_neigbors_idxs, 1],\n",
        "            c='g', alpha=0.3, marker='o', s=100, label='nearest neighbors')\n",
        "\n",
        "plt.scatter(X_test[idx, 0], X_test[idx, 1], c='g', marker='*', s=100, label='test dot')\n",
        "plt.legend();"
      ],
      "metadata": {
        "colab": {
          "base_uri": "https://localhost:8080/",
          "height": 676
        },
        "outputId": "2d285937-939f-4e0e-8a74-4ba4fa1f7b09",
        "id": "ENdkTz_ze0a9"
      },
      "execution_count": null,
      "outputs": [
        {
          "output_type": "display_data",
          "data": {
            "text/plain": [
              "<Figure size 1000x800 with 1 Axes>"
            ],
            "image/png": "[encoded data removed]"
          },
          "metadata": {}
        }
      ]
    },
    {
      "cell_type": "markdown",
      "source": [
        "### Резюме KNN"
      ],
      "metadata": {
        "id": "ZZq_KFgagr3l"
      }
    },
    {
      "cell_type": "markdown",
      "source": [
        "В этом и кроется вся суть алгоритма KNN.\n",
        "\n",
        "На **моменте обучения** ничего интересного не происходит: все точки из обучения попросту запоминаются.\n",
        "\n",
        "На **моменте предсказания** происходят более интересные вещи:\n",
        "1. для тестовой точки считаем расстояния до всех точек с обучения\n",
        "2. сортируем от самого ближнего до самого дальнего расстояния\n",
        "3. делаем голосование между классами ближайших $N$ соседей - это и есть предсказанная метка класса"
      ],
      "metadata": {
        "id": "k2KMkTkxfLB3"
      }
    },
    {
      "cell_type": "markdown",
      "source": [
        "## KNN для регрессии"
      ],
      "metadata": {
        "id": "B7JWc3aEgSCH"
      }
    },
    {
      "cell_type": "markdown",
      "source": [
        "А теперь давайте обсудим отличия KNN для классификации от KNN для регрессии."
      ],
      "metadata": {
        "id": "Q80Y_7yQBYQy"
      }
    },
    {
      "cell_type": "markdown",
      "source": [
        "Давайте обучим модель KNN для регресии из `sklearn` на сгенерированных данных.\n",
        "\n",
        "Сгенерируем 110 объектов с помощью функции `make_regression`."
      ],
      "metadata": {
        "id": "tx_o0s6JBiX2"
      }
    },
    {
      "cell_type": "code",
      "source": [
        "from sklearn.datasets import make_regression\n",
        "\n",
        "X, y = make_regression(n_samples=110, n_features=2, n_informative=2,\n",
        "                       random_state=6)\n",
        "\n",
        "display(X, y)"
      ],
      "metadata": {
        "colab": {
          "base_uri": "https://localhost:8080/",
          "height": 1000
        },
        "outputId": "f7548763-5487-4c2e-f6e3-fa87333dd5f9",
        "id": "gVECxRpDBiX4"
      },
      "execution_count": null,
      "outputs": [
        {
          "output_type": "display_data",
          "data": {
            "text/plain": [
              "array([[ 0.78263039, -0.49341854],\n",
              "       [-0.18765745, -1.4863921 ],\n",
              "       [ 1.63929108, -0.4298936 ],\n",
              "       [ 0.35480861,  1.81259031],\n",
              "       [-2.12647459,  0.75144883],\n",
              "       [ 1.56448966,  0.71270509],\n",
              "       [ 0.65725757, -0.47237563],\n",
              "       [ 0.07409773,  2.03076035],\n",
              "       [-0.12673638, -1.36861282],\n",
              "       [-0.46550831,  0.23371059],\n",
              "       [-1.22257572,  0.8228126 ],\n",
              "       [ 0.11660197, -0.68225732],\n",
              "       [ 0.64330145, -0.44789505],\n",
              "       [-0.53070072,  1.13694227],\n",
              "       [ 0.17365335, -1.03543429],\n",
              "       [-0.96813764,  0.16706673],\n",
              "       [-0.33588161,  1.23773784],\n",
              "       [ 1.21848065, -0.85750144],\n",
              "       [ 0.17629034,  1.09462041],\n",
              "       [-0.50426698,  1.05250993],\n",
              "       [-0.04723705, -1.44903979],\n",
              "       [ 1.46901739,  1.74951635],\n",
              "       [-0.03618977, -0.09084699],\n",
              "       [ 0.82465384, -1.17643148],\n",
              "       [-0.47144628,  2.33660781],\n",
              "       [ 0.11444143, -0.02195668],\n",
              "       [-0.06009261, -0.56848829],\n",
              "       [ 0.31508564, -1.0146655 ],\n",
              "       [-0.05961756,  0.19416833],\n",
              "       [-0.81988596,  0.13871369],\n",
              "       [ 0.35353062, -0.64333729],\n",
              "       [ 1.37018152,  1.09965334],\n",
              "       [ 0.15268777, -1.6326206 ],\n",
              "       [ 0.35877096,  1.07368134],\n",
              "       [ 0.11112817,  0.12915125],\n",
              "       [ 1.11569378,  0.79410326],\n",
              "       [-0.31178367,  0.72900392],\n",
              "       [-3.69023566,  0.53384158],\n",
              "       [-2.12714455, -0.83440747],\n",
              "       [ 0.2628088 , -0.60903479],\n",
              "       [-0.66353389, -0.43373648],\n",
              "       [ 0.2868793 ,  0.05185969],\n",
              "       [-1.37105209, -1.06862477],\n",
              "       [ 1.50278553, -0.59545972],\n",
              "       [ 0.09079696,  0.27026659],\n",
              "       [ 0.44692842, -1.01464799],\n",
              "       [-0.56147088, -1.0335199 ],\n",
              "       [-0.08417101, -0.4485657 ],\n",
              "       [ 0.42628539, -0.75815703],\n",
              "       [-1.46705339,  1.57410416],\n",
              "       [ 0.48828411,  1.07030973],\n",
              "       [-0.16236698,  0.72680996],\n",
              "       [-0.07972565,  0.87266549],\n",
              "       [ 0.45240094, -0.30946257],\n",
              "       [-0.32016629, -0.59319584],\n",
              "       [ 0.51689471,  0.92885736],\n",
              "       [ 0.61189442, -0.26984406],\n",
              "       [-0.99541982, -0.11412716],\n",
              "       [ 0.95120126,  0.44189739],\n",
              "       [-1.6912109 ,  1.42780744],\n",
              "       [-0.31449183, -0.14497558],\n",
              "       [-0.58661296, -1.48185327],\n",
              "       [-0.78015214,  0.95560959],\n",
              "       [ 0.03060843, -0.29749921],\n",
              "       [-1.91402115, -0.13990231],\n",
              "       [ 0.11492459, -0.39500464],\n",
              "       [-0.37550472,  0.39636757],\n",
              "       [ 2.63128056,  0.60182225],\n",
              "       [ 1.90474232,  0.69415315],\n",
              "       [-1.18441686, -0.52817318],\n",
              "       [ 2.33903423, -0.31332286],\n",
              "       [-0.95331626, -1.07282736],\n",
              "       [ 0.5685534 , -0.80496557],\n",
              "       [-0.86878205,  0.35483766],\n",
              "       [ 0.44408297, -0.85682264],\n",
              "       [ 0.2785168 , -0.42754013],\n",
              "       [ 0.52294535, -0.59187648],\n",
              "       [ 0.07612761, -0.15512816],\n",
              "       [-2.48678065,  0.91325152],\n",
              "       [ 0.87426839, -0.73957208],\n",
              "       [-0.1810066 ,  0.53419953],\n",
              "       [ 1.12706373, -1.51409323],\n",
              "       [ 0.47233738,  1.67693004],\n",
              "       [-1.44992793, -2.70693079],\n",
              "       [ 1.38503523, -0.51962709],\n",
              "       [ 0.92856046,  0.33947011],\n",
              "       [ 0.66615792, -0.79624825],\n",
              "       [ 1.18705819,  1.69089583],\n",
              "       [ 0.05155094, -0.21958725],\n",
              "       [-0.98472793, -0.21062697],\n",
              "       [ 1.40058146,  0.38470804],\n",
              "       [ 0.52834106,  0.9398248 ],\n",
              "       [-0.47748711,  0.11252968],\n",
              "       [-0.54060704,  0.79322236],\n",
              "       [ 0.69249311,  0.96133333],\n",
              "       [-0.48444561,  1.36293786],\n",
              "       [ 0.41356334, -0.37337679],\n",
              "       [-1.20135139,  0.89165273],\n",
              "       [-1.3564758 , -0.46363197],\n",
              "       [ 0.35537056, -1.69891959],\n",
              "       [-2.1323234 ,  0.17386307],\n",
              "       [ 0.83647485, -1.37809438],\n",
              "       [-0.32365897,  1.26610337],\n",
              "       [ 0.63422534,  0.810655  ],\n",
              "       [-0.44524407, -0.14195923],\n",
              "       [ 0.85724762,  0.94309899],\n",
              "       [ 0.21782079, -0.8990918 ],\n",
              "       [-0.01958134,  1.66284285],\n",
              "       [-0.94542881,  1.09128647],\n",
              "       [-0.5532565 , -0.37391087]])"
            ]
          },
          "metadata": {}
        },
        {
          "output_type": "display_data",
          "data": {
            "text/plain": [
              "array([ -10.66244648,  -92.07211428,   13.26158326,  115.24501892,\n",
              "         -5.77482665,   78.87831107,  -12.37461469,  121.49849425,\n",
              "        -83.69176519,    2.81713379,   19.72411478,  -37.48598927,\n",
              "        -11.25972977,   54.54481088,  -56.96890099,  -12.9518793 ,\n",
              "         65.07750333,  -21.86615914,   68.70174093,   50.18849411,\n",
              "        -86.56196733,  137.7699071 ,   -6.20963507,  -49.94963378,\n",
              "        126.68433272,    1.40080308,  -34.93897749,  -52.41284413,\n",
              "         10.04578784,  -11.13189271,  -29.61021615,   97.11972486,\n",
              "        -92.67858277,   71.76516307,   10.23353984,   73.10728639,\n",
              "         35.64526282,  -55.44024142,  -99.30796032,  -29.72429363,\n",
              "        -41.20631185,    9.81536928,  -95.31048751,    0.28292736,\n",
              "         18.07617282,  -49.30635516,  -74.17129949,  -28.4343354 ,\n",
              "        -34.66741029,   58.26901278,   74.61692388,   39.03528174,\n",
              "         49.5828809 ,   -7.59293348,  -42.52180903,   66.94943122,\n",
              "         -1.49989836,  -30.176389  ,   48.46334221,   44.36209111,\n",
              "        -15.95677016, -101.20155328,   37.97605314,  -16.82245884,\n",
              "        -53.33329231,  -20.58631528,   14.5289209 ,   97.46703529,\n",
              "         85.79870099,  -59.04420862,   36.61763102,  -85.71886407,\n",
              "        -34.07667818,    0.46114721,  -40.06647593,  -18.65163146,\n",
              "        -22.58515683,   -7.35472182,   -4.72011643,  -23.01956535,\n",
              "         27.23807432,  -62.73838729,  110.01348379, -193.77864096,\n",
              "          1.98123091,   41.88995709,  -31.26362093,  127.67174326,\n",
              "        -11.73473522,  -35.61510754,   55.67571519,   67.86578677,\n",
              "         -4.61101082,   34.04244019,   73.00061267,   68.96119002,\n",
              "        -12.27672131,   24.28351465,  -59.29095441,  -91.81417113,\n",
              "        -39.97260749,  -61.56318468,   67.03810297,   62.74271572,\n",
              "        -18.85866632,   75.80600717,  -47.88850505,   97.59599807,\n",
              "         42.08390256,  -35.08091814])"
            ]
          },
          "metadata": {}
        }
      ]
    },
    {
      "cell_type": "markdown",
      "source": [
        "Разобьем выборку на обучение и тест с помощью `train_test_split`."
      ],
      "metadata": {
        "id": "MUTOouynBiX4"
      }
    },
    {
      "cell_type": "code",
      "source": [
        "from sklearn.model_selection import train_test_split\n",
        "\n",
        "X_train, X_test, y_train, y_test = train_test_split(X, y, random_state=10, test_size=10)\n",
        "X_train.shape, X_test.shape"
      ],
      "metadata": {
        "colab": {
          "base_uri": "https://localhost:8080/"
        },
        "outputId": "bf607329-46ab-4a75-fa6b-95f9642708b4",
        "id": "Csv1yNExBiX5"
      },
      "execution_count": null,
      "outputs": [
        {
          "output_type": "execute_result",
          "data": {
            "text/plain": [
              "((100, 2), (10, 2))"
            ]
          },
          "metadata": {},
          "execution_count": 23
        }
      ]
    },
    {
      "cell_type": "markdown",
      "source": [
        "И отрисуем полученные точки, раскрасим их в зависимости от целевого значения, если точка более яркая, то значит у неё большое целевое значение, если точка более блеклая, то и целевое значение меньше.\n",
        "\n",
        "А зеленые звезды - это тестовые точки, для них будет искать ближайших соседей."
      ],
      "metadata": {
        "id": "R0Wkoaw_BiX5"
      }
    },
    {
      "cell_type": "code",
      "source": [
        "plt.figure(figsize=(10, 8))\n",
        "sns.scatterplot(\n",
        "    x=X_train[:, 0],\n",
        "    y=X_train[:, 1],\n",
        "    hue=y_train\n",
        ")\n",
        "\n",
        "plt.scatter(X_test[:, 0], X_test[:, 1], c='g', marker='*', s=100, label='test dots')\n",
        "plt.legend();"
      ],
      "metadata": {
        "colab": {
          "base_uri": "https://localhost:8080/",
          "height": 676
        },
        "outputId": "51c0c145-3610-46ec-db77-7e287c8f13d6",
        "id": "Nrbq4l4xBiX5"
      },
      "execution_count": null,
      "outputs": [
        {
          "output_type": "display_data",
          "data": {
            "text/plain": [
              "<Figure size 1000x800 with 1 Axes>"
            ],
            "image/png": "[encoded data removed]"
          },
          "metadata": {}
        }
      ]
    },
    {
      "cell_type": "markdown",
      "source": [
        "### Обучение KNN"
      ],
      "metadata": {
        "id": "N7-FltOtBiX5"
      }
    },
    {
      "cell_type": "markdown",
      "source": [
        "Инициализируем модель `KNeighborsRegressor` для задачи регрессии из `sklearn`."
      ],
      "metadata": {
        "id": "xuEW-OJ9BiX6"
      }
    },
    {
      "cell_type": "code",
      "source": [
        "from sklearn.neighbors import KNeighborsRegressor\n",
        "\n",
        "n_neighbors = 3\n",
        "model = KNeighborsRegressor(n_neighbors=n_neighbors)"
      ],
      "metadata": {
        "id": "IR2S6-gMBiX6"
      },
      "execution_count": null,
      "outputs": []
    },
    {
      "cell_type": "markdown",
      "source": [
        "И обучаем на обучающей выборке.\n",
        "\n",
        "Никакого обучения здесь нет, на самом деле, модель просто сохраняет выборку."
      ],
      "metadata": {
        "id": "1ptkvqF-BiX6"
      }
    },
    {
      "cell_type": "code",
      "source": [
        "model.fit(X_train, y_train)"
      ],
      "metadata": {
        "colab": {
          "base_uri": "https://localhost:8080/",
          "height": 75
        },
        "outputId": "50174ca8-ca93-435a-c2f6-8b03f90cd5b4",
        "id": "GKUIoYs7BiX6"
      },
      "execution_count": null,
      "outputs": [
        {
          "output_type": "execute_result",
          "data": {
            "text/plain": [
              "KNeighborsRegressor(n_neighbors=3)"
            ],
            "text/html": [
              "<style>#sk-container-id-2 {color: black;background-color: white;}#sk-container-id-2 pre{padding: 0;}#sk-container-id-2 div.sk-toggleable {background-color: white;}#sk-container-id-2 label.sk-toggleable__label {cursor: pointer;display: block;width: 100%;margin-bottom: 0;padding: 0.3em;box-sizing: border-box;text-align: center;}#sk-container-id-2 label.sk-toggleable__label-arrow:before {content: \"▸\";float: left;margin-right: 0.25em;color: #696969;}#sk-container-id-2 label.sk-toggleable__label-arrow:hover:before {color: black;}#sk-container-id-2 div.sk-estimator:hover label.sk-toggleable__label-arrow:before {color: black;}#sk-container-id-2 div.sk-toggleable__content {max-height: 0;max-width: 0;overflow: hidden;text-align: left;background-color: #f0f8ff;}#sk-container-id-2 div.sk-toggleable__content pre {margin: 0.2em;color: black;border-radius: 0.25em;background-color: #f0f8ff;}#sk-container-id-2 input.sk-toggleable__control:checked~div.sk-toggleable__content {max-height: 200px;max-width: 100%;overflow: auto;}#sk-container-id-2 input.sk-toggleable__control:checked~label.sk-toggleable__label-arrow:before {content: \"▾\";}#sk-container-id-2 div.sk-estimator input.sk-toggleable__control:checked~label.sk-toggleable__label {background-color: #d4ebff;}#sk-container-id-2 div.sk-label input.sk-toggleable__control:checked~label.sk-toggleable__label {background-color: #d4ebff;}#sk-container-id-2 input.sk-hidden--visually {border: 0;clip: rect(1px 1px 1px 1px);clip: rect(1px, 1px, 1px, 1px);height: 1px;margin: -1px;overflow: hidden;padding: 0;position: absolute;width: 1px;}#sk-container-id-2 div.sk-estimator {font-family: monospace;background-color: #f0f8ff;border: 1px dotted black;border-radius: 0.25em;box-sizing: border-box;margin-bottom: 0.5em;}#sk-container-id-2 div.sk-estimator:hover {background-color: #d4ebff;}#sk-container-id-2 div.sk-parallel-item::after {content: \"\";width: 100%;border-bottom: 1px solid gray;flex-grow: 1;}#sk-container-id-2 div.sk-label:hover label.sk-toggleable__label {background-color: #d4ebff;}#sk-container-id-2 div.sk-serial::before {content: \"\";position: absolute;border-left: 1px solid gray;box-sizing: border-box;top: 0;bottom: 0;left: 50%;z-index: 0;}#sk-container-id-2 div.sk-serial {display: flex;flex-direction: column;align-items: center;background-color: white;padding-right: 0.2em;padding-left: 0.2em;position: relative;}#sk-container-id-2 div.sk-item {position: relative;z-index: 1;}#sk-container-id-2 div.sk-parallel {display: flex;align-items: stretch;justify-content: center;background-color: white;position: relative;}#sk-container-id-2 div.sk-item::before, #sk-container-id-2 div.sk-parallel-item::before {content: \"\";position: absolute;border-left: 1px solid gray;box-sizing: border-box;top: 0;bottom: 0;left: 50%;z-index: -1;}#sk-container-id-2 div.sk-parallel-item {display: flex;flex-direction: column;z-index: 1;position: relative;background-color: white;}#sk-container-id-2 div.sk-parallel-item:first-child::after {align-self: flex-end;width: 50%;}#sk-container-id-2 div.sk-parallel-item:last-child::after {align-self: flex-start;width: 50%;}#sk-container-id-2 div.sk-parallel-item:only-child::after {width: 0;}#sk-container-id-2 div.sk-dashed-wrapped {border: 1px dashed gray;margin: 0 0.4em 0.5em 0.4em;box-sizing: border-box;padding-bottom: 0.4em;background-color: white;}#sk-container-id-2 div.sk-label label {font-family: monospace;font-weight: bold;display: inline-block;line-height: 1.2em;}#sk-container-id-2 div.sk-label-container {text-align: center;}#sk-container-id-2 div.sk-container {/* jupyter's `normalize.less` sets `[hidden] { display: none; }` but bootstrap.min.css set `[hidden] { display: none !important; }` so we also need the `!important` here to be able to override the default hidden behavior on the sphinx rendered scikit-learn.org. See: https://github.com/scikit-learn/scikit-learn/issues/21755 */display: inline-block !important;position: relative;}#sk-container-id-2 div.sk-text-repr-fallback {display: none;}</style><div id=\"sk-container-id-2\" class=\"sk-top-container\"><div class=\"sk-text-repr-fallback\"><pre>KNeighborsRegressor(n_neighbors=3)</pre><b>In a Jupyter environment, please rerun this cell to show the HTML representation or trust the notebook. <br />On GitHub, the HTML representation is unable to render, please try loading this page with nbviewer.org.</b></div><div class=\"sk-container\" hidden><div class=\"sk-item\"><div class=\"sk-estimator sk-toggleable\"><input class=\"sk-toggleable__control sk-hidden--visually\" id=\"sk-estimator-id-2\" type=\"checkbox\" checked><label for=\"sk-estimator-id-2\" class=\"sk-toggleable__label sk-toggleable__label-arrow\">KNeighborsRegressor</label><div class=\"sk-toggleable__content\"><pre>KNeighborsRegressor(n_neighbors=3)</pre></div></div></div></div></div>"
            ]
          },
          "metadata": {},
          "execution_count": 26
        }
      ]
    },
    {
      "cell_type": "markdown",
      "source": [
        "![image.png](data:image/png;base64,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)"
      ],
      "metadata": {
        "id": "c0rqa7ZYNZ1w"
      }
    },
    {
      "cell_type": "markdown",
      "source": [
        "### Предсказание KNN"
      ],
      "metadata": {
        "id": "aANX_43GBiX7"
      }
    },
    {
      "cell_type": "markdown",
      "source": [
        "И теперь можем сделать предсказания для наших тестовых объектов."
      ],
      "metadata": {
        "id": "woBE8vvKBiX7"
      }
    },
    {
      "cell_type": "code",
      "source": [
        "pred_test = model.predict(X_test)\n",
        "pred_test"
      ],
      "metadata": {
        "colab": {
          "base_uri": "https://localhost:8080/"
        },
        "outputId": "38bff4df-6ea0-41e0-a4ac-7ca3a7137400",
        "id": "tFlQPmwOBiX7"
      },
      "execution_count": null,
      "outputs": [
        {
          "output_type": "execute_result",
          "data": {
            "text/plain": [
              "array([-53.99812541, -25.33424853, -28.83554665, -10.18245823,\n",
              "        47.79409516, 114.96770525, -16.82251686,   9.90350525,\n",
              "         5.5775676 , -69.31157808])"
            ]
          },
          "metadata": {},
          "execution_count": 27
        }
      ]
    },
    {
      "cell_type": "markdown",
      "source": [
        "И посмотрим, насколько предсказанные классы похожи на правду."
      ],
      "metadata": {
        "id": "dxpF3TMUBiX7"
      }
    },
    {
      "cell_type": "code",
      "source": [
        "display(pred_test, y_test)"
      ],
      "metadata": {
        "colab": {
          "base_uri": "https://localhost:8080/",
          "height": 121
        },
        "outputId": "893c3981-71e9-428b-fe89-66305e5091fb",
        "id": "QPuJP0RXBiX8"
      },
      "execution_count": null,
      "outputs": [
        {
          "output_type": "display_data",
          "data": {
            "text/plain": [
              "array([-53.99812541, -25.33424853, -28.83554665, -10.18245823,\n",
              "        47.79409516, 114.96770525, -16.82251686,   9.90350525,\n",
              "         5.5775676 , -69.31157808])"
            ]
          },
          "metadata": {}
        },
        {
          "output_type": "display_data",
          "data": {
            "text/plain": [
              "array([-61.56318468, -23.01956535, -34.93897749,   0.28292736,\n",
              "        49.5828809 , 127.67174326, -55.44024142,   9.81536928,\n",
              "        13.26158326, -99.30796032])"
            ]
          },
          "metadata": {}
        }
      ]
    },
    {
      "cell_type": "markdown",
      "source": [
        "Они конечно совпадают неидеально, но в целом они имеют близкие значения."
      ],
      "metadata": {
        "id": "L1CU1aufBiX8"
      }
    },
    {
      "cell_type": "markdown",
      "source": [
        "#### Детали получения предсказания в KNN"
      ],
      "metadata": {
        "id": "fJm4fUtABiX8"
      }
    },
    {
      "cell_type": "markdown",
      "source": [
        "А давайте увидем ближайших соседей для пары тестовых объектов.\n",
        "\n",
        "Для этого\n",
        "1. пройдемся по всем обучающим объектам\n",
        "2. посчитаем Эвклидово расстояние (ведь именно оно и считается по умолчанию в KNN в `sklearn`) через `numpy.linalg.norm`."
      ],
      "metadata": {
        "id": "dJC45bVEBiX8"
      }
    },
    {
      "cell_type": "code",
      "source": [
        "import numpy as np\n",
        "import pandas as pd\n",
        "\n",
        "\n",
        "idx = 0\n",
        "test_dot = X_test[idx]\n",
        "\n",
        "distances = pd.DataFrame()\n",
        "for i, train_dot in enumerate(X_train):  # 1\n",
        "    distances = distances.append({\n",
        "        'train_idx': i,\n",
        "        'dst': np.linalg.norm(train_dot - test_dot, ord=2)  # 2\n",
        "    }, ignore_index=True)"
      ],
      "metadata": {
        "id": "5kdXP1wKBiX8",
        "outputId": "32d2356e-e969-49c3-f676-7dac083f1266",
        "colab": {
          "base_uri": "https://localhost:8080/"
        }
      },
      "execution_count": null,
      "outputs": [
        {
          "output_type": "stream",
          "name": "stderr",
          "text": [
            "<ipython-input-29-d7a5f4ce36ec>:10: FutureWarning: The frame.append method is deprecated and will be removed from pandas in a future version. Use pandas.concat instead.\n",
            "  distances = distances.append({\n",
            "<ipython-input-29-d7a5f4ce36ec>:10: FutureWarning: The frame.append method is deprecated and will be removed from pandas in a future version. Use pandas.concat instead.\n",
            "  distances = distances.append({\n",
            "<ipython-input-29-d7a5f4ce36ec>:10: FutureWarning: The frame.append method is deprecated and will be removed from pandas in a future version. Use pandas.concat instead.\n",
            "  distances = distances.append({\n",
            "<ipython-input-29-d7a5f4ce36ec>:10: FutureWarning: The frame.append method is deprecated and will be removed from pandas in a future version. Use pandas.concat instead.\n",
            "  distances = distances.append({\n",
            "<ipython-input-29-d7a5f4ce36ec>:10: FutureWarning: The frame.append method is deprecated and will be removed from pandas in a future version. Use pandas.concat instead.\n",
            "  distances = distances.append({\n",
            "<ipython-input-29-d7a5f4ce36ec>:10: FutureWarning: The frame.append method is deprecated and will be removed from pandas in a future version. Use pandas.concat instead.\n",
            "  distances = distances.append({\n",
            "<ipython-input-29-d7a5f4ce36ec>:10: FutureWarning: The frame.append method is deprecated and will be removed from pandas in a future version. Use pandas.concat instead.\n",
            "  distances = distances.append({\n",
            "<ipython-input-29-d7a5f4ce36ec>:10: FutureWarning: The frame.append method is deprecated and will be removed from pandas in a future version. Use pandas.concat instead.\n",
            "  distances = distances.append({\n",
            "<ipython-input-29-d7a5f4ce36ec>:10: FutureWarning: The frame.append method is deprecated and will be removed from pandas in a future version. Use pandas.concat instead.\n",
            "  distances = distances.append({\n",
            "<ipython-input-29-d7a5f4ce36ec>:10: FutureWarning: The frame.append method is deprecated and will be removed from pandas in a future version. Use pandas.concat instead.\n",
            "  distances = distances.append({\n",
            "<ipython-input-29-d7a5f4ce36ec>:10: FutureWarning: The frame.append method is deprecated and will be removed from pandas in a future version. Use pandas.concat instead.\n",
            "  distances = distances.append({\n",
            "<ipython-input-29-d7a5f4ce36ec>:10: FutureWarning: The frame.append method is deprecated and will be removed from pandas in a future version. Use pandas.concat instead.\n",
            "  distances = distances.append({\n",
            "<ipython-input-29-d7a5f4ce36ec>:10: FutureWarning: The frame.append method is deprecated and will be removed from pandas in a future version. Use pandas.concat instead.\n",
            "  distances = distances.append({\n",
            "<ipython-input-29-d7a5f4ce36ec>:10: FutureWarning: The frame.append method is deprecated and will be removed from pandas in a future version. Use pandas.concat instead.\n",
            "  distances = distances.append({\n",
            "<ipython-input-29-d7a5f4ce36ec>:10: FutureWarning: The frame.append method is deprecated and will be removed from pandas in a future version. Use pandas.concat instead.\n",
            "  distances = distances.append({\n",
            "<ipython-input-29-d7a5f4ce36ec>:10: FutureWarning: The frame.append method is deprecated and will be removed from pandas in a future version. Use pandas.concat instead.\n",
            "  distances = distances.append({\n",
            "<ipython-input-29-d7a5f4ce36ec>:10: FutureWarning: The frame.append method is deprecated and will be removed from pandas in a future version. Use pandas.concat instead.\n",
            "  distances = distances.append({\n",
            "<ipython-input-29-d7a5f4ce36ec>:10: FutureWarning: The frame.append method is deprecated and will be removed from pandas in a future version. Use pandas.concat instead.\n",
            "  distances = distances.append({\n",
            "<ipython-input-29-d7a5f4ce36ec>:10: FutureWarning: The frame.append method is deprecated and will be removed from pandas in a future version. Use pandas.concat instead.\n",
            "  distances = distances.append({\n",
            "<ipython-input-29-d7a5f4ce36ec>:10: FutureWarning: The frame.append method is deprecated and will be removed from pandas in a future version. Use pandas.concat instead.\n",
            "  distances = distances.append({\n",
            "<ipython-input-29-d7a5f4ce36ec>:10: FutureWarning: The frame.append method is deprecated and will be removed from pandas in a future version. Use pandas.concat instead.\n",
            "  distances = distances.append({\n",
            "<ipython-input-29-d7a5f4ce36ec>:10: FutureWarning: The frame.append method is deprecated and will be removed from pandas in a future version. Use pandas.concat instead.\n",
            "  distances = distances.append({\n",
            "<ipython-input-29-d7a5f4ce36ec>:10: FutureWarning: The frame.append method is deprecated and will be removed from pandas in a future version. Use pandas.concat instead.\n",
            "  distances = distances.append({\n",
            "<ipython-input-29-d7a5f4ce36ec>:10: FutureWarning: The frame.append method is deprecated and will be removed from pandas in a future version. Use pandas.concat instead.\n",
            "  distances = distances.append({\n",
            "<ipython-input-29-d7a5f4ce36ec>:10: FutureWarning: The frame.append method is deprecated and will be removed from pandas in a future version. Use pandas.concat instead.\n",
            "  distances = distances.append({\n",
            "<ipython-input-29-d7a5f4ce36ec>:10: FutureWarning: The frame.append method is deprecated and will be removed from pandas in a future version. Use pandas.concat instead.\n",
            "  distances = distances.append({\n",
            "<ipython-input-29-d7a5f4ce36ec>:10: FutureWarning: The frame.append method is deprecated and will be removed from pandas in a future version. Use pandas.concat instead.\n",
            "  distances = distances.append({\n",
            "<ipython-input-29-d7a5f4ce36ec>:10: FutureWarning: The frame.append method is deprecated and will be removed from pandas in a future version. Use pandas.concat instead.\n",
            "  distances = distances.append({\n",
            "<ipython-input-29-d7a5f4ce36ec>:10: FutureWarning: The frame.append method is deprecated and will be removed from pandas in a future version. Use pandas.concat instead.\n",
            "  distances = distances.append({\n",
            "<ipython-input-29-d7a5f4ce36ec>:10: FutureWarning: The frame.append method is deprecated and will be removed from pandas in a future version. Use pandas.concat instead.\n",
            "  distances = distances.append({\n",
            "<ipython-input-29-d7a5f4ce36ec>:10: FutureWarning: The frame.append method is deprecated and will be removed from pandas in a future version. Use pandas.concat instead.\n",
            "  distances = distances.append({\n",
            "<ipython-input-29-d7a5f4ce36ec>:10: FutureWarning: The frame.append method is deprecated and will be removed from pandas in a future version. Use pandas.concat instead.\n",
            "  distances = distances.append({\n",
            "<ipython-input-29-d7a5f4ce36ec>:10: FutureWarning: The frame.append method is deprecated and will be removed from pandas in a future version. Use pandas.concat instead.\n",
            "  distances = distances.append({\n",
            "<ipython-input-29-d7a5f4ce36ec>:10: FutureWarning: The frame.append method is deprecated and will be removed from pandas in a future version. Use pandas.concat instead.\n",
            "  distances = distances.append({\n",
            "<ipython-input-29-d7a5f4ce36ec>:10: FutureWarning: The frame.append method is deprecated and will be removed from pandas in a future version. Use pandas.concat instead.\n",
            "  distances = distances.append({\n",
            "<ipython-input-29-d7a5f4ce36ec>:10: FutureWarning: The frame.append method is deprecated and will be removed from pandas in a future version. Use pandas.concat instead.\n",
            "  distances = distances.append({\n",
            "<ipython-input-29-d7a5f4ce36ec>:10: FutureWarning: The frame.append method is deprecated and will be removed from pandas in a future version. Use pandas.concat instead.\n",
            "  distances = distances.append({\n",
            "<ipython-input-29-d7a5f4ce36ec>:10: FutureWarning: The frame.append method is deprecated and will be removed from pandas in a future version. Use pandas.concat instead.\n",
            "  distances = distances.append({\n",
            "<ipython-input-29-d7a5f4ce36ec>:10: FutureWarning: The frame.append method is deprecated and will be removed from pandas in a future version. Use pandas.concat instead.\n",
            "  distances = distances.append({\n",
            "<ipython-input-29-d7a5f4ce36ec>:10: FutureWarning: The frame.append method is deprecated and will be removed from pandas in a future version. Use pandas.concat instead.\n",
            "  distances = distances.append({\n",
            "<ipython-input-29-d7a5f4ce36ec>:10: FutureWarning: The frame.append method is deprecated and will be removed from pandas in a future version. Use pandas.concat instead.\n",
            "  distances = distances.append({\n",
            "<ipython-input-29-d7a5f4ce36ec>:10: FutureWarning: The frame.append method is deprecated and will be removed from pandas in a future version. Use pandas.concat instead.\n",
            "  distances = distances.append({\n",
            "<ipython-input-29-d7a5f4ce36ec>:10: FutureWarning: The frame.append method is deprecated and will be removed from pandas in a future version. Use pandas.concat instead.\n",
            "  distances = distances.append({\n",
            "<ipython-input-29-d7a5f4ce36ec>:10: FutureWarning: The frame.append method is deprecated and will be removed from pandas in a future version. Use pandas.concat instead.\n",
            "  distances = distances.append({\n",
            "<ipython-input-29-d7a5f4ce36ec>:10: FutureWarning: The frame.append method is deprecated and will be removed from pandas in a future version. Use pandas.concat instead.\n",
            "  distances = distances.append({\n",
            "<ipython-input-29-d7a5f4ce36ec>:10: FutureWarning: The frame.append method is deprecated and will be removed from pandas in a future version. Use pandas.concat instead.\n",
            "  distances = distances.append({\n",
            "<ipython-input-29-d7a5f4ce36ec>:10: FutureWarning: The frame.append method is deprecated and will be removed from pandas in a future version. Use pandas.concat instead.\n",
            "  distances = distances.append({\n",
            "<ipython-input-29-d7a5f4ce36ec>:10: FutureWarning: The frame.append method is deprecated and will be removed from pandas in a future version. Use pandas.concat instead.\n",
            "  distances = distances.append({\n",
            "<ipython-input-29-d7a5f4ce36ec>:10: FutureWarning: The frame.append method is deprecated and will be removed from pandas in a future version. Use pandas.concat instead.\n",
            "  distances = distances.append({\n",
            "<ipython-input-29-d7a5f4ce36ec>:10: FutureWarning: The frame.append method is deprecated and will be removed from pandas in a future version. Use pandas.concat instead.\n",
            "  distances = distances.append({\n",
            "<ipython-input-29-d7a5f4ce36ec>:10: FutureWarning: The frame.append method is deprecated and will be removed from pandas in a future version. Use pandas.concat instead.\n",
            "  distances = distances.append({\n",
            "<ipython-input-29-d7a5f4ce36ec>:10: FutureWarning: The frame.append method is deprecated and will be removed from pandas in a future version. Use pandas.concat instead.\n",
            "  distances = distances.append({\n",
            "<ipython-input-29-d7a5f4ce36ec>:10: FutureWarning: The frame.append method is deprecated and will be removed from pandas in a future version. Use pandas.concat instead.\n",
            "  distances = distances.append({\n",
            "<ipython-input-29-d7a5f4ce36ec>:10: FutureWarning: The frame.append method is deprecated and will be removed from pandas in a future version. Use pandas.concat instead.\n",
            "  distances = distances.append({\n",
            "<ipython-input-29-d7a5f4ce36ec>:10: FutureWarning: The frame.append method is deprecated and will be removed from pandas in a future version. Use pandas.concat instead.\n",
            "  distances = distances.append({\n",
            "<ipython-input-29-d7a5f4ce36ec>:10: FutureWarning: The frame.append method is deprecated and will be removed from pandas in a future version. Use pandas.concat instead.\n",
            "  distances = distances.append({\n",
            "<ipython-input-29-d7a5f4ce36ec>:10: FutureWarning: The frame.append method is deprecated and will be removed from pandas in a future version. Use pandas.concat instead.\n",
            "  distances = distances.append({\n",
            "<ipython-input-29-d7a5f4ce36ec>:10: FutureWarning: The frame.append method is deprecated and will be removed from pandas in a future version. Use pandas.concat instead.\n",
            "  distances = distances.append({\n",
            "<ipython-input-29-d7a5f4ce36ec>:10: FutureWarning: The frame.append method is deprecated and will be removed from pandas in a future version. Use pandas.concat instead.\n",
            "  distances = distances.append({\n",
            "<ipython-input-29-d7a5f4ce36ec>:10: FutureWarning: The frame.append method is deprecated and will be removed from pandas in a future version. Use pandas.concat instead.\n",
            "  distances = distances.append({\n",
            "<ipython-input-29-d7a5f4ce36ec>:10: FutureWarning: The frame.append method is deprecated and will be removed from pandas in a future version. Use pandas.concat instead.\n",
            "  distances = distances.append({\n",
            "<ipython-input-29-d7a5f4ce36ec>:10: FutureWarning: The frame.append method is deprecated and will be removed from pandas in a future version. Use pandas.concat instead.\n",
            "  distances = distances.append({\n",
            "<ipython-input-29-d7a5f4ce36ec>:10: FutureWarning: The frame.append method is deprecated and will be removed from pandas in a future version. Use pandas.concat instead.\n",
            "  distances = distances.append({\n",
            "<ipython-input-29-d7a5f4ce36ec>:10: FutureWarning: The frame.append method is deprecated and will be removed from pandas in a future version. Use pandas.concat instead.\n",
            "  distances = distances.append({\n",
            "<ipython-input-29-d7a5f4ce36ec>:10: FutureWarning: The frame.append method is deprecated and will be removed from pandas in a future version. Use pandas.concat instead.\n",
            "  distances = distances.append({\n",
            "<ipython-input-29-d7a5f4ce36ec>:10: FutureWarning: The frame.append method is deprecated and will be removed from pandas in a future version. Use pandas.concat instead.\n",
            "  distances = distances.append({\n",
            "<ipython-input-29-d7a5f4ce36ec>:10: FutureWarning: The frame.append method is deprecated and will be removed from pandas in a future version. Use pandas.concat instead.\n",
            "  distances = distances.append({\n",
            "<ipython-input-29-d7a5f4ce36ec>:10: FutureWarning: The frame.append method is deprecated and will be removed from pandas in a future version. Use pandas.concat instead.\n",
            "  distances = distances.append({\n",
            "<ipython-input-29-d7a5f4ce36ec>:10: FutureWarning: The frame.append method is deprecated and will be removed from pandas in a future version. Use pandas.concat instead.\n",
            "  distances = distances.append({\n",
            "<ipython-input-29-d7a5f4ce36ec>:10: FutureWarning: The frame.append method is deprecated and will be removed from pandas in a future version. Use pandas.concat instead.\n",
            "  distances = distances.append({\n",
            "<ipython-input-29-d7a5f4ce36ec>:10: FutureWarning: The frame.append method is deprecated and will be removed from pandas in a future version. Use pandas.concat instead.\n",
            "  distances = distances.append({\n",
            "<ipython-input-29-d7a5f4ce36ec>:10: FutureWarning: The frame.append method is deprecated and will be removed from pandas in a future version. Use pandas.concat instead.\n",
            "  distances = distances.append({\n",
            "<ipython-input-29-d7a5f4ce36ec>:10: FutureWarning: The frame.append method is deprecated and will be removed from pandas in a future version. Use pandas.concat instead.\n",
            "  distances = distances.append({\n",
            "<ipython-input-29-d7a5f4ce36ec>:10: FutureWarning: The frame.append method is deprecated and will be removed from pandas in a future version. Use pandas.concat instead.\n",
            "  distances = distances.append({\n",
            "<ipython-input-29-d7a5f4ce36ec>:10: FutureWarning: The frame.append method is deprecated and will be removed from pandas in a future version. Use pandas.concat instead.\n",
            "  distances = distances.append({\n",
            "<ipython-input-29-d7a5f4ce36ec>:10: FutureWarning: The frame.append method is deprecated and will be removed from pandas in a future version. Use pandas.concat instead.\n",
            "  distances = distances.append({\n",
            "<ipython-input-29-d7a5f4ce36ec>:10: FutureWarning: The frame.append method is deprecated and will be removed from pandas in a future version. Use pandas.concat instead.\n",
            "  distances = distances.append({\n",
            "<ipython-input-29-d7a5f4ce36ec>:10: FutureWarning: The frame.append method is deprecated and will be removed from pandas in a future version. Use pandas.concat instead.\n",
            "  distances = distances.append({\n",
            "<ipython-input-29-d7a5f4ce36ec>:10: FutureWarning: The frame.append method is deprecated and will be removed from pandas in a future version. Use pandas.concat instead.\n",
            "  distances = distances.append({\n",
            "<ipython-input-29-d7a5f4ce36ec>:10: FutureWarning: The frame.append method is deprecated and will be removed from pandas in a future version. Use pandas.concat instead.\n",
            "  distances = distances.append({\n",
            "<ipython-input-29-d7a5f4ce36ec>:10: FutureWarning: The frame.append method is deprecated and will be removed from pandas in a future version. Use pandas.concat instead.\n",
            "  distances = distances.append({\n",
            "<ipython-input-29-d7a5f4ce36ec>:10: FutureWarning: The frame.append method is deprecated and will be removed from pandas in a future version. Use pandas.concat instead.\n",
            "  distances = distances.append({\n",
            "<ipython-input-29-d7a5f4ce36ec>:10: FutureWarning: The frame.append method is deprecated and will be removed from pandas in a future version. Use pandas.concat instead.\n",
            "  distances = distances.append({\n",
            "<ipython-input-29-d7a5f4ce36ec>:10: FutureWarning: The frame.append method is deprecated and will be removed from pandas in a future version. Use pandas.concat instead.\n",
            "  distances = distances.append({\n",
            "<ipython-input-29-d7a5f4ce36ec>:10: FutureWarning: The frame.append method is deprecated and will be removed from pandas in a future version. Use pandas.concat instead.\n",
            "  distances = distances.append({\n",
            "<ipython-input-29-d7a5f4ce36ec>:10: FutureWarning: The frame.append method is deprecated and will be removed from pandas in a future version. Use pandas.concat instead.\n",
            "  distances = distances.append({\n",
            "<ipython-input-29-d7a5f4ce36ec>:10: FutureWarning: The frame.append method is deprecated and will be removed from pandas in a future version. Use pandas.concat instead.\n",
            "  distances = distances.append({\n",
            "<ipython-input-29-d7a5f4ce36ec>:10: FutureWarning: The frame.append method is deprecated and will be removed from pandas in a future version. Use pandas.concat instead.\n",
            "  distances = distances.append({\n",
            "<ipython-input-29-d7a5f4ce36ec>:10: FutureWarning: The frame.append method is deprecated and will be removed from pandas in a future version. Use pandas.concat instead.\n",
            "  distances = distances.append({\n",
            "<ipython-input-29-d7a5f4ce36ec>:10: FutureWarning: The frame.append method is deprecated and will be removed from pandas in a future version. Use pandas.concat instead.\n",
            "  distances = distances.append({\n",
            "<ipython-input-29-d7a5f4ce36ec>:10: FutureWarning: The frame.append method is deprecated and will be removed from pandas in a future version. Use pandas.concat instead.\n",
            "  distances = distances.append({\n",
            "<ipython-input-29-d7a5f4ce36ec>:10: FutureWarning: The frame.append method is deprecated and will be removed from pandas in a future version. Use pandas.concat instead.\n",
            "  distances = distances.append({\n",
            "<ipython-input-29-d7a5f4ce36ec>:10: FutureWarning: The frame.append method is deprecated and will be removed from pandas in a future version. Use pandas.concat instead.\n",
            "  distances = distances.append({\n",
            "<ipython-input-29-d7a5f4ce36ec>:10: FutureWarning: The frame.append method is deprecated and will be removed from pandas in a future version. Use pandas.concat instead.\n",
            "  distances = distances.append({\n",
            "<ipython-input-29-d7a5f4ce36ec>:10: FutureWarning: The frame.append method is deprecated and will be removed from pandas in a future version. Use pandas.concat instead.\n",
            "  distances = distances.append({\n",
            "<ipython-input-29-d7a5f4ce36ec>:10: FutureWarning: The frame.append method is deprecated and will be removed from pandas in a future version. Use pandas.concat instead.\n",
            "  distances = distances.append({\n",
            "<ipython-input-29-d7a5f4ce36ec>:10: FutureWarning: The frame.append method is deprecated and will be removed from pandas in a future version. Use pandas.concat instead.\n",
            "  distances = distances.append({\n",
            "<ipython-input-29-d7a5f4ce36ec>:10: FutureWarning: The frame.append method is deprecated and will be removed from pandas in a future version. Use pandas.concat instead.\n",
            "  distances = distances.append({\n",
            "<ipython-input-29-d7a5f4ce36ec>:10: FutureWarning: The frame.append method is deprecated and will be removed from pandas in a future version. Use pandas.concat instead.\n",
            "  distances = distances.append({\n",
            "<ipython-input-29-d7a5f4ce36ec>:10: FutureWarning: The frame.append method is deprecated and will be removed from pandas in a future version. Use pandas.concat instead.\n",
            "  distances = distances.append({\n"
          ]
        }
      ]
    },
    {
      "cell_type": "markdown",
      "source": [
        "И после подсчета всех расстояний от тестового объекта до обучающих объектов мы берем наиближайших, тех у которых расстояние меньше всех.\n",
        "\n",
        "И возьмем только 3 соседей."
      ],
      "metadata": {
        "id": "lM13T7PFBiX9"
      }
    },
    {
      "cell_type": "code",
      "source": [
        "distances.sort_values('dst').head(n_neighbors)"
      ],
      "metadata": {
        "colab": {
          "base_uri": "https://localhost:8080/",
          "height": 143
        },
        "outputId": "4a94b9ca-618a-4b9a-f7b2-cb67fd8b2e76",
        "id": "DCXqcQ5nBiX9"
      },
      "execution_count": null,
      "outputs": [
        {
          "output_type": "execute_result",
          "data": {
            "text/plain": [
              "    train_idx       dst\n",
              "60       60.0  0.202009\n",
              "34       34.0  0.320839\n",
              "32       32.0  0.532766"
            ],
            "text/html": [
              "\n",
              "  <div id=\"df-b2c5f4ca-d4b5-477d-adb1-e6e2bc2af1a7\">\n",
              "    <div class=\"colab-df-container\">\n",
              "      <div>\n",
              "<style scoped>\n",
              "    .dataframe tbody tr th:only-of-type {\n",
              "        vertical-align: middle;\n",
              "    }\n",
              "\n",
              "    .dataframe tbody tr th {\n",
              "        vertical-align: top;\n",
              "    }\n",
              "\n",
              "    .dataframe thead th {\n",
              "        text-align: right;\n",
              "    }\n",
              "</style>\n",
              "<table border=\"1\" class=\"dataframe\">\n",
              "  <thead>\n",
              "    <tr style=\"text-align: right;\">\n",
              "      <th></th>\n",
              "      <th>train_idx</th>\n",
              "      <th>dst</th>\n",
              "    </tr>\n",
              "  </thead>\n",
              "  <tbody>\n",
              "    <tr>\n",
              "      <th>60</th>\n",
              "      <td>60.0</td>\n",
              "      <td>0.202009</td>\n",
              "    </tr>\n",
              "    <tr>\n",
              "      <th>34</th>\n",
              "      <td>34.0</td>\n",
              "      <td>0.320839</td>\n",
              "    </tr>\n",
              "    <tr>\n",
              "      <th>32</th>\n",
              "      <td>32.0</td>\n",
              "      <td>0.532766</td>\n",
              "    </tr>\n",
              "  </tbody>\n",
              "</table>\n",
              "</div>\n",
              "      <button class=\"colab-df-convert\" onclick=\"convertToInteractive('df-b2c5f4ca-d4b5-477d-adb1-e6e2bc2af1a7')\"\n",
              "              title=\"Convert this dataframe to an interactive table.\"\n",
              "              style=\"display:none;\">\n",
              "        \n",
              "  <svg xmlns=\"http://www.w3.org/2000/svg\" height=\"24px\"viewBox=\"0 0 24 24\"\n",
              "       width=\"24px\">\n",
              "    <path d=\"M0 0h24v24H0V0z\" fill=\"none\"/>\n",
              "    <path d=\"M18.56 5.44l.94 2.06.94-2.06 2.06-.94-2.06-.94-.94-2.06-.94 2.06-2.06.94zm-11 1L8.5 8.5l.94-2.06 2.06-.94-2.06-.94L8.5 2.5l-.94 2.06-2.06.94zm10 10l.94 2.06.94-2.06 2.06-.94-2.06-.94-.94-2.06-.94 2.06-2.06.94z\"/><path d=\"M17.41 7.96l-1.37-1.37c-.4-.4-.92-.59-1.43-.59-.52 0-1.04.2-1.43.59L10.3 9.45l-7.72 7.72c-.78.78-.78 2.05 0 2.83L4 21.41c.39.39.9.59 1.41.59.51 0 1.02-.2 1.41-.59l7.78-7.78 2.81-2.81c.8-.78.8-2.07 0-2.86zM5.41 20L4 18.59l7.72-7.72 1.47 1.35L5.41 20z\"/>\n",
              "  </svg>\n",
              "      </button>\n",
              "      \n",
              "  <style>\n",
              "    .colab-df-container {\n",
              "      display:flex;\n",
              "      flex-wrap:wrap;\n",
              "      gap: 12px;\n",
              "    }\n",
              "\n",
              "    .colab-df-convert {\n",
              "      background-color: #E8F0FE;\n",
              "      border: none;\n",
              "      border-radius: 50%;\n",
              "      cursor: pointer;\n",
              "      display: none;\n",
              "      fill: #1967D2;\n",
              "      height: 32px;\n",
              "      padding: 0 0 0 0;\n",
              "      width: 32px;\n",
              "    }\n",
              "\n",
              "    .colab-df-convert:hover {\n",
              "      background-color: #E2EBFA;\n",
              "      box-shadow: 0px 1px 2px rgba(60, 64, 67, 0.3), 0px 1px 3px 1px rgba(60, 64, 67, 0.15);\n",
              "      fill: #174EA6;\n",
              "    }\n",
              "\n",
              "    [theme=dark] .colab-df-convert {\n",
              "      background-color: #3B4455;\n",
              "      fill: #D2E3FC;\n",
              "    }\n",
              "\n",
              "    [theme=dark] .colab-df-convert:hover {\n",
              "      background-color: #434B5C;\n",
              "      box-shadow: 0px 1px 3px 1px rgba(0, 0, 0, 0.15);\n",
              "      filter: drop-shadow(0px 1px 2px rgba(0, 0, 0, 0.3));\n",
              "      fill: #FFFFFF;\n",
              "    }\n",
              "  </style>\n",
              "\n",
              "      <script>\n",
              "        const buttonEl =\n",
              "          document.querySelector('#df-b2c5f4ca-d4b5-477d-adb1-e6e2bc2af1a7 button.colab-df-convert');\n",
              "        buttonEl.style.display =\n",
              "          google.colab.kernel.accessAllowed ? 'block' : 'none';\n",
              "\n",
              "        async function convertToInteractive(key) {\n",
              "          const element = document.querySelector('#df-b2c5f4ca-d4b5-477d-adb1-e6e2bc2af1a7');\n",
              "          const dataTable =\n",
              "            await google.colab.kernel.invokeFunction('convertToInteractive',\n",
              "                                                     [key], {});\n",
              "          if (!dataTable) return;\n",
              "\n",
              "          const docLinkHtml = 'Like what you see? Visit the ' +\n",
              "            '<a target=\"_blank\" href=https://colab.research.google.com/notebooks/data_table.ipynb>data table notebook</a>'\n",
              "            + ' to learn more about interactive tables.';\n",
              "          element.innerHTML = '';\n",
              "          dataTable['output_type'] = 'display_data';\n",
              "          await google.colab.output.renderOutput(dataTable, element);\n",
              "          const docLink = document.createElement('div');\n",
              "          docLink.innerHTML = docLinkHtml;\n",
              "          element.appendChild(docLink);\n",
              "        }\n",
              "      </script>\n",
              "    </div>\n",
              "  </div>\n",
              "  "
            ]
          },
          "metadata": {},
          "execution_count": 30
        }
      ]
    },
    {
      "cell_type": "markdown",
      "source": [
        "И получим их индексы для дальнейшей отрисовки."
      ],
      "metadata": {
        "id": "-q1XCvEpBiX9"
      }
    },
    {
      "cell_type": "code",
      "source": [
        "nearest_neigbors_idxs = distances.sort_values('dst').head(n_neighbors).index\n",
        "nearest_neigbors_idxs"
      ],
      "metadata": {
        "colab": {
          "base_uri": "https://localhost:8080/"
        },
        "outputId": "11b1679b-328f-4cea-fe74-2901cd70a975",
        "id": "AVrb98xJBiX9"
      },
      "execution_count": null,
      "outputs": [
        {
          "output_type": "execute_result",
          "data": {
            "text/plain": [
              "Int64Index([60, 34, 32], dtype='int64')"
            ]
          },
          "metadata": {},
          "execution_count": 31
        }
      ]
    },
    {
      "cell_type": "markdown",
      "source": [
        "Отрисовываем три найденных соседа в полупрозрачные зеленые окружности.\n",
        "\n",
        "И видим, что действительно, эти три объекта самые близкие для данного тестового объекта и они имеют свои три целевых значения.\n",
        "\n",
        "Чтобы получить предсказания для тестового объекта, нужно усреднить целевые значения ближайших соседей."
      ],
      "metadata": {
        "id": "9FW68g9-BiX-"
      }
    },
    {
      "cell_type": "code",
      "source": [
        "np.mean(y_train[nearest_neigbors_idxs])"
      ],
      "metadata": {
        "id": "pxb5_bzgN5zE",
        "outputId": "1edaeedf-f05d-4f23-9909-4306da6266d9",
        "colab": {
          "base_uri": "https://localhost:8080/"
        }
      },
      "execution_count": null,
      "outputs": [
        {
          "output_type": "execute_result",
          "data": {
            "text/plain": [
              "-53.99812541169553"
            ]
          },
          "metadata": {},
          "execution_count": 32
        }
      ]
    },
    {
      "cell_type": "code",
      "source": [
        "plt.figure(figsize=(10, 8))\n",
        "sns.scatterplot(\n",
        "    x=X_train[:, 0],\n",
        "    y=X_train[:, 1],\n",
        "    hue=y_train,\n",
        ")\n",
        "\n",
        "plt.scatter(X_train[nearest_neigbors_idxs, 0], X_train[nearest_neigbors_idxs, 1],\n",
        "            c='g', alpha=0.3, marker='o', s=100, label='nearest neighbors')\n",
        "\n",
        "pred = np.mean(y_train[nearest_neigbors_idxs])\n",
        "plt.scatter(X_test[idx, 0], X_test[idx, 1], c='g', marker='*', s=100, label='test dot')\n",
        "plt.annotate(round(pred, 1), (X_test[idx, 0], X_test[idx, 1]))\n",
        "\n",
        "for i, txt in enumerate(y_train[nearest_neigbors_idxs]):\n",
        "    plt.annotate(round(txt, 1), (X_train[nearest_neigbors_idxs[i], 0], X_train[nearest_neigbors_idxs[i], 1]))\n",
        "\n",
        "plt.legend();"
      ],
      "metadata": {
        "colab": {
          "base_uri": "https://localhost:8080/",
          "height": 676
        },
        "outputId": "2b5c3255-8d38-4449-8b54-ea5082e0bdcf",
        "id": "eLlopVfHBiX-"
      },
      "execution_count": null,
      "outputs": [
        {
          "output_type": "display_data",
          "data": {
            "text/plain": [
              "<Figure size 1000x800 with 1 Axes>"
            ],
            "image/png": "[encoded data removed]"
          },
          "metadata": {}
        }
      ]
    },
    {
      "cell_type": "markdown",
      "source": [
        "А давайте возьмем еще один тестовый объект и сделаем для него точно такие же действия."
      ],
      "metadata": {
        "id": "48ZAvW89BiX-"
      }
    },
    {
      "cell_type": "code",
      "source": [
        "idx = 8\n",
        "test_dot = X_test[idx]\n",
        "\n",
        "distances = pd.DataFrame()\n",
        "for i, train_dot in enumerate(X_train):  # 1\n",
        "    distances = distances.append({\n",
        "        'train_idx': i,\n",
        "        'dst': np.linalg.norm(train_dot - test_dot, ord=2)  # 2\n",
        "    }, ignore_index=True)\n",
        "\n",
        "distances.sort_values('dst').head(n_neighbors)"
      ],
      "metadata": {
        "colab": {
          "base_uri": "https://localhost:8080/",
          "height": 1000
        },
        "outputId": "3aa95ae5-2eb0-4978-fd00-dc24ccf9dc39",
        "id": "rxhALkt7BiX-"
      },
      "execution_count": null,
      "outputs": [
        {
          "output_type": "stream",
          "name": "stderr",
          "text": [
            "<ipython-input-38-12cb99f3a1a5>:6: FutureWarning: The frame.append method is deprecated and will be removed from pandas in a future version. Use pandas.concat instead.\n",
            "  distances = distances.append({\n",
            "<ipython-input-38-12cb99f3a1a5>:6: FutureWarning: The frame.append method is deprecated and will be removed from pandas in a future version. Use pandas.concat instead.\n",
            "  distances = distances.append({\n",
            "<ipython-input-38-12cb99f3a1a5>:6: FutureWarning: The frame.append method is deprecated and will be removed from pandas in a future version. Use pandas.concat instead.\n",
            "  distances = distances.append({\n",
            "<ipython-input-38-12cb99f3a1a5>:6: FutureWarning: The frame.append method is deprecated and will be removed from pandas in a future version. Use pandas.concat instead.\n",
            "  distances = distances.append({\n",
            "<ipython-input-38-12cb99f3a1a5>:6: FutureWarning: The frame.append method is deprecated and will be removed from pandas in a future version. Use pandas.concat instead.\n",
            "  distances = distances.append({\n",
            "<ipython-input-38-12cb99f3a1a5>:6: FutureWarning: The frame.append method is deprecated and will be removed from pandas in a future version. Use pandas.concat instead.\n",
            "  distances = distances.append({\n",
            "<ipython-input-38-12cb99f3a1a5>:6: FutureWarning: The frame.append method is deprecated and will be removed from pandas in a future version. Use pandas.concat instead.\n",
            "  distances = distances.append({\n",
            "<ipython-input-38-12cb99f3a1a5>:6: FutureWarning: The frame.append method is deprecated and will be removed from pandas in a future version. Use pandas.concat instead.\n",
            "  distances = distances.append({\n",
            "<ipython-input-38-12cb99f3a1a5>:6: FutureWarning: The frame.append method is deprecated and will be removed from pandas in a future version. Use pandas.concat instead.\n",
            "  distances = distances.append({\n",
            "<ipython-input-38-12cb99f3a1a5>:6: FutureWarning: The frame.append method is deprecated and will be removed from pandas in a future version. Use pandas.concat instead.\n",
            "  distances = distances.append({\n",
            "<ipython-input-38-12cb99f3a1a5>:6: FutureWarning: The frame.append method is deprecated and will be removed from pandas in a future version. Use pandas.concat instead.\n",
            "  distances = distances.append({\n",
            "<ipython-input-38-12cb99f3a1a5>:6: FutureWarning: The frame.append method is deprecated and will be removed from pandas in a future version. Use pandas.concat instead.\n",
            "  distances = distances.append({\n",
            "<ipython-input-38-12cb99f3a1a5>:6: FutureWarning: The frame.append method is deprecated and will be removed from pandas in a future version. Use pandas.concat instead.\n",
            "  distances = distances.append({\n",
            "<ipython-input-38-12cb99f3a1a5>:6: FutureWarning: The frame.append method is deprecated and will be removed from pandas in a future version. Use pandas.concat instead.\n",
            "  distances = distances.append({\n",
            "<ipython-input-38-12cb99f3a1a5>:6: FutureWarning: The frame.append method is deprecated and will be removed from pandas in a future version. Use pandas.concat instead.\n",
            "  distances = distances.append({\n",
            "<ipython-input-38-12cb99f3a1a5>:6: FutureWarning: The frame.append method is deprecated and will be removed from pandas in a future version. Use pandas.concat instead.\n",
            "  distances = distances.append({\n",
            "<ipython-input-38-12cb99f3a1a5>:6: FutureWarning: The frame.append method is deprecated and will be removed from pandas in a future version. Use pandas.concat instead.\n",
            "  distances = distances.append({\n",
            "<ipython-input-38-12cb99f3a1a5>:6: FutureWarning: The frame.append method is deprecated and will be removed from pandas in a future version. Use pandas.concat instead.\n",
            "  distances = distances.append({\n",
            "<ipython-input-38-12cb99f3a1a5>:6: FutureWarning: The frame.append method is deprecated and will be removed from pandas in a future version. Use pandas.concat instead.\n",
            "  distances = distances.append({\n",
            "<ipython-input-38-12cb99f3a1a5>:6: FutureWarning: The frame.append method is deprecated and will be removed from pandas in a future version. Use pandas.concat instead.\n",
            "  distances = distances.append({\n",
            "<ipython-input-38-12cb99f3a1a5>:6: FutureWarning: The frame.append method is deprecated and will be removed from pandas in a future version. Use pandas.concat instead.\n",
            "  distances = distances.append({\n",
            "<ipython-input-38-12cb99f3a1a5>:6: FutureWarning: The frame.append method is deprecated and will be removed from pandas in a future version. Use pandas.concat instead.\n",
            "  distances = distances.append({\n",
            "<ipython-input-38-12cb99f3a1a5>:6: FutureWarning: The frame.append method is deprecated and will be removed from pandas in a future version. Use pandas.concat instead.\n",
            "  distances = distances.append({\n",
            "<ipython-input-38-12cb99f3a1a5>:6: FutureWarning: The frame.append method is deprecated and will be removed from pandas in a future version. Use pandas.concat instead.\n",
            "  distances = distances.append({\n",
            "<ipython-input-38-12cb99f3a1a5>:6: FutureWarning: The frame.append method is deprecated and will be removed from pandas in a future version. Use pandas.concat instead.\n",
            "  distances = distances.append({\n",
            "<ipython-input-38-12cb99f3a1a5>:6: FutureWarning: The frame.append method is deprecated and will be removed from pandas in a future version. Use pandas.concat instead.\n",
            "  distances = distances.append({\n",
            "<ipython-input-38-12cb99f3a1a5>:6: FutureWarning: The frame.append method is deprecated and will be removed from pandas in a future version. Use pandas.concat instead.\n",
            "  distances = distances.append({\n",
            "<ipython-input-38-12cb99f3a1a5>:6: FutureWarning: The frame.append method is deprecated and will be removed from pandas in a future version. Use pandas.concat instead.\n",
            "  distances = distances.append({\n",
            "<ipython-input-38-12cb99f3a1a5>:6: FutureWarning: The frame.append method is deprecated and will be removed from pandas in a future version. Use pandas.concat instead.\n",
            "  distances = distances.append({\n",
            "<ipython-input-38-12cb99f3a1a5>:6: FutureWarning: The frame.append method is deprecated and will be removed from pandas in a future version. Use pandas.concat instead.\n",
            "  distances = distances.append({\n",
            "<ipython-input-38-12cb99f3a1a5>:6: FutureWarning: The frame.append method is deprecated and will be removed from pandas in a future version. Use pandas.concat instead.\n",
            "  distances = distances.append({\n",
            "<ipython-input-38-12cb99f3a1a5>:6: FutureWarning: The frame.append method is deprecated and will be removed from pandas in a future version. Use pandas.concat instead.\n",
            "  distances = distances.append({\n",
            "<ipython-input-38-12cb99f3a1a5>:6: FutureWarning: The frame.append method is deprecated and will be removed from pandas in a future version. Use pandas.concat instead.\n",
            "  distances = distances.append({\n",
            "<ipython-input-38-12cb99f3a1a5>:6: FutureWarning: The frame.append method is deprecated and will be removed from pandas in a future version. Use pandas.concat instead.\n",
            "  distances = distances.append({\n",
            "<ipython-input-38-12cb99f3a1a5>:6: FutureWarning: The frame.append method is deprecated and will be removed from pandas in a future version. Use pandas.concat instead.\n",
            "  distances = distances.append({\n",
            "<ipython-input-38-12cb99f3a1a5>:6: FutureWarning: The frame.append method is deprecated and will be removed from pandas in a future version. Use pandas.concat instead.\n",
            "  distances = distances.append({\n",
            "<ipython-input-38-12cb99f3a1a5>:6: FutureWarning: The frame.append method is deprecated and will be removed from pandas in a future version. Use pandas.concat instead.\n",
            "  distances = distances.append({\n",
            "<ipython-input-38-12cb99f3a1a5>:6: FutureWarning: The frame.append method is deprecated and will be removed from pandas in a future version. Use pandas.concat instead.\n",
            "  distances = distances.append({\n",
            "<ipython-input-38-12cb99f3a1a5>:6: FutureWarning: The frame.append method is deprecated and will be removed from pandas in a future version. Use pandas.concat instead.\n",
            "  distances = distances.append({\n",
            "<ipython-input-38-12cb99f3a1a5>:6: FutureWarning: The frame.append method is deprecated and will be removed from pandas in a future version. Use pandas.concat instead.\n",
            "  distances = distances.append({\n",
            "<ipython-input-38-12cb99f3a1a5>:6: FutureWarning: The frame.append method is deprecated and will be removed from pandas in a future version. Use pandas.concat instead.\n",
            "  distances = distances.append({\n",
            "<ipython-input-38-12cb99f3a1a5>:6: FutureWarning: The frame.append method is deprecated and will be removed from pandas in a future version. Use pandas.concat instead.\n",
            "  distances = distances.append({\n",
            "<ipython-input-38-12cb99f3a1a5>:6: FutureWarning: The frame.append method is deprecated and will be removed from pandas in a future version. Use pandas.concat instead.\n",
            "  distances = distances.append({\n",
            "<ipython-input-38-12cb99f3a1a5>:6: FutureWarning: The frame.append method is deprecated and will be removed from pandas in a future version. Use pandas.concat instead.\n",
            "  distances = distances.append({\n",
            "<ipython-input-38-12cb99f3a1a5>:6: FutureWarning: The frame.append method is deprecated and will be removed from pandas in a future version. Use pandas.concat instead.\n",
            "  distances = distances.append({\n",
            "<ipython-input-38-12cb99f3a1a5>:6: FutureWarning: The frame.append method is deprecated and will be removed from pandas in a future version. Use pandas.concat instead.\n",
            "  distances = distances.append({\n",
            "<ipython-input-38-12cb99f3a1a5>:6: FutureWarning: The frame.append method is deprecated and will be removed from pandas in a future version. Use pandas.concat instead.\n",
            "  distances = distances.append({\n",
            "<ipython-input-38-12cb99f3a1a5>:6: FutureWarning: The frame.append method is deprecated and will be removed from pandas in a future version. Use pandas.concat instead.\n",
            "  distances = distances.append({\n",
            "<ipython-input-38-12cb99f3a1a5>:6: FutureWarning: The frame.append method is deprecated and will be removed from pandas in a future version. Use pandas.concat instead.\n",
            "  distances = distances.append({\n",
            "<ipython-input-38-12cb99f3a1a5>:6: FutureWarning: The frame.append method is deprecated and will be removed from pandas in a future version. Use pandas.concat instead.\n",
            "  distances = distances.append({\n",
            "<ipython-input-38-12cb99f3a1a5>:6: FutureWarning: The frame.append method is deprecated and will be removed from pandas in a future version. Use pandas.concat instead.\n",
            "  distances = distances.append({\n",
            "<ipython-input-38-12cb99f3a1a5>:6: FutureWarning: The frame.append method is deprecated and will be removed from pandas in a future version. Use pandas.concat instead.\n",
            "  distances = distances.append({\n",
            "<ipython-input-38-12cb99f3a1a5>:6: FutureWarning: The frame.append method is deprecated and will be removed from pandas in a future version. Use pandas.concat instead.\n",
            "  distances = distances.append({\n",
            "<ipython-input-38-12cb99f3a1a5>:6: FutureWarning: The frame.append method is deprecated and will be removed from pandas in a future version. Use pandas.concat instead.\n",
            "  distances = distances.append({\n",
            "<ipython-input-38-12cb99f3a1a5>:6: FutureWarning: The frame.append method is deprecated and will be removed from pandas in a future version. Use pandas.concat instead.\n",
            "  distances = distances.append({\n",
            "<ipython-input-38-12cb99f3a1a5>:6: FutureWarning: The frame.append method is deprecated and will be removed from pandas in a future version. Use pandas.concat instead.\n",
            "  distances = distances.append({\n",
            "<ipython-input-38-12cb99f3a1a5>:6: FutureWarning: The frame.append method is deprecated and will be removed from pandas in a future version. Use pandas.concat instead.\n",
            "  distances = distances.append({\n",
            "<ipython-input-38-12cb99f3a1a5>:6: FutureWarning: The frame.append method is deprecated and will be removed from pandas in a future version. Use pandas.concat instead.\n",
            "  distances = distances.append({\n",
            "<ipython-input-38-12cb99f3a1a5>:6: FutureWarning: The frame.append method is deprecated and will be removed from pandas in a future version. Use pandas.concat instead.\n",
            "  distances = distances.append({\n",
            "<ipython-input-38-12cb99f3a1a5>:6: FutureWarning: The frame.append method is deprecated and will be removed from pandas in a future version. Use pandas.concat instead.\n",
            "  distances = distances.append({\n",
            "<ipython-input-38-12cb99f3a1a5>:6: FutureWarning: The frame.append method is deprecated and will be removed from pandas in a future version. Use pandas.concat instead.\n",
            "  distances = distances.append({\n",
            "<ipython-input-38-12cb99f3a1a5>:6: FutureWarning: The frame.append method is deprecated and will be removed from pandas in a future version. Use pandas.concat instead.\n",
            "  distances = distances.append({\n",
            "<ipython-input-38-12cb99f3a1a5>:6: FutureWarning: The frame.append method is deprecated and will be removed from pandas in a future version. Use pandas.concat instead.\n",
            "  distances = distances.append({\n",
            "<ipython-input-38-12cb99f3a1a5>:6: FutureWarning: The frame.append method is deprecated and will be removed from pandas in a future version. Use pandas.concat instead.\n",
            "  distances = distances.append({\n",
            "<ipython-input-38-12cb99f3a1a5>:6: FutureWarning: The frame.append method is deprecated and will be removed from pandas in a future version. Use pandas.concat instead.\n",
            "  distances = distances.append({\n",
            "<ipython-input-38-12cb99f3a1a5>:6: FutureWarning: The frame.append method is deprecated and will be removed from pandas in a future version. Use pandas.concat instead.\n",
            "  distances = distances.append({\n",
            "<ipython-input-38-12cb99f3a1a5>:6: FutureWarning: The frame.append method is deprecated and will be removed from pandas in a future version. Use pandas.concat instead.\n",
            "  distances = distances.append({\n",
            "<ipython-input-38-12cb99f3a1a5>:6: FutureWarning: The frame.append method is deprecated and will be removed from pandas in a future version. Use pandas.concat instead.\n",
            "  distances = distances.append({\n",
            "<ipython-input-38-12cb99f3a1a5>:6: FutureWarning: The frame.append method is deprecated and will be removed from pandas in a future version. Use pandas.concat instead.\n",
            "  distances = distances.append({\n",
            "<ipython-input-38-12cb99f3a1a5>:6: FutureWarning: The frame.append method is deprecated and will be removed from pandas in a future version. Use pandas.concat instead.\n",
            "  distances = distances.append({\n",
            "<ipython-input-38-12cb99f3a1a5>:6: FutureWarning: The frame.append method is deprecated and will be removed from pandas in a future version. Use pandas.concat instead.\n",
            "  distances = distances.append({\n",
            "<ipython-input-38-12cb99f3a1a5>:6: FutureWarning: The frame.append method is deprecated and will be removed from pandas in a future version. Use pandas.concat instead.\n",
            "  distances = distances.append({\n",
            "<ipython-input-38-12cb99f3a1a5>:6: FutureWarning: The frame.append method is deprecated and will be removed from pandas in a future version. Use pandas.concat instead.\n",
            "  distances = distances.append({\n",
            "<ipython-input-38-12cb99f3a1a5>:6: FutureWarning: The frame.append method is deprecated and will be removed from pandas in a future version. Use pandas.concat instead.\n",
            "  distances = distances.append({\n",
            "<ipython-input-38-12cb99f3a1a5>:6: FutureWarning: The frame.append method is deprecated and will be removed from pandas in a future version. Use pandas.concat instead.\n",
            "  distances = distances.append({\n",
            "<ipython-input-38-12cb99f3a1a5>:6: FutureWarning: The frame.append method is deprecated and will be removed from pandas in a future version. Use pandas.concat instead.\n",
            "  distances = distances.append({\n",
            "<ipython-input-38-12cb99f3a1a5>:6: FutureWarning: The frame.append method is deprecated and will be removed from pandas in a future version. Use pandas.concat instead.\n",
            "  distances = distances.append({\n",
            "<ipython-input-38-12cb99f3a1a5>:6: FutureWarning: The frame.append method is deprecated and will be removed from pandas in a future version. Use pandas.concat instead.\n",
            "  distances = distances.append({\n",
            "<ipython-input-38-12cb99f3a1a5>:6: FutureWarning: The frame.append method is deprecated and will be removed from pandas in a future version. Use pandas.concat instead.\n",
            "  distances = distances.append({\n",
            "<ipython-input-38-12cb99f3a1a5>:6: FutureWarning: The frame.append method is deprecated and will be removed from pandas in a future version. Use pandas.concat instead.\n",
            "  distances = distances.append({\n",
            "<ipython-input-38-12cb99f3a1a5>:6: FutureWarning: The frame.append method is deprecated and will be removed from pandas in a future version. Use pandas.concat instead.\n",
            "  distances = distances.append({\n",
            "<ipython-input-38-12cb99f3a1a5>:6: FutureWarning: The frame.append method is deprecated and will be removed from pandas in a future version. Use pandas.concat instead.\n",
            "  distances = distances.append({\n",
            "<ipython-input-38-12cb99f3a1a5>:6: FutureWarning: The frame.append method is deprecated and will be removed from pandas in a future version. Use pandas.concat instead.\n",
            "  distances = distances.append({\n",
            "<ipython-input-38-12cb99f3a1a5>:6: FutureWarning: The frame.append method is deprecated and will be removed from pandas in a future version. Use pandas.concat instead.\n",
            "  distances = distances.append({\n",
            "<ipython-input-38-12cb99f3a1a5>:6: FutureWarning: The frame.append method is deprecated and will be removed from pandas in a future version. Use pandas.concat instead.\n",
            "  distances = distances.append({\n",
            "<ipython-input-38-12cb99f3a1a5>:6: FutureWarning: The frame.append method is deprecated and will be removed from pandas in a future version. Use pandas.concat instead.\n",
            "  distances = distances.append({\n",
            "<ipython-input-38-12cb99f3a1a5>:6: FutureWarning: The frame.append method is deprecated and will be removed from pandas in a future version. Use pandas.concat instead.\n",
            "  distances = distances.append({\n",
            "<ipython-input-38-12cb99f3a1a5>:6: FutureWarning: The frame.append method is deprecated and will be removed from pandas in a future version. Use pandas.concat instead.\n",
            "  distances = distances.append({\n",
            "<ipython-input-38-12cb99f3a1a5>:6: FutureWarning: The frame.append method is deprecated and will be removed from pandas in a future version. Use pandas.concat instead.\n",
            "  distances = distances.append({\n",
            "<ipython-input-38-12cb99f3a1a5>:6: FutureWarning: The frame.append method is deprecated and will be removed from pandas in a future version. Use pandas.concat instead.\n",
            "  distances = distances.append({\n",
            "<ipython-input-38-12cb99f3a1a5>:6: FutureWarning: The frame.append method is deprecated and will be removed from pandas in a future version. Use pandas.concat instead.\n",
            "  distances = distances.append({\n",
            "<ipython-input-38-12cb99f3a1a5>:6: FutureWarning: The frame.append method is deprecated and will be removed from pandas in a future version. Use pandas.concat instead.\n",
            "  distances = distances.append({\n",
            "<ipython-input-38-12cb99f3a1a5>:6: FutureWarning: The frame.append method is deprecated and will be removed from pandas in a future version. Use pandas.concat instead.\n",
            "  distances = distances.append({\n",
            "<ipython-input-38-12cb99f3a1a5>:6: FutureWarning: The frame.append method is deprecated and will be removed from pandas in a future version. Use pandas.concat instead.\n",
            "  distances = distances.append({\n",
            "<ipython-input-38-12cb99f3a1a5>:6: FutureWarning: The frame.append method is deprecated and will be removed from pandas in a future version. Use pandas.concat instead.\n",
            "  distances = distances.append({\n",
            "<ipython-input-38-12cb99f3a1a5>:6: FutureWarning: The frame.append method is deprecated and will be removed from pandas in a future version. Use pandas.concat instead.\n",
            "  distances = distances.append({\n",
            "<ipython-input-38-12cb99f3a1a5>:6: FutureWarning: The frame.append method is deprecated and will be removed from pandas in a future version. Use pandas.concat instead.\n",
            "  distances = distances.append({\n",
            "<ipython-input-38-12cb99f3a1a5>:6: FutureWarning: The frame.append method is deprecated and will be removed from pandas in a future version. Use pandas.concat instead.\n",
            "  distances = distances.append({\n",
            "<ipython-input-38-12cb99f3a1a5>:6: FutureWarning: The frame.append method is deprecated and will be removed from pandas in a future version. Use pandas.concat instead.\n",
            "  distances = distances.append({\n",
            "<ipython-input-38-12cb99f3a1a5>:6: FutureWarning: The frame.append method is deprecated and will be removed from pandas in a future version. Use pandas.concat instead.\n",
            "  distances = distances.append({\n"
          ]
        },
        {
          "output_type": "execute_result",
          "data": {
            "text/plain": [
              "    train_idx       dst\n",
              "54       54.0  0.269626\n",
              "53       53.0  0.599942\n",
              "17       17.0  0.709386"
            ],
            "text/html": [
              "\n",
              "  <div id=\"df-932882c6-2ab3-46da-b1f2-f3b7d04d15b5\">\n",
              "    <div class=\"colab-df-container\">\n",
              "      <div>\n",
              "<style scoped>\n",
              "    .dataframe tbody tr th:only-of-type {\n",
              "        vertical-align: middle;\n",
              "    }\n",
              "\n",
              "    .dataframe tbody tr th {\n",
              "        vertical-align: top;\n",
              "    }\n",
              "\n",
              "    .dataframe thead th {\n",
              "        text-align: right;\n",
              "    }\n",
              "</style>\n",
              "<table border=\"1\" class=\"dataframe\">\n",
              "  <thead>\n",
              "    <tr style=\"text-align: right;\">\n",
              "      <th></th>\n",
              "      <th>train_idx</th>\n",
              "      <th>dst</th>\n",
              "    </tr>\n",
              "  </thead>\n",
              "  <tbody>\n",
              "    <tr>\n",
              "      <th>54</th>\n",
              "      <td>54.0</td>\n",
              "      <td>0.269626</td>\n",
              "    </tr>\n",
              "    <tr>\n",
              "      <th>53</th>\n",
              "      <td>53.0</td>\n",
              "      <td>0.599942</td>\n",
              "    </tr>\n",
              "    <tr>\n",
              "      <th>17</th>\n",
              "      <td>17.0</td>\n",
              "      <td>0.709386</td>\n",
              "    </tr>\n",
              "  </tbody>\n",
              "</table>\n",
              "</div>\n",
              "      <button class=\"colab-df-convert\" onclick=\"convertToInteractive('df-932882c6-2ab3-46da-b1f2-f3b7d04d15b5')\"\n",
              "              title=\"Convert this dataframe to an interactive table.\"\n",
              "              style=\"display:none;\">\n",
              "        \n",
              "  <svg xmlns=\"http://www.w3.org/2000/svg\" height=\"24px\"viewBox=\"0 0 24 24\"\n",
              "       width=\"24px\">\n",
              "    <path d=\"M0 0h24v24H0V0z\" fill=\"none\"/>\n",
              "    <path d=\"M18.56 5.44l.94 2.06.94-2.06 2.06-.94-2.06-.94-.94-2.06-.94 2.06-2.06.94zm-11 1L8.5 8.5l.94-2.06 2.06-.94-2.06-.94L8.5 2.5l-.94 2.06-2.06.94zm10 10l.94 2.06.94-2.06 2.06-.94-2.06-.94-.94-2.06-.94 2.06-2.06.94z\"/><path d=\"M17.41 7.96l-1.37-1.37c-.4-.4-.92-.59-1.43-.59-.52 0-1.04.2-1.43.59L10.3 9.45l-7.72 7.72c-.78.78-.78 2.05 0 2.83L4 21.41c.39.39.9.59 1.41.59.51 0 1.02-.2 1.41-.59l7.78-7.78 2.81-2.81c.8-.78.8-2.07 0-2.86zM5.41 20L4 18.59l7.72-7.72 1.47 1.35L5.41 20z\"/>\n",
              "  </svg>\n",
              "      </button>\n",
              "      \n",
              "  <style>\n",
              "    .colab-df-container {\n",
              "      display:flex;\n",
              "      flex-wrap:wrap;\n",
              "      gap: 12px;\n",
              "    }\n",
              "\n",
              "    .colab-df-convert {\n",
              "      background-color: #E8F0FE;\n",
              "      border: none;\n",
              "      border-radius: 50%;\n",
              "      cursor: pointer;\n",
              "      display: none;\n",
              "      fill: #1967D2;\n",
              "      height: 32px;\n",
              "      padding: 0 0 0 0;\n",
              "      width: 32px;\n",
              "    }\n",
              "\n",
              "    .colab-df-convert:hover {\n",
              "      background-color: #E2EBFA;\n",
              "      box-shadow: 0px 1px 2px rgba(60, 64, 67, 0.3), 0px 1px 3px 1px rgba(60, 64, 67, 0.15);\n",
              "      fill: #174EA6;\n",
              "    }\n",
              "\n",
              "    [theme=dark] .colab-df-convert {\n",
              "      background-color: #3B4455;\n",
              "      fill: #D2E3FC;\n",
              "    }\n",
              "\n",
              "    [theme=dark] .colab-df-convert:hover {\n",
              "      background-color: #434B5C;\n",
              "      box-shadow: 0px 1px 3px 1px rgba(0, 0, 0, 0.15);\n",
              "      filter: drop-shadow(0px 1px 2px rgba(0, 0, 0, 0.3));\n",
              "      fill: #FFFFFF;\n",
              "    }\n",
              "  </style>\n",
              "\n",
              "      <script>\n",
              "        const buttonEl =\n",
              "          document.querySelector('#df-932882c6-2ab3-46da-b1f2-f3b7d04d15b5 button.colab-df-convert');\n",
              "        buttonEl.style.display =\n",
              "          google.colab.kernel.accessAllowed ? 'block' : 'none';\n",
              "\n",
              "        async function convertToInteractive(key) {\n",
              "          const element = document.querySelector('#df-932882c6-2ab3-46da-b1f2-f3b7d04d15b5');\n",
              "          const dataTable =\n",
              "            await google.colab.kernel.invokeFunction('convertToInteractive',\n",
              "                                                     [key], {});\n",
              "          if (!dataTable) return;\n",
              "\n",
              "          const docLinkHtml = 'Like what you see? Visit the ' +\n",
              "            '<a target=\"_blank\" href=https://colab.research.google.com/notebooks/data_table.ipynb>data table notebook</a>'\n",
              "            + ' to learn more about interactive tables.';\n",
              "          element.innerHTML = '';\n",
              "          dataTable['output_type'] = 'display_data';\n",
              "          await google.colab.output.renderOutput(dataTable, element);\n",
              "          const docLink = document.createElement('div');\n",
              "          docLink.innerHTML = docLinkHtml;\n",
              "          element.appendChild(docLink);\n",
              "        }\n",
              "      </script>\n",
              "    </div>\n",
              "  </div>\n",
              "  "
            ]
          },
          "metadata": {},
          "execution_count": 38
        }
      ]
    },
    {
      "cell_type": "markdown",
      "source": [
        "И получае индексы для отрисовки."
      ],
      "metadata": {
        "id": "zzUYP7RKBiX_"
      }
    },
    {
      "cell_type": "code",
      "source": [
        "nearest_neigbors_idxs = distances.sort_values('dst').head(n_neighbors).index\n",
        "nearest_neigbors_idxs"
      ],
      "metadata": {
        "colab": {
          "base_uri": "https://localhost:8080/"
        },
        "outputId": "72446475-a40e-42cf-ee27-d28cb35d05de",
        "id": "VgZzLPjQBiX_"
      },
      "execution_count": null,
      "outputs": [
        {
          "output_type": "execute_result",
          "data": {
            "text/plain": [
              "Int64Index([54, 53, 17], dtype='int64')"
            ]
          },
          "metadata": {},
          "execution_count": 39
        }
      ]
    },
    {
      "cell_type": "markdown",
      "source": [
        "Отрисовываем три найденных соседа в полупрозрачные зеленые окружности.\n",
        "\n",
        "И снова, эти три объекта самые близкие к тестовому объекту.\n",
        "\n",
        "А чтобы получить предсказание для звездочки, нужно усреднить их предсказанные целевые значения."
      ],
      "metadata": {
        "id": "EzSAR3VlBiX_"
      }
    },
    {
      "cell_type": "code",
      "source": [
        "plt.figure(figsize=(10, 8))\n",
        "sns.scatterplot(\n",
        "    x=X_train[:, 0],\n",
        "    y=X_train[:, 1],\n",
        "    hue=y_train,\n",
        ")\n",
        "\n",
        "plt.scatter(X_train[nearest_neigbors_idxs, 0], X_train[nearest_neigbors_idxs, 1],\n",
        "            c='g', alpha=0.3, marker='o', s=100, label='nearest neighbors')\n",
        "\n",
        "pred = np.mean(y_train[nearest_neigbors_idxs])\n",
        "plt.scatter(X_test[idx, 0], X_test[idx, 1], c='g', marker='*', s=100, label='test dot')\n",
        "plt.annotate(round(pred, 1), (X_test[idx, 0], X_test[idx, 1]))\n",
        "\n",
        "for i, txt in enumerate(y_train[nearest_neigbors_idxs]):\n",
        "    plt.annotate(round(txt, 1), (X_train[nearest_neigbors_idxs[i], 0], X_train[nearest_neigbors_idxs[i], 1] + 0.05))\n",
        "\n",
        "plt.legend();"
      ],
      "metadata": {
        "colab": {
          "base_uri": "https://localhost:8080/",
          "height": 676
        },
        "outputId": "d9a48738-cc3d-4fd4-da1f-14ba13386e0c",
        "id": "O54leDA0BiX_"
      },
      "execution_count": null,
      "outputs": [
        {
          "output_type": "display_data",
          "data": {
            "text/plain": [
              "<Figure size 1000x800 with 1 Axes>"
            ],
            "image/png": "[encoded data removed]"
          },
          "metadata": {}
        }
      ]
    },
    {
      "cell_type": "markdown",
      "source": [
        "### Резюме KNN"
      ],
      "metadata": {
        "id": "WeUJwfPZBiX_"
      }
    },
    {
      "cell_type": "markdown",
      "source": [
        "С моделью для задачи регрессии всё тоже самое:\n",
        "\n",
        "На **моменте обучения** ничего интересного не происходит: все точки из обучения попросту запоминаются.\n",
        "\n",
        "На **моменте предсказания**:\n",
        "1. для тестовой точки считаем расстояния до всех точек с обучения\n",
        "2. сортируем от самого ближнего до самого дальнего расстояния\n",
        "3. делаем усреднение целевых значений ближайших $N$ соседей - это и есть предсказание модели"
      ],
      "metadata": {
        "id": "-oR4oTtQBiX_"
      }
    },
    {
      "cell_type": "markdown",
      "source": [
        "## Как выбрать оптимальное количество соседей"
      ],
      "metadata": {
        "id": "7eGKynr1VdRK"
      }
    },
    {
      "cell_type": "markdown",
      "source": [
        "А здесь нет четкого алгоритма, как нужно действовать, чтобы найти самое лучшее количество соседей, главное, не бросаться в крайности и смотреть на качество предсказания модели.\n"
      ],
      "metadata": {
        "id": "aDZguU5thEQg"
      }
    },
    {
      "cell_type": "markdown",
      "source": [
        "### Слишком мало соседей\n",
        "\n",
        "Если взять слишком мало ближайших соседей (N < 3), то на предсказания могут влиять выбросные  объекты, либо предсказания вообще могут оказаться случайными.\n",
        "\n",
        "Возьмем только одного ближайшего соседа."
      ],
      "metadata": {
        "id": "xIDVaJwbWWph"
      }
    },
    {
      "cell_type": "code",
      "source": [
        "n_neighbors = 1\n",
        "\n",
        "nearest_neigbors_idxs = distances.sort_values('dst').head(n_neighbors).index\n",
        "nearest_neigbors_idxs"
      ],
      "metadata": {
        "colab": {
          "base_uri": "https://localhost:8080/"
        },
        "outputId": "acfb2c58-f281-4288-e4c7-a7123c456c91",
        "id": "704MUPF2WLEJ"
      },
      "execution_count": null,
      "outputs": [
        {
          "output_type": "execute_result",
          "data": {
            "text/plain": [
              "Int64Index([54], dtype='int64')"
            ]
          },
          "metadata": {},
          "execution_count": 41
        }
      ]
    },
    {
      "cell_type": "markdown",
      "source": [
        "И отрисуем его целевое значение и предсказание для тестового объекта."
      ],
      "metadata": {
        "id": "zm6kk5ggWySk"
      }
    },
    {
      "cell_type": "code",
      "source": [
        "plt.figure(figsize=(10, 8))\n",
        "sns.scatterplot(\n",
        "    x=X_train[:, 0],\n",
        "    y=X_train[:, 1],\n",
        "    hue=y_train,\n",
        ")\n",
        "\n",
        "plt.scatter(X_train[nearest_neigbors_idxs, 0], X_train[nearest_neigbors_idxs, 1],\n",
        "            c='g', alpha=0.3, marker='o', s=100, label='nearest neighbors')\n",
        "\n",
        "pred = np.mean(y_train[nearest_neigbors_idxs])\n",
        "plt.scatter(X_test[idx, 0], X_test[idx, 1], c='g', marker='*', s=100, label='test dot')\n",
        "plt.annotate(round(pred, 1), (X_test[idx, 0], X_test[idx, 1]))\n",
        "\n",
        "for i, txt in enumerate(y_train[nearest_neigbors_idxs]):\n",
        "    plt.annotate(round(txt, 1), (X_train[nearest_neigbors_idxs[i], 0], X_train[nearest_neigbors_idxs[i], 1] + 0.05))\n",
        "\n",
        "plt.legend();"
      ],
      "metadata": {
        "colab": {
          "base_uri": "https://localhost:8080/",
          "height": 676
        },
        "outputId": "bc1cda3d-ef01-4741-bd17-5e4bc0d9c2ee",
        "id": "HQ4WAYLWWLEK"
      },
      "execution_count": null,
      "outputs": [
        {
          "output_type": "display_data",
          "data": {
            "text/plain": [
              "<Figure size 1000x800 with 1 Axes>"
            ],
            "image/png": "[encoded data removed]"
          },
          "metadata": {}
        }
      ]
    },
    {
      "cell_type": "markdown",
      "source": [
        "### Слишком много соседей\n",
        "\n",
        "А если взять слишком большое количество ближайших соседей для задачи, то предсказания будут сильно усредненными, все объекты могут влиять на предсказания нового объекта."
      ],
      "metadata": {
        "id": "b5QWinMrWT_B"
      }
    },
    {
      "cell_type": "markdown",
      "source": [
        "Возьмем 50 соседей, половина нашей выборки."
      ],
      "metadata": {
        "id": "C08Os678W3zy"
      }
    },
    {
      "cell_type": "code",
      "source": [
        "n_neighbors = 50\n",
        "\n",
        "nearest_neigbors_idxs = distances.sort_values('dst').head(n_neighbors).index\n",
        "nearest_neigbors_idxs"
      ],
      "metadata": {
        "colab": {
          "base_uri": "https://localhost:8080/"
        },
        "outputId": "febf0373-5562-402b-e9bd-ef52a5ed7f0e",
        "id": "hSGawHfFWjy7"
      },
      "execution_count": null,
      "outputs": [
        {
          "output_type": "execute_result",
          "data": {
            "text/plain": [
              "Int64Index([54, 53, 17, 55, 89, 31, 68, 25, 38, 18, 60, 23,  1, 80, 43, 49, 20,\n",
              "            34, 15,  0, 13, 70, 32, 12, 14,  6, 21, 63, 50, 67, 85, 66, 72, 58,\n",
              "            11, 75, 33, 83,  8, 37, 76, 44, 61,  9, 40, 48, 19, 95, 39, 46],\n",
              "           dtype='int64')"
            ]
          },
          "metadata": {},
          "execution_count": 43
        }
      ]
    },
    {
      "cell_type": "markdown",
      "source": [
        "И отрисуем, выходит, что каждый второй влияет на предсказание нового объекта."
      ],
      "metadata": {
        "id": "yNqjMU2uW6D7"
      }
    },
    {
      "cell_type": "code",
      "source": [
        "plt.figure(figsize=(10, 8))\n",
        "sns.scatterplot(\n",
        "    x=X_train[:, 0],\n",
        "    y=X_train[:, 1],\n",
        "    hue=y_train,\n",
        ")\n",
        "\n",
        "plt.scatter(X_train[nearest_neigbors_idxs, 0], X_train[nearest_neigbors_idxs, 1],\n",
        "            c='g', alpha=0.3, marker='o', s=100, label='nearest neighbors')\n",
        "\n",
        "pred = np.mean(y_train[nearest_neigbors_idxs])\n",
        "plt.scatter(X_test[idx, 0], X_test[idx, 1], c='g', marker='*', s=100, label='test dot')\n",
        "plt.annotate(round(pred, 1), (X_test[idx, 0], X_test[idx, 1]))\n",
        "\n",
        "for i, txt in enumerate(y_train[nearest_neigbors_idxs]):\n",
        "    plt.annotate(round(txt, 1), (X_train[nearest_neigbors_idxs[i], 0], X_train[nearest_neigbors_idxs[i], 1] + 0.05))\n",
        "\n",
        "plt.legend();"
      ],
      "metadata": {
        "colab": {
          "base_uri": "https://localhost:8080/",
          "height": 676
        },
        "outputId": "ffab69ca-1649-4eef-ebf1-eee65f8e424a",
        "id": "KTvnqPX_Wjy8"
      },
      "execution_count": null,
      "outputs": [
        {
          "output_type": "display_data",
          "data": {
            "text/plain": [
              "<Figure size 1000x800 with 1 Axes>"
            ],
            "image/png": "[encoded data removed]"
          },
          "metadata": {}
        }
      ]
    },
    {
      "cell_type": "markdown",
      "source": [
        "Поэтому есть модификация - взвешенный KNN, про него могу рассказать в другом занятии.\n"
      ],
      "metadata": {
        "id": "Bwb24we6Wg_w"
      }
    }
  ]
}