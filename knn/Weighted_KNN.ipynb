{
  "nbformat": 4,
  "nbformat_minor": 0,
  "metadata": {
    "colab": {
      "provenance": []
    },
    "kernelspec": {
      "name": "python3",
      "display_name": "Python 3"
    },
    "language_info": {
      "name": "python"
    }
  },
  "cells": [
    {
      "cell_type": "code",
      "metadata": {
        "id": "2aEQws1__x5W"
      },
      "source": [
        "#@title Установка нужных версий библиотек\n",
        "!wget 'https://drive.google.com/uc?export=download&id=1oSFOP0j25OZAuhD8YXxyQXNTdr2lUdtn' -O requirements.txt\n",
        "!pip install -r requirements.txt"
      ],
      "execution_count": null,
      "outputs": []
    },
    {
      "cell_type": "markdown",
      "source": [
        "## Зачем нужен взвешенный *KNN* для классификации"
      ],
      "metadata": {
        "id": "Faqf8pG8itot"
      }
    },
    {
      "cell_type": "markdown",
      "source": [
        "Расшифровывается название как _\"k ближайших соседей (k nearest neighbours)\"_."
      ],
      "metadata": {
        "id": "Qb_1a1MV-s3b"
      }
    },
    {
      "cell_type": "markdown",
      "source": [
        "- Обучения нет, модель запоминает обучающую выборку\n",
        "- На моменте предсказания\n",
        "    1. Считаем **расстояния** до всех объектов с **обучения**\n",
        "    2. Выбираем **K** ближайших\n",
        "    3. Делаем **голосование** между соседами, за какой класс больше голосов, тот и выбираем\n",
        "\n",
        "\n",
        " <img src='https://upload.wikimedia.org/wikipedia/commons/thumb/e/e7/KnnClassification.svg/220px-KnnClassification.svg.png'>\n",
        ""
      ],
      "metadata": {
        "id": "6eN1mepjVJ5D"
      }
    },
    {
      "cell_type": "markdown",
      "source": [
        "Давайте обучим модель KNN из `sklearn` на сгенерированных данных.\n",
        "\n",
        "Сгенерируем два класса с помощью функции `make_moons`."
      ],
      "metadata": {
        "id": "vArDNjL1WeRv"
      }
    },
    {
      "cell_type": "code",
      "source": [
        "from sklearn.datasets import make_moons\n",
        "\n",
        "X, y = make_moons(n_samples=50, random_state=6)\n",
        "\n",
        "display(X, y)"
      ],
      "metadata": {
        "colab": {
          "base_uri": "https://localhost:8080/",
          "height": 937
        },
        "id": "-BI3C8CZWtY1",
        "outputId": "cd2d4728-a214-43bc-9546-986225849631"
      },
      "execution_count": null,
      "outputs": [
        {
          "output_type": "display_data",
          "data": {
            "text/plain": [
              "array([[ 2.00000000e+00,  5.00000000e-01],\n",
              "       [ 1.38268343e+00, -4.23879533e-01],\n",
              "       [ 1.13052619e+00, -4.91444861e-01],\n",
              "       [-9.91444861e-01,  1.30526192e-01],\n",
              "       [ 6.08761429e-01,  7.93353340e-01],\n",
              "       [ 1.00000000e+00,  0.00000000e+00],\n",
              "       [ 7.07106781e-01,  7.07106781e-01],\n",
              "       [ 6.17316568e-01, -4.23879533e-01],\n",
              "       [-2.58819045e-01,  9.65925826e-01],\n",
              "       [ 2.92893219e-01, -2.07106781e-01],\n",
              "       [ 1.99144486e+00,  3.69473808e-01],\n",
              "       [-1.00000000e+00,  1.22464680e-16],\n",
              "       [-7.93353340e-01,  6.08761429e-01],\n",
              "       [ 9.23879533e-01,  3.82683432e-01],\n",
              "       [ 1.50000000e+00, -3.66025404e-01],\n",
              "       [ 7.61204675e-02,  1.17316568e-01],\n",
              "       [ 1.70710678e+00, -2.07106781e-01],\n",
              "       [ 2.06646660e-01, -1.08761429e-01],\n",
              "       [ 1.96592583e+00,  2.41180955e-01],\n",
              "       [-6.08761429e-01,  7.93353340e-01],\n",
              "       [-9.23879533e-01,  3.82683432e-01],\n",
              "       [ 1.33974596e-01,  0.00000000e+00],\n",
              "       [ 1.25881905e+00, -4.65925826e-01],\n",
              "       [-7.07106781e-01,  7.07106781e-01],\n",
              "       [-9.65925826e-01,  2.58819045e-01],\n",
              "       [ 1.79335334e+00, -1.08761429e-01],\n",
              "       [ 1.00000000e+00, -5.00000000e-01],\n",
              "       [ 7.93353340e-01,  6.08761429e-01],\n",
              "       [ 3.91238571e-01, -2.93353340e-01],\n",
              "       [ 3.40741737e-02,  2.41180955e-01],\n",
              "       [ 1.92387953e+00,  1.17316568e-01],\n",
              "       [ 6.12323400e-17,  1.00000000e+00],\n",
              "       [ 9.65925826e-01,  2.58819045e-01],\n",
              "       [ 5.00000000e-01,  8.66025404e-01],\n",
              "       [ 8.69473808e-01, -4.91444861e-01],\n",
              "       [ 8.66025404e-01,  5.00000000e-01],\n",
              "       [ 5.00000000e-01, -3.66025404e-01],\n",
              "       [ 8.55513863e-03,  3.69473808e-01],\n",
              "       [-1.30526192e-01,  9.91444861e-01],\n",
              "       [ 1.30526192e-01,  9.91444861e-01],\n",
              "       [ 9.91444861e-01,  1.30526192e-01],\n",
              "       [ 0.00000000e+00,  5.00000000e-01],\n",
              "       [-5.00000000e-01,  8.66025404e-01],\n",
              "       [ 1.86602540e+00, -3.33066907e-16],\n",
              "       [-3.82683432e-01,  9.23879533e-01],\n",
              "       [ 1.60876143e+00, -2.93353340e-01],\n",
              "       [-8.66025404e-01,  5.00000000e-01],\n",
              "       [ 7.41180955e-01, -4.65925826e-01],\n",
              "       [ 3.82683432e-01,  9.23879533e-01],\n",
              "       [ 2.58819045e-01,  9.65925826e-01]])"
            ]
          },
          "metadata": {}
        },
        {
          "output_type": "display_data",
          "data": {
            "text/plain": [
              "array([1, 1, 1, 0, 0, 0, 0, 1, 0, 1, 1, 0, 0, 0, 1, 1, 1, 1, 1, 0, 0, 1,\n",
              "       1, 0, 0, 1, 1, 0, 1, 1, 1, 0, 0, 0, 1, 0, 1, 1, 0, 0, 0, 1, 0, 1,\n",
              "       0, 1, 0, 1, 0, 0])"
            ]
          },
          "metadata": {}
        }
      ]
    },
    {
      "cell_type": "markdown",
      "source": [
        "Разобьем выборку на обучение и тест с помощью `train_test_split`."
      ],
      "metadata": {
        "id": "qBHrLQeIaOYy"
      }
    },
    {
      "cell_type": "code",
      "source": [
        "from sklearn.model_selection import train_test_split\n",
        "\n",
        "X_train, X_test, y_train, y_test = train_test_split(X, y, random_state=6, test_size=5)\n",
        "X_train.shape, X_test.shape"
      ],
      "metadata": {
        "colab": {
          "base_uri": "https://localhost:8080/"
        },
        "id": "THfMKGCXZBeX",
        "outputId": "f513fc42-f005-44d2-b22f-423538680264"
      },
      "execution_count": null,
      "outputs": [
        {
          "output_type": "execute_result",
          "data": {
            "text/plain": [
              "((45, 2), (5, 2))"
            ]
          },
          "metadata": {},
          "execution_count": 2
        }
      ]
    },
    {
      "cell_type": "markdown",
      "source": [
        "И отрисуем полученные точки, синие - это один класс, оранжевые - это второй класс, а вот зеленые звезды - это тестовые точки, для них будет искать ближайших соседей."
      ],
      "metadata": {
        "id": "lFklshUYaTKQ"
      }
    },
    {
      "cell_type": "code",
      "source": [
        "import seaborn as sns\n",
        "import matplotlib.pyplot as plt\n",
        "from matplotlib.colors import ListedColormap\n",
        "\n",
        "# Create color maps\n",
        "cmap_bold = [\"darkorange\", \"darkblue\"]\n",
        "\n",
        "plt.figure(figsize=(10, 8))\n",
        "sns.scatterplot(\n",
        "    x=X_train[:, 0],\n",
        "    y=X_train[:, 1],\n",
        "    hue=y_train,\n",
        "    palette=cmap_bold\n",
        ")\n",
        "\n",
        "plt.scatter(X_test[:, 0], X_test[:, 1], c='g', marker='*', s=100, label='test dots')\n",
        "plt.legend();"
      ],
      "metadata": {
        "colab": {
          "base_uri": "https://localhost:8080/",
          "height": 676
        },
        "id": "f4Gb9GgPXgnu",
        "outputId": "3c24b5d0-d076-481c-e0e2-91cd53c33636"
      },
      "execution_count": null,
      "outputs": [
        {
          "output_type": "display_data",
          "data": {
            "text/plain": [
              "<Figure size 1000x800 with 1 Axes>"
            ],
            "image/png": "[encoded data removed]"
          },
          "metadata": {}
        }
      ]
    },
    {
      "cell_type": "markdown",
      "source": [
        "Обучим модель `KNeighborsClassifier` для задачи классификации из `sklearn`.\n",
        "\n",
        "Укажем, что хотим слышать мнение 20 соседей, для нашей задачи из 50 объектов - это много соседей, но давайте пока обучимся так и посмотрим, а действительно ли 20 - это плохое количество соседей."
      ],
      "metadata": {
        "id": "z3xaqbVhab_H"
      }
    },
    {
      "cell_type": "code",
      "source": [
        "from sklearn.neighbors import KNeighborsClassifier\n",
        "\n",
        "n_neighbors = 20\n",
        "model = KNeighborsClassifier(n_neighbors=n_neighbors)"
      ],
      "metadata": {
        "id": "1WGhw4MiWhKt"
      },
      "execution_count": null,
      "outputs": []
    },
    {
      "cell_type": "code",
      "source": [
        "model.fit(X_train, y_train)"
      ],
      "metadata": {
        "colab": {
          "base_uri": "https://localhost:8080/",
          "height": 75
        },
        "id": "eNIA8S9xaqKR",
        "outputId": "42df6c21-5567-4a81-abd4-9bf7b4c73e22"
      },
      "execution_count": null,
      "outputs": [
        {
          "output_type": "execute_result",
          "data": {
            "text/plain": [
              "KNeighborsClassifier(n_neighbors=20)"
            ],
            "text/html": [
              "<style>#sk-container-id-1 {color: black;background-color: white;}#sk-container-id-1 pre{padding: 0;}#sk-container-id-1 div.sk-toggleable {background-color: white;}#sk-container-id-1 label.sk-toggleable__label {cursor: pointer;display: block;width: 100%;margin-bottom: 0;padding: 0.3em;box-sizing: border-box;text-align: center;}#sk-container-id-1 label.sk-toggleable__label-arrow:before {content: \"▸\";float: left;margin-right: 0.25em;color: #696969;}#sk-container-id-1 label.sk-toggleable__label-arrow:hover:before {color: black;}#sk-container-id-1 div.sk-estimator:hover label.sk-toggleable__label-arrow:before {color: black;}#sk-container-id-1 div.sk-toggleable__content {max-height: 0;max-width: 0;overflow: hidden;text-align: left;background-color: #f0f8ff;}#sk-container-id-1 div.sk-toggleable__content pre {margin: 0.2em;color: black;border-radius: 0.25em;background-color: #f0f8ff;}#sk-container-id-1 input.sk-toggleable__control:checked~div.sk-toggleable__content {max-height: 200px;max-width: 100%;overflow: auto;}#sk-container-id-1 input.sk-toggleable__control:checked~label.sk-toggleable__label-arrow:before {content: \"▾\";}#sk-container-id-1 div.sk-estimator input.sk-toggleable__control:checked~label.sk-toggleable__label {background-color: #d4ebff;}#sk-container-id-1 div.sk-label input.sk-toggleable__control:checked~label.sk-toggleable__label {background-color: #d4ebff;}#sk-container-id-1 input.sk-hidden--visually {border: 0;clip: rect(1px 1px 1px 1px);clip: rect(1px, 1px, 1px, 1px);height: 1px;margin: -1px;overflow: hidden;padding: 0;position: absolute;width: 1px;}#sk-container-id-1 div.sk-estimator {font-family: monospace;background-color: #f0f8ff;border: 1px dotted black;border-radius: 0.25em;box-sizing: border-box;margin-bottom: 0.5em;}#sk-container-id-1 div.sk-estimator:hover {background-color: #d4ebff;}#sk-container-id-1 div.sk-parallel-item::after {content: \"\";width: 100%;border-bottom: 1px solid gray;flex-grow: 1;}#sk-container-id-1 div.sk-label:hover label.sk-toggleable__label {background-color: #d4ebff;}#sk-container-id-1 div.sk-serial::before {content: \"\";position: absolute;border-left: 1px solid gray;box-sizing: border-box;top: 0;bottom: 0;left: 50%;z-index: 0;}#sk-container-id-1 div.sk-serial {display: flex;flex-direction: column;align-items: center;background-color: white;padding-right: 0.2em;padding-left: 0.2em;position: relative;}#sk-container-id-1 div.sk-item {position: relative;z-index: 1;}#sk-container-id-1 div.sk-parallel {display: flex;align-items: stretch;justify-content: center;background-color: white;position: relative;}#sk-container-id-1 div.sk-item::before, #sk-container-id-1 div.sk-parallel-item::before {content: \"\";position: absolute;border-left: 1px solid gray;box-sizing: border-box;top: 0;bottom: 0;left: 50%;z-index: -1;}#sk-container-id-1 div.sk-parallel-item {display: flex;flex-direction: column;z-index: 1;position: relative;background-color: white;}#sk-container-id-1 div.sk-parallel-item:first-child::after {align-self: flex-end;width: 50%;}#sk-container-id-1 div.sk-parallel-item:last-child::after {align-self: flex-start;width: 50%;}#sk-container-id-1 div.sk-parallel-item:only-child::after {width: 0;}#sk-container-id-1 div.sk-dashed-wrapped {border: 1px dashed gray;margin: 0 0.4em 0.5em 0.4em;box-sizing: border-box;padding-bottom: 0.4em;background-color: white;}#sk-container-id-1 div.sk-label label {font-family: monospace;font-weight: bold;display: inline-block;line-height: 1.2em;}#sk-container-id-1 div.sk-label-container {text-align: center;}#sk-container-id-1 div.sk-container {/* jupyter's `normalize.less` sets `[hidden] { display: none; }` but bootstrap.min.css set `[hidden] { display: none !important; }` so we also need the `!important` here to be able to override the default hidden behavior on the sphinx rendered scikit-learn.org. See: https://github.com/scikit-learn/scikit-learn/issues/21755 */display: inline-block !important;position: relative;}#sk-container-id-1 div.sk-text-repr-fallback {display: none;}</style><div id=\"sk-container-id-1\" class=\"sk-top-container\"><div class=\"sk-text-repr-fallback\"><pre>KNeighborsClassifier(n_neighbors=20)</pre><b>In a Jupyter environment, please rerun this cell to show the HTML representation or trust the notebook. <br />On GitHub, the HTML representation is unable to render, please try loading this page with nbviewer.org.</b></div><div class=\"sk-container\" hidden><div class=\"sk-item\"><div class=\"sk-estimator sk-toggleable\"><input class=\"sk-toggleable__control sk-hidden--visually\" id=\"sk-estimator-id-1\" type=\"checkbox\" checked><label for=\"sk-estimator-id-1\" class=\"sk-toggleable__label sk-toggleable__label-arrow\">KNeighborsClassifier</label><div class=\"sk-toggleable__content\"><pre>KNeighborsClassifier(n_neighbors=20)</pre></div></div></div></div></div>"
            ]
          },
          "metadata": {},
          "execution_count": 5
        }
      ]
    },
    {
      "cell_type": "markdown",
      "source": [
        "И теперь можем сделать предсказания для наших тестовых объектов."
      ],
      "metadata": {
        "id": "TtLsG-dnateC"
      }
    },
    {
      "cell_type": "code",
      "source": [
        "pred_test = model.predict(X_test)\n",
        "pred_test"
      ],
      "metadata": {
        "colab": {
          "base_uri": "https://localhost:8080/"
        },
        "id": "85hnvzsSaxgw",
        "outputId": "909e521c-7ffd-4dfb-8f41-2f8b03865187"
      },
      "execution_count": null,
      "outputs": [
        {
          "output_type": "execute_result",
          "data": {
            "text/plain": [
              "array([0, 1, 0, 0, 1])"
            ]
          },
          "metadata": {},
          "execution_count": 6
        }
      ]
    },
    {
      "cell_type": "markdown",
      "source": [
        "И посмотрим, насколько предсказанные классы похожи на правду."
      ],
      "metadata": {
        "id": "5wV0RIxSa0_r"
      }
    },
    {
      "cell_type": "code",
      "source": [
        "display(pred_test, y_test)"
      ],
      "metadata": {
        "colab": {
          "base_uri": "https://localhost:8080/",
          "height": 52
        },
        "id": "EjzPaoBwa4e8",
        "outputId": "5b414fe8-477c-47b2-ea06-2dc9d85a0de2"
      },
      "execution_count": null,
      "outputs": [
        {
          "output_type": "display_data",
          "data": {
            "text/plain": [
              "array([0, 1, 0, 0, 1])"
            ]
          },
          "metadata": {}
        },
        {
          "output_type": "display_data",
          "data": {
            "text/plain": [
              "array([0, 0, 0, 0, 1])"
            ]
          },
          "metadata": {}
        }
      ]
    },
    {
      "cell_type": "markdown",
      "source": [
        "Не совпали для одной точки, возможно для неё мы и переборщили с количеством соседей."
      ],
      "metadata": {
        "id": "1fHGnnMga8BQ"
      }
    },
    {
      "cell_type": "markdown",
      "source": [
        "#### Детали получения предсказания в KNN"
      ],
      "metadata": {
        "id": "nka4yvRqgiaI"
      }
    },
    {
      "cell_type": "markdown",
      "source": [
        "Получим ближайших соседей для парочки тестовых объектов."
      ],
      "metadata": {
        "id": "t_Qfp4LlduwF"
      }
    },
    {
      "cell_type": "code",
      "source": [
        "import numpy as np\n",
        "import pandas as pd\n",
        "\n",
        "\n",
        "idx = 0\n",
        "test_dot = X_test[idx]\n",
        "\n",
        "distances = pd.DataFrame()\n",
        "for i, train_dot in enumerate(X_train):  # 1\n",
        "    distances = distances.append({\n",
        "        'train_idx': i,\n",
        "        'dst': np.linalg.norm(train_dot - test_dot, ord=2)  # 2\n",
        "    }, ignore_index=True)"
      ],
      "metadata": {
        "id": "gOdcvkp0biqs",
        "colab": {
          "base_uri": "https://localhost:8080/"
        },
        "outputId": "5e95656a-0b50-41b8-a5b4-46529a85fe11"
      },
      "execution_count": null,
      "outputs": [
        {
          "output_type": "stream",
          "name": "stderr",
          "text": [
            "<ipython-input-8-d7a5f4ce36ec>:10: FutureWarning: The frame.append method is deprecated and will be removed from pandas in a future version. Use pandas.concat instead.\n",
            "  distances = distances.append({\n",
            "<ipython-input-8-d7a5f4ce36ec>:10: FutureWarning: The frame.append method is deprecated and will be removed from pandas in a future version. Use pandas.concat instead.\n",
            "  distances = distances.append({\n",
            "<ipython-input-8-d7a5f4ce36ec>:10: FutureWarning: The frame.append method is deprecated and will be removed from pandas in a future version. Use pandas.concat instead.\n",
            "  distances = distances.append({\n",
            "<ipython-input-8-d7a5f4ce36ec>:10: FutureWarning: The frame.append method is deprecated and will be removed from pandas in a future version. Use pandas.concat instead.\n",
            "  distances = distances.append({\n",
            "<ipython-input-8-d7a5f4ce36ec>:10: FutureWarning: The frame.append method is deprecated and will be removed from pandas in a future version. Use pandas.concat instead.\n",
            "  distances = distances.append({\n",
            "<ipython-input-8-d7a5f4ce36ec>:10: FutureWarning: The frame.append method is deprecated and will be removed from pandas in a future version. Use pandas.concat instead.\n",
            "  distances = distances.append({\n",
            "<ipython-input-8-d7a5f4ce36ec>:10: FutureWarning: The frame.append method is deprecated and will be removed from pandas in a future version. Use pandas.concat instead.\n",
            "  distances = distances.append({\n",
            "<ipython-input-8-d7a5f4ce36ec>:10: FutureWarning: The frame.append method is deprecated and will be removed from pandas in a future version. Use pandas.concat instead.\n",
            "  distances = distances.append({\n",
            "<ipython-input-8-d7a5f4ce36ec>:10: FutureWarning: The frame.append method is deprecated and will be removed from pandas in a future version. Use pandas.concat instead.\n",
            "  distances = distances.append({\n",
            "<ipython-input-8-d7a5f4ce36ec>:10: FutureWarning: The frame.append method is deprecated and will be removed from pandas in a future version. Use pandas.concat instead.\n",
            "  distances = distances.append({\n",
            "<ipython-input-8-d7a5f4ce36ec>:10: FutureWarning: The frame.append method is deprecated and will be removed from pandas in a future version. Use pandas.concat instead.\n",
            "  distances = distances.append({\n",
            "<ipython-input-8-d7a5f4ce36ec>:10: FutureWarning: The frame.append method is deprecated and will be removed from pandas in a future version. Use pandas.concat instead.\n",
            "  distances = distances.append({\n",
            "<ipython-input-8-d7a5f4ce36ec>:10: FutureWarning: The frame.append method is deprecated and will be removed from pandas in a future version. Use pandas.concat instead.\n",
            "  distances = distances.append({\n",
            "<ipython-input-8-d7a5f4ce36ec>:10: FutureWarning: The frame.append method is deprecated and will be removed from pandas in a future version. Use pandas.concat instead.\n",
            "  distances = distances.append({\n",
            "<ipython-input-8-d7a5f4ce36ec>:10: FutureWarning: The frame.append method is deprecated and will be removed from pandas in a future version. Use pandas.concat instead.\n",
            "  distances = distances.append({\n",
            "<ipython-input-8-d7a5f4ce36ec>:10: FutureWarning: The frame.append method is deprecated and will be removed from pandas in a future version. Use pandas.concat instead.\n",
            "  distances = distances.append({\n",
            "<ipython-input-8-d7a5f4ce36ec>:10: FutureWarning: The frame.append method is deprecated and will be removed from pandas in a future version. Use pandas.concat instead.\n",
            "  distances = distances.append({\n",
            "<ipython-input-8-d7a5f4ce36ec>:10: FutureWarning: The frame.append method is deprecated and will be removed from pandas in a future version. Use pandas.concat instead.\n",
            "  distances = distances.append({\n",
            "<ipython-input-8-d7a5f4ce36ec>:10: FutureWarning: The frame.append method is deprecated and will be removed from pandas in a future version. Use pandas.concat instead.\n",
            "  distances = distances.append({\n",
            "<ipython-input-8-d7a5f4ce36ec>:10: FutureWarning: The frame.append method is deprecated and will be removed from pandas in a future version. Use pandas.concat instead.\n",
            "  distances = distances.append({\n",
            "<ipython-input-8-d7a5f4ce36ec>:10: FutureWarning: The frame.append method is deprecated and will be removed from pandas in a future version. Use pandas.concat instead.\n",
            "  distances = distances.append({\n",
            "<ipython-input-8-d7a5f4ce36ec>:10: FutureWarning: The frame.append method is deprecated and will be removed from pandas in a future version. Use pandas.concat instead.\n",
            "  distances = distances.append({\n",
            "<ipython-input-8-d7a5f4ce36ec>:10: FutureWarning: The frame.append method is deprecated and will be removed from pandas in a future version. Use pandas.concat instead.\n",
            "  distances = distances.append({\n",
            "<ipython-input-8-d7a5f4ce36ec>:10: FutureWarning: The frame.append method is deprecated and will be removed from pandas in a future version. Use pandas.concat instead.\n",
            "  distances = distances.append({\n",
            "<ipython-input-8-d7a5f4ce36ec>:10: FutureWarning: The frame.append method is deprecated and will be removed from pandas in a future version. Use pandas.concat instead.\n",
            "  distances = distances.append({\n",
            "<ipython-input-8-d7a5f4ce36ec>:10: FutureWarning: The frame.append method is deprecated and will be removed from pandas in a future version. Use pandas.concat instead.\n",
            "  distances = distances.append({\n",
            "<ipython-input-8-d7a5f4ce36ec>:10: FutureWarning: The frame.append method is deprecated and will be removed from pandas in a future version. Use pandas.concat instead.\n",
            "  distances = distances.append({\n",
            "<ipython-input-8-d7a5f4ce36ec>:10: FutureWarning: The frame.append method is deprecated and will be removed from pandas in a future version. Use pandas.concat instead.\n",
            "  distances = distances.append({\n",
            "<ipython-input-8-d7a5f4ce36ec>:10: FutureWarning: The frame.append method is deprecated and will be removed from pandas in a future version. Use pandas.concat instead.\n",
            "  distances = distances.append({\n",
            "<ipython-input-8-d7a5f4ce36ec>:10: FutureWarning: The frame.append method is deprecated and will be removed from pandas in a future version. Use pandas.concat instead.\n",
            "  distances = distances.append({\n",
            "<ipython-input-8-d7a5f4ce36ec>:10: FutureWarning: The frame.append method is deprecated and will be removed from pandas in a future version. Use pandas.concat instead.\n",
            "  distances = distances.append({\n",
            "<ipython-input-8-d7a5f4ce36ec>:10: FutureWarning: The frame.append method is deprecated and will be removed from pandas in a future version. Use pandas.concat instead.\n",
            "  distances = distances.append({\n",
            "<ipython-input-8-d7a5f4ce36ec>:10: FutureWarning: The frame.append method is deprecated and will be removed from pandas in a future version. Use pandas.concat instead.\n",
            "  distances = distances.append({\n",
            "<ipython-input-8-d7a5f4ce36ec>:10: FutureWarning: The frame.append method is deprecated and will be removed from pandas in a future version. Use pandas.concat instead.\n",
            "  distances = distances.append({\n",
            "<ipython-input-8-d7a5f4ce36ec>:10: FutureWarning: The frame.append method is deprecated and will be removed from pandas in a future version. Use pandas.concat instead.\n",
            "  distances = distances.append({\n",
            "<ipython-input-8-d7a5f4ce36ec>:10: FutureWarning: The frame.append method is deprecated and will be removed from pandas in a future version. Use pandas.concat instead.\n",
            "  distances = distances.append({\n",
            "<ipython-input-8-d7a5f4ce36ec>:10: FutureWarning: The frame.append method is deprecated and will be removed from pandas in a future version. Use pandas.concat instead.\n",
            "  distances = distances.append({\n",
            "<ipython-input-8-d7a5f4ce36ec>:10: FutureWarning: The frame.append method is deprecated and will be removed from pandas in a future version. Use pandas.concat instead.\n",
            "  distances = distances.append({\n",
            "<ipython-input-8-d7a5f4ce36ec>:10: FutureWarning: The frame.append method is deprecated and will be removed from pandas in a future version. Use pandas.concat instead.\n",
            "  distances = distances.append({\n",
            "<ipython-input-8-d7a5f4ce36ec>:10: FutureWarning: The frame.append method is deprecated and will be removed from pandas in a future version. Use pandas.concat instead.\n",
            "  distances = distances.append({\n",
            "<ipython-input-8-d7a5f4ce36ec>:10: FutureWarning: The frame.append method is deprecated and will be removed from pandas in a future version. Use pandas.concat instead.\n",
            "  distances = distances.append({\n",
            "<ipython-input-8-d7a5f4ce36ec>:10: FutureWarning: The frame.append method is deprecated and will be removed from pandas in a future version. Use pandas.concat instead.\n",
            "  distances = distances.append({\n",
            "<ipython-input-8-d7a5f4ce36ec>:10: FutureWarning: The frame.append method is deprecated and will be removed from pandas in a future version. Use pandas.concat instead.\n",
            "  distances = distances.append({\n",
            "<ipython-input-8-d7a5f4ce36ec>:10: FutureWarning: The frame.append method is deprecated and will be removed from pandas in a future version. Use pandas.concat instead.\n",
            "  distances = distances.append({\n",
            "<ipython-input-8-d7a5f4ce36ec>:10: FutureWarning: The frame.append method is deprecated and will be removed from pandas in a future version. Use pandas.concat instead.\n",
            "  distances = distances.append({\n"
          ]
        }
      ]
    },
    {
      "cell_type": "markdown",
      "source": [
        "И получим их индексы для дальнейшей отрисовки."
      ],
      "metadata": {
        "id": "-2XPtP0vejac"
      }
    },
    {
      "cell_type": "code",
      "source": [
        "distances"
      ],
      "metadata": {
        "colab": {
          "base_uri": "https://localhost:8080/",
          "height": 1000
        },
        "id": "V3Mv0MzuXGNc",
        "outputId": "4a7f70eb-1137-44ab-e493-b7a9dea980d3"
      },
      "execution_count": null,
      "outputs": [
        {
          "output_type": "execute_result",
          "data": {
            "text/plain": [
              "    train_idx       dst\n",
              "0         0.0  1.802442\n",
              "1         1.0  0.517638\n",
              "2         2.0  1.580136\n",
              "3         3.0  1.820611\n",
              "4         4.0  0.261052\n",
              "5         5.0  0.130806\n",
              "6         6.0  1.414214\n",
              "7         7.0  0.884577\n",
              "8         8.0  1.503680\n",
              "9         9.0  0.532986\n",
              "10       10.0  1.266222\n",
              "11       11.0  1.875133\n",
              "12       12.0  1.868840\n",
              "13       13.0  1.510918\n",
              "14       14.0  1.075953\n",
              "15       15.0  0.973960\n",
              "16       16.0  0.758792\n",
              "17       17.0  0.130806\n",
              "18       18.0  1.854580\n",
              "19       19.0  1.746482\n",
              "20       20.0  0.642879\n",
              "21       21.0  0.646828\n",
              "22       22.0  1.217523\n",
              "23       23.0  1.000000\n",
              "24       24.0  0.642879\n",
              "25       25.0  1.217523\n",
              "26       26.0  1.111140\n",
              "27       27.0  1.698176\n",
              "28       28.0  0.517638\n",
              "29       29.0  1.353611\n",
              "30       30.0  0.390181\n",
              "31       31.0  0.261052\n",
              "32       32.0  1.642647\n",
              "33       33.0  0.884577\n",
              "34       34.0  1.586707\n",
              "35       35.0  1.787353\n",
              "36       36.0  1.873432\n",
              "37       37.0  1.863744\n",
              "38       38.0  1.846112\n",
              "39       39.0  0.868053\n",
              "40       40.0  0.765367\n",
              "41       41.0  1.318692\n",
              "42       42.0  0.765367\n",
              "43       43.0  1.173527\n",
              "44       44.0  1.832416"
            ],
            "text/html": [
              "\n",
              "  <div id=\"df-5589c80a-68c1-4bf7-be97-c3d8a1560d39\">\n",
              "    <div class=\"colab-df-container\">\n",
              "      <div>\n",
              "<style scoped>\n",
              "    .dataframe tbody tr th:only-of-type {\n",
              "        vertical-align: middle;\n",
              "    }\n",
              "\n",
              "    .dataframe tbody tr th {\n",
              "        vertical-align: top;\n",
              "    }\n",
              "\n",
              "    .dataframe thead th {\n",
              "        text-align: right;\n",
              "    }\n",
              "</style>\n",
              "<table border=\"1\" class=\"dataframe\">\n",
              "  <thead>\n",
              "    <tr style=\"text-align: right;\">\n",
              "      <th></th>\n",
              "      <th>train_idx</th>\n",
              "      <th>dst</th>\n",
              "    </tr>\n",
              "  </thead>\n",
              "  <tbody>\n",
              "    <tr>\n",
              "      <th>0</th>\n",
              "      <td>0.0</td>\n",
              "      <td>1.802442</td>\n",
              "    </tr>\n",
              "    <tr>\n",
              "      <th>1</th>\n",
              "      <td>1.0</td>\n",
              "      <td>0.517638</td>\n",
              "    </tr>\n",
              "    <tr>\n",
              "      <th>2</th>\n",
              "      <td>2.0</td>\n",
              "      <td>1.580136</td>\n",
              "    </tr>\n",
              "    <tr>\n",
              "      <th>3</th>\n",
              "      <td>3.0</td>\n",
              "      <td>1.820611</td>\n",
              "    </tr>\n",
              "    <tr>\n",
              "      <th>4</th>\n",
              "      <td>4.0</td>\n",
              "      <td>0.261052</td>\n",
              "    </tr>\n",
              "    <tr>\n",
              "      <th>5</th>\n",
              "      <td>5.0</td>\n",
              "      <td>0.130806</td>\n",
              "    </tr>\n",
              "    <tr>\n",
              "      <th>6</th>\n",
              "      <td>6.0</td>\n",
              "      <td>1.414214</td>\n",
              "    </tr>\n",
              "    <tr>\n",
              "      <th>7</th>\n",
              "      <td>7.0</td>\n",
              "      <td>0.884577</td>\n",
              "    </tr>\n",
              "    <tr>\n",
              "      <th>8</th>\n",
              "      <td>8.0</td>\n",
              "      <td>1.503680</td>\n",
              "    </tr>\n",
              "    <tr>\n",
              "      <th>9</th>\n",
              "      <td>9.0</td>\n",
              "      <td>0.532986</td>\n",
              "    </tr>\n",
              "    <tr>\n",
              "      <th>10</th>\n",
              "      <td>10.0</td>\n",
              "      <td>1.266222</td>\n",
              "    </tr>\n",
              "    <tr>\n",
              "      <th>11</th>\n",
              "      <td>11.0</td>\n",
              "      <td>1.875133</td>\n",
              "    </tr>\n",
              "    <tr>\n",
              "      <th>12</th>\n",
              "      <td>12.0</td>\n",
              "      <td>1.868840</td>\n",
              "    </tr>\n",
              "    <tr>\n",
              "      <th>13</th>\n",
              "      <td>13.0</td>\n",
              "      <td>1.510918</td>\n",
              "    </tr>\n",
              "    <tr>\n",
              "      <th>14</th>\n",
              "      <td>14.0</td>\n",
              "      <td>1.075953</td>\n",
              "    </tr>\n",
              "    <tr>\n",
              "      <th>15</th>\n",
              "      <td>15.0</td>\n",
              "      <td>0.973960</td>\n",
              "    </tr>\n",
              "    <tr>\n",
              "      <th>16</th>\n",
              "      <td>16.0</td>\n",
              "      <td>0.758792</td>\n",
              "    </tr>\n",
              "    <tr>\n",
              "      <th>17</th>\n",
              "      <td>17.0</td>\n",
              "      <td>0.130806</td>\n",
              "    </tr>\n",
              "    <tr>\n",
              "      <th>18</th>\n",
              "      <td>18.0</td>\n",
              "      <td>1.854580</td>\n",
              "    </tr>\n",
              "    <tr>\n",
              "      <th>19</th>\n",
              "      <td>19.0</td>\n",
              "      <td>1.746482</td>\n",
              "    </tr>\n",
              "    <tr>\n",
              "      <th>20</th>\n",
              "      <td>20.0</td>\n",
              "      <td>0.642879</td>\n",
              "    </tr>\n",
              "    <tr>\n",
              "      <th>21</th>\n",
              "      <td>21.0</td>\n",
              "      <td>0.646828</td>\n",
              "    </tr>\n",
              "    <tr>\n",
              "      <th>22</th>\n",
              "      <td>22.0</td>\n",
              "      <td>1.217523</td>\n",
              "    </tr>\n",
              "    <tr>\n",
              "      <th>23</th>\n",
              "      <td>23.0</td>\n",
              "      <td>1.000000</td>\n",
              "    </tr>\n",
              "    <tr>\n",
              "      <th>24</th>\n",
              "      <td>24.0</td>\n",
              "      <td>0.642879</td>\n",
              "    </tr>\n",
              "    <tr>\n",
              "      <th>25</th>\n",
              "      <td>25.0</td>\n",
              "      <td>1.217523</td>\n",
              "    </tr>\n",
              "    <tr>\n",
              "      <th>26</th>\n",
              "      <td>26.0</td>\n",
              "      <td>1.111140</td>\n",
              "    </tr>\n",
              "    <tr>\n",
              "      <th>27</th>\n",
              "      <td>27.0</td>\n",
              "      <td>1.698176</td>\n",
              "    </tr>\n",
              "    <tr>\n",
              "      <th>28</th>\n",
              "      <td>28.0</td>\n",
              "      <td>0.517638</td>\n",
              "    </tr>\n",
              "    <tr>\n",
              "      <th>29</th>\n",
              "      <td>29.0</td>\n",
              "      <td>1.353611</td>\n",
              "    </tr>\n",
              "    <tr>\n",
              "      <th>30</th>\n",
              "      <td>30.0</td>\n",
              "      <td>0.390181</td>\n",
              "    </tr>\n",
              "    <tr>\n",
              "      <th>31</th>\n",
              "      <td>31.0</td>\n",
              "      <td>0.261052</td>\n",
              "    </tr>\n",
              "    <tr>\n",
              "      <th>32</th>\n",
              "      <td>32.0</td>\n",
              "      <td>1.642647</td>\n",
              "    </tr>\n",
              "    <tr>\n",
              "      <th>33</th>\n",
              "      <td>33.0</td>\n",
              "      <td>0.884577</td>\n",
              "    </tr>\n",
              "    <tr>\n",
              "      <th>34</th>\n",
              "      <td>34.0</td>\n",
              "      <td>1.586707</td>\n",
              "    </tr>\n",
              "    <tr>\n",
              "      <th>35</th>\n",
              "      <td>35.0</td>\n",
              "      <td>1.787353</td>\n",
              "    </tr>\n",
              "    <tr>\n",
              "      <th>36</th>\n",
              "      <td>36.0</td>\n",
              "      <td>1.873432</td>\n",
              "    </tr>\n",
              "    <tr>\n",
              "      <th>37</th>\n",
              "      <td>37.0</td>\n",
              "      <td>1.863744</td>\n",
              "    </tr>\n",
              "    <tr>\n",
              "      <th>38</th>\n",
              "      <td>38.0</td>\n",
              "      <td>1.846112</td>\n",
              "    </tr>\n",
              "    <tr>\n",
              "      <th>39</th>\n",
              "      <td>39.0</td>\n",
              "      <td>0.868053</td>\n",
              "    </tr>\n",
              "    <tr>\n",
              "      <th>40</th>\n",
              "      <td>40.0</td>\n",
              "      <td>0.765367</td>\n",
              "    </tr>\n",
              "    <tr>\n",
              "      <th>41</th>\n",
              "      <td>41.0</td>\n",
              "      <td>1.318692</td>\n",
              "    </tr>\n",
              "    <tr>\n",
              "      <th>42</th>\n",
              "      <td>42.0</td>\n",
              "      <td>0.765367</td>\n",
              "    </tr>\n",
              "    <tr>\n",
              "      <th>43</th>\n",
              "      <td>43.0</td>\n",
              "      <td>1.173527</td>\n",
              "    </tr>\n",
              "    <tr>\n",
              "      <th>44</th>\n",
              "      <td>44.0</td>\n",
              "      <td>1.832416</td>\n",
              "    </tr>\n",
              "  </tbody>\n",
              "</table>\n",
              "</div>\n",
              "      <button class=\"colab-df-convert\" onclick=\"convertToInteractive('df-5589c80a-68c1-4bf7-be97-c3d8a1560d39')\"\n",
              "              title=\"Convert this dataframe to an interactive table.\"\n",
              "              style=\"display:none;\">\n",
              "        \n",
              "  <svg xmlns=\"http://www.w3.org/2000/svg\" height=\"24px\"viewBox=\"0 0 24 24\"\n",
              "       width=\"24px\">\n",
              "    <path d=\"M0 0h24v24H0V0z\" fill=\"none\"/>\n",
              "    <path d=\"M18.56 5.44l.94 2.06.94-2.06 2.06-.94-2.06-.94-.94-2.06-.94 2.06-2.06.94zm-11 1L8.5 8.5l.94-2.06 2.06-.94-2.06-.94L8.5 2.5l-.94 2.06-2.06.94zm10 10l.94 2.06.94-2.06 2.06-.94-2.06-.94-.94-2.06-.94 2.06-2.06.94z\"/><path d=\"M17.41 7.96l-1.37-1.37c-.4-.4-.92-.59-1.43-.59-.52 0-1.04.2-1.43.59L10.3 9.45l-7.72 7.72c-.78.78-.78 2.05 0 2.83L4 21.41c.39.39.9.59 1.41.59.51 0 1.02-.2 1.41-.59l7.78-7.78 2.81-2.81c.8-.78.8-2.07 0-2.86zM5.41 20L4 18.59l7.72-7.72 1.47 1.35L5.41 20z\"/>\n",
              "  </svg>\n",
              "      </button>\n",
              "      \n",
              "  <style>\n",
              "    .colab-df-container {\n",
              "      display:flex;\n",
              "      flex-wrap:wrap;\n",
              "      gap: 12px;\n",
              "    }\n",
              "\n",
              "    .colab-df-convert {\n",
              "      background-color: #E8F0FE;\n",
              "      border: none;\n",
              "      border-radius: 50%;\n",
              "      cursor: pointer;\n",
              "      display: none;\n",
              "      fill: #1967D2;\n",
              "      height: 32px;\n",
              "      padding: 0 0 0 0;\n",
              "      width: 32px;\n",
              "    }\n",
              "\n",
              "    .colab-df-convert:hover {\n",
              "      background-color: #E2EBFA;\n",
              "      box-shadow: 0px 1px 2px rgba(60, 64, 67, 0.3), 0px 1px 3px 1px rgba(60, 64, 67, 0.15);\n",
              "      fill: #174EA6;\n",
              "    }\n",
              "\n",
              "    [theme=dark] .colab-df-convert {\n",
              "      background-color: #3B4455;\n",
              "      fill: #D2E3FC;\n",
              "    }\n",
              "\n",
              "    [theme=dark] .colab-df-convert:hover {\n",
              "      background-color: #434B5C;\n",
              "      box-shadow: 0px 1px 3px 1px rgba(0, 0, 0, 0.15);\n",
              "      filter: drop-shadow(0px 1px 2px rgba(0, 0, 0, 0.3));\n",
              "      fill: #FFFFFF;\n",
              "    }\n",
              "  </style>\n",
              "\n",
              "      <script>\n",
              "        const buttonEl =\n",
              "          document.querySelector('#df-5589c80a-68c1-4bf7-be97-c3d8a1560d39 button.colab-df-convert');\n",
              "        buttonEl.style.display =\n",
              "          google.colab.kernel.accessAllowed ? 'block' : 'none';\n",
              "\n",
              "        async function convertToInteractive(key) {\n",
              "          const element = document.querySelector('#df-5589c80a-68c1-4bf7-be97-c3d8a1560d39');\n",
              "          const dataTable =\n",
              "            await google.colab.kernel.invokeFunction('convertToInteractive',\n",
              "                                                     [key], {});\n",
              "          if (!dataTable) return;\n",
              "\n",
              "          const docLinkHtml = 'Like what you see? Visit the ' +\n",
              "            '<a target=\"_blank\" href=https://colab.research.google.com/notebooks/data_table.ipynb>data table notebook</a>'\n",
              "            + ' to learn more about interactive tables.';\n",
              "          element.innerHTML = '';\n",
              "          dataTable['output_type'] = 'display_data';\n",
              "          await google.colab.output.renderOutput(dataTable, element);\n",
              "          const docLink = document.createElement('div');\n",
              "          docLink.innerHTML = docLinkHtml;\n",
              "          element.appendChild(docLink);\n",
              "        }\n",
              "      </script>\n",
              "    </div>\n",
              "  </div>\n",
              "  "
            ]
          },
          "metadata": {},
          "execution_count": 9
        }
      ]
    },
    {
      "cell_type": "code",
      "source": [
        "nearest_neigbors_idxs = distances.sort_values('dst').head(n_neighbors).index\n",
        "nearest_neigbors_idxs"
      ],
      "metadata": {
        "colab": {
          "base_uri": "https://localhost:8080/"
        },
        "id": "R6FNlJGbcnaj",
        "outputId": "a8e94701-b1fd-4368-df3b-6843382aa224"
      },
      "execution_count": null,
      "outputs": [
        {
          "output_type": "execute_result",
          "data": {
            "text/plain": [
              "Int64Index([5, 17, 31, 4, 30, 1, 28, 9, 20, 24, 21, 16, 42, 40, 39, 33, 7, 15,\n",
              "            23, 14],\n",
              "           dtype='int64')"
            ]
          },
          "metadata": {},
          "execution_count": 10
        }
      ]
    },
    {
      "cell_type": "markdown",
      "source": [
        "Отрисовываем 20 найденных соседей в полупрозрачные зеленые окружности.\n",
        "\n",
        "Видим, что здесь нам повезло и большинство соседей являются оранжевым классом, именно представителем этого класса и является наш тестовый объект."
      ],
      "metadata": {
        "id": "b6qHbzQFemjM"
      }
    },
    {
      "cell_type": "code",
      "source": [
        "# Create color maps\n",
        "cmap_bold = [\"darkorange\", \"darkblue\"]\n",
        "\n",
        "plt.figure(figsize=(10, 8))\n",
        "sns.scatterplot(\n",
        "    x=X_train[:, 0],\n",
        "    y=X_train[:, 1],\n",
        "    hue=y_train,\n",
        "    palette=cmap_bold\n",
        ")\n",
        "\n",
        "plt.scatter(X_train[nearest_neigbors_idxs, 0], X_train[nearest_neigbors_idxs, 1],\n",
        "            c='g', alpha=0.3, marker='o', s=100, label='nearest neighbors')\n",
        "\n",
        "plt.scatter(X_test[idx, 0], X_test[idx, 1], c='g', marker='*', s=100, label='test dot')\n",
        "plt.legend();"
      ],
      "metadata": {
        "colab": {
          "base_uri": "https://localhost:8080/",
          "height": 676
        },
        "id": "XSoucL19bHAj",
        "outputId": "114eb98b-f522-4e84-a03b-a667a6b15f5c"
      },
      "execution_count": null,
      "outputs": [
        {
          "output_type": "display_data",
          "data": {
            "text/plain": [
              "<Figure size 1000x800 with 1 Axes>"
            ],
            "image/png": "[encoded data removed]"
          },
          "metadata": {}
        }
      ]
    },
    {
      "cell_type": "markdown",
      "source": [
        "А давайте возьмем еще один тестовый объект."
      ],
      "metadata": {
        "id": "g_gXbUI6e0a6"
      }
    },
    {
      "cell_type": "code",
      "source": [
        "idx = 1\n",
        "test_dot = X_test[idx]\n",
        "\n",
        "distances = pd.DataFrame()\n",
        "for i, train_dot in enumerate(X_train):  # 1\n",
        "    distances = distances.append({\n",
        "        'train_idx': i,\n",
        "        'dst': np.linalg.norm(train_dot - test_dot, ord=2),  # 2\n",
        "        'label': y_train[i]\n",
        "    }, ignore_index=True)"
      ],
      "metadata": {
        "id": "qkuOthGAe0a7",
        "colab": {
          "base_uri": "https://localhost:8080/"
        },
        "outputId": "f107b7d5-b5cb-48b5-cf41-daea8d3b3532"
      },
      "execution_count": null,
      "outputs": [
        {
          "output_type": "stream",
          "name": "stderr",
          "text": [
            "<ipython-input-12-8759c2e77d93>:6: FutureWarning: The frame.append method is deprecated and will be removed from pandas in a future version. Use pandas.concat instead.\n",
            "  distances = distances.append({\n",
            "<ipython-input-12-8759c2e77d93>:6: FutureWarning: The frame.append method is deprecated and will be removed from pandas in a future version. Use pandas.concat instead.\n",
            "  distances = distances.append({\n",
            "<ipython-input-12-8759c2e77d93>:6: FutureWarning: The frame.append method is deprecated and will be removed from pandas in a future version. Use pandas.concat instead.\n",
            "  distances = distances.append({\n",
            "<ipython-input-12-8759c2e77d93>:6: FutureWarning: The frame.append method is deprecated and will be removed from pandas in a future version. Use pandas.concat instead.\n",
            "  distances = distances.append({\n",
            "<ipython-input-12-8759c2e77d93>:6: FutureWarning: The frame.append method is deprecated and will be removed from pandas in a future version. Use pandas.concat instead.\n",
            "  distances = distances.append({\n",
            "<ipython-input-12-8759c2e77d93>:6: FutureWarning: The frame.append method is deprecated and will be removed from pandas in a future version. Use pandas.concat instead.\n",
            "  distances = distances.append({\n",
            "<ipython-input-12-8759c2e77d93>:6: FutureWarning: The frame.append method is deprecated and will be removed from pandas in a future version. Use pandas.concat instead.\n",
            "  distances = distances.append({\n",
            "<ipython-input-12-8759c2e77d93>:6: FutureWarning: The frame.append method is deprecated and will be removed from pandas in a future version. Use pandas.concat instead.\n",
            "  distances = distances.append({\n",
            "<ipython-input-12-8759c2e77d93>:6: FutureWarning: The frame.append method is deprecated and will be removed from pandas in a future version. Use pandas.concat instead.\n",
            "  distances = distances.append({\n",
            "<ipython-input-12-8759c2e77d93>:6: FutureWarning: The frame.append method is deprecated and will be removed from pandas in a future version. Use pandas.concat instead.\n",
            "  distances = distances.append({\n",
            "<ipython-input-12-8759c2e77d93>:6: FutureWarning: The frame.append method is deprecated and will be removed from pandas in a future version. Use pandas.concat instead.\n",
            "  distances = distances.append({\n",
            "<ipython-input-12-8759c2e77d93>:6: FutureWarning: The frame.append method is deprecated and will be removed from pandas in a future version. Use pandas.concat instead.\n",
            "  distances = distances.append({\n",
            "<ipython-input-12-8759c2e77d93>:6: FutureWarning: The frame.append method is deprecated and will be removed from pandas in a future version. Use pandas.concat instead.\n",
            "  distances = distances.append({\n",
            "<ipython-input-12-8759c2e77d93>:6: FutureWarning: The frame.append method is deprecated and will be removed from pandas in a future version. Use pandas.concat instead.\n",
            "  distances = distances.append({\n",
            "<ipython-input-12-8759c2e77d93>:6: FutureWarning: The frame.append method is deprecated and will be removed from pandas in a future version. Use pandas.concat instead.\n",
            "  distances = distances.append({\n",
            "<ipython-input-12-8759c2e77d93>:6: FutureWarning: The frame.append method is deprecated and will be removed from pandas in a future version. Use pandas.concat instead.\n",
            "  distances = distances.append({\n",
            "<ipython-input-12-8759c2e77d93>:6: FutureWarning: The frame.append method is deprecated and will be removed from pandas in a future version. Use pandas.concat instead.\n",
            "  distances = distances.append({\n",
            "<ipython-input-12-8759c2e77d93>:6: FutureWarning: The frame.append method is deprecated and will be removed from pandas in a future version. Use pandas.concat instead.\n",
            "  distances = distances.append({\n",
            "<ipython-input-12-8759c2e77d93>:6: FutureWarning: The frame.append method is deprecated and will be removed from pandas in a future version. Use pandas.concat instead.\n",
            "  distances = distances.append({\n",
            "<ipython-input-12-8759c2e77d93>:6: FutureWarning: The frame.append method is deprecated and will be removed from pandas in a future version. Use pandas.concat instead.\n",
            "  distances = distances.append({\n",
            "<ipython-input-12-8759c2e77d93>:6: FutureWarning: The frame.append method is deprecated and will be removed from pandas in a future version. Use pandas.concat instead.\n",
            "  distances = distances.append({\n",
            "<ipython-input-12-8759c2e77d93>:6: FutureWarning: The frame.append method is deprecated and will be removed from pandas in a future version. Use pandas.concat instead.\n",
            "  distances = distances.append({\n",
            "<ipython-input-12-8759c2e77d93>:6: FutureWarning: The frame.append method is deprecated and will be removed from pandas in a future version. Use pandas.concat instead.\n",
            "  distances = distances.append({\n",
            "<ipython-input-12-8759c2e77d93>:6: FutureWarning: The frame.append method is deprecated and will be removed from pandas in a future version. Use pandas.concat instead.\n",
            "  distances = distances.append({\n",
            "<ipython-input-12-8759c2e77d93>:6: FutureWarning: The frame.append method is deprecated and will be removed from pandas in a future version. Use pandas.concat instead.\n",
            "  distances = distances.append({\n",
            "<ipython-input-12-8759c2e77d93>:6: FutureWarning: The frame.append method is deprecated and will be removed from pandas in a future version. Use pandas.concat instead.\n",
            "  distances = distances.append({\n",
            "<ipython-input-12-8759c2e77d93>:6: FutureWarning: The frame.append method is deprecated and will be removed from pandas in a future version. Use pandas.concat instead.\n",
            "  distances = distances.append({\n",
            "<ipython-input-12-8759c2e77d93>:6: FutureWarning: The frame.append method is deprecated and will be removed from pandas in a future version. Use pandas.concat instead.\n",
            "  distances = distances.append({\n",
            "<ipython-input-12-8759c2e77d93>:6: FutureWarning: The frame.append method is deprecated and will be removed from pandas in a future version. Use pandas.concat instead.\n",
            "  distances = distances.append({\n",
            "<ipython-input-12-8759c2e77d93>:6: FutureWarning: The frame.append method is deprecated and will be removed from pandas in a future version. Use pandas.concat instead.\n",
            "  distances = distances.append({\n",
            "<ipython-input-12-8759c2e77d93>:6: FutureWarning: The frame.append method is deprecated and will be removed from pandas in a future version. Use pandas.concat instead.\n",
            "  distances = distances.append({\n",
            "<ipython-input-12-8759c2e77d93>:6: FutureWarning: The frame.append method is deprecated and will be removed from pandas in a future version. Use pandas.concat instead.\n",
            "  distances = distances.append({\n",
            "<ipython-input-12-8759c2e77d93>:6: FutureWarning: The frame.append method is deprecated and will be removed from pandas in a future version. Use pandas.concat instead.\n",
            "  distances = distances.append({\n",
            "<ipython-input-12-8759c2e77d93>:6: FutureWarning: The frame.append method is deprecated and will be removed from pandas in a future version. Use pandas.concat instead.\n",
            "  distances = distances.append({\n",
            "<ipython-input-12-8759c2e77d93>:6: FutureWarning: The frame.append method is deprecated and will be removed from pandas in a future version. Use pandas.concat instead.\n",
            "  distances = distances.append({\n",
            "<ipython-input-12-8759c2e77d93>:6: FutureWarning: The frame.append method is deprecated and will be removed from pandas in a future version. Use pandas.concat instead.\n",
            "  distances = distances.append({\n",
            "<ipython-input-12-8759c2e77d93>:6: FutureWarning: The frame.append method is deprecated and will be removed from pandas in a future version. Use pandas.concat instead.\n",
            "  distances = distances.append({\n",
            "<ipython-input-12-8759c2e77d93>:6: FutureWarning: The frame.append method is deprecated and will be removed from pandas in a future version. Use pandas.concat instead.\n",
            "  distances = distances.append({\n",
            "<ipython-input-12-8759c2e77d93>:6: FutureWarning: The frame.append method is deprecated and will be removed from pandas in a future version. Use pandas.concat instead.\n",
            "  distances = distances.append({\n",
            "<ipython-input-12-8759c2e77d93>:6: FutureWarning: The frame.append method is deprecated and will be removed from pandas in a future version. Use pandas.concat instead.\n",
            "  distances = distances.append({\n",
            "<ipython-input-12-8759c2e77d93>:6: FutureWarning: The frame.append method is deprecated and will be removed from pandas in a future version. Use pandas.concat instead.\n",
            "  distances = distances.append({\n",
            "<ipython-input-12-8759c2e77d93>:6: FutureWarning: The frame.append method is deprecated and will be removed from pandas in a future version. Use pandas.concat instead.\n",
            "  distances = distances.append({\n",
            "<ipython-input-12-8759c2e77d93>:6: FutureWarning: The frame.append method is deprecated and will be removed from pandas in a future version. Use pandas.concat instead.\n",
            "  distances = distances.append({\n",
            "<ipython-input-12-8759c2e77d93>:6: FutureWarning: The frame.append method is deprecated and will be removed from pandas in a future version. Use pandas.concat instead.\n",
            "  distances = distances.append({\n",
            "<ipython-input-12-8759c2e77d93>:6: FutureWarning: The frame.append method is deprecated and will be removed from pandas in a future version. Use pandas.concat instead.\n",
            "  distances = distances.append({\n"
          ]
        }
      ]
    },
    {
      "cell_type": "code",
      "source": [
        "nearest_neigbors_idxs = distances.sort_values('dst').head(n_neighbors).index\n",
        "nearest_neigbors_idxs"
      ],
      "metadata": {
        "colab": {
          "base_uri": "https://localhost:8080/"
        },
        "outputId": "f5206c77-5af7-4800-fee6-6f936dcd89a4",
        "id": "mWIuYNwse0a8"
      },
      "execution_count": null,
      "outputs": [
        {
          "output_type": "execute_result",
          "data": {
            "text/plain": [
              "Int64Index([22, 23, 33, 42, 24, 32, 2, 27, 1, 13, 19, 35, 29, 3, 10, 38, 30,\n",
              "            43, 37, 14],\n",
              "           dtype='int64')"
            ]
          },
          "metadata": {},
          "execution_count": 13
        }
      ]
    },
    {
      "cell_type": "markdown",
      "source": [
        "А вот здесь не повезло, т.к. наши 20 ближайших соседей в большинстве своем являются представителями синего класса, а наш тестовый объект на самом деле оранжевый класс, так что 20 - это всё-таки многовато для нашей задачи."
      ],
      "metadata": {
        "id": "o9Wydp7fe0a9"
      }
    },
    {
      "cell_type": "code",
      "source": [
        "# Create color maps\n",
        "cmap_bold = [\"darkorange\", \"darkblue\"]\n",
        "\n",
        "plt.figure(figsize=(10, 8))\n",
        "sns.scatterplot(\n",
        "    x=X_train[:, 0],\n",
        "    y=X_train[:, 1],\n",
        "    hue=y_train,\n",
        "    palette=cmap_bold\n",
        ")\n",
        "\n",
        "plt.scatter(X_train[nearest_neigbors_idxs, 0], X_train[nearest_neigbors_idxs, 1],\n",
        "            c='g', alpha=0.3, marker='o', s=100, label='nearest neighbors')\n",
        "\n",
        "plt.scatter(X_test[idx, 0], X_test[idx, 1], c='g', marker='*', s=100, label='test dot')\n",
        "plt.legend();"
      ],
      "metadata": {
        "colab": {
          "base_uri": "https://localhost:8080/",
          "height": 676
        },
        "outputId": "6a838d94-b858-435c-a324-b9c104755790",
        "id": "ENdkTz_ze0a9"
      },
      "execution_count": null,
      "outputs": [
        {
          "output_type": "display_data",
          "data": {
            "text/plain": [
              "<Figure size 1000x800 with 1 Axes>"
            ],
            "image/png": "[encoded data removed]"
          },
          "metadata": {}
        }
      ]
    },
    {
      "cell_type": "markdown",
      "source": [
        "Но как мы можем с этим побороться?\n",
        "\n",
        "А можем пользоваться модификацией модели KNN - **Weighted KNN (взвешенный KNN)**"
      ],
      "metadata": {
        "id": "KTHRGKjFL81E"
      }
    },
    {
      "cell_type": "markdown",
      "source": [
        "### Взвешенный KNN"
      ],
      "metadata": {
        "id": "QSa9XSrGMWYx"
      }
    },
    {
      "cell_type": "markdown",
      "source": [
        "По дефолту модель с `sklearn` обучается с атрибутом `weights=uniform` - это значит, что каждый сосед одинаково важен и одинаково влияет на финальное предсказание модели."
      ],
      "metadata": {
        "id": "JqSdSJcAMjYt"
      }
    },
    {
      "cell_type": "code",
      "source": [
        "KNeighborsClassifier?"
      ],
      "metadata": {
        "id": "6Hl_db1bMuGR"
      },
      "execution_count": null,
      "outputs": []
    },
    {
      "cell_type": "markdown",
      "source": [
        "Но мы можем это поменять и сделать каких-то соседей более значимыми, а каких-то менее, для этого атрибут `weights` поменяем на `distance`.\n",
        "\n",
        "В этом случае веса будут обратными расстоянию до объектов с обучения.\n",
        "\n",
        "Можем привести пример на наших 20 соседях."
      ],
      "metadata": {
        "id": "3ZTy_TyQM4kv"
      }
    },
    {
      "cell_type": "code",
      "source": [
        "n_neighbors = 20\n",
        "model = KNeighborsClassifier(n_neighbors=n_neighbors, weights='distance')"
      ],
      "metadata": {
        "id": "WYbTgUbVMTSS"
      },
      "execution_count": null,
      "outputs": []
    },
    {
      "cell_type": "code",
      "source": [
        "model.fit(X_train, y_train)"
      ],
      "metadata": {
        "colab": {
          "base_uri": "https://localhost:8080/",
          "height": 75
        },
        "outputId": "a99000fe-3122-4b97-99fd-ad83e093c159",
        "id": "Hd2vo_wdMTSk"
      },
      "execution_count": null,
      "outputs": [
        {
          "output_type": "execute_result",
          "data": {
            "text/plain": [
              "KNeighborsClassifier(n_neighbors=20, weights='distance')"
            ],
            "text/html": [
              "<style>#sk-container-id-2 {color: black;background-color: white;}#sk-container-id-2 pre{padding: 0;}#sk-container-id-2 div.sk-toggleable {background-color: white;}#sk-container-id-2 label.sk-toggleable__label {cursor: pointer;display: block;width: 100%;margin-bottom: 0;padding: 0.3em;box-sizing: border-box;text-align: center;}#sk-container-id-2 label.sk-toggleable__label-arrow:before {content: \"▸\";float: left;margin-right: 0.25em;color: #696969;}#sk-container-id-2 label.sk-toggleable__label-arrow:hover:before {color: black;}#sk-container-id-2 div.sk-estimator:hover label.sk-toggleable__label-arrow:before {color: black;}#sk-container-id-2 div.sk-toggleable__content {max-height: 0;max-width: 0;overflow: hidden;text-align: left;background-color: #f0f8ff;}#sk-container-id-2 div.sk-toggleable__content pre {margin: 0.2em;color: black;border-radius: 0.25em;background-color: #f0f8ff;}#sk-container-id-2 input.sk-toggleable__control:checked~div.sk-toggleable__content {max-height: 200px;max-width: 100%;overflow: auto;}#sk-container-id-2 input.sk-toggleable__control:checked~label.sk-toggleable__label-arrow:before {content: \"▾\";}#sk-container-id-2 div.sk-estimator input.sk-toggleable__control:checked~label.sk-toggleable__label {background-color: #d4ebff;}#sk-container-id-2 div.sk-label input.sk-toggleable__control:checked~label.sk-toggleable__label {background-color: #d4ebff;}#sk-container-id-2 input.sk-hidden--visually {border: 0;clip: rect(1px 1px 1px 1px);clip: rect(1px, 1px, 1px, 1px);height: 1px;margin: -1px;overflow: hidden;padding: 0;position: absolute;width: 1px;}#sk-container-id-2 div.sk-estimator {font-family: monospace;background-color: #f0f8ff;border: 1px dotted black;border-radius: 0.25em;box-sizing: border-box;margin-bottom: 0.5em;}#sk-container-id-2 div.sk-estimator:hover {background-color: #d4ebff;}#sk-container-id-2 div.sk-parallel-item::after {content: \"\";width: 100%;border-bottom: 1px solid gray;flex-grow: 1;}#sk-container-id-2 div.sk-label:hover label.sk-toggleable__label {background-color: #d4ebff;}#sk-container-id-2 div.sk-serial::before {content: \"\";position: absolute;border-left: 1px solid gray;box-sizing: border-box;top: 0;bottom: 0;left: 50%;z-index: 0;}#sk-container-id-2 div.sk-serial {display: flex;flex-direction: column;align-items: center;background-color: white;padding-right: 0.2em;padding-left: 0.2em;position: relative;}#sk-container-id-2 div.sk-item {position: relative;z-index: 1;}#sk-container-id-2 div.sk-parallel {display: flex;align-items: stretch;justify-content: center;background-color: white;position: relative;}#sk-container-id-2 div.sk-item::before, #sk-container-id-2 div.sk-parallel-item::before {content: \"\";position: absolute;border-left: 1px solid gray;box-sizing: border-box;top: 0;bottom: 0;left: 50%;z-index: -1;}#sk-container-id-2 div.sk-parallel-item {display: flex;flex-direction: column;z-index: 1;position: relative;background-color: white;}#sk-container-id-2 div.sk-parallel-item:first-child::after {align-self: flex-end;width: 50%;}#sk-container-id-2 div.sk-parallel-item:last-child::after {align-self: flex-start;width: 50%;}#sk-container-id-2 div.sk-parallel-item:only-child::after {width: 0;}#sk-container-id-2 div.sk-dashed-wrapped {border: 1px dashed gray;margin: 0 0.4em 0.5em 0.4em;box-sizing: border-box;padding-bottom: 0.4em;background-color: white;}#sk-container-id-2 div.sk-label label {font-family: monospace;font-weight: bold;display: inline-block;line-height: 1.2em;}#sk-container-id-2 div.sk-label-container {text-align: center;}#sk-container-id-2 div.sk-container {/* jupyter's `normalize.less` sets `[hidden] { display: none; }` but bootstrap.min.css set `[hidden] { display: none !important; }` so we also need the `!important` here to be able to override the default hidden behavior on the sphinx rendered scikit-learn.org. See: https://github.com/scikit-learn/scikit-learn/issues/21755 */display: inline-block !important;position: relative;}#sk-container-id-2 div.sk-text-repr-fallback {display: none;}</style><div id=\"sk-container-id-2\" class=\"sk-top-container\"><div class=\"sk-text-repr-fallback\"><pre>KNeighborsClassifier(n_neighbors=20, weights=&#x27;distance&#x27;)</pre><b>In a Jupyter environment, please rerun this cell to show the HTML representation or trust the notebook. <br />On GitHub, the HTML representation is unable to render, please try loading this page with nbviewer.org.</b></div><div class=\"sk-container\" hidden><div class=\"sk-item\"><div class=\"sk-estimator sk-toggleable\"><input class=\"sk-toggleable__control sk-hidden--visually\" id=\"sk-estimator-id-2\" type=\"checkbox\" checked><label for=\"sk-estimator-id-2\" class=\"sk-toggleable__label sk-toggleable__label-arrow\">KNeighborsClassifier</label><div class=\"sk-toggleable__content\"><pre>KNeighborsClassifier(n_neighbors=20, weights=&#x27;distance&#x27;)</pre></div></div></div></div></div>"
            ]
          },
          "metadata": {},
          "execution_count": 17
        }
      ]
    },
    {
      "cell_type": "code",
      "source": [
        "pred_test = model.predict(X_test)\n",
        "display(pred_test, y_test)"
      ],
      "metadata": {
        "colab": {
          "base_uri": "https://localhost:8080/",
          "height": 52
        },
        "outputId": "93f4ea70-39c5-4f13-b895-e107371978dc",
        "id": "FypMU4IXMTSn"
      },
      "execution_count": null,
      "outputs": [
        {
          "output_type": "display_data",
          "data": {
            "text/plain": [
              "array([0, 0, 0, 0, 1])"
            ]
          },
          "metadata": {}
        },
        {
          "output_type": "display_data",
          "data": {
            "text/plain": [
              "array([0, 0, 0, 0, 1])"
            ]
          },
          "metadata": {}
        }
      ]
    },
    {
      "cell_type": "markdown",
      "source": [
        "А вот теперь всё совпало.\n"
      ],
      "metadata": {
        "id": "uZen5TuuMTSq"
      }
    },
    {
      "cell_type": "markdown",
      "source": [
        "#### Детали получения предсказания в KNN"
      ],
      "metadata": {
        "id": "W8piE50ZMTSr"
      }
    },
    {
      "cell_type": "markdown",
      "source": [
        "Возьмем тот объект, где была ошибка."
      ],
      "metadata": {
        "id": "2-7FX9wROnmU"
      }
    },
    {
      "cell_type": "code",
      "source": [
        "idx = 1\n",
        "test_dot = X_test[idx]\n",
        "\n",
        "distances = pd.DataFrame()\n",
        "for i, train_dot in enumerate(X_train):  # 1\n",
        "    distances = distances.append({\n",
        "        'train_idx': i,\n",
        "        'dst': np.linalg.norm(train_dot - test_dot, ord=2),  # 2\n",
        "        'label': y_train[i]\n",
        "    }, ignore_index=True)"
      ],
      "metadata": {
        "id": "E7iACTO1MTSu",
        "colab": {
          "base_uri": "https://localhost:8080/"
        },
        "outputId": "b9caf0a4-f507-47c6-abd8-d50b16960c4a"
      },
      "execution_count": null,
      "outputs": [
        {
          "output_type": "stream",
          "name": "stderr",
          "text": [
            "<ipython-input-19-8759c2e77d93>:6: FutureWarning: The frame.append method is deprecated and will be removed from pandas in a future version. Use pandas.concat instead.\n",
            "  distances = distances.append({\n",
            "<ipython-input-19-8759c2e77d93>:6: FutureWarning: The frame.append method is deprecated and will be removed from pandas in a future version. Use pandas.concat instead.\n",
            "  distances = distances.append({\n",
            "<ipython-input-19-8759c2e77d93>:6: FutureWarning: The frame.append method is deprecated and will be removed from pandas in a future version. Use pandas.concat instead.\n",
            "  distances = distances.append({\n",
            "<ipython-input-19-8759c2e77d93>:6: FutureWarning: The frame.append method is deprecated and will be removed from pandas in a future version. Use pandas.concat instead.\n",
            "  distances = distances.append({\n",
            "<ipython-input-19-8759c2e77d93>:6: FutureWarning: The frame.append method is deprecated and will be removed from pandas in a future version. Use pandas.concat instead.\n",
            "  distances = distances.append({\n",
            "<ipython-input-19-8759c2e77d93>:6: FutureWarning: The frame.append method is deprecated and will be removed from pandas in a future version. Use pandas.concat instead.\n",
            "  distances = distances.append({\n",
            "<ipython-input-19-8759c2e77d93>:6: FutureWarning: The frame.append method is deprecated and will be removed from pandas in a future version. Use pandas.concat instead.\n",
            "  distances = distances.append({\n",
            "<ipython-input-19-8759c2e77d93>:6: FutureWarning: The frame.append method is deprecated and will be removed from pandas in a future version. Use pandas.concat instead.\n",
            "  distances = distances.append({\n",
            "<ipython-input-19-8759c2e77d93>:6: FutureWarning: The frame.append method is deprecated and will be removed from pandas in a future version. Use pandas.concat instead.\n",
            "  distances = distances.append({\n",
            "<ipython-input-19-8759c2e77d93>:6: FutureWarning: The frame.append method is deprecated and will be removed from pandas in a future version. Use pandas.concat instead.\n",
            "  distances = distances.append({\n",
            "<ipython-input-19-8759c2e77d93>:6: FutureWarning: The frame.append method is deprecated and will be removed from pandas in a future version. Use pandas.concat instead.\n",
            "  distances = distances.append({\n",
            "<ipython-input-19-8759c2e77d93>:6: FutureWarning: The frame.append method is deprecated and will be removed from pandas in a future version. Use pandas.concat instead.\n",
            "  distances = distances.append({\n",
            "<ipython-input-19-8759c2e77d93>:6: FutureWarning: The frame.append method is deprecated and will be removed from pandas in a future version. Use pandas.concat instead.\n",
            "  distances = distances.append({\n",
            "<ipython-input-19-8759c2e77d93>:6: FutureWarning: The frame.append method is deprecated and will be removed from pandas in a future version. Use pandas.concat instead.\n",
            "  distances = distances.append({\n",
            "<ipython-input-19-8759c2e77d93>:6: FutureWarning: The frame.append method is deprecated and will be removed from pandas in a future version. Use pandas.concat instead.\n",
            "  distances = distances.append({\n",
            "<ipython-input-19-8759c2e77d93>:6: FutureWarning: The frame.append method is deprecated and will be removed from pandas in a future version. Use pandas.concat instead.\n",
            "  distances = distances.append({\n",
            "<ipython-input-19-8759c2e77d93>:6: FutureWarning: The frame.append method is deprecated and will be removed from pandas in a future version. Use pandas.concat instead.\n",
            "  distances = distances.append({\n",
            "<ipython-input-19-8759c2e77d93>:6: FutureWarning: The frame.append method is deprecated and will be removed from pandas in a future version. Use pandas.concat instead.\n",
            "  distances = distances.append({\n",
            "<ipython-input-19-8759c2e77d93>:6: FutureWarning: The frame.append method is deprecated and will be removed from pandas in a future version. Use pandas.concat instead.\n",
            "  distances = distances.append({\n",
            "<ipython-input-19-8759c2e77d93>:6: FutureWarning: The frame.append method is deprecated and will be removed from pandas in a future version. Use pandas.concat instead.\n",
            "  distances = distances.append({\n",
            "<ipython-input-19-8759c2e77d93>:6: FutureWarning: The frame.append method is deprecated and will be removed from pandas in a future version. Use pandas.concat instead.\n",
            "  distances = distances.append({\n",
            "<ipython-input-19-8759c2e77d93>:6: FutureWarning: The frame.append method is deprecated and will be removed from pandas in a future version. Use pandas.concat instead.\n",
            "  distances = distances.append({\n",
            "<ipython-input-19-8759c2e77d93>:6: FutureWarning: The frame.append method is deprecated and will be removed from pandas in a future version. Use pandas.concat instead.\n",
            "  distances = distances.append({\n",
            "<ipython-input-19-8759c2e77d93>:6: FutureWarning: The frame.append method is deprecated and will be removed from pandas in a future version. Use pandas.concat instead.\n",
            "  distances = distances.append({\n",
            "<ipython-input-19-8759c2e77d93>:6: FutureWarning: The frame.append method is deprecated and will be removed from pandas in a future version. Use pandas.concat instead.\n",
            "  distances = distances.append({\n",
            "<ipython-input-19-8759c2e77d93>:6: FutureWarning: The frame.append method is deprecated and will be removed from pandas in a future version. Use pandas.concat instead.\n",
            "  distances = distances.append({\n",
            "<ipython-input-19-8759c2e77d93>:6: FutureWarning: The frame.append method is deprecated and will be removed from pandas in a future version. Use pandas.concat instead.\n",
            "  distances = distances.append({\n",
            "<ipython-input-19-8759c2e77d93>:6: FutureWarning: The frame.append method is deprecated and will be removed from pandas in a future version. Use pandas.concat instead.\n",
            "  distances = distances.append({\n",
            "<ipython-input-19-8759c2e77d93>:6: FutureWarning: The frame.append method is deprecated and will be removed from pandas in a future version. Use pandas.concat instead.\n",
            "  distances = distances.append({\n",
            "<ipython-input-19-8759c2e77d93>:6: FutureWarning: The frame.append method is deprecated and will be removed from pandas in a future version. Use pandas.concat instead.\n",
            "  distances = distances.append({\n",
            "<ipython-input-19-8759c2e77d93>:6: FutureWarning: The frame.append method is deprecated and will be removed from pandas in a future version. Use pandas.concat instead.\n",
            "  distances = distances.append({\n",
            "<ipython-input-19-8759c2e77d93>:6: FutureWarning: The frame.append method is deprecated and will be removed from pandas in a future version. Use pandas.concat instead.\n",
            "  distances = distances.append({\n",
            "<ipython-input-19-8759c2e77d93>:6: FutureWarning: The frame.append method is deprecated and will be removed from pandas in a future version. Use pandas.concat instead.\n",
            "  distances = distances.append({\n",
            "<ipython-input-19-8759c2e77d93>:6: FutureWarning: The frame.append method is deprecated and will be removed from pandas in a future version. Use pandas.concat instead.\n",
            "  distances = distances.append({\n",
            "<ipython-input-19-8759c2e77d93>:6: FutureWarning: The frame.append method is deprecated and will be removed from pandas in a future version. Use pandas.concat instead.\n",
            "  distances = distances.append({\n",
            "<ipython-input-19-8759c2e77d93>:6: FutureWarning: The frame.append method is deprecated and will be removed from pandas in a future version. Use pandas.concat instead.\n",
            "  distances = distances.append({\n",
            "<ipython-input-19-8759c2e77d93>:6: FutureWarning: The frame.append method is deprecated and will be removed from pandas in a future version. Use pandas.concat instead.\n",
            "  distances = distances.append({\n",
            "<ipython-input-19-8759c2e77d93>:6: FutureWarning: The frame.append method is deprecated and will be removed from pandas in a future version. Use pandas.concat instead.\n",
            "  distances = distances.append({\n",
            "<ipython-input-19-8759c2e77d93>:6: FutureWarning: The frame.append method is deprecated and will be removed from pandas in a future version. Use pandas.concat instead.\n",
            "  distances = distances.append({\n",
            "<ipython-input-19-8759c2e77d93>:6: FutureWarning: The frame.append method is deprecated and will be removed from pandas in a future version. Use pandas.concat instead.\n",
            "  distances = distances.append({\n",
            "<ipython-input-19-8759c2e77d93>:6: FutureWarning: The frame.append method is deprecated and will be removed from pandas in a future version. Use pandas.concat instead.\n",
            "  distances = distances.append({\n",
            "<ipython-input-19-8759c2e77d93>:6: FutureWarning: The frame.append method is deprecated and will be removed from pandas in a future version. Use pandas.concat instead.\n",
            "  distances = distances.append({\n",
            "<ipython-input-19-8759c2e77d93>:6: FutureWarning: The frame.append method is deprecated and will be removed from pandas in a future version. Use pandas.concat instead.\n",
            "  distances = distances.append({\n",
            "<ipython-input-19-8759c2e77d93>:6: FutureWarning: The frame.append method is deprecated and will be removed from pandas in a future version. Use pandas.concat instead.\n",
            "  distances = distances.append({\n",
            "<ipython-input-19-8759c2e77d93>:6: FutureWarning: The frame.append method is deprecated and will be removed from pandas in a future version. Use pandas.concat instead.\n",
            "  distances = distances.append({\n"
          ]
        }
      ]
    },
    {
      "cell_type": "code",
      "source": [
        "nearest_neigbors_idxs = distances.sort_values('dst').head(n_neighbors).index\n",
        "nearest_neigbors_idxs"
      ],
      "metadata": {
        "colab": {
          "base_uri": "https://localhost:8080/"
        },
        "outputId": "391f5779-71ae-4402-f182-8e1cdda224fe",
        "id": "IWuMIR_QMTSv"
      },
      "execution_count": null,
      "outputs": [
        {
          "output_type": "execute_result",
          "data": {
            "text/plain": [
              "Int64Index([22, 23, 33, 42, 24, 32, 2, 27, 1, 13, 19, 35, 29, 3, 10, 38, 30,\n",
              "            43, 37, 14],\n",
              "           dtype='int64')"
            ]
          },
          "metadata": {},
          "execution_count": 20
        }
      ]
    },
    {
      "cell_type": "markdown",
      "source": [
        "Все те же самые соседи, но теперь те, кто находятся далеко влияют меньше, а те, кто близко влияют больше."
      ],
      "metadata": {
        "id": "5sHkyljOMTSv"
      }
    },
    {
      "cell_type": "code",
      "source": [
        "# Create color maps\n",
        "cmap_bold = [\"darkorange\", \"darkblue\"]\n",
        "\n",
        "plt.figure(figsize=(10, 8))\n",
        "sns.scatterplot(\n",
        "    x=X_train[:, 0],\n",
        "    y=X_train[:, 1],\n",
        "    hue=y_train,\n",
        "    palette=cmap_bold\n",
        ")\n",
        "\n",
        "plt.scatter(X_train[nearest_neigbors_idxs, 0], X_train[nearest_neigbors_idxs, 1],\n",
        "            c='g', alpha=0.3, marker='o', s=100, label='nearest neighbors')\n",
        "\n",
        "plt.scatter(X_test[idx, 0], X_test[idx, 1], c='g', marker='*', s=100, label='test dot')\n",
        "plt.legend();"
      ],
      "metadata": {
        "colab": {
          "base_uri": "https://localhost:8080/",
          "height": 676
        },
        "outputId": "3743f6ea-c7f1-456d-930b-8e64a7286aff",
        "id": "4tCgy7InMTSv"
      },
      "execution_count": null,
      "outputs": [
        {
          "output_type": "display_data",
          "data": {
            "text/plain": [
              "<Figure size 1000x800 with 1 Axes>"
            ],
            "image/png": "[encoded data removed]"
          },
          "metadata": {}
        }
      ]
    },
    {
      "cell_type": "markdown",
      "source": [
        "Можем рассчитать вес каждого соседа, для этого 1 поделим на расстояние до объекта."
      ],
      "metadata": {
        "id": "S7dmKJrLPB7M"
      }
    },
    {
      "cell_type": "code",
      "source": [
        "distances['weight'] = 1 / distances['dst']\n",
        "distances = distances.sort_values('dst').head(n_neighbors)\n",
        "distances"
      ],
      "metadata": {
        "colab": {
          "base_uri": "https://localhost:8080/",
          "height": 677
        },
        "id": "yMWzmg-yO6bw",
        "outputId": "8f9c11a3-e3a5-4ea6-8e35-62f3716adca0"
      },
      "execution_count": null,
      "outputs": [
        {
          "output_type": "execute_result",
          "data": {
            "text/plain": [
              "    train_idx       dst  label    weight\n",
              "22       22.0  0.130806    0.0  7.644894\n",
              "23       23.0  0.130806    0.0  7.644894\n",
              "33       33.0  0.261052    0.0  3.830649\n",
              "42       42.0  0.390181    0.0  2.562915\n",
              "24       24.0  0.517638    0.0  1.931852\n",
              "32       32.0  0.630584    1.0  1.585831\n",
              "2         2.0  0.633818    1.0  1.577741\n",
              "27       27.0  0.637332    1.0  1.569042\n",
              "1         1.0  0.642879    0.0  1.555503\n",
              "13       13.0  0.646828    1.0  1.546005\n",
              "19       19.0  0.653639    1.0  1.529896\n",
              "35       35.0  0.678552    1.0  1.473726\n",
              "29       29.0  0.698628    1.0  1.431376\n",
              "3         3.0  0.710768    1.0  1.406928\n",
              "10       10.0  0.734793    1.0  1.360927\n",
              "38       38.0  0.748835    1.0  1.335408\n",
              "30       30.0  0.765367    0.0  1.306563\n",
              "43       43.0  0.775868    1.0  1.288880\n",
              "37       37.0  0.791308    1.0  1.263731\n",
              "14       14.0  0.820467    1.0  1.218817"
            ],
            "text/html": [
              "\n",
              "  <div id=\"df-1d5f1a6e-397d-42bb-9e7d-5513ee3e2f1f\">\n",
              "    <div class=\"colab-df-container\">\n",
              "      <div>\n",
              "<style scoped>\n",
              "    .dataframe tbody tr th:only-of-type {\n",
              "        vertical-align: middle;\n",
              "    }\n",
              "\n",
              "    .dataframe tbody tr th {\n",
              "        vertical-align: top;\n",
              "    }\n",
              "\n",
              "    .dataframe thead th {\n",
              "        text-align: right;\n",
              "    }\n",
              "</style>\n",
              "<table border=\"1\" class=\"dataframe\">\n",
              "  <thead>\n",
              "    <tr style=\"text-align: right;\">\n",
              "      <th></th>\n",
              "      <th>train_idx</th>\n",
              "      <th>dst</th>\n",
              "      <th>label</th>\n",
              "      <th>weight</th>\n",
              "    </tr>\n",
              "  </thead>\n",
              "  <tbody>\n",
              "    <tr>\n",
              "      <th>22</th>\n",
              "      <td>22.0</td>\n",
              "      <td>0.130806</td>\n",
              "      <td>0.0</td>\n",
              "      <td>7.644894</td>\n",
              "    </tr>\n",
              "    <tr>\n",
              "      <th>23</th>\n",
              "      <td>23.0</td>\n",
              "      <td>0.130806</td>\n",
              "      <td>0.0</td>\n",
              "      <td>7.644894</td>\n",
              "    </tr>\n",
              "    <tr>\n",
              "      <th>33</th>\n",
              "      <td>33.0</td>\n",
              "      <td>0.261052</td>\n",
              "      <td>0.0</td>\n",
              "      <td>3.830649</td>\n",
              "    </tr>\n",
              "    <tr>\n",
              "      <th>42</th>\n",
              "      <td>42.0</td>\n",
              "      <td>0.390181</td>\n",
              "      <td>0.0</td>\n",
              "      <td>2.562915</td>\n",
              "    </tr>\n",
              "    <tr>\n",
              "      <th>24</th>\n",
              "      <td>24.0</td>\n",
              "      <td>0.517638</td>\n",
              "      <td>0.0</td>\n",
              "      <td>1.931852</td>\n",
              "    </tr>\n",
              "    <tr>\n",
              "      <th>32</th>\n",
              "      <td>32.0</td>\n",
              "      <td>0.630584</td>\n",
              "      <td>1.0</td>\n",
              "      <td>1.585831</td>\n",
              "    </tr>\n",
              "    <tr>\n",
              "      <th>2</th>\n",
              "      <td>2.0</td>\n",
              "      <td>0.633818</td>\n",
              "      <td>1.0</td>\n",
              "      <td>1.577741</td>\n",
              "    </tr>\n",
              "    <tr>\n",
              "      <th>27</th>\n",
              "      <td>27.0</td>\n",
              "      <td>0.637332</td>\n",
              "      <td>1.0</td>\n",
              "      <td>1.569042</td>\n",
              "    </tr>\n",
              "    <tr>\n",
              "      <th>1</th>\n",
              "      <td>1.0</td>\n",
              "      <td>0.642879</td>\n",
              "      <td>0.0</td>\n",
              "      <td>1.555503</td>\n",
              "    </tr>\n",
              "    <tr>\n",
              "      <th>13</th>\n",
              "      <td>13.0</td>\n",
              "      <td>0.646828</td>\n",
              "      <td>1.0</td>\n",
              "      <td>1.546005</td>\n",
              "    </tr>\n",
              "    <tr>\n",
              "      <th>19</th>\n",
              "      <td>19.0</td>\n",
              "      <td>0.653639</td>\n",
              "      <td>1.0</td>\n",
              "      <td>1.529896</td>\n",
              "    </tr>\n",
              "    <tr>\n",
              "      <th>35</th>\n",
              "      <td>35.0</td>\n",
              "      <td>0.678552</td>\n",
              "      <td>1.0</td>\n",
              "      <td>1.473726</td>\n",
              "    </tr>\n",
              "    <tr>\n",
              "      <th>29</th>\n",
              "      <td>29.0</td>\n",
              "      <td>0.698628</td>\n",
              "      <td>1.0</td>\n",
              "      <td>1.431376</td>\n",
              "    </tr>\n",
              "    <tr>\n",
              "      <th>3</th>\n",
              "      <td>3.0</td>\n",
              "      <td>0.710768</td>\n",
              "      <td>1.0</td>\n",
              "      <td>1.406928</td>\n",
              "    </tr>\n",
              "    <tr>\n",
              "      <th>10</th>\n",
              "      <td>10.0</td>\n",
              "      <td>0.734793</td>\n",
              "      <td>1.0</td>\n",
              "      <td>1.360927</td>\n",
              "    </tr>\n",
              "    <tr>\n",
              "      <th>38</th>\n",
              "      <td>38.0</td>\n",
              "      <td>0.748835</td>\n",
              "      <td>1.0</td>\n",
              "      <td>1.335408</td>\n",
              "    </tr>\n",
              "    <tr>\n",
              "      <th>30</th>\n",
              "      <td>30.0</td>\n",
              "      <td>0.765367</td>\n",
              "      <td>0.0</td>\n",
              "      <td>1.306563</td>\n",
              "    </tr>\n",
              "    <tr>\n",
              "      <th>43</th>\n",
              "      <td>43.0</td>\n",
              "      <td>0.775868</td>\n",
              "      <td>1.0</td>\n",
              "      <td>1.288880</td>\n",
              "    </tr>\n",
              "    <tr>\n",
              "      <th>37</th>\n",
              "      <td>37.0</td>\n",
              "      <td>0.791308</td>\n",
              "      <td>1.0</td>\n",
              "      <td>1.263731</td>\n",
              "    </tr>\n",
              "    <tr>\n",
              "      <th>14</th>\n",
              "      <td>14.0</td>\n",
              "      <td>0.820467</td>\n",
              "      <td>1.0</td>\n",
              "      <td>1.218817</td>\n",
              "    </tr>\n",
              "  </tbody>\n",
              "</table>\n",
              "</div>\n",
              "      <button class=\"colab-df-convert\" onclick=\"convertToInteractive('df-1d5f1a6e-397d-42bb-9e7d-5513ee3e2f1f')\"\n",
              "              title=\"Convert this dataframe to an interactive table.\"\n",
              "              style=\"display:none;\">\n",
              "        \n",
              "  <svg xmlns=\"http://www.w3.org/2000/svg\" height=\"24px\"viewBox=\"0 0 24 24\"\n",
              "       width=\"24px\">\n",
              "    <path d=\"M0 0h24v24H0V0z\" fill=\"none\"/>\n",
              "    <path d=\"M18.56 5.44l.94 2.06.94-2.06 2.06-.94-2.06-.94-.94-2.06-.94 2.06-2.06.94zm-11 1L8.5 8.5l.94-2.06 2.06-.94-2.06-.94L8.5 2.5l-.94 2.06-2.06.94zm10 10l.94 2.06.94-2.06 2.06-.94-2.06-.94-.94-2.06-.94 2.06-2.06.94z\"/><path d=\"M17.41 7.96l-1.37-1.37c-.4-.4-.92-.59-1.43-.59-.52 0-1.04.2-1.43.59L10.3 9.45l-7.72 7.72c-.78.78-.78 2.05 0 2.83L4 21.41c.39.39.9.59 1.41.59.51 0 1.02-.2 1.41-.59l7.78-7.78 2.81-2.81c.8-.78.8-2.07 0-2.86zM5.41 20L4 18.59l7.72-7.72 1.47 1.35L5.41 20z\"/>\n",
              "  </svg>\n",
              "      </button>\n",
              "      \n",
              "  <style>\n",
              "    .colab-df-container {\n",
              "      display:flex;\n",
              "      flex-wrap:wrap;\n",
              "      gap: 12px;\n",
              "    }\n",
              "\n",
              "    .colab-df-convert {\n",
              "      background-color: #E8F0FE;\n",
              "      border: none;\n",
              "      border-radius: 50%;\n",
              "      cursor: pointer;\n",
              "      display: none;\n",
              "      fill: #1967D2;\n",
              "      height: 32px;\n",
              "      padding: 0 0 0 0;\n",
              "      width: 32px;\n",
              "    }\n",
              "\n",
              "    .colab-df-convert:hover {\n",
              "      background-color: #E2EBFA;\n",
              "      box-shadow: 0px 1px 2px rgba(60, 64, 67, 0.3), 0px 1px 3px 1px rgba(60, 64, 67, 0.15);\n",
              "      fill: #174EA6;\n",
              "    }\n",
              "\n",
              "    [theme=dark] .colab-df-convert {\n",
              "      background-color: #3B4455;\n",
              "      fill: #D2E3FC;\n",
              "    }\n",
              "\n",
              "    [theme=dark] .colab-df-convert:hover {\n",
              "      background-color: #434B5C;\n",
              "      box-shadow: 0px 1px 3px 1px rgba(0, 0, 0, 0.15);\n",
              "      filter: drop-shadow(0px 1px 2px rgba(0, 0, 0, 0.3));\n",
              "      fill: #FFFFFF;\n",
              "    }\n",
              "  </style>\n",
              "\n",
              "      <script>\n",
              "        const buttonEl =\n",
              "          document.querySelector('#df-1d5f1a6e-397d-42bb-9e7d-5513ee3e2f1f button.colab-df-convert');\n",
              "        buttonEl.style.display =\n",
              "          google.colab.kernel.accessAllowed ? 'block' : 'none';\n",
              "\n",
              "        async function convertToInteractive(key) {\n",
              "          const element = document.querySelector('#df-1d5f1a6e-397d-42bb-9e7d-5513ee3e2f1f');\n",
              "          const dataTable =\n",
              "            await google.colab.kernel.invokeFunction('convertToInteractive',\n",
              "                                                     [key], {});\n",
              "          if (!dataTable) return;\n",
              "\n",
              "          const docLinkHtml = 'Like what you see? Visit the ' +\n",
              "            '<a target=\"_blank\" href=https://colab.research.google.com/notebooks/data_table.ipynb>data table notebook</a>'\n",
              "            + ' to learn more about interactive tables.';\n",
              "          element.innerHTML = '';\n",
              "          dataTable['output_type'] = 'display_data';\n",
              "          await google.colab.output.renderOutput(dataTable, element);\n",
              "          const docLink = document.createElement('div');\n",
              "          docLink.innerHTML = docLinkHtml;\n",
              "          element.appendChild(docLink);\n",
              "        }\n",
              "      </script>\n",
              "    </div>\n",
              "  </div>\n",
              "  "
            ]
          },
          "metadata": {},
          "execution_count": 22
        }
      ]
    },
    {
      "cell_type": "code",
      "source": [
        "np.linspace(0, 1, 50)"
      ],
      "metadata": {
        "colab": {
          "base_uri": "https://localhost:8080/"
        },
        "id": "bROccl9eYzJE",
        "outputId": "3ab9bea4-2ca4-4c30-ff08-3c03843024c4"
      },
      "execution_count": null,
      "outputs": [
        {
          "output_type": "execute_result",
          "data": {
            "text/plain": [
              "array([0.        , 0.02040816, 0.04081633, 0.06122449, 0.08163265,\n",
              "       0.10204082, 0.12244898, 0.14285714, 0.16326531, 0.18367347,\n",
              "       0.20408163, 0.2244898 , 0.24489796, 0.26530612, 0.28571429,\n",
              "       0.30612245, 0.32653061, 0.34693878, 0.36734694, 0.3877551 ,\n",
              "       0.40816327, 0.42857143, 0.44897959, 0.46938776, 0.48979592,\n",
              "       0.51020408, 0.53061224, 0.55102041, 0.57142857, 0.59183673,\n",
              "       0.6122449 , 0.63265306, 0.65306122, 0.67346939, 0.69387755,\n",
              "       0.71428571, 0.73469388, 0.75510204, 0.7755102 , 0.79591837,\n",
              "       0.81632653, 0.83673469, 0.85714286, 0.87755102, 0.89795918,\n",
              "       0.91836735, 0.93877551, 0.95918367, 0.97959184, 1.        ])"
            ]
          },
          "metadata": {},
          "execution_count": 23
        }
      ]
    },
    {
      "cell_type": "code",
      "source": [
        "x = np.linspace(0, 1, 50)\n",
        "plt.plot(x, 1/(x))\n",
        "plt.ylabel('weight')\n",
        "plt.xlabel('distance');"
      ],
      "metadata": {
        "colab": {
          "base_uri": "https://localhost:8080/",
          "height": 484
        },
        "id": "VZ3DsFxGPUf3",
        "outputId": "7c51f052-c9b8-44f7-c584-94d4345a4969"
      },
      "execution_count": null,
      "outputs": [
        {
          "output_type": "stream",
          "name": "stderr",
          "text": [
            "<ipython-input-24-bc6cbb17cb7b>:2: RuntimeWarning: divide by zero encountered in true_divide\n",
            "  plt.plot(x, 1/(x))\n"
          ]
        },
        {
          "output_type": "display_data",
          "data": {
            "text/plain": [
              "<Figure size 640x480 with 1 Axes>"
            ],
            "image/png": "[encoded data removed]"
          },
          "metadata": {}
        }
      ]
    },
    {
      "cell_type": "markdown",
      "source": [
        "Зная вес каждого соседа, можем посчитать взвешенную сумму и где сумма весов будет больше, тот класс и наше финальное предсказание.\n",
        "\n",
        "Победил нулевой класс - а это наш оранжевый."
      ],
      "metadata": {
        "id": "FcyK42BYSP4e"
      }
    },
    {
      "cell_type": "code",
      "source": [
        "display(f\"Вес для класса 0 - {distances[distances['label'] == 0]['weight'].sum()}\",\n",
        "        f\"Вес для класса 1 - {distances[distances['label'] == 1]['weight'].sum()}\")"
      ],
      "metadata": {
        "colab": {
          "base_uri": "https://localhost:8080/",
          "height": 54
        },
        "id": "GMCG5vguQoS3",
        "outputId": "a80a7424-e81b-4204-a59c-ec6fe22908a7"
      },
      "execution_count": null,
      "outputs": [
        {
          "output_type": "display_data",
          "data": {
            "text/plain": [
              "'Вес для класса 0 - 26.477269988013717'"
            ],
            "application/vnd.google.colaboratory.intrinsic+json": {
              "type": "string"
            }
          },
          "metadata": {}
        },
        {
          "output_type": "display_data",
          "data": {
            "text/plain": [
              "'Вес для класса 1 - 18.588307260356473'"
            ],
            "application/vnd.google.colaboratory.intrinsic+json": {
              "type": "string"
            }
          },
          "metadata": {}
        }
      ]
    },
    {
      "cell_type": "markdown",
      "source": [
        "Получаем, что по обычному большинству побеждал первый класс, а по весу побеждает нулевой класс, т.к. не все объекты активно участвуют в голосовании."
      ],
      "metadata": {
        "id": "FYYcHGjbSk2m"
      }
    },
    {
      "cell_type": "code",
      "source": [
        "distances['label'].value_counts()"
      ],
      "metadata": {
        "colab": {
          "base_uri": "https://localhost:8080/"
        },
        "id": "YD5p3TKcSe_w",
        "outputId": "3c145df6-dc3c-458a-86b5-af65d81875b4"
      },
      "execution_count": null,
      "outputs": [
        {
          "output_type": "execute_result",
          "data": {
            "text/plain": [
              "1.0    13\n",
              "0.0     7\n",
              "Name: label, dtype: int64"
            ]
          },
          "metadata": {},
          "execution_count": 26
        }
      ]
    },
    {
      "cell_type": "markdown",
      "source": [
        "И можем с помощью визуализации отрисовать важность соседей.\n",
        "\n",
        "Те, кто ближе имеют полузеленую окружность больше, а те, кто дальше имеют маленькую окружность."
      ],
      "metadata": {
        "id": "6fwID6vmUmxz"
      }
    },
    {
      "cell_type": "code",
      "source": [
        "# Create color maps\n",
        "cmap_bold = [\"darkorange\", \"darkblue\"]\n",
        "\n",
        "plt.figure(figsize=(10, 8))\n",
        "sns.scatterplot(\n",
        "    x=X_train[:, 0],\n",
        "    y=X_train[:, 1],\n",
        "    hue=y_train,\n",
        "    palette=cmap_bold\n",
        ")\n",
        "\n",
        "plt.scatter(X_train[nearest_neigbors_idxs, 0], X_train[nearest_neigbors_idxs, 1],\n",
        "            c='g', alpha=0.3, marker='o', s=distances['weight']*100, label='nearest neighbors')\n",
        "\n",
        "plt.scatter(X_test[idx, 0], X_test[idx, 1], c='g', marker='*', s=100, label='test dot')\n",
        "plt.legend();"
      ],
      "metadata": {
        "colab": {
          "base_uri": "https://localhost:8080/",
          "height": 676
        },
        "id": "y-g2negMUbvF",
        "outputId": "de8b345b-8715-4b7a-b439-fc77a7cbb854"
      },
      "execution_count": null,
      "outputs": [
        {
          "output_type": "display_data",
          "data": {
            "text/plain": [
              "<Figure size 1000x800 with 1 Axes>"
            ],
            "image/png": "[encoded data removed]"
          },
          "metadata": {}
        }
      ]
    },
    {
      "cell_type": "markdown",
      "source": [
        "#### Резюме взвешенного KNN"
      ],
      "metadata": {
        "id": "ZZq_KFgagr3l"
      }
    },
    {
      "cell_type": "markdown",
      "source": [
        "\n",
        "На **моменте обучения** ничего интересного не происходит: все точки из обучения попросту запоминаются.\n",
        "\n",
        "На **моменте предсказания**:\n",
        "1. для тестовой точки считаем расстояния до всех точек с обучения\n",
        "2. сортируем от самого ближнего до самого дальнего расстояния\n",
        "3. считаем веса для ближайших $N$ соседей\n",
        "4. суммируем веса для каждого класса, где максимальная сумма - это предсказанная метка класса"
      ],
      "metadata": {
        "id": "k2KMkTkxfLB3"
      }
    },
    {
      "cell_type": "markdown",
      "source": [
        "## Зачем нужен взвешенный KNN для регрессии"
      ],
      "metadata": {
        "id": "B7JWc3aEgSCH"
      }
    },
    {
      "cell_type": "markdown",
      "source": [
        "А теперь давайте обсудим, чем может быть полезен KNN для регрессии."
      ],
      "metadata": {
        "id": "Q80Y_7yQBYQy"
      }
    },
    {
      "cell_type": "markdown",
      "metadata": {
        "id": "-cLKHMqVYr9v"
      },
      "source": [
        "Но для начала давайте быстро вспомним, в чем суть модели *KNN* для этой задачи."
      ]
    },
    {
      "cell_type": "markdown",
      "source": [
        "- Обучения нет, модель запоминает обучающую выборку\n",
        "- На моменте предсказания\n",
        "    1. Считаем **расстояния** до всех объектов с **обучения**\n",
        "    2. Выбираем **K** ближайших\n",
        "    3. Делаем **усреднение** между соседами\n",
        "\n",
        "\n",
        " <img src='https://drive.google.com/uc?id=1ABbqUeWI0vpWslGm_cBw-wWe5TpWxV6D' width=500>\n",
        ""
      ],
      "metadata": {
        "id": "GMGIdGHIYr95"
      }
    },
    {
      "cell_type": "markdown",
      "source": [
        "Давайте обучим модель KNN для регресии из `sklearn` на сгенерированных данных.\n",
        "\n",
        "Сгенерируем 50 объектов с помощью придуманной функции."
      ],
      "metadata": {
        "id": "tx_o0s6JBiX2"
      }
    },
    {
      "cell_type": "code",
      "source": [
        "from sklearn.datasets import make_regression\n",
        "import numpy as np\n",
        "np.random.seed(8)\n",
        "\n",
        "def func(x):\n",
        "    return 0.03*x**3 + 0.2*x**2\n",
        "\n",
        "\n",
        "X = np.linspace(-10, 10, 50).reshape(-1, 1)\n",
        "y = func(X) + np.random.randn(50, 1)\n",
        "\n",
        "display(X, y)\n"
      ],
      "metadata": {
        "colab": {
          "base_uri": "https://localhost:8080/",
          "height": 1000
        },
        "outputId": "383932a0-86fa-47ca-81a5-8c1c6b74cfbe",
        "id": "gVECxRpDBiX4"
      },
      "execution_count": null,
      "outputs": [
        {
          "output_type": "display_data",
          "data": {
            "text/plain": [
              "array([[-10.        ],\n",
              "       [ -9.59183673],\n",
              "       [ -9.18367347],\n",
              "       [ -8.7755102 ],\n",
              "       [ -8.36734694],\n",
              "       [ -7.95918367],\n",
              "       [ -7.55102041],\n",
              "       [ -7.14285714],\n",
              "       [ -6.73469388],\n",
              "       [ -6.32653061],\n",
              "       [ -5.91836735],\n",
              "       [ -5.51020408],\n",
              "       [ -5.10204082],\n",
              "       [ -4.69387755],\n",
              "       [ -4.28571429],\n",
              "       [ -3.87755102],\n",
              "       [ -3.46938776],\n",
              "       [ -3.06122449],\n",
              "       [ -2.65306122],\n",
              "       [ -2.24489796],\n",
              "       [ -1.83673469],\n",
              "       [ -1.42857143],\n",
              "       [ -1.02040816],\n",
              "       [ -0.6122449 ],\n",
              "       [ -0.20408163],\n",
              "       [  0.20408163],\n",
              "       [  0.6122449 ],\n",
              "       [  1.02040816],\n",
              "       [  1.42857143],\n",
              "       [  1.83673469],\n",
              "       [  2.24489796],\n",
              "       [  2.65306122],\n",
              "       [  3.06122449],\n",
              "       [  3.46938776],\n",
              "       [  3.87755102],\n",
              "       [  4.28571429],\n",
              "       [  4.69387755],\n",
              "       [  5.10204082],\n",
              "       [  5.51020408],\n",
              "       [  5.91836735],\n",
              "       [  6.32653061],\n",
              "       [  6.73469388],\n",
              "       [  7.14285714],\n",
              "       [  7.55102041],\n",
              "       [  7.95918367],\n",
              "       [  8.36734694],\n",
              "       [  8.7755102 ],\n",
              "       [  9.18367347],\n",
              "       [  9.59183673],\n",
              "       [ 10.        ]])"
            ]
          },
          "metadata": {}
        },
        {
          "output_type": "display_data",
          "data": {
            "text/plain": [
              "array([[-9.90879528e+00],\n",
              "       [-6.98247905e+00],\n",
              "       [-8.31549023e+00],\n",
              "       [-6.25838414e+00],\n",
              "       [-5.86855764e+00],\n",
              "       [-4.65401665e-02],\n",
              "       [ 2.15116128e-01],\n",
              "       [ 1.47569331e+00],\n",
              "       [ 7.02264167e-01],\n",
              "       [ 1.38483936e+00],\n",
              "       [-3.97105122e-01],\n",
              "       [ 2.96975123e+00],\n",
              "       [ 9.85280388e-02],\n",
              "       [ 6.39928015e-01],\n",
              "       [ 9.33594782e-01],\n",
              "       [ 4.66448970e-01],\n",
              "       [ 2.01408406e+00],\n",
              "       [ 7.82819280e-01],\n",
              "       [ 7.81859988e-01],\n",
              "       [ 4.59877735e-01],\n",
              "       [ 1.83569550e+00],\n",
              "       [-2.86253089e-01],\n",
              "       [ 2.12387622e-03],\n",
              "       [ 4.92135298e-01],\n",
              "       [-1.63791524e+00],\n",
              "       [-4.74956092e-01],\n",
              "       [ 6.17321899e-01],\n",
              "       [ 1.40626152e+00],\n",
              "       [ 6.57309931e-01],\n",
              "       [ 1.87776873e-01],\n",
              "       [ 2.78983690e+00],\n",
              "       [ 1.74649192e+00],\n",
              "       [ 2.76609419e+00],\n",
              "       [ 3.84205420e+00],\n",
              "       [ 4.69316779e+00],\n",
              "       [ 5.49341696e+00],\n",
              "       [ 7.98354952e+00],\n",
              "       [ 8.02588219e+00],\n",
              "       [ 1.05906426e+01],\n",
              "       [ 1.28159458e+01],\n",
              "       [ 1.46672292e+01],\n",
              "       [ 1.83195143e+01],\n",
              "       [ 2.12807173e+01],\n",
              "       [ 2.43954332e+01],\n",
              "       [ 2.76401713e+01],\n",
              "       [ 3.21279140e+01],\n",
              "       [ 3.73778963e+01],\n",
              "       [ 4.11105570e+01],\n",
              "       [ 4.17401748e+01],\n",
              "       [ 5.11395335e+01]])"
            ]
          },
          "metadata": {}
        }
      ]
    },
    {
      "cell_type": "markdown",
      "source": [
        "Разобьем выборку на обучение и тест с помощью `train_test_split`."
      ],
      "metadata": {
        "id": "MUTOouynBiX4"
      }
    },
    {
      "cell_type": "code",
      "source": [
        "from sklearn.model_selection import train_test_split\n",
        "\n",
        "X_train, X_test, y_train, y_test = train_test_split(X, y, random_state=12, test_size=5)\n",
        "X_train.shape, X_test.shape"
      ],
      "metadata": {
        "colab": {
          "base_uri": "https://localhost:8080/"
        },
        "outputId": "68c6f75a-ded2-4375-ec1c-6ee3319aaf17",
        "id": "Csv1yNExBiX5"
      },
      "execution_count": null,
      "outputs": [
        {
          "output_type": "execute_result",
          "data": {
            "text/plain": [
              "((45, 1), (5, 1))"
            ]
          },
          "metadata": {},
          "execution_count": 29
        }
      ]
    },
    {
      "cell_type": "markdown",
      "source": [
        "И отрисуем полученные точки.\n",
        "\n",
        "А зеленые звезды - это тестовые точки, для них будет искать ближайших соседей."
      ],
      "metadata": {
        "id": "R0Wkoaw_BiX5"
      }
    },
    {
      "cell_type": "code",
      "source": [
        "import matplotlib.pyplot as plt\n",
        "\n",
        "plt.figure(figsize=(10, 8))\n",
        "\n",
        "plt.scatter(X_train, y_train, c='b', marker='o', s=10, label='train dots')\n",
        "plt.scatter(X_test, y_test, c='g', marker='*', s=50, label='test dots')\n",
        "plt.grid()\n",
        "plt.ylabel('target')\n",
        "plt.xlabel('feature')\n",
        "plt.legend();"
      ],
      "metadata": {
        "colab": {
          "base_uri": "https://localhost:8080/",
          "height": 696
        },
        "outputId": "87626e96-0919-49dd-bd3a-15f50137a852",
        "id": "Nrbq4l4xBiX5"
      },
      "execution_count": null,
      "outputs": [
        {
          "output_type": "display_data",
          "data": {
            "text/plain": [
              "<Figure size 1000x800 with 1 Axes>"
            ],
            "image/png": "[encoded data removed]"
          },
          "metadata": {}
        }
      ]
    },
    {
      "cell_type": "markdown",
      "source": [
        "Инициализируем модель `KNeighborsRegressor` для задачи регрессии из `sklearn`."
      ],
      "metadata": {
        "id": "xuEW-OJ9BiX6"
      }
    },
    {
      "cell_type": "code",
      "source": [
        "from sklearn.neighbors import KNeighborsRegressor\n",
        "\n",
        "n_neighbors = 20\n",
        "model = KNeighborsRegressor(n_neighbors=n_neighbors)"
      ],
      "metadata": {
        "id": "IR2S6-gMBiX6"
      },
      "execution_count": null,
      "outputs": []
    },
    {
      "cell_type": "code",
      "source": [
        "model.fit(X_train, y_train)"
      ],
      "metadata": {
        "colab": {
          "base_uri": "https://localhost:8080/",
          "height": 75
        },
        "outputId": "d74e3210-3339-473b-c868-61cd915e00ce",
        "id": "GKUIoYs7BiX6"
      },
      "execution_count": null,
      "outputs": [
        {
          "output_type": "execute_result",
          "data": {
            "text/plain": [
              "KNeighborsRegressor(n_neighbors=20)"
            ],
            "text/html": [
              "<style>#sk-container-id-3 {color: black;background-color: white;}#sk-container-id-3 pre{padding: 0;}#sk-container-id-3 div.sk-toggleable {background-color: white;}#sk-container-id-3 label.sk-toggleable__label {cursor: pointer;display: block;width: 100%;margin-bottom: 0;padding: 0.3em;box-sizing: border-box;text-align: center;}#sk-container-id-3 label.sk-toggleable__label-arrow:before {content: \"▸\";float: left;margin-right: 0.25em;color: #696969;}#sk-container-id-3 label.sk-toggleable__label-arrow:hover:before {color: black;}#sk-container-id-3 div.sk-estimator:hover label.sk-toggleable__label-arrow:before {color: black;}#sk-container-id-3 div.sk-toggleable__content {max-height: 0;max-width: 0;overflow: hidden;text-align: left;background-color: #f0f8ff;}#sk-container-id-3 div.sk-toggleable__content pre {margin: 0.2em;color: black;border-radius: 0.25em;background-color: #f0f8ff;}#sk-container-id-3 input.sk-toggleable__control:checked~div.sk-toggleable__content {max-height: 200px;max-width: 100%;overflow: auto;}#sk-container-id-3 input.sk-toggleable__control:checked~label.sk-toggleable__label-arrow:before {content: \"▾\";}#sk-container-id-3 div.sk-estimator input.sk-toggleable__control:checked~label.sk-toggleable__label {background-color: #d4ebff;}#sk-container-id-3 div.sk-label input.sk-toggleable__control:checked~label.sk-toggleable__label {background-color: #d4ebff;}#sk-container-id-3 input.sk-hidden--visually {border: 0;clip: rect(1px 1px 1px 1px);clip: rect(1px, 1px, 1px, 1px);height: 1px;margin: -1px;overflow: hidden;padding: 0;position: absolute;width: 1px;}#sk-container-id-3 div.sk-estimator {font-family: monospace;background-color: #f0f8ff;border: 1px dotted black;border-radius: 0.25em;box-sizing: border-box;margin-bottom: 0.5em;}#sk-container-id-3 div.sk-estimator:hover {background-color: #d4ebff;}#sk-container-id-3 div.sk-parallel-item::after {content: \"\";width: 100%;border-bottom: 1px solid gray;flex-grow: 1;}#sk-container-id-3 div.sk-label:hover label.sk-toggleable__label {background-color: #d4ebff;}#sk-container-id-3 div.sk-serial::before {content: \"\";position: absolute;border-left: 1px solid gray;box-sizing: border-box;top: 0;bottom: 0;left: 50%;z-index: 0;}#sk-container-id-3 div.sk-serial {display: flex;flex-direction: column;align-items: center;background-color: white;padding-right: 0.2em;padding-left: 0.2em;position: relative;}#sk-container-id-3 div.sk-item {position: relative;z-index: 1;}#sk-container-id-3 div.sk-parallel {display: flex;align-items: stretch;justify-content: center;background-color: white;position: relative;}#sk-container-id-3 div.sk-item::before, #sk-container-id-3 div.sk-parallel-item::before {content: \"\";position: absolute;border-left: 1px solid gray;box-sizing: border-box;top: 0;bottom: 0;left: 50%;z-index: -1;}#sk-container-id-3 div.sk-parallel-item {display: flex;flex-direction: column;z-index: 1;position: relative;background-color: white;}#sk-container-id-3 div.sk-parallel-item:first-child::after {align-self: flex-end;width: 50%;}#sk-container-id-3 div.sk-parallel-item:last-child::after {align-self: flex-start;width: 50%;}#sk-container-id-3 div.sk-parallel-item:only-child::after {width: 0;}#sk-container-id-3 div.sk-dashed-wrapped {border: 1px dashed gray;margin: 0 0.4em 0.5em 0.4em;box-sizing: border-box;padding-bottom: 0.4em;background-color: white;}#sk-container-id-3 div.sk-label label {font-family: monospace;font-weight: bold;display: inline-block;line-height: 1.2em;}#sk-container-id-3 div.sk-label-container {text-align: center;}#sk-container-id-3 div.sk-container {/* jupyter's `normalize.less` sets `[hidden] { display: none; }` but bootstrap.min.css set `[hidden] { display: none !important; }` so we also need the `!important` here to be able to override the default hidden behavior on the sphinx rendered scikit-learn.org. See: https://github.com/scikit-learn/scikit-learn/issues/21755 */display: inline-block !important;position: relative;}#sk-container-id-3 div.sk-text-repr-fallback {display: none;}</style><div id=\"sk-container-id-3\" class=\"sk-top-container\"><div class=\"sk-text-repr-fallback\"><pre>KNeighborsRegressor(n_neighbors=20)</pre><b>In a Jupyter environment, please rerun this cell to show the HTML representation or trust the notebook. <br />On GitHub, the HTML representation is unable to render, please try loading this page with nbviewer.org.</b></div><div class=\"sk-container\" hidden><div class=\"sk-item\"><div class=\"sk-estimator sk-toggleable\"><input class=\"sk-toggleable__control sk-hidden--visually\" id=\"sk-estimator-id-3\" type=\"checkbox\" checked><label for=\"sk-estimator-id-3\" class=\"sk-toggleable__label sk-toggleable__label-arrow\">KNeighborsRegressor</label><div class=\"sk-toggleable__content\"><pre>KNeighborsRegressor(n_neighbors=20)</pre></div></div></div></div></div>"
            ]
          },
          "metadata": {},
          "execution_count": 32
        }
      ]
    },
    {
      "cell_type": "markdown",
      "source": [
        "![image.png](data:image/png;base64,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)"
      ],
      "metadata": {
        "id": "6YMdm9qmaBeT"
      }
    },
    {
      "cell_type": "markdown",
      "source": [
        "И теперь можем сделать предсказания для наших тестовых объектов."
      ],
      "metadata": {
        "id": "woBE8vvKBiX7"
      }
    },
    {
      "cell_type": "code",
      "source": [
        "pred_test = model.predict(X_test)\n",
        "pred_test"
      ],
      "metadata": {
        "colab": {
          "base_uri": "https://localhost:8080/"
        },
        "outputId": "65d86453-8151-4f82-df43-45e329181d45",
        "id": "tFlQPmwOBiX7"
      },
      "execution_count": null,
      "outputs": [
        {
          "output_type": "execute_result",
          "data": {
            "text/plain": [
              "array([[ 2.80737304],\n",
              "       [15.45383115],\n",
              "       [-1.22462722],\n",
              "       [15.45383115],\n",
              "       [10.70420217]])"
            ]
          },
          "metadata": {},
          "execution_count": 33
        }
      ]
    },
    {
      "cell_type": "markdown",
      "source": [
        "И посчитаем метрику качества. Она совсем печальная.\n",
        "\n",
        "Видимо 20 соседей - это многовато для наших данных."
      ],
      "metadata": {
        "id": "MTnB88tNdcIl"
      }
    },
    {
      "cell_type": "code",
      "source": [
        "from sklearn.metrics import r2_score\n",
        "\n",
        "r2_score(pred_test, y_test)"
      ],
      "metadata": {
        "colab": {
          "base_uri": "https://localhost:8080/"
        },
        "id": "BjzB48rLq5il",
        "outputId": "638d8994-c82e-49ea-a906-bd68cb6714bb"
      },
      "execution_count": null,
      "outputs": [
        {
          "output_type": "execute_result",
          "data": {
            "text/plain": [
              "-1.22454737493758"
            ]
          },
          "metadata": {},
          "execution_count": 34
        }
      ]
    },
    {
      "cell_type": "markdown",
      "source": [
        "#### Детали получения предсказания в KNN"
      ],
      "metadata": {
        "id": "fJm4fUtABiX8"
      }
    },
    {
      "cell_type": "markdown",
      "source": [
        "Давайте посмотрим на ближайших соседей для пары тестовых объектов.\n",
        "\n",
        "Для этого\n",
        "1. пройдемся по всем обучающим объектам\n",
        "2. посчитаем Эвклидово расстояние (ведь именно оно и считается по умолчанию в KNN в `sklearn`) через `numpy.linalg.norm`."
      ],
      "metadata": {
        "id": "dJC45bVEBiX8"
      }
    },
    {
      "cell_type": "code",
      "source": [
        "import numpy as np\n",
        "import pandas as pd\n",
        "\n",
        "\n",
        "idx = 0\n",
        "test_dot = X_test[idx]\n",
        "\n",
        "distances = pd.DataFrame()\n",
        "for i, train_dot in enumerate(X_train):  # 1\n",
        "    distances = distances.append({\n",
        "        'train_idx': i,\n",
        "        'dst': np.linalg.norm(train_dot - test_dot, ord=2)  # 2\n",
        "    }, ignore_index=True)"
      ],
      "metadata": {
        "id": "5kdXP1wKBiX8",
        "colab": {
          "base_uri": "https://localhost:8080/"
        },
        "outputId": "808faaae-c559-431e-965c-1d325abf0489"
      },
      "execution_count": null,
      "outputs": [
        {
          "output_type": "stream",
          "name": "stderr",
          "text": [
            "<ipython-input-35-d7a5f4ce36ec>:10: FutureWarning: The frame.append method is deprecated and will be removed from pandas in a future version. Use pandas.concat instead.\n",
            "  distances = distances.append({\n",
            "<ipython-input-35-d7a5f4ce36ec>:10: FutureWarning: The frame.append method is deprecated and will be removed from pandas in a future version. Use pandas.concat instead.\n",
            "  distances = distances.append({\n",
            "<ipython-input-35-d7a5f4ce36ec>:10: FutureWarning: The frame.append method is deprecated and will be removed from pandas in a future version. Use pandas.concat instead.\n",
            "  distances = distances.append({\n",
            "<ipython-input-35-d7a5f4ce36ec>:10: FutureWarning: The frame.append method is deprecated and will be removed from pandas in a future version. Use pandas.concat instead.\n",
            "  distances = distances.append({\n",
            "<ipython-input-35-d7a5f4ce36ec>:10: FutureWarning: The frame.append method is deprecated and will be removed from pandas in a future version. Use pandas.concat instead.\n",
            "  distances = distances.append({\n",
            "<ipython-input-35-d7a5f4ce36ec>:10: FutureWarning: The frame.append method is deprecated and will be removed from pandas in a future version. Use pandas.concat instead.\n",
            "  distances = distances.append({\n",
            "<ipython-input-35-d7a5f4ce36ec>:10: FutureWarning: The frame.append method is deprecated and will be removed from pandas in a future version. Use pandas.concat instead.\n",
            "  distances = distances.append({\n",
            "<ipython-input-35-d7a5f4ce36ec>:10: FutureWarning: The frame.append method is deprecated and will be removed from pandas in a future version. Use pandas.concat instead.\n",
            "  distances = distances.append({\n",
            "<ipython-input-35-d7a5f4ce36ec>:10: FutureWarning: The frame.append method is deprecated and will be removed from pandas in a future version. Use pandas.concat instead.\n",
            "  distances = distances.append({\n",
            "<ipython-input-35-d7a5f4ce36ec>:10: FutureWarning: The frame.append method is deprecated and will be removed from pandas in a future version. Use pandas.concat instead.\n",
            "  distances = distances.append({\n",
            "<ipython-input-35-d7a5f4ce36ec>:10: FutureWarning: The frame.append method is deprecated and will be removed from pandas in a future version. Use pandas.concat instead.\n",
            "  distances = distances.append({\n",
            "<ipython-input-35-d7a5f4ce36ec>:10: FutureWarning: The frame.append method is deprecated and will be removed from pandas in a future version. Use pandas.concat instead.\n",
            "  distances = distances.append({\n",
            "<ipython-input-35-d7a5f4ce36ec>:10: FutureWarning: The frame.append method is deprecated and will be removed from pandas in a future version. Use pandas.concat instead.\n",
            "  distances = distances.append({\n",
            "<ipython-input-35-d7a5f4ce36ec>:10: FutureWarning: The frame.append method is deprecated and will be removed from pandas in a future version. Use pandas.concat instead.\n",
            "  distances = distances.append({\n",
            "<ipython-input-35-d7a5f4ce36ec>:10: FutureWarning: The frame.append method is deprecated and will be removed from pandas in a future version. Use pandas.concat instead.\n",
            "  distances = distances.append({\n",
            "<ipython-input-35-d7a5f4ce36ec>:10: FutureWarning: The frame.append method is deprecated and will be removed from pandas in a future version. Use pandas.concat instead.\n",
            "  distances = distances.append({\n",
            "<ipython-input-35-d7a5f4ce36ec>:10: FutureWarning: The frame.append method is deprecated and will be removed from pandas in a future version. Use pandas.concat instead.\n",
            "  distances = distances.append({\n",
            "<ipython-input-35-d7a5f4ce36ec>:10: FutureWarning: The frame.append method is deprecated and will be removed from pandas in a future version. Use pandas.concat instead.\n",
            "  distances = distances.append({\n",
            "<ipython-input-35-d7a5f4ce36ec>:10: FutureWarning: The frame.append method is deprecated and will be removed from pandas in a future version. Use pandas.concat instead.\n",
            "  distances = distances.append({\n",
            "<ipython-input-35-d7a5f4ce36ec>:10: FutureWarning: The frame.append method is deprecated and will be removed from pandas in a future version. Use pandas.concat instead.\n",
            "  distances = distances.append({\n",
            "<ipython-input-35-d7a5f4ce36ec>:10: FutureWarning: The frame.append method is deprecated and will be removed from pandas in a future version. Use pandas.concat instead.\n",
            "  distances = distances.append({\n",
            "<ipython-input-35-d7a5f4ce36ec>:10: FutureWarning: The frame.append method is deprecated and will be removed from pandas in a future version. Use pandas.concat instead.\n",
            "  distances = distances.append({\n",
            "<ipython-input-35-d7a5f4ce36ec>:10: FutureWarning: The frame.append method is deprecated and will be removed from pandas in a future version. Use pandas.concat instead.\n",
            "  distances = distances.append({\n",
            "<ipython-input-35-d7a5f4ce36ec>:10: FutureWarning: The frame.append method is deprecated and will be removed from pandas in a future version. Use pandas.concat instead.\n",
            "  distances = distances.append({\n",
            "<ipython-input-35-d7a5f4ce36ec>:10: FutureWarning: The frame.append method is deprecated and will be removed from pandas in a future version. Use pandas.concat instead.\n",
            "  distances = distances.append({\n",
            "<ipython-input-35-d7a5f4ce36ec>:10: FutureWarning: The frame.append method is deprecated and will be removed from pandas in a future version. Use pandas.concat instead.\n",
            "  distances = distances.append({\n",
            "<ipython-input-35-d7a5f4ce36ec>:10: FutureWarning: The frame.append method is deprecated and will be removed from pandas in a future version. Use pandas.concat instead.\n",
            "  distances = distances.append({\n",
            "<ipython-input-35-d7a5f4ce36ec>:10: FutureWarning: The frame.append method is deprecated and will be removed from pandas in a future version. Use pandas.concat instead.\n",
            "  distances = distances.append({\n",
            "<ipython-input-35-d7a5f4ce36ec>:10: FutureWarning: The frame.append method is deprecated and will be removed from pandas in a future version. Use pandas.concat instead.\n",
            "  distances = distances.append({\n",
            "<ipython-input-35-d7a5f4ce36ec>:10: FutureWarning: The frame.append method is deprecated and will be removed from pandas in a future version. Use pandas.concat instead.\n",
            "  distances = distances.append({\n",
            "<ipython-input-35-d7a5f4ce36ec>:10: FutureWarning: The frame.append method is deprecated and will be removed from pandas in a future version. Use pandas.concat instead.\n",
            "  distances = distances.append({\n",
            "<ipython-input-35-d7a5f4ce36ec>:10: FutureWarning: The frame.append method is deprecated and will be removed from pandas in a future version. Use pandas.concat instead.\n",
            "  distances = distances.append({\n",
            "<ipython-input-35-d7a5f4ce36ec>:10: FutureWarning: The frame.append method is deprecated and will be removed from pandas in a future version. Use pandas.concat instead.\n",
            "  distances = distances.append({\n",
            "<ipython-input-35-d7a5f4ce36ec>:10: FutureWarning: The frame.append method is deprecated and will be removed from pandas in a future version. Use pandas.concat instead.\n",
            "  distances = distances.append({\n",
            "<ipython-input-35-d7a5f4ce36ec>:10: FutureWarning: The frame.append method is deprecated and will be removed from pandas in a future version. Use pandas.concat instead.\n",
            "  distances = distances.append({\n",
            "<ipython-input-35-d7a5f4ce36ec>:10: FutureWarning: The frame.append method is deprecated and will be removed from pandas in a future version. Use pandas.concat instead.\n",
            "  distances = distances.append({\n",
            "<ipython-input-35-d7a5f4ce36ec>:10: FutureWarning: The frame.append method is deprecated and will be removed from pandas in a future version. Use pandas.concat instead.\n",
            "  distances = distances.append({\n",
            "<ipython-input-35-d7a5f4ce36ec>:10: FutureWarning: The frame.append method is deprecated and will be removed from pandas in a future version. Use pandas.concat instead.\n",
            "  distances = distances.append({\n",
            "<ipython-input-35-d7a5f4ce36ec>:10: FutureWarning: The frame.append method is deprecated and will be removed from pandas in a future version. Use pandas.concat instead.\n",
            "  distances = distances.append({\n",
            "<ipython-input-35-d7a5f4ce36ec>:10: FutureWarning: The frame.append method is deprecated and will be removed from pandas in a future version. Use pandas.concat instead.\n",
            "  distances = distances.append({\n",
            "<ipython-input-35-d7a5f4ce36ec>:10: FutureWarning: The frame.append method is deprecated and will be removed from pandas in a future version. Use pandas.concat instead.\n",
            "  distances = distances.append({\n",
            "<ipython-input-35-d7a5f4ce36ec>:10: FutureWarning: The frame.append method is deprecated and will be removed from pandas in a future version. Use pandas.concat instead.\n",
            "  distances = distances.append({\n",
            "<ipython-input-35-d7a5f4ce36ec>:10: FutureWarning: The frame.append method is deprecated and will be removed from pandas in a future version. Use pandas.concat instead.\n",
            "  distances = distances.append({\n",
            "<ipython-input-35-d7a5f4ce36ec>:10: FutureWarning: The frame.append method is deprecated and will be removed from pandas in a future version. Use pandas.concat instead.\n",
            "  distances = distances.append({\n",
            "<ipython-input-35-d7a5f4ce36ec>:10: FutureWarning: The frame.append method is deprecated and will be removed from pandas in a future version. Use pandas.concat instead.\n",
            "  distances = distances.append({\n"
          ]
        }
      ]
    },
    {
      "cell_type": "markdown",
      "source": [
        "И получим их индексы для дальнейшей отрисовки."
      ],
      "metadata": {
        "id": "-q1XCvEpBiX9"
      }
    },
    {
      "cell_type": "code",
      "source": [
        "nearest_neigbors_idxs = distances.sort_values('dst').head(n_neighbors).index\n",
        "nearest_neigbors_idxs"
      ],
      "metadata": {
        "colab": {
          "base_uri": "https://localhost:8080/"
        },
        "outputId": "f48120b7-9201-4c3b-ec20-8354e7442e33",
        "id": "AVrb98xJBiX9"
      },
      "execution_count": null,
      "outputs": [
        {
          "output_type": "execute_result",
          "data": {
            "text/plain": [
              "Int64Index([0, 43, 23, 11, 9, 34, 17, 19, 13, 21, 37, 33, 1, 20, 15, 7, 3, 27,\n",
              "            6, 5],\n",
              "           dtype='int64')"
            ]
          },
          "metadata": {},
          "execution_count": 36
        }
      ]
    },
    {
      "cell_type": "markdown",
      "source": [
        "Отрисовываем 20 найденных соседей в полупрозрачные зеленые окружности.\n",
        "\n",
        "Чтобы получить предсказания для тестового объекта, нужно усреднить целевые значения ближайших соседей.\n",
        "\n",
        "И видим, что наше предсказание в целом-то походит на правду."
      ],
      "metadata": {
        "id": "9FW68g9-BiX-"
      }
    },
    {
      "cell_type": "code",
      "source": [
        "plt.figure(figsize=(10, 8))\n",
        "\n",
        "plt.scatter(X_train, y_train, c='b', marker='o', s=10, label='train dots')\n",
        "plt.grid()\n",
        "\n",
        "plt.scatter(X_train[nearest_neigbors_idxs], y_train[nearest_neigbors_idxs],\n",
        "            c='g', alpha=0.3, marker='o', s=100, label='nearest neighbors')\n",
        "\n",
        "plt.scatter(X_test[idx, 0], y_test[idx], c='g', marker='*', s=100, label='test dot')\n",
        "plt.scatter(X_test[idx, 0], pred_test[idx], c='r', marker='*', s=100, label='prediction')\n",
        "\n",
        "plt.xlabel('feature')\n",
        "plt.ylabel('target')\n",
        "plt.legend();"
      ],
      "metadata": {
        "colab": {
          "base_uri": "https://localhost:8080/",
          "height": 696
        },
        "outputId": "4b1741a9-5284-43a5-ea1b-79954daa2fbe",
        "id": "eLlopVfHBiX-"
      },
      "execution_count": null,
      "outputs": [
        {
          "output_type": "display_data",
          "data": {
            "text/plain": [
              "<Figure size 1000x800 with 1 Axes>"
            ],
            "image/png": "[encoded data removed]"
          },
          "metadata": {}
        }
      ]
    },
    {
      "cell_type": "markdown",
      "source": [
        "А давайте возьмем еще один тестовый объект и сделаем для него точно такие же действия."
      ],
      "metadata": {
        "id": "48ZAvW89BiX-"
      }
    },
    {
      "cell_type": "code",
      "source": [
        "idx = 1\n",
        "test_dot = X_test[idx]\n",
        "\n",
        "distances = pd.DataFrame()\n",
        "for i, train_dot in enumerate(X_train):  # 1\n",
        "    distances = distances.append({\n",
        "        'train_idx': i,\n",
        "        'dst': np.linalg.norm(train_dot - test_dot, ord=2)  # 2\n",
        "    }, ignore_index=True)"
      ],
      "metadata": {
        "id": "rxhALkt7BiX-",
        "colab": {
          "base_uri": "https://localhost:8080/"
        },
        "outputId": "57c3b78d-6220-4e6f-e269-6342e4efc822"
      },
      "execution_count": null,
      "outputs": [
        {
          "output_type": "stream",
          "name": "stderr",
          "text": [
            "<ipython-input-38-5c3ac6444d00>:6: FutureWarning: The frame.append method is deprecated and will be removed from pandas in a future version. Use pandas.concat instead.\n",
            "  distances = distances.append({\n",
            "<ipython-input-38-5c3ac6444d00>:6: FutureWarning: The frame.append method is deprecated and will be removed from pandas in a future version. Use pandas.concat instead.\n",
            "  distances = distances.append({\n",
            "<ipython-input-38-5c3ac6444d00>:6: FutureWarning: The frame.append method is deprecated and will be removed from pandas in a future version. Use pandas.concat instead.\n",
            "  distances = distances.append({\n",
            "<ipython-input-38-5c3ac6444d00>:6: FutureWarning: The frame.append method is deprecated and will be removed from pandas in a future version. Use pandas.concat instead.\n",
            "  distances = distances.append({\n",
            "<ipython-input-38-5c3ac6444d00>:6: FutureWarning: The frame.append method is deprecated and will be removed from pandas in a future version. Use pandas.concat instead.\n",
            "  distances = distances.append({\n",
            "<ipython-input-38-5c3ac6444d00>:6: FutureWarning: The frame.append method is deprecated and will be removed from pandas in a future version. Use pandas.concat instead.\n",
            "  distances = distances.append({\n",
            "<ipython-input-38-5c3ac6444d00>:6: FutureWarning: The frame.append method is deprecated and will be removed from pandas in a future version. Use pandas.concat instead.\n",
            "  distances = distances.append({\n",
            "<ipython-input-38-5c3ac6444d00>:6: FutureWarning: The frame.append method is deprecated and will be removed from pandas in a future version. Use pandas.concat instead.\n",
            "  distances = distances.append({\n",
            "<ipython-input-38-5c3ac6444d00>:6: FutureWarning: The frame.append method is deprecated and will be removed from pandas in a future version. Use pandas.concat instead.\n",
            "  distances = distances.append({\n",
            "<ipython-input-38-5c3ac6444d00>:6: FutureWarning: The frame.append method is deprecated and will be removed from pandas in a future version. Use pandas.concat instead.\n",
            "  distances = distances.append({\n",
            "<ipython-input-38-5c3ac6444d00>:6: FutureWarning: The frame.append method is deprecated and will be removed from pandas in a future version. Use pandas.concat instead.\n",
            "  distances = distances.append({\n",
            "<ipython-input-38-5c3ac6444d00>:6: FutureWarning: The frame.append method is deprecated and will be removed from pandas in a future version. Use pandas.concat instead.\n",
            "  distances = distances.append({\n",
            "<ipython-input-38-5c3ac6444d00>:6: FutureWarning: The frame.append method is deprecated and will be removed from pandas in a future version. Use pandas.concat instead.\n",
            "  distances = distances.append({\n",
            "<ipython-input-38-5c3ac6444d00>:6: FutureWarning: The frame.append method is deprecated and will be removed from pandas in a future version. Use pandas.concat instead.\n",
            "  distances = distances.append({\n",
            "<ipython-input-38-5c3ac6444d00>:6: FutureWarning: The frame.append method is deprecated and will be removed from pandas in a future version. Use pandas.concat instead.\n",
            "  distances = distances.append({\n",
            "<ipython-input-38-5c3ac6444d00>:6: FutureWarning: The frame.append method is deprecated and will be removed from pandas in a future version. Use pandas.concat instead.\n",
            "  distances = distances.append({\n",
            "<ipython-input-38-5c3ac6444d00>:6: FutureWarning: The frame.append method is deprecated and will be removed from pandas in a future version. Use pandas.concat instead.\n",
            "  distances = distances.append({\n",
            "<ipython-input-38-5c3ac6444d00>:6: FutureWarning: The frame.append method is deprecated and will be removed from pandas in a future version. Use pandas.concat instead.\n",
            "  distances = distances.append({\n",
            "<ipython-input-38-5c3ac6444d00>:6: FutureWarning: The frame.append method is deprecated and will be removed from pandas in a future version. Use pandas.concat instead.\n",
            "  distances = distances.append({\n",
            "<ipython-input-38-5c3ac6444d00>:6: FutureWarning: The frame.append method is deprecated and will be removed from pandas in a future version. Use pandas.concat instead.\n",
            "  distances = distances.append({\n",
            "<ipython-input-38-5c3ac6444d00>:6: FutureWarning: The frame.append method is deprecated and will be removed from pandas in a future version. Use pandas.concat instead.\n",
            "  distances = distances.append({\n",
            "<ipython-input-38-5c3ac6444d00>:6: FutureWarning: The frame.append method is deprecated and will be removed from pandas in a future version. Use pandas.concat instead.\n",
            "  distances = distances.append({\n",
            "<ipython-input-38-5c3ac6444d00>:6: FutureWarning: The frame.append method is deprecated and will be removed from pandas in a future version. Use pandas.concat instead.\n",
            "  distances = distances.append({\n",
            "<ipython-input-38-5c3ac6444d00>:6: FutureWarning: The frame.append method is deprecated and will be removed from pandas in a future version. Use pandas.concat instead.\n",
            "  distances = distances.append({\n",
            "<ipython-input-38-5c3ac6444d00>:6: FutureWarning: The frame.append method is deprecated and will be removed from pandas in a future version. Use pandas.concat instead.\n",
            "  distances = distances.append({\n",
            "<ipython-input-38-5c3ac6444d00>:6: FutureWarning: The frame.append method is deprecated and will be removed from pandas in a future version. Use pandas.concat instead.\n",
            "  distances = distances.append({\n",
            "<ipython-input-38-5c3ac6444d00>:6: FutureWarning: The frame.append method is deprecated and will be removed from pandas in a future version. Use pandas.concat instead.\n",
            "  distances = distances.append({\n",
            "<ipython-input-38-5c3ac6444d00>:6: FutureWarning: The frame.append method is deprecated and will be removed from pandas in a future version. Use pandas.concat instead.\n",
            "  distances = distances.append({\n",
            "<ipython-input-38-5c3ac6444d00>:6: FutureWarning: The frame.append method is deprecated and will be removed from pandas in a future version. Use pandas.concat instead.\n",
            "  distances = distances.append({\n",
            "<ipython-input-38-5c3ac6444d00>:6: FutureWarning: The frame.append method is deprecated and will be removed from pandas in a future version. Use pandas.concat instead.\n",
            "  distances = distances.append({\n",
            "<ipython-input-38-5c3ac6444d00>:6: FutureWarning: The frame.append method is deprecated and will be removed from pandas in a future version. Use pandas.concat instead.\n",
            "  distances = distances.append({\n",
            "<ipython-input-38-5c3ac6444d00>:6: FutureWarning: The frame.append method is deprecated and will be removed from pandas in a future version. Use pandas.concat instead.\n",
            "  distances = distances.append({\n",
            "<ipython-input-38-5c3ac6444d00>:6: FutureWarning: The frame.append method is deprecated and will be removed from pandas in a future version. Use pandas.concat instead.\n",
            "  distances = distances.append({\n",
            "<ipython-input-38-5c3ac6444d00>:6: FutureWarning: The frame.append method is deprecated and will be removed from pandas in a future version. Use pandas.concat instead.\n",
            "  distances = distances.append({\n",
            "<ipython-input-38-5c3ac6444d00>:6: FutureWarning: The frame.append method is deprecated and will be removed from pandas in a future version. Use pandas.concat instead.\n",
            "  distances = distances.append({\n",
            "<ipython-input-38-5c3ac6444d00>:6: FutureWarning: The frame.append method is deprecated and will be removed from pandas in a future version. Use pandas.concat instead.\n",
            "  distances = distances.append({\n",
            "<ipython-input-38-5c3ac6444d00>:6: FutureWarning: The frame.append method is deprecated and will be removed from pandas in a future version. Use pandas.concat instead.\n",
            "  distances = distances.append({\n",
            "<ipython-input-38-5c3ac6444d00>:6: FutureWarning: The frame.append method is deprecated and will be removed from pandas in a future version. Use pandas.concat instead.\n",
            "  distances = distances.append({\n",
            "<ipython-input-38-5c3ac6444d00>:6: FutureWarning: The frame.append method is deprecated and will be removed from pandas in a future version. Use pandas.concat instead.\n",
            "  distances = distances.append({\n",
            "<ipython-input-38-5c3ac6444d00>:6: FutureWarning: The frame.append method is deprecated and will be removed from pandas in a future version. Use pandas.concat instead.\n",
            "  distances = distances.append({\n",
            "<ipython-input-38-5c3ac6444d00>:6: FutureWarning: The frame.append method is deprecated and will be removed from pandas in a future version. Use pandas.concat instead.\n",
            "  distances = distances.append({\n",
            "<ipython-input-38-5c3ac6444d00>:6: FutureWarning: The frame.append method is deprecated and will be removed from pandas in a future version. Use pandas.concat instead.\n",
            "  distances = distances.append({\n",
            "<ipython-input-38-5c3ac6444d00>:6: FutureWarning: The frame.append method is deprecated and will be removed from pandas in a future version. Use pandas.concat instead.\n",
            "  distances = distances.append({\n",
            "<ipython-input-38-5c3ac6444d00>:6: FutureWarning: The frame.append method is deprecated and will be removed from pandas in a future version. Use pandas.concat instead.\n",
            "  distances = distances.append({\n",
            "<ipython-input-38-5c3ac6444d00>:6: FutureWarning: The frame.append method is deprecated and will be removed from pandas in a future version. Use pandas.concat instead.\n",
            "  distances = distances.append({\n"
          ]
        }
      ]
    },
    {
      "cell_type": "code",
      "source": [
        "nearest_neigbors_idxs = distances.sort_values('dst').head(n_neighbors).index\n",
        "nearest_neigbors_idxs"
      ],
      "metadata": {
        "colab": {
          "base_uri": "https://localhost:8080/"
        },
        "outputId": "c19289c2-ed71-4140-d6b8-dedb16d55f6a",
        "id": "VgZzLPjQBiX_"
      },
      "execution_count": null,
      "outputs": [
        {
          "output_type": "execute_result",
          "data": {
            "text/plain": [
              "Int64Index([14, 39, 25, 2, 32, 29, 18, 28, 26, 6, 7, 20, 33, 13, 19, 9, 23, 0,\n",
              "            43, 11],\n",
              "           dtype='int64')"
            ]
          },
          "metadata": {},
          "execution_count": 39
        }
      ]
    },
    {
      "cell_type": "markdown",
      "source": [
        "Отрисовываем 20 найденных соседей в полупрозрачные зеленые окружности.\n",
        "\n",
        "Вот здесь уже не совпадаем даже на чуть-чуть, предсказание очень сильно отличается от истины, а значит все-таки 20 соседей - это перебор."
      ],
      "metadata": {
        "id": "EzSAR3VlBiX_"
      }
    },
    {
      "cell_type": "code",
      "source": [
        "plt.figure(figsize=(10, 8))\n",
        "\n",
        "plt.scatter(X_train, y_train, c='b', marker='o', s=10, label='train dots')\n",
        "plt.grid()\n",
        "\n",
        "plt.scatter(X_train[nearest_neigbors_idxs], y_train[nearest_neigbors_idxs],\n",
        "            c='g', alpha=0.3, marker='o', s=100, label='nearest neighbors')\n",
        "\n",
        "plt.scatter(X_test[idx, 0], y_test[idx], c='g', marker='*', s=100, label='test dot')\n",
        "plt.scatter(X_test[idx, 0], pred_test[idx], c='r', marker='*', s=100, label='prediction')\n",
        "\n",
        "plt.xlabel('feature')\n",
        "plt.ylabel('target')\n",
        "\n",
        "plt.legend();"
      ],
      "metadata": {
        "colab": {
          "base_uri": "https://localhost:8080/",
          "height": 696
        },
        "outputId": "05646117-8bbe-4d26-84bd-ce559e724e4c",
        "id": "O54leDA0BiX_"
      },
      "execution_count": null,
      "outputs": [
        {
          "output_type": "display_data",
          "data": {
            "text/plain": [
              "<Figure size 1000x800 with 1 Axes>"
            ],
            "image/png": "[encoded data removed]"
          },
          "metadata": {}
        }
      ]
    },
    {
      "cell_type": "markdown",
      "source": [
        "Давайте снова с этим бороться с помощью **Weighted KNN (взвешенный KNN)**"
      ],
      "metadata": {
        "id": "lb-ToYyAefO1"
      }
    },
    {
      "cell_type": "markdown",
      "source": [
        "### Взвешенный KNN"
      ],
      "metadata": {
        "id": "Qmst29CZefPH"
      }
    },
    {
      "cell_type": "markdown",
      "source": [
        "Вспомним, что по умолчанию модель с `sklearn` обучается с атрибутом `weights=uniform` - это значит, что каждый сосед одинаково важен и одинаково влияет на финальное предсказание модели."
      ],
      "metadata": {
        "id": "8cNO9g_uefPI"
      }
    },
    {
      "cell_type": "code",
      "source": [
        "KNeighborsRegressor?"
      ],
      "metadata": {
        "id": "mUgPeReVefPI"
      },
      "execution_count": null,
      "outputs": []
    },
    {
      "cell_type": "markdown",
      "source": [
        "Но мы можем это поменять и сделать каких-то соседей более значимыми, а каких-то менее, для этого атрибут `weights` поменяем на `distance`.\n",
        "\n",
        "В этом случае веса будут обратными расстоянию до объектов с обучения."
      ],
      "metadata": {
        "id": "d5nPZQLSefPJ"
      }
    },
    {
      "cell_type": "code",
      "source": [
        "n_neighbors = 20\n",
        "model = KNeighborsRegressor(n_neighbors=n_neighbors, weights='distance')"
      ],
      "metadata": {
        "id": "GOZkVl0AefPJ"
      },
      "execution_count": null,
      "outputs": []
    },
    {
      "cell_type": "code",
      "source": [
        "model.fit(X_train, y_train)"
      ],
      "metadata": {
        "colab": {
          "base_uri": "https://localhost:8080/",
          "height": 75
        },
        "outputId": "4980489d-4f2b-473f-cc58-adfcbbcc7d42",
        "id": "FPay3MXIefPK"
      },
      "execution_count": null,
      "outputs": [
        {
          "output_type": "execute_result",
          "data": {
            "text/plain": [
              "KNeighborsRegressor(n_neighbors=20, weights='distance')"
            ],
            "text/html": [
              "<style>#sk-container-id-4 {color: black;background-color: white;}#sk-container-id-4 pre{padding: 0;}#sk-container-id-4 div.sk-toggleable {background-color: white;}#sk-container-id-4 label.sk-toggleable__label {cursor: pointer;display: block;width: 100%;margin-bottom: 0;padding: 0.3em;box-sizing: border-box;text-align: center;}#sk-container-id-4 label.sk-toggleable__label-arrow:before {content: \"▸\";float: left;margin-right: 0.25em;color: #696969;}#sk-container-id-4 label.sk-toggleable__label-arrow:hover:before {color: black;}#sk-container-id-4 div.sk-estimator:hover label.sk-toggleable__label-arrow:before {color: black;}#sk-container-id-4 div.sk-toggleable__content {max-height: 0;max-width: 0;overflow: hidden;text-align: left;background-color: #f0f8ff;}#sk-container-id-4 div.sk-toggleable__content pre {margin: 0.2em;color: black;border-radius: 0.25em;background-color: #f0f8ff;}#sk-container-id-4 input.sk-toggleable__control:checked~div.sk-toggleable__content {max-height: 200px;max-width: 100%;overflow: auto;}#sk-container-id-4 input.sk-toggleable__control:checked~label.sk-toggleable__label-arrow:before {content: \"▾\";}#sk-container-id-4 div.sk-estimator input.sk-toggleable__control:checked~label.sk-toggleable__label {background-color: #d4ebff;}#sk-container-id-4 div.sk-label input.sk-toggleable__control:checked~label.sk-toggleable__label {background-color: #d4ebff;}#sk-container-id-4 input.sk-hidden--visually {border: 0;clip: rect(1px 1px 1px 1px);clip: rect(1px, 1px, 1px, 1px);height: 1px;margin: -1px;overflow: hidden;padding: 0;position: absolute;width: 1px;}#sk-container-id-4 div.sk-estimator {font-family: monospace;background-color: #f0f8ff;border: 1px dotted black;border-radius: 0.25em;box-sizing: border-box;margin-bottom: 0.5em;}#sk-container-id-4 div.sk-estimator:hover {background-color: #d4ebff;}#sk-container-id-4 div.sk-parallel-item::after {content: \"\";width: 100%;border-bottom: 1px solid gray;flex-grow: 1;}#sk-container-id-4 div.sk-label:hover label.sk-toggleable__label {background-color: #d4ebff;}#sk-container-id-4 div.sk-serial::before {content: \"\";position: absolute;border-left: 1px solid gray;box-sizing: border-box;top: 0;bottom: 0;left: 50%;z-index: 0;}#sk-container-id-4 div.sk-serial {display: flex;flex-direction: column;align-items: center;background-color: white;padding-right: 0.2em;padding-left: 0.2em;position: relative;}#sk-container-id-4 div.sk-item {position: relative;z-index: 1;}#sk-container-id-4 div.sk-parallel {display: flex;align-items: stretch;justify-content: center;background-color: white;position: relative;}#sk-container-id-4 div.sk-item::before, #sk-container-id-4 div.sk-parallel-item::before {content: \"\";position: absolute;border-left: 1px solid gray;box-sizing: border-box;top: 0;bottom: 0;left: 50%;z-index: -1;}#sk-container-id-4 div.sk-parallel-item {display: flex;flex-direction: column;z-index: 1;position: relative;background-color: white;}#sk-container-id-4 div.sk-parallel-item:first-child::after {align-self: flex-end;width: 50%;}#sk-container-id-4 div.sk-parallel-item:last-child::after {align-self: flex-start;width: 50%;}#sk-container-id-4 div.sk-parallel-item:only-child::after {width: 0;}#sk-container-id-4 div.sk-dashed-wrapped {border: 1px dashed gray;margin: 0 0.4em 0.5em 0.4em;box-sizing: border-box;padding-bottom: 0.4em;background-color: white;}#sk-container-id-4 div.sk-label label {font-family: monospace;font-weight: bold;display: inline-block;line-height: 1.2em;}#sk-container-id-4 div.sk-label-container {text-align: center;}#sk-container-id-4 div.sk-container {/* jupyter's `normalize.less` sets `[hidden] { display: none; }` but bootstrap.min.css set `[hidden] { display: none !important; }` so we also need the `!important` here to be able to override the default hidden behavior on the sphinx rendered scikit-learn.org. See: https://github.com/scikit-learn/scikit-learn/issues/21755 */display: inline-block !important;position: relative;}#sk-container-id-4 div.sk-text-repr-fallback {display: none;}</style><div id=\"sk-container-id-4\" class=\"sk-top-container\"><div class=\"sk-text-repr-fallback\"><pre>KNeighborsRegressor(n_neighbors=20, weights=&#x27;distance&#x27;)</pre><b>In a Jupyter environment, please rerun this cell to show the HTML representation or trust the notebook. <br />On GitHub, the HTML representation is unable to render, please try loading this page with nbviewer.org.</b></div><div class=\"sk-container\" hidden><div class=\"sk-item\"><div class=\"sk-estimator sk-toggleable\"><input class=\"sk-toggleable__control sk-hidden--visually\" id=\"sk-estimator-id-4\" type=\"checkbox\" checked><label for=\"sk-estimator-id-4\" class=\"sk-toggleable__label sk-toggleable__label-arrow\">KNeighborsRegressor</label><div class=\"sk-toggleable__content\"><pre>KNeighborsRegressor(n_neighbors=20, weights=&#x27;distance&#x27;)</pre></div></div></div></div></div>"
            ]
          },
          "metadata": {},
          "execution_count": 43
        }
      ]
    },
    {
      "cell_type": "markdown",
      "source": [
        "Для справки\n",
        "```\n",
        "-1.22454737493758\n",
        "```"
      ],
      "metadata": {
        "id": "BhHaje9Ee1ay"
      }
    },
    {
      "cell_type": "code",
      "source": [
        "prev_pred_test = pred_test.copy()"
      ],
      "metadata": {
        "id": "7wpWdA_1mMsU"
      },
      "execution_count": null,
      "outputs": []
    },
    {
      "cell_type": "code",
      "source": [
        "pred_test = model.predict(X_test)\n",
        "r2_score(pred_test, y_test)"
      ],
      "metadata": {
        "colab": {
          "base_uri": "https://localhost:8080/"
        },
        "outputId": "741ba567-a652-4251-97c6-3ef9e245bd6f",
        "id": "ElOXKt3sefPL"
      },
      "execution_count": null,
      "outputs": [
        {
          "output_type": "execute_result",
          "data": {
            "text/plain": [
              "0.8683987446927024"
            ]
          },
          "metadata": {},
          "execution_count": 45
        }
      ]
    },
    {
      "cell_type": "markdown",
      "source": [
        "Метрика стала гораздо лучше, а всего лишь изменили способ подсчета ближайших соседей."
      ],
      "metadata": {
        "id": "9MC3zHCuefPL"
      }
    },
    {
      "cell_type": "markdown",
      "source": [
        "#### Детали получения предсказания в KNN"
      ],
      "metadata": {
        "id": "cs9dWeayefPM"
      }
    },
    {
      "cell_type": "markdown",
      "source": [
        "Возьмем тот объект, где была ошибка."
      ],
      "metadata": {
        "id": "HQddM_1defPM"
      }
    },
    {
      "cell_type": "code",
      "source": [
        "idx = 1\n",
        "test_dot = X_test[idx]\n",
        "\n",
        "distances = pd.DataFrame()\n",
        "for i, train_dot in enumerate(X_train):  # 1\n",
        "    distances = distances.append({\n",
        "        'train_idx': i,\n",
        "        'dst': np.linalg.norm(train_dot - test_dot, ord=2),  # 2\n",
        "        'label': y_train[i][0]\n",
        "    }, ignore_index=True)"
      ],
      "metadata": {
        "id": "MmG695hVefPN",
        "colab": {
          "base_uri": "https://localhost:8080/"
        },
        "outputId": "28385a48-992f-4460-9e80-1bfbef6cc8c7"
      },
      "execution_count": null,
      "outputs": [
        {
          "output_type": "stream",
          "name": "stderr",
          "text": [
            "<ipython-input-46-0cae3a1be52d>:6: FutureWarning: The frame.append method is deprecated and will be removed from pandas in a future version. Use pandas.concat instead.\n",
            "  distances = distances.append({\n",
            "<ipython-input-46-0cae3a1be52d>:6: FutureWarning: The frame.append method is deprecated and will be removed from pandas in a future version. Use pandas.concat instead.\n",
            "  distances = distances.append({\n",
            "<ipython-input-46-0cae3a1be52d>:6: FutureWarning: The frame.append method is deprecated and will be removed from pandas in a future version. Use pandas.concat instead.\n",
            "  distances = distances.append({\n",
            "<ipython-input-46-0cae3a1be52d>:6: FutureWarning: The frame.append method is deprecated and will be removed from pandas in a future version. Use pandas.concat instead.\n",
            "  distances = distances.append({\n",
            "<ipython-input-46-0cae3a1be52d>:6: FutureWarning: The frame.append method is deprecated and will be removed from pandas in a future version. Use pandas.concat instead.\n",
            "  distances = distances.append({\n",
            "<ipython-input-46-0cae3a1be52d>:6: FutureWarning: The frame.append method is deprecated and will be removed from pandas in a future version. Use pandas.concat instead.\n",
            "  distances = distances.append({\n",
            "<ipython-input-46-0cae3a1be52d>:6: FutureWarning: The frame.append method is deprecated and will be removed from pandas in a future version. Use pandas.concat instead.\n",
            "  distances = distances.append({\n",
            "<ipython-input-46-0cae3a1be52d>:6: FutureWarning: The frame.append method is deprecated and will be removed from pandas in a future version. Use pandas.concat instead.\n",
            "  distances = distances.append({\n",
            "<ipython-input-46-0cae3a1be52d>:6: FutureWarning: The frame.append method is deprecated and will be removed from pandas in a future version. Use pandas.concat instead.\n",
            "  distances = distances.append({\n",
            "<ipython-input-46-0cae3a1be52d>:6: FutureWarning: The frame.append method is deprecated and will be removed from pandas in a future version. Use pandas.concat instead.\n",
            "  distances = distances.append({\n",
            "<ipython-input-46-0cae3a1be52d>:6: FutureWarning: The frame.append method is deprecated and will be removed from pandas in a future version. Use pandas.concat instead.\n",
            "  distances = distances.append({\n",
            "<ipython-input-46-0cae3a1be52d>:6: FutureWarning: The frame.append method is deprecated and will be removed from pandas in a future version. Use pandas.concat instead.\n",
            "  distances = distances.append({\n",
            "<ipython-input-46-0cae3a1be52d>:6: FutureWarning: The frame.append method is deprecated and will be removed from pandas in a future version. Use pandas.concat instead.\n",
            "  distances = distances.append({\n",
            "<ipython-input-46-0cae3a1be52d>:6: FutureWarning: The frame.append method is deprecated and will be removed from pandas in a future version. Use pandas.concat instead.\n",
            "  distances = distances.append({\n",
            "<ipython-input-46-0cae3a1be52d>:6: FutureWarning: The frame.append method is deprecated and will be removed from pandas in a future version. Use pandas.concat instead.\n",
            "  distances = distances.append({\n",
            "<ipython-input-46-0cae3a1be52d>:6: FutureWarning: The frame.append method is deprecated and will be removed from pandas in a future version. Use pandas.concat instead.\n",
            "  distances = distances.append({\n",
            "<ipython-input-46-0cae3a1be52d>:6: FutureWarning: The frame.append method is deprecated and will be removed from pandas in a future version. Use pandas.concat instead.\n",
            "  distances = distances.append({\n",
            "<ipython-input-46-0cae3a1be52d>:6: FutureWarning: The frame.append method is deprecated and will be removed from pandas in a future version. Use pandas.concat instead.\n",
            "  distances = distances.append({\n",
            "<ipython-input-46-0cae3a1be52d>:6: FutureWarning: The frame.append method is deprecated and will be removed from pandas in a future version. Use pandas.concat instead.\n",
            "  distances = distances.append({\n",
            "<ipython-input-46-0cae3a1be52d>:6: FutureWarning: The frame.append method is deprecated and will be removed from pandas in a future version. Use pandas.concat instead.\n",
            "  distances = distances.append({\n",
            "<ipython-input-46-0cae3a1be52d>:6: FutureWarning: The frame.append method is deprecated and will be removed from pandas in a future version. Use pandas.concat instead.\n",
            "  distances = distances.append({\n",
            "<ipython-input-46-0cae3a1be52d>:6: FutureWarning: The frame.append method is deprecated and will be removed from pandas in a future version. Use pandas.concat instead.\n",
            "  distances = distances.append({\n",
            "<ipython-input-46-0cae3a1be52d>:6: FutureWarning: The frame.append method is deprecated and will be removed from pandas in a future version. Use pandas.concat instead.\n",
            "  distances = distances.append({\n",
            "<ipython-input-46-0cae3a1be52d>:6: FutureWarning: The frame.append method is deprecated and will be removed from pandas in a future version. Use pandas.concat instead.\n",
            "  distances = distances.append({\n",
            "<ipython-input-46-0cae3a1be52d>:6: FutureWarning: The frame.append method is deprecated and will be removed from pandas in a future version. Use pandas.concat instead.\n",
            "  distances = distances.append({\n",
            "<ipython-input-46-0cae3a1be52d>:6: FutureWarning: The frame.append method is deprecated and will be removed from pandas in a future version. Use pandas.concat instead.\n",
            "  distances = distances.append({\n",
            "<ipython-input-46-0cae3a1be52d>:6: FutureWarning: The frame.append method is deprecated and will be removed from pandas in a future version. Use pandas.concat instead.\n",
            "  distances = distances.append({\n",
            "<ipython-input-46-0cae3a1be52d>:6: FutureWarning: The frame.append method is deprecated and will be removed from pandas in a future version. Use pandas.concat instead.\n",
            "  distances = distances.append({\n",
            "<ipython-input-46-0cae3a1be52d>:6: FutureWarning: The frame.append method is deprecated and will be removed from pandas in a future version. Use pandas.concat instead.\n",
            "  distances = distances.append({\n",
            "<ipython-input-46-0cae3a1be52d>:6: FutureWarning: The frame.append method is deprecated and will be removed from pandas in a future version. Use pandas.concat instead.\n",
            "  distances = distances.append({\n",
            "<ipython-input-46-0cae3a1be52d>:6: FutureWarning: The frame.append method is deprecated and will be removed from pandas in a future version. Use pandas.concat instead.\n",
            "  distances = distances.append({\n",
            "<ipython-input-46-0cae3a1be52d>:6: FutureWarning: The frame.append method is deprecated and will be removed from pandas in a future version. Use pandas.concat instead.\n",
            "  distances = distances.append({\n",
            "<ipython-input-46-0cae3a1be52d>:6: FutureWarning: The frame.append method is deprecated and will be removed from pandas in a future version. Use pandas.concat instead.\n",
            "  distances = distances.append({\n",
            "<ipython-input-46-0cae3a1be52d>:6: FutureWarning: The frame.append method is deprecated and will be removed from pandas in a future version. Use pandas.concat instead.\n",
            "  distances = distances.append({\n",
            "<ipython-input-46-0cae3a1be52d>:6: FutureWarning: The frame.append method is deprecated and will be removed from pandas in a future version. Use pandas.concat instead.\n",
            "  distances = distances.append({\n",
            "<ipython-input-46-0cae3a1be52d>:6: FutureWarning: The frame.append method is deprecated and will be removed from pandas in a future version. Use pandas.concat instead.\n",
            "  distances = distances.append({\n",
            "<ipython-input-46-0cae3a1be52d>:6: FutureWarning: The frame.append method is deprecated and will be removed from pandas in a future version. Use pandas.concat instead.\n",
            "  distances = distances.append({\n",
            "<ipython-input-46-0cae3a1be52d>:6: FutureWarning: The frame.append method is deprecated and will be removed from pandas in a future version. Use pandas.concat instead.\n",
            "  distances = distances.append({\n",
            "<ipython-input-46-0cae3a1be52d>:6: FutureWarning: The frame.append method is deprecated and will be removed from pandas in a future version. Use pandas.concat instead.\n",
            "  distances = distances.append({\n",
            "<ipython-input-46-0cae3a1be52d>:6: FutureWarning: The frame.append method is deprecated and will be removed from pandas in a future version. Use pandas.concat instead.\n",
            "  distances = distances.append({\n",
            "<ipython-input-46-0cae3a1be52d>:6: FutureWarning: The frame.append method is deprecated and will be removed from pandas in a future version. Use pandas.concat instead.\n",
            "  distances = distances.append({\n",
            "<ipython-input-46-0cae3a1be52d>:6: FutureWarning: The frame.append method is deprecated and will be removed from pandas in a future version. Use pandas.concat instead.\n",
            "  distances = distances.append({\n",
            "<ipython-input-46-0cae3a1be52d>:6: FutureWarning: The frame.append method is deprecated and will be removed from pandas in a future version. Use pandas.concat instead.\n",
            "  distances = distances.append({\n",
            "<ipython-input-46-0cae3a1be52d>:6: FutureWarning: The frame.append method is deprecated and will be removed from pandas in a future version. Use pandas.concat instead.\n",
            "  distances = distances.append({\n",
            "<ipython-input-46-0cae3a1be52d>:6: FutureWarning: The frame.append method is deprecated and will be removed from pandas in a future version. Use pandas.concat instead.\n",
            "  distances = distances.append({\n"
          ]
        }
      ]
    },
    {
      "cell_type": "code",
      "source": [
        "nearest_neigbors_idxs = distances.sort_values('dst').head(n_neighbors).index\n",
        "nearest_neigbors_idxs"
      ],
      "metadata": {
        "colab": {
          "base_uri": "https://localhost:8080/"
        },
        "outputId": "aaab1e64-d8d4-4f46-f863-bb9c5f3e1144",
        "id": "Ry9c0DP6efPN"
      },
      "execution_count": null,
      "outputs": [
        {
          "output_type": "execute_result",
          "data": {
            "text/plain": [
              "Int64Index([14, 39, 25, 2, 32, 29, 18, 28, 26, 6, 7, 20, 33, 13, 19, 9, 23, 0,\n",
              "            43, 11],\n",
              "           dtype='int64')"
            ]
          },
          "metadata": {},
          "execution_count": 47
        }
      ]
    },
    {
      "cell_type": "markdown",
      "source": [
        "Все те же самые соседи, но предсказание сейчас гораздо лучше, ведь теперь те соседи, которые находятся далеко влияют меньше, а те, кто близко влияют больше."
      ],
      "metadata": {
        "id": "N7gMgKokefPN"
      }
    },
    {
      "cell_type": "code",
      "source": [
        "plt.figure(figsize=(10, 8))\n",
        "\n",
        "plt.scatter(X_train, y_train, c='b', marker='o', s=10, label='train dots')\n",
        "plt.grid()\n",
        "\n",
        "plt.scatter(X_train[nearest_neigbors_idxs], y_train[nearest_neigbors_idxs],\n",
        "            c='g', alpha=0.3, marker='o', s=100, label='nearest neighbors')\n",
        "\n",
        "plt.scatter(X_test[idx, 0], y_test[idx], c='g', marker='*', s=100, label='test dot')\n",
        "plt.scatter(X_test[idx, 0], prev_pred_test[idx][0], c='r', alpha=0.5, marker='*', s=100, label='previous prediction')\n",
        "plt.scatter(X_test[idx, 0], pred_test[idx], c='r', marker='*', s=100, label='prediction')\n",
        "\n",
        "plt.legend();"
      ],
      "metadata": {
        "colab": {
          "base_uri": "https://localhost:8080/",
          "height": 676
        },
        "outputId": "5033044c-5aca-4d82-eab9-d755696a88da",
        "id": "PDb6ISZ8efPO"
      },
      "execution_count": null,
      "outputs": [
        {
          "output_type": "display_data",
          "data": {
            "text/plain": [
              "<Figure size 1000x800 with 1 Axes>"
            ],
            "image/png": "[encoded data removed]"
          },
          "metadata": {}
        }
      ]
    },
    {
      "cell_type": "markdown",
      "source": [
        "Можем рассчитать вес каждого соседа, для этого 1 поделим на расстояние до объекта."
      ],
      "metadata": {
        "id": "byDotK6AefPO"
      }
    },
    {
      "cell_type": "code",
      "source": [
        "distances['weight'] = 1 / (distances['dst'])\n",
        "distances = distances.sort_values('dst').head(n_neighbors)\n",
        "distances"
      ],
      "metadata": {
        "colab": {
          "base_uri": "https://localhost:8080/",
          "height": 677
        },
        "outputId": "8714dcff-1b8a-457b-e03c-322f5e95793a",
        "id": "0nUj_Fp6efPO"
      },
      "execution_count": null,
      "outputs": [
        {
          "output_type": "execute_result",
          "data": {
            "text/plain": [
              "    train_idx       dst      label    weight\n",
              "14       14.0  0.408163  41.110557  2.450000\n",
              "39       39.0  0.408163  32.127914  2.450000\n",
              "25       25.0  0.816327  27.640171  1.225000\n",
              "2         2.0  0.816327  41.740175  1.225000\n",
              "32       32.0  1.224490  51.139534  0.816667\n",
              "29       29.0  1.224490  24.395433  0.816667\n",
              "18       18.0  1.632653  21.280717  0.612500\n",
              "28       28.0  2.448980  14.667229  0.408333\n",
              "26       26.0  2.857143  12.815946  0.350000\n",
              "6         6.0  3.265306  10.590643  0.306250\n",
              "7         7.0  3.673469   8.025882  0.272222\n",
              "20       20.0  4.489796   5.493417  0.222727\n",
              "33       33.0  4.897959   4.693168  0.204167\n",
              "13       13.0  5.306122   3.842054  0.188462\n",
              "19       19.0  5.714286   2.766094  0.175000\n",
              "9         9.0  6.122449   1.746492  0.163333\n",
              "23       23.0  6.530612   2.789837  0.153125\n",
              "0         0.0  6.938776   0.187777  0.144118\n",
              "43       43.0  7.755102   1.406262  0.128947\n",
              "11       11.0  8.163265   0.617322  0.122500"
            ],
            "text/html": [
              "\n",
              "  <div id=\"df-c713a3e6-73a6-4ebd-87cd-cc05b91280af\">\n",
              "    <div class=\"colab-df-container\">\n",
              "      <div>\n",
              "<style scoped>\n",
              "    .dataframe tbody tr th:only-of-type {\n",
              "        vertical-align: middle;\n",
              "    }\n",
              "\n",
              "    .dataframe tbody tr th {\n",
              "        vertical-align: top;\n",
              "    }\n",
              "\n",
              "    .dataframe thead th {\n",
              "        text-align: right;\n",
              "    }\n",
              "</style>\n",
              "<table border=\"1\" class=\"dataframe\">\n",
              "  <thead>\n",
              "    <tr style=\"text-align: right;\">\n",
              "      <th></th>\n",
              "      <th>train_idx</th>\n",
              "      <th>dst</th>\n",
              "      <th>label</th>\n",
              "      <th>weight</th>\n",
              "    </tr>\n",
              "  </thead>\n",
              "  <tbody>\n",
              "    <tr>\n",
              "      <th>14</th>\n",
              "      <td>14.0</td>\n",
              "      <td>0.408163</td>\n",
              "      <td>41.110557</td>\n",
              "      <td>2.450000</td>\n",
              "    </tr>\n",
              "    <tr>\n",
              "      <th>39</th>\n",
              "      <td>39.0</td>\n",
              "      <td>0.408163</td>\n",
              "      <td>32.127914</td>\n",
              "      <td>2.450000</td>\n",
              "    </tr>\n",
              "    <tr>\n",
              "      <th>25</th>\n",
              "      <td>25.0</td>\n",
              "      <td>0.816327</td>\n",
              "      <td>27.640171</td>\n",
              "      <td>1.225000</td>\n",
              "    </tr>\n",
              "    <tr>\n",
              "      <th>2</th>\n",
              "      <td>2.0</td>\n",
              "      <td>0.816327</td>\n",
              "      <td>41.740175</td>\n",
              "      <td>1.225000</td>\n",
              "    </tr>\n",
              "    <tr>\n",
              "      <th>32</th>\n",
              "      <td>32.0</td>\n",
              "      <td>1.224490</td>\n",
              "      <td>51.139534</td>\n",
              "      <td>0.816667</td>\n",
              "    </tr>\n",
              "    <tr>\n",
              "      <th>29</th>\n",
              "      <td>29.0</td>\n",
              "      <td>1.224490</td>\n",
              "      <td>24.395433</td>\n",
              "      <td>0.816667</td>\n",
              "    </tr>\n",
              "    <tr>\n",
              "      <th>18</th>\n",
              "      <td>18.0</td>\n",
              "      <td>1.632653</td>\n",
              "      <td>21.280717</td>\n",
              "      <td>0.612500</td>\n",
              "    </tr>\n",
              "    <tr>\n",
              "      <th>28</th>\n",
              "      <td>28.0</td>\n",
              "      <td>2.448980</td>\n",
              "      <td>14.667229</td>\n",
              "      <td>0.408333</td>\n",
              "    </tr>\n",
              "    <tr>\n",
              "      <th>26</th>\n",
              "      <td>26.0</td>\n",
              "      <td>2.857143</td>\n",
              "      <td>12.815946</td>\n",
              "      <td>0.350000</td>\n",
              "    </tr>\n",
              "    <tr>\n",
              "      <th>6</th>\n",
              "      <td>6.0</td>\n",
              "      <td>3.265306</td>\n",
              "      <td>10.590643</td>\n",
              "      <td>0.306250</td>\n",
              "    </tr>\n",
              "    <tr>\n",
              "      <th>7</th>\n",
              "      <td>7.0</td>\n",
              "      <td>3.673469</td>\n",
              "      <td>8.025882</td>\n",
              "      <td>0.272222</td>\n",
              "    </tr>\n",
              "    <tr>\n",
              "      <th>20</th>\n",
              "      <td>20.0</td>\n",
              "      <td>4.489796</td>\n",
              "      <td>5.493417</td>\n",
              "      <td>0.222727</td>\n",
              "    </tr>\n",
              "    <tr>\n",
              "      <th>33</th>\n",
              "      <td>33.0</td>\n",
              "      <td>4.897959</td>\n",
              "      <td>4.693168</td>\n",
              "      <td>0.204167</td>\n",
              "    </tr>\n",
              "    <tr>\n",
              "      <th>13</th>\n",
              "      <td>13.0</td>\n",
              "      <td>5.306122</td>\n",
              "      <td>3.842054</td>\n",
              "      <td>0.188462</td>\n",
              "    </tr>\n",
              "    <tr>\n",
              "      <th>19</th>\n",
              "      <td>19.0</td>\n",
              "      <td>5.714286</td>\n",
              "      <td>2.766094</td>\n",
              "      <td>0.175000</td>\n",
              "    </tr>\n",
              "    <tr>\n",
              "      <th>9</th>\n",
              "      <td>9.0</td>\n",
              "      <td>6.122449</td>\n",
              "      <td>1.746492</td>\n",
              "      <td>0.163333</td>\n",
              "    </tr>\n",
              "    <tr>\n",
              "      <th>23</th>\n",
              "      <td>23.0</td>\n",
              "      <td>6.530612</td>\n",
              "      <td>2.789837</td>\n",
              "      <td>0.153125</td>\n",
              "    </tr>\n",
              "    <tr>\n",
              "      <th>0</th>\n",
              "      <td>0.0</td>\n",
              "      <td>6.938776</td>\n",
              "      <td>0.187777</td>\n",
              "      <td>0.144118</td>\n",
              "    </tr>\n",
              "    <tr>\n",
              "      <th>43</th>\n",
              "      <td>43.0</td>\n",
              "      <td>7.755102</td>\n",
              "      <td>1.406262</td>\n",
              "      <td>0.128947</td>\n",
              "    </tr>\n",
              "    <tr>\n",
              "      <th>11</th>\n",
              "      <td>11.0</td>\n",
              "      <td>8.163265</td>\n",
              "      <td>0.617322</td>\n",
              "      <td>0.122500</td>\n",
              "    </tr>\n",
              "  </tbody>\n",
              "</table>\n",
              "</div>\n",
              "      <button class=\"colab-df-convert\" onclick=\"convertToInteractive('df-c713a3e6-73a6-4ebd-87cd-cc05b91280af')\"\n",
              "              title=\"Convert this dataframe to an interactive table.\"\n",
              "              style=\"display:none;\">\n",
              "        \n",
              "  <svg xmlns=\"http://www.w3.org/2000/svg\" height=\"24px\"viewBox=\"0 0 24 24\"\n",
              "       width=\"24px\">\n",
              "    <path d=\"M0 0h24v24H0V0z\" fill=\"none\"/>\n",
              "    <path d=\"M18.56 5.44l.94 2.06.94-2.06 2.06-.94-2.06-.94-.94-2.06-.94 2.06-2.06.94zm-11 1L8.5 8.5l.94-2.06 2.06-.94-2.06-.94L8.5 2.5l-.94 2.06-2.06.94zm10 10l.94 2.06.94-2.06 2.06-.94-2.06-.94-.94-2.06-.94 2.06-2.06.94z\"/><path d=\"M17.41 7.96l-1.37-1.37c-.4-.4-.92-.59-1.43-.59-.52 0-1.04.2-1.43.59L10.3 9.45l-7.72 7.72c-.78.78-.78 2.05 0 2.83L4 21.41c.39.39.9.59 1.41.59.51 0 1.02-.2 1.41-.59l7.78-7.78 2.81-2.81c.8-.78.8-2.07 0-2.86zM5.41 20L4 18.59l7.72-7.72 1.47 1.35L5.41 20z\"/>\n",
              "  </svg>\n",
              "      </button>\n",
              "      \n",
              "  <style>\n",
              "    .colab-df-container {\n",
              "      display:flex;\n",
              "      flex-wrap:wrap;\n",
              "      gap: 12px;\n",
              "    }\n",
              "\n",
              "    .colab-df-convert {\n",
              "      background-color: #E8F0FE;\n",
              "      border: none;\n",
              "      border-radius: 50%;\n",
              "      cursor: pointer;\n",
              "      display: none;\n",
              "      fill: #1967D2;\n",
              "      height: 32px;\n",
              "      padding: 0 0 0 0;\n",
              "      width: 32px;\n",
              "    }\n",
              "\n",
              "    .colab-df-convert:hover {\n",
              "      background-color: #E2EBFA;\n",
              "      box-shadow: 0px 1px 2px rgba(60, 64, 67, 0.3), 0px 1px 3px 1px rgba(60, 64, 67, 0.15);\n",
              "      fill: #174EA6;\n",
              "    }\n",
              "\n",
              "    [theme=dark] .colab-df-convert {\n",
              "      background-color: #3B4455;\n",
              "      fill: #D2E3FC;\n",
              "    }\n",
              "\n",
              "    [theme=dark] .colab-df-convert:hover {\n",
              "      background-color: #434B5C;\n",
              "      box-shadow: 0px 1px 3px 1px rgba(0, 0, 0, 0.15);\n",
              "      filter: drop-shadow(0px 1px 2px rgba(0, 0, 0, 0.3));\n",
              "      fill: #FFFFFF;\n",
              "    }\n",
              "  </style>\n",
              "\n",
              "      <script>\n",
              "        const buttonEl =\n",
              "          document.querySelector('#df-c713a3e6-73a6-4ebd-87cd-cc05b91280af button.colab-df-convert');\n",
              "        buttonEl.style.display =\n",
              "          google.colab.kernel.accessAllowed ? 'block' : 'none';\n",
              "\n",
              "        async function convertToInteractive(key) {\n",
              "          const element = document.querySelector('#df-c713a3e6-73a6-4ebd-87cd-cc05b91280af');\n",
              "          const dataTable =\n",
              "            await google.colab.kernel.invokeFunction('convertToInteractive',\n",
              "                                                     [key], {});\n",
              "          if (!dataTable) return;\n",
              "\n",
              "          const docLinkHtml = 'Like what you see? Visit the ' +\n",
              "            '<a target=\"_blank\" href=https://colab.research.google.com/notebooks/data_table.ipynb>data table notebook</a>'\n",
              "            + ' to learn more about interactive tables.';\n",
              "          element.innerHTML = '';\n",
              "          dataTable['output_type'] = 'display_data';\n",
              "          await google.colab.output.renderOutput(dataTable, element);\n",
              "          const docLink = document.createElement('div');\n",
              "          docLink.innerHTML = docLinkHtml;\n",
              "          element.appendChild(docLink);\n",
              "        }\n",
              "      </script>\n",
              "    </div>\n",
              "  </div>\n",
              "  "
            ]
          },
          "metadata": {},
          "execution_count": 49
        }
      ]
    },
    {
      "cell_type": "code",
      "source": [
        "x = np.linspace(0, 1, 50)\n",
        "plt.plot(x, 1/(x))\n",
        "plt.grid()\n",
        "plt.ylabel('weight')\n",
        "plt.xlabel('distance');"
      ],
      "metadata": {
        "colab": {
          "base_uri": "https://localhost:8080/",
          "height": 484
        },
        "outputId": "948b6377-696f-45ed-d5d9-f106b2487fdd",
        "id": "TV6Kiw1BefPP"
      },
      "execution_count": null,
      "outputs": [
        {
          "output_type": "stream",
          "name": "stderr",
          "text": [
            "<ipython-input-50-f08958cd4bec>:2: RuntimeWarning: divide by zero encountered in true_divide\n",
            "  plt.plot(x, 1/(x))\n"
          ]
        },
        {
          "output_type": "display_data",
          "data": {
            "text/plain": [
              "<Figure size 640x480 with 1 Axes>"
            ],
            "image/png": "[encoded data removed]"
          },
          "metadata": {}
        }
      ]
    },
    {
      "cell_type": "markdown",
      "source": [
        "Зная вес каждого соседа, можем посчитать нормированную взвешенную сумму предсказания.\n"
      ],
      "metadata": {
        "id": "kfKTZld1efPP"
      }
    },
    {
      "cell_type": "code",
      "source": [
        "idx"
      ],
      "metadata": {
        "colab": {
          "base_uri": "https://localhost:8080/"
        },
        "id": "xaODLw6-bR-T",
        "outputId": "c4c966db-a306-42d6-fc36-70cabc29b4de"
      },
      "execution_count": null,
      "outputs": [
        {
          "output_type": "execute_result",
          "data": {
            "text/plain": [
              "1"
            ]
          },
          "metadata": {},
          "execution_count": 54
        }
      ]
    },
    {
      "cell_type": "code",
      "source": [
        "(distances['label'] * distances['weight']).sum() / distances['weight'].sum()"
      ],
      "metadata": {
        "colab": {
          "base_uri": "https://localhost:8080/"
        },
        "id": "DNBrFGv0iJJ2",
        "outputId": "79a8bb2c-5820-4fed-e944-2725839e0250"
      },
      "execution_count": null,
      "outputs": [
        {
          "output_type": "execute_result",
          "data": {
            "text/plain": [
              "28.905126006757015"
            ]
          },
          "metadata": {},
          "execution_count": 49
        }
      ]
    },
    {
      "cell_type": "code",
      "source": [
        "y_test[idx]"
      ],
      "metadata": {
        "colab": {
          "base_uri": "https://localhost:8080/"
        },
        "outputId": "3625a066-cc08-4a51-e66c-1c4bd36209e0",
        "id": "rndiPNxiefPQ"
      },
      "execution_count": null,
      "outputs": [
        {
          "output_type": "execute_result",
          "data": {
            "text/plain": [
              "array([37.3778963])"
            ]
          },
          "metadata": {},
          "execution_count": 51
        }
      ]
    },
    {
      "cell_type": "markdown",
      "source": [
        "Получаем, что по обычному большинству предсказание было слишком маленькое, из-за того, что есть точки с маленькими значениями и их больше, но они расположены дальше."
      ],
      "metadata": {
        "id": "4ExvH-PZefPQ"
      }
    },
    {
      "cell_type": "code",
      "source": [
        "prev_pred_test[idx]"
      ],
      "metadata": {
        "colab": {
          "base_uri": "https://localhost:8080/"
        },
        "outputId": "b7885656-fe0f-456a-8ecb-9dcc92d883f3",
        "id": "04UyVuCjefPQ"
      },
      "execution_count": null,
      "outputs": [
        {
          "output_type": "execute_result",
          "data": {
            "text/plain": [
              "array([15.45383115])"
            ]
          },
          "metadata": {},
          "execution_count": 52
        }
      ]
    },
    {
      "cell_type": "markdown",
      "source": [
        "А с помощью весов предсказание получилось гораздо лучше, ведь те объекты, которые расположены далеко и имеют маленькие целевые значения, теперь влияют не так сильно."
      ],
      "metadata": {
        "id": "SJr48lmXnpXT"
      }
    },
    {
      "cell_type": "code",
      "source": [
        "pred_test[idx]"
      ],
      "metadata": {
        "colab": {
          "base_uri": "https://localhost:8080/"
        },
        "id": "4smLcG6SnxS8",
        "outputId": "bc91a840-18d1-4cf1-f926-0c1e56f87fc6"
      },
      "execution_count": null,
      "outputs": [
        {
          "output_type": "execute_result",
          "data": {
            "text/plain": [
              "array([28.90512601])"
            ]
          },
          "metadata": {},
          "execution_count": 53
        }
      ]
    },
    {
      "cell_type": "markdown",
      "source": [
        "И можем с помощью визуализации отрисовать важность соседей.\n",
        "\n",
        "Те, кто ближе имеют полузеленую окружность больше, а те, кто дальше имеют маленькую окружность."
      ],
      "metadata": {
        "id": "YYH5_WKYefPR"
      }
    },
    {
      "cell_type": "code",
      "source": [
        "plt.figure(figsize=(10, 8))\n",
        "\n",
        "plt.scatter(X_train, y_train, c='b', marker='o', s=10, label='train dots')\n",
        "plt.grid()\n",
        "\n",
        "plt.scatter(X_train[nearest_neigbors_idxs], y_train[nearest_neigbors_idxs],\n",
        "            c='g', alpha=0.3, marker='o', s=distances['weight']*150, label='nearest neighbors')\n",
        "\n",
        "plt.scatter(X_test[idx, 0], y_test[idx], c='g', marker='*', s=100, label='test dot')\n",
        "plt.scatter(X_test[idx, 0], prev_pred_test[idx][0], c='r', alpha=0.5, marker='*', s=100, label='previous prediction')\n",
        "plt.scatter(X_test[idx, 0], pred_test[idx], c='r', marker='*', s=100, label='prediction')\n",
        "\n",
        "plt.xlabel('feature')\n",
        "plt.ylabel('target')\n",
        "\n",
        "plt.legend();"
      ],
      "metadata": {
        "colab": {
          "base_uri": "https://localhost:8080/",
          "height": 696
        },
        "outputId": "539d2319-7a66-4fdf-c7fc-6cc739544d8e",
        "id": "C4KhH3rXefPR"
      },
      "execution_count": null,
      "outputs": [
        {
          "output_type": "display_data",
          "data": {
            "text/plain": [
              "<Figure size 1000x800 with 1 Axes>"
            ],
            "image/png": "[encoded data removed]"
          },
          "metadata": {}
        }
      ]
    },
    {
      "cell_type": "markdown",
      "source": [
        "#### Резюме взвешенного KNN"
      ],
      "metadata": {
        "id": "t_ynCi-eefPS"
      }
    },
    {
      "cell_type": "markdown",
      "source": [
        "\n",
        "На **моменте обучения** ничего интересного не происходит: все точки из обучения попросту запоминаются.\n",
        "\n",
        "На **моменте предсказания**:\n",
        "1. для тестовой точки считаем расстояния до всех точек с обучения\n",
        "2. сортируем от самого ближнего до самого дальнего расстояния\n",
        "3. считаем веса для ближайших $N$ соседей\n",
        "4. умножаем веса на таргеты соседей\n",
        "5. суммируем перемножения\n",
        "6. нормируем на сумму весов"
      ],
      "metadata": {
        "id": "adfwt-flefPS"
      }
    },
    {
      "cell_type": "markdown",
      "source": [
        "## Callable объект в атрибут weights"
      ],
      "metadata": {
        "id": "p6JT35ePefPS"
      }
    },
    {
      "cell_type": "markdown",
      "source": [
        "С взвешенными KNN для регрессии и классификации разобрались, теперь можем поговорить, а какие еще веса можем использовать для модели.\n",
        "\n",
        "А на самом деле мы не ограничиваемся значениями `uniform` и `distance` в атрибуте `weights`, мы можем написать свою кастомную функцию для подсчета весов.\n",
        "\n"
      ],
      "metadata": {
        "id": "rljwrdXHomTh"
      }
    },
    {
      "cell_type": "markdown",
      "source": [
        "К примеру, давайте реализуем аналог `distance`."
      ],
      "metadata": {
        "id": "47C5cnk0o6vl"
      }
    },
    {
      "cell_type": "markdown",
      "source": [
        "На вход эта функция должна принимать массив дистанций и выдавать массив весов."
      ],
      "metadata": {
        "id": "lVzz7x2VpIfO"
      }
    },
    {
      "cell_type": "code",
      "source": [
        "def calc_weight_distance(dists):\n",
        "    return 1 / dists"
      ],
      "metadata": {
        "id": "d8E50LTjpDyI"
      },
      "execution_count": null,
      "outputs": []
    },
    {
      "cell_type": "markdown",
      "source": [
        "Теперь эту функцию можем передать в атрибут `weights`."
      ],
      "metadata": {
        "id": "YZ8-MDxLpnR3"
      }
    },
    {
      "cell_type": "code",
      "source": [
        "n_neighbors = 20\n",
        "model = KNeighborsRegressor(n_neighbors=n_neighbors, weights=calc_weight_distance)"
      ],
      "metadata": {
        "id": "xj8ztMttpTa_"
      },
      "execution_count": null,
      "outputs": []
    },
    {
      "cell_type": "code",
      "source": [
        "model.fit(X_train, y_train)"
      ],
      "metadata": {
        "colab": {
          "base_uri": "https://localhost:8080/"
        },
        "outputId": "bb09e7ef-edc5-4692-d4ea-b027bd00b004",
        "id": "xASJ03mhpTbA"
      },
      "execution_count": null,
      "outputs": [
        {
          "output_type": "execute_result",
          "data": {
            "text/plain": [
              "KNeighborsRegressor(algorithm='auto', leaf_size=30, metric='minkowski',\n",
              "                    metric_params=None, n_jobs=None, n_neighbors=20, p=2,\n",
              "                    weights=<function calc_weight_distance at 0x7fb171dae7a0>)"
            ]
          },
          "metadata": {},
          "execution_count": 56
        }
      ]
    },
    {
      "cell_type": "markdown",
      "source": [
        "И убедимся, что предсказания и метрики получаются идентичными."
      ],
      "metadata": {
        "id": "9OIObFZ-prZf"
      }
    },
    {
      "cell_type": "markdown",
      "source": [
        "Для справки (вот такая метрика была на KNN из `sklearn`)\n",
        "```\n",
        "0.8683987446927024\n",
        "```"
      ],
      "metadata": {
        "id": "dTd3lcNBpTbB"
      }
    },
    {
      "cell_type": "code",
      "source": [
        "pred_test = model.predict(X_test)\n",
        "r2_score(pred_test, y_test)"
      ],
      "metadata": {
        "colab": {
          "base_uri": "https://localhost:8080/"
        },
        "outputId": "552f1069-c6fe-4fc7-8595-81db585d4e32",
        "id": "hbrYPrXvpTbC"
      },
      "execution_count": null,
      "outputs": [
        {
          "output_type": "execute_result",
          "data": {
            "text/plain": [
              "0.8683987446927024"
            ]
          },
          "metadata": {},
          "execution_count": 57
        }
      ]
    },
    {
      "cell_type": "markdown",
      "source": [
        "Можем реализовать немного другую функцию подсчета весов."
      ],
      "metadata": {
        "id": "vAokBSHUpw_D"
      }
    },
    {
      "cell_type": "code",
      "source": [
        "def calc_weight_distance_2(dists):\n",
        "    return 0.5 ** dists"
      ],
      "metadata": {
        "id": "alkq6jGyp3qA"
      },
      "execution_count": null,
      "outputs": []
    },
    {
      "cell_type": "markdown",
      "source": [
        "Теперь эту функцию можем передать в атрибут `weights`."
      ],
      "metadata": {
        "id": "gqyC68RFp8wm"
      }
    },
    {
      "cell_type": "code",
      "source": [
        "n_neighbors = 20\n",
        "model = KNeighborsRegressor(n_neighbors=n_neighbors, weights=calc_weight_distance_2)"
      ],
      "metadata": {
        "id": "H7Mc8gvRp8wn"
      },
      "execution_count": null,
      "outputs": []
    },
    {
      "cell_type": "code",
      "source": [
        "model.fit(X_train, y_train)"
      ],
      "metadata": {
        "colab": {
          "base_uri": "https://localhost:8080/"
        },
        "outputId": "0dc0c564-56f0-420d-d92d-b6a990b33e70",
        "id": "1GiihZyCp8wo"
      },
      "execution_count": null,
      "outputs": [
        {
          "output_type": "execute_result",
          "data": {
            "text/plain": [
              "KNeighborsRegressor(algorithm='auto', leaf_size=30, metric='minkowski',\n",
              "                    metric_params=None, n_jobs=None, n_neighbors=20, p=2,\n",
              "                    weights=<function calc_weight_distance_2 at 0x7fb171dae200>)"
            ]
          },
          "metadata": {},
          "execution_count": 60
        }
      ]
    },
    {
      "cell_type": "markdown",
      "source": [
        "И посмотрим, что стало с метрикой.\n",
        "\n",
        "А так вышло, что она стала выше. Значит данный метод рассчета весов подходит для этой задачи больше."
      ],
      "metadata": {
        "id": "yyfR-Gx0p8wo"
      }
    },
    {
      "cell_type": "code",
      "source": [
        "pred_test = model.predict(X_test)\n",
        "r2_score(pred_test, y_test)"
      ],
      "metadata": {
        "colab": {
          "base_uri": "https://localhost:8080/"
        },
        "outputId": "5614b01f-7ed9-4efe-a360-35cc9e997dda",
        "id": "PpoLJfG5p8wp"
      },
      "execution_count": null,
      "outputs": [
        {
          "output_type": "execute_result",
          "data": {
            "text/plain": [
              "0.9369864623634033"
            ]
          },
          "metadata": {},
          "execution_count": 61
        }
      ]
    },
    {
      "cell_type": "markdown",
      "source": [
        "Давайте в целом посмотрим, какие виды функций можно придумывать для подсчета весов."
      ],
      "metadata": {
        "id": "pA1r4LDjqLrI"
      }
    },
    {
      "cell_type": "markdown",
      "metadata": {
        "id": "B7bzqECrPAYh"
      },
      "source": [
        "### От расстояния $d$"
      ]
    },
    {
      "cell_type": "markdown",
      "source": [
        "\n",
        "#### - $w(d) = q^{d}$,   $q \\in (0,1)$;"
      ],
      "metadata": {
        "id": "wOcemmOSPkZ3"
      }
    },
    {
      "cell_type": "code",
      "execution_count": null,
      "metadata": {
        "id": "92mnb2MFPAYh",
        "outputId": "7fb23db8-6b4c-4f68-e43b-cc4ba42530fc",
        "colab": {
          "base_uri": "https://localhost:8080/",
          "height": 279
        }
      },
      "outputs": [
        {
          "output_type": "display_data",
          "data": {
            "text/plain": [
              "<Figure size 432x288 with 1 Axes>"
            ],
            "image/png": "[encoded data removed]"
          },
          "metadata": {
            "needs_background": "light"
          }
        }
      ],
      "source": [
        "q = 0.25\n",
        "x = np.linspace(0, 1, 50)\n",
        "plt.plot(x, q ** x)\n",
        "plt.xlabel('distance')\n",
        "plt.ylabel('weight')\n",
        "plt.grid();"
      ]
    },
    {
      "cell_type": "markdown",
      "metadata": {
        "id": "flEahhbFPAYi"
      },
      "source": [
        "#### - $w(d) = \\frac{1}{d+a}$,\n",
        "брать вес $\\frac{1}{d}$ - неудачное решение, так как при $d = 0$ вес будет бесконечно большим\n",
        "\n",
        "\n",
        "В `sklearn` такую ситуацию обходят путем присваивания веса 1 для такого объекта, а все остальные объекты будут иметь вес 0."
      ]
    },
    {
      "cell_type": "code",
      "execution_count": null,
      "metadata": {
        "id": "khBKqhTHPAYi",
        "outputId": "6445efb8-6817-42db-cbd8-4064ae5d84f0",
        "colab": {
          "base_uri": "https://localhost:8080/",
          "height": 279
        }
      },
      "outputs": [
        {
          "output_type": "display_data",
          "data": {
            "text/plain": [
              "<Figure size 432x288 with 1 Axes>"
            ],
            "image/png": "[encoded data removed]"
          },
          "metadata": {
            "needs_background": "light"
          }
        }
      ],
      "source": [
        "a = 1\n",
        "x = np.linspace(0, 1, 50)\n",
        "plt.plot(x, 1 / (x + a))\n",
        "plt.xlabel('distance')\n",
        "plt.ylabel('weight')\n",
        "plt.grid();"
      ]
    },
    {
      "cell_type": "markdown",
      "metadata": {
        "id": "sp6CCXB8PAYa"
      },
      "source": [
        "### От номера соседа $i$"
      ]
    },
    {
      "cell_type": "markdown",
      "source": [
        "#### - $w(i) = q^{i}$,   $q \\in (0,1)$;"
      ],
      "metadata": {
        "id": "T1j7Ul_FPcT1"
      }
    },
    {
      "cell_type": "code",
      "execution_count": null,
      "metadata": {
        "id": "ZG5x4UdVPAYe",
        "outputId": "4a09ce5c-7703-4c3e-d30c-af6641cbce34",
        "colab": {
          "base_uri": "https://localhost:8080/",
          "height": 279
        }
      },
      "outputs": [
        {
          "output_type": "display_data",
          "data": {
            "text/plain": [
              "<Figure size 432x288 with 1 Axes>"
            ],
            "image/png": "[encoded data removed]"
          },
          "metadata": {
            "needs_background": "light"
          }
        }
      ],
      "source": [
        "q = 0.5\n",
        "x = np.linspace(1, 51, 50)\n",
        "plt.plot(x, q ** x)\n",
        "plt.xlabel('n')\n",
        "plt.ylabel('weight')\n",
        "plt.grid();"
      ]
    },
    {
      "cell_type": "markdown",
      "metadata": {
        "id": "0GDXmH_1PAYg"
      },
      "source": [
        "#### - $w(i) = \\frac{1}{i}$;"
      ]
    },
    {
      "cell_type": "code",
      "execution_count": null,
      "metadata": {
        "id": "ozagfzvXPAYg",
        "outputId": "c856c079-1b31-48da-dcf4-63c7bead81f4",
        "colab": {
          "base_uri": "https://localhost:8080/",
          "height": 279
        }
      },
      "outputs": [
        {
          "output_type": "display_data",
          "data": {
            "text/plain": [
              "<Figure size 432x288 with 1 Axes>"
            ],
            "image/png": "[encoded data removed]"
          },
          "metadata": {
            "needs_background": "light"
          }
        }
      ],
      "source": [
        "x = np.linspace(1, 51, 50)\n",
        "plt.plot(x, 1/x)\n",
        "plt.xlabel('n')\n",
        "plt.ylabel('weight')\n",
        "plt.grid();"
      ]
    },
    {
      "cell_type": "markdown",
      "source": [
        "И давайте ради примера реализцем функцию подсчета весов от номера соседа."
      ],
      "metadata": {
        "id": "D-wT8Ps8RX_K"
      }
    },
    {
      "cell_type": "code",
      "source": [
        "def calc_weight_n_neigbours(dists):\n",
        "    weights = np.zeros(dists.shape)\n",
        "\n",
        "    for i in range(dists.shape[1]):\n",
        "        weights[:, i] = 1/(i+1)\n",
        "\n",
        "    return weights"
      ],
      "metadata": {
        "id": "S-6SvfwwRX_f"
      },
      "execution_count": null,
      "outputs": []
    },
    {
      "cell_type": "markdown",
      "source": [
        "Теперь эту функцию можем передать в атрибут `weights`."
      ],
      "metadata": {
        "id": "Be_Knk5YRX_h"
      }
    },
    {
      "cell_type": "code",
      "source": [
        "n_neighbors = 20\n",
        "model = KNeighborsRegressor(n_neighbors=n_neighbors, weights=calc_weight_n_neigbours)"
      ],
      "metadata": {
        "id": "qz4wDoOYRX_h"
      },
      "execution_count": null,
      "outputs": []
    },
    {
      "cell_type": "code",
      "source": [
        "model.fit(X_train, y_train)"
      ],
      "metadata": {
        "colab": {
          "base_uri": "https://localhost:8080/"
        },
        "outputId": "f1dc4684-ffe6-4c2b-bd33-0040227bd0f2",
        "id": "iPRWR_saRX_i"
      },
      "execution_count": null,
      "outputs": [
        {
          "output_type": "execute_result",
          "data": {
            "text/plain": [
              "KNeighborsRegressor(algorithm='auto', leaf_size=30, metric='minkowski',\n",
              "                    metric_params=None, n_jobs=None, n_neighbors=20, p=2,\n",
              "                    weights=<function calc_weight_n_neigbours at 0x7fb171f03dd0>)"
            ]
          },
          "metadata": {},
          "execution_count": 69
        }
      ]
    },
    {
      "cell_type": "code",
      "source": [
        "pred_test = model.predict(X_test)\n",
        "r2_score(pred_test, y_test)"
      ],
      "metadata": {
        "colab": {
          "base_uri": "https://localhost:8080/"
        },
        "outputId": "79a41987-13be-461e-dca8-af784d70c589",
        "id": "EGbULYsxRX_k"
      },
      "execution_count": null,
      "outputs": [
        {
          "output_type": "execute_result",
          "data": {
            "text/plain": [
              "0.7710471732745973"
            ]
          },
          "metadata": {},
          "execution_count": 70
        }
      ]
    }
  ]
}