{
  "nbformat": 4,
  "nbformat_minor": 0,
  "metadata": {
    "colab": {
      "provenance": []
    },
    "kernelspec": {
      "name": "python3",
      "display_name": "Python 3"
    },
    "language_info": {
      "name": "python"
    }
  },
  "cells": [
    {
      "cell_type": "code",
      "execution_count": null,
      "metadata": {
        "id": "bdBrRsC8zfl0"
      },
      "outputs": [],
      "source": [
        "import matplotlib.pyplot as plt\n",
        "import seaborn as sns\n",
        "from sklearn.metrics import confusion_matrix\n",
        "import numpy as np\n",
        "from sklearn.metrics import accuracy_score, precision_score, recall_score, f1_score, confusion_matrix\n",
        "\n",
        "# Sample true labels and predicted probabilities (for binary classification)\n",
        "true_labels = np.array([1, 0, 1, 0, 1])  # Example true labels\n",
        "predicted_probabilities = np.array([0.9, 0.1, 0.8, 0.3, 0.7])  # Example predicted probabilities for class 1\n",
        "\n",
        "# Initialize lists to store metrics for each threshold\n",
        "thresholds = np.arange(0, 1.01, 0.01)  # Threshold values from 0 to 1 with step 0.01\n",
        "metrics_list = []\n",
        "# Initialize lists to store confusion matrices for each threshold\n",
        "confusion_matrices = []\n",
        "\n",
        "# Iterate over thresholds\n",
        "for threshold in thresholds:\n",
        "    # Convert probabilities to binary predictions based on the threshold\n",
        "    predicted_labels = (predicted_probabilities >= threshold).astype(int)\n",
        "\n",
        "    # Calculate confusion matrix\n",
        "    cm = confusion_matrix(true_labels, predicted_labels)\n",
        "\n",
        "    # Append confusion matrix to the list\n",
        "    confusion_matrices.append((threshold, cm))\n",
        "\n",
        "# Plot confusion matrices\n",
        "for threshold, cm in confusion_matrices:\n",
        "    plt.figure()\n",
        "    sns.heatmap(cm, annot=True, fmt='d', cmap='Blues', cbar=False)\n",
        "    plt.title(f\"Confusion Matrix (Threshold: {threshold:.2f})\")\n",
        "    plt.xlabel(\"Predicted Label\")\n",
        "    plt.ylabel(\"True Label\")\n",
        "    plt.show()\n"
      ]
    }
  ]
}