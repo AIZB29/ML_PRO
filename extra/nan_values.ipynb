{
  "nbformat": 4,
  "nbformat_minor": 0,
  "metadata": {
    "colab": {
      "provenance": []
    },
    "kernelspec": {
      "name": "python3",
      "display_name": "Python 3"
    },
    "language_info": {
      "name": "python"
    }
  },
  "cells": [
    {
      "cell_type": "code",
      "execution_count": 1,
      "metadata": {
        "id": "SX-YxbfYsLwS"
      },
      "outputs": [],
      "source": [
        "import pandas as pd\n",
        "import numpy as np\n",
        "import seaborn as sns\n",
        "import matplotlib.pyplot as plt\n",
        "%matplotlib inline \n",
        "\n",
        "from sklearn.pipeline import Pipeline\n",
        "from sklearn.preprocessing import PolynomialFeatures\n",
        "from sklearn.preprocessing import StandardScaler\n",
        "from sklearn.model_selection import train_test_split\n",
        "from sklearn.decomposition import PCA\n",
        "from sklearn import linear_model\n",
        "from sklearn import metrics\n",
        "\n",
        "\n",
        "from sklearn.impute import SimpleImputer\n",
        "from sklearn.compose import ColumnTransformer\n",
        "\n",
        "from sklearn.ensemble import GradientBoostingRegressor\n",
        "from sklearn.linear_model import LinearRegression\n",
        "from sklearn.linear_model import SGDRegressor\n",
        "\n",
        "from sklearn.metrics import mean_absolute_error, mean_squared_error, r2_score \n",
        "import scipy.stats as stats\n",
        "\n",
        "from sklearn.preprocessing import OneHotEncoder,OrdinalEncoder\n",
        "from sklearn.model_selection import GridSearchCV\n",
        "from sklearn.model_selection import ShuffleSplit # при кросс-валидации случайно перемешиваем данные\n",
        "# альтернативно можно использовать StratifiedKFold т.к. задача классификации\n",
        "import seaborn as sns # чтобы подкрасить таблички\n",
        "     \n"
      ]
    },
    {
      "cell_type": "markdown",
      "source": [
        "#Why Fill in the Missing Data?\n",
        "It it necessary to fill in missing data values in data sets as most of the machine learning models that you want to use will provide an error if you pass NaN values into it. The easiest way is to just fill them up with 0, but this can reduce your model accuracy significantly.\n",
        "\n",
        "For filling missing values, there are many methods available. For choosing the best method, you need to understand the type of missing value and its significance, before you start filling/deleting the data to completely understand how to handle missing data in Python."
      ],
      "metadata": {
        "id": "v0RmhN7us23G"
      }
    },
    {
      "cell_type": "code",
      "source": [
        "df=pd.read_csv(\"https://raw.githubusercontent.com/datasciencedojo/datasets/master/titanic.csv\")"
      ],
      "metadata": {
        "id": "pdRcFpHKsbA4"
      },
      "execution_count": 16,
      "outputs": []
    },
    {
      "cell_type": "markdown",
      "source": [
        "See that the data contains many columns like PassengerId, Name, Age, etc. We won’t be working with all the columns in the dataset, so I am going to be deleting the columns I don’t need."
      ],
      "metadata": {
        "id": "64SiWzU5uknE"
      }
    },
    {
      "cell_type": "code",
      "source": [
        "df=pd.read_csv(\"https://raw.githubusercontent.com/datasciencedojo/datasets/master/titanic.csv\")\n",
        "df.drop(\"Name\",axis=1,inplace=True)\n",
        "df.drop(\"Ticket\",axis=1,inplace=True)\n",
        "df.drop(\"PassengerId\",axis=1,inplace=True)\n",
        "df.drop(\"Cabin\",axis=1,inplace=True)\n",
        "df.drop(\"Embarked\",axis=1,inplace=True)"
      ],
      "metadata": {
        "id": "kti_C_4jsXFf"
      },
      "execution_count": 17,
      "outputs": []
    },
    {
      "cell_type": "code",
      "source": [
        "from sklearn.preprocessing import LabelEncoder\n",
        "le = LabelEncoder()\n",
        "df['Sex'] = le.fit_transform(df['Sex'])\n",
        "newdf=df"
      ],
      "metadata": {
        "id": "8PQREWI0siN_"
      },
      "execution_count": 18,
      "outputs": []
    },
    {
      "cell_type": "code",
      "source": [
        "#splitting the data into x and y\n",
        "y = df['Survived']\n",
        "X=df.drop(\"Survived\",axis=1)"
      ],
      "metadata": {
        "id": "D1y61bDf7awE"
      },
      "execution_count": 19,
      "outputs": []
    },
    {
      "cell_type": "markdown",
      "source": [
        "#How to Know If the Data Has Missing Values?\n",
        "\n",
        "Missing Value Treatment in Python – Missing values are usually represented in the form of Nan or null or None in the dataset.\n",
        "\n",
        "df.info() The function can be used to give information about the dataset. This function is one of the most used functions for data analysis. This will provide you with the column names and the number of non–null values in each column. It will also display the data types of each column. Thus we can find out which number columns are where null values are present, and by looking at the data types, we can have an understanding of which value to replace nulls with.\n",
        "\n",
        "Sometimes though, instead of np.nan null values could be present as empty strings or other values that represent null values, so we must be careful and make sure that all the null values in our dataset are np.nan values."
      ],
      "metadata": {
        "id": "V4G9zLem7i4u"
      }
    },
    {
      "cell_type": "code",
      "source": [
        "df.info()"
      ],
      "metadata": {
        "colab": {
          "base_uri": "https://localhost:8080/"
        },
        "id": "Hj-GGGOo7lql",
        "outputId": "69be2018-1321-4876-ada9-aad5980f5238"
      },
      "execution_count": 20,
      "outputs": [
        {
          "output_type": "stream",
          "name": "stdout",
          "text": [
            "<class 'pandas.core.frame.DataFrame'>\n",
            "RangeIndex: 891 entries, 0 to 890\n",
            "Data columns (total 7 columns):\n",
            " #   Column    Non-Null Count  Dtype  \n",
            "---  ------    --------------  -----  \n",
            " 0   Survived  891 non-null    int64  \n",
            " 1   Pclass    891 non-null    int64  \n",
            " 2   Sex       891 non-null    int64  \n",
            " 3   Age       714 non-null    float64\n",
            " 4   SibSp     891 non-null    int64  \n",
            " 5   Parch     891 non-null    int64  \n",
            " 6   Fare      891 non-null    float64\n",
            "dtypes: float64(2), int64(5)\n",
            "memory usage: 48.9 KB\n"
          ]
        }
      ]
    },
    {
      "cell_type": "markdown",
      "source": [
        "See that there are null values in the column Age.\n",
        "\n",
        "The second way of finding whether we have null values in the data is by using the isnull() function."
      ],
      "metadata": {
        "id": "_jjG8by69Sx_"
      }
    },
    {
      "cell_type": "code",
      "source": [
        "print(df.isnull().sum())"
      ],
      "metadata": {
        "colab": {
          "base_uri": "https://localhost:8080/"
        },
        "id": "j2rHr6UD9MsT",
        "outputId": "bd169657-da51-4e6e-92f8-e1f850fb1f84"
      },
      "execution_count": 21,
      "outputs": [
        {
          "output_type": "stream",
          "name": "stdout",
          "text": [
            "Survived      0\n",
            "Pclass        0\n",
            "Sex           0\n",
            "Age         177\n",
            "SibSp         0\n",
            "Parch         0\n",
            "Fare          0\n",
            "dtype: int64\n"
          ]
        }
      ]
    },
    {
      "cell_type": "code",
      "source": [
        "from sklearn.model_selection import train_test_split\n",
        "X_train, X_test,y_train,y_test = train_test_split(df,y,test_size=0.3)\n",
        "from sklearn.linear_model import LogisticRegression\n",
        "lr = LogisticRegression()\n",
        "lr.fit(X_train,y_train)"
      ],
      "metadata": {
        "colab": {
          "base_uri": "https://localhost:8080/",
          "height": 432
        },
        "id": "zkEeCqAh9Z9p",
        "outputId": "0b82e93c-2fb7-4018-eda0-a860cad30b06"
      },
      "execution_count": 22,
      "outputs": [
        {
          "output_type": "error",
          "ename": "ValueError",
          "evalue": "ignored",
          "traceback": [
            "\u001b[0;31m---------------------------------------------------------------------------\u001b[0m",
            "\u001b[0;31mValueError\u001b[0m                                Traceback (most recent call last)",
            "\u001b[0;32m<ipython-input-22-39e242133f93>\u001b[0m in \u001b[0;36m<cell line: 5>\u001b[0;34m()\u001b[0m\n\u001b[1;32m      3\u001b[0m \u001b[0;32mfrom\u001b[0m \u001b[0msklearn\u001b[0m\u001b[0;34m.\u001b[0m\u001b[0mlinear_model\u001b[0m \u001b[0;32mimport\u001b[0m \u001b[0mLogisticRegression\u001b[0m\u001b[0;34m\u001b[0m\u001b[0;34m\u001b[0m\u001b[0m\n\u001b[1;32m      4\u001b[0m \u001b[0mlr\u001b[0m \u001b[0;34m=\u001b[0m \u001b[0mLogisticRegression\u001b[0m\u001b[0;34m(\u001b[0m\u001b[0;34m)\u001b[0m\u001b[0;34m\u001b[0m\u001b[0;34m\u001b[0m\u001b[0m\n\u001b[0;32m----> 5\u001b[0;31m \u001b[0mlr\u001b[0m\u001b[0;34m.\u001b[0m\u001b[0mfit\u001b[0m\u001b[0;34m(\u001b[0m\u001b[0mX_train\u001b[0m\u001b[0;34m,\u001b[0m\u001b[0my_train\u001b[0m\u001b[0;34m)\u001b[0m\u001b[0;34m\u001b[0m\u001b[0;34m\u001b[0m\u001b[0m\n\u001b[0m",
            "\u001b[0;32m/usr/local/lib/python3.10/dist-packages/sklearn/linear_model/_logistic.py\u001b[0m in \u001b[0;36mfit\u001b[0;34m(self, X, y, sample_weight)\u001b[0m\n\u001b[1;32m   1194\u001b[0m             \u001b[0m_dtype\u001b[0m \u001b[0;34m=\u001b[0m \u001b[0;34m[\u001b[0m\u001b[0mnp\u001b[0m\u001b[0;34m.\u001b[0m\u001b[0mfloat64\u001b[0m\u001b[0;34m,\u001b[0m \u001b[0mnp\u001b[0m\u001b[0;34m.\u001b[0m\u001b[0mfloat32\u001b[0m\u001b[0;34m]\u001b[0m\u001b[0;34m\u001b[0m\u001b[0;34m\u001b[0m\u001b[0m\n\u001b[1;32m   1195\u001b[0m \u001b[0;34m\u001b[0m\u001b[0m\n\u001b[0;32m-> 1196\u001b[0;31m         X, y = self._validate_data(\n\u001b[0m\u001b[1;32m   1197\u001b[0m             \u001b[0mX\u001b[0m\u001b[0;34m,\u001b[0m\u001b[0;34m\u001b[0m\u001b[0;34m\u001b[0m\u001b[0m\n\u001b[1;32m   1198\u001b[0m             \u001b[0my\u001b[0m\u001b[0;34m,\u001b[0m\u001b[0;34m\u001b[0m\u001b[0;34m\u001b[0m\u001b[0m\n",
            "\u001b[0;32m/usr/local/lib/python3.10/dist-packages/sklearn/base.py\u001b[0m in \u001b[0;36m_validate_data\u001b[0;34m(self, X, y, reset, validate_separately, **check_params)\u001b[0m\n\u001b[1;32m    582\u001b[0m                 \u001b[0my\u001b[0m \u001b[0;34m=\u001b[0m \u001b[0mcheck_array\u001b[0m\u001b[0;34m(\u001b[0m\u001b[0my\u001b[0m\u001b[0;34m,\u001b[0m \u001b[0minput_name\u001b[0m\u001b[0;34m=\u001b[0m\u001b[0;34m\"y\"\u001b[0m\u001b[0;34m,\u001b[0m \u001b[0;34m**\u001b[0m\u001b[0mcheck_y_params\u001b[0m\u001b[0;34m)\u001b[0m\u001b[0;34m\u001b[0m\u001b[0;34m\u001b[0m\u001b[0m\n\u001b[1;32m    583\u001b[0m             \u001b[0;32melse\u001b[0m\u001b[0;34m:\u001b[0m\u001b[0;34m\u001b[0m\u001b[0;34m\u001b[0m\u001b[0m\n\u001b[0;32m--> 584\u001b[0;31m                 \u001b[0mX\u001b[0m\u001b[0;34m,\u001b[0m \u001b[0my\u001b[0m \u001b[0;34m=\u001b[0m \u001b[0mcheck_X_y\u001b[0m\u001b[0;34m(\u001b[0m\u001b[0mX\u001b[0m\u001b[0;34m,\u001b[0m \u001b[0my\u001b[0m\u001b[0;34m,\u001b[0m \u001b[0;34m**\u001b[0m\u001b[0mcheck_params\u001b[0m\u001b[0;34m)\u001b[0m\u001b[0;34m\u001b[0m\u001b[0;34m\u001b[0m\u001b[0m\n\u001b[0m\u001b[1;32m    585\u001b[0m             \u001b[0mout\u001b[0m \u001b[0;34m=\u001b[0m \u001b[0mX\u001b[0m\u001b[0;34m,\u001b[0m \u001b[0my\u001b[0m\u001b[0;34m\u001b[0m\u001b[0;34m\u001b[0m\u001b[0m\n\u001b[1;32m    586\u001b[0m \u001b[0;34m\u001b[0m\u001b[0m\n",
            "\u001b[0;32m/usr/local/lib/python3.10/dist-packages/sklearn/utils/validation.py\u001b[0m in \u001b[0;36mcheck_X_y\u001b[0;34m(X, y, accept_sparse, accept_large_sparse, dtype, order, copy, force_all_finite, ensure_2d, allow_nd, multi_output, ensure_min_samples, ensure_min_features, y_numeric, estimator)\u001b[0m\n\u001b[1;32m   1104\u001b[0m         )\n\u001b[1;32m   1105\u001b[0m \u001b[0;34m\u001b[0m\u001b[0m\n\u001b[0;32m-> 1106\u001b[0;31m     X = check_array(\n\u001b[0m\u001b[1;32m   1107\u001b[0m         \u001b[0mX\u001b[0m\u001b[0;34m,\u001b[0m\u001b[0;34m\u001b[0m\u001b[0;34m\u001b[0m\u001b[0m\n\u001b[1;32m   1108\u001b[0m         \u001b[0maccept_sparse\u001b[0m\u001b[0;34m=\u001b[0m\u001b[0maccept_sparse\u001b[0m\u001b[0;34m,\u001b[0m\u001b[0;34m\u001b[0m\u001b[0;34m\u001b[0m\u001b[0m\n",
            "\u001b[0;32m/usr/local/lib/python3.10/dist-packages/sklearn/utils/validation.py\u001b[0m in \u001b[0;36mcheck_array\u001b[0;34m(array, accept_sparse, accept_large_sparse, dtype, order, copy, force_all_finite, ensure_2d, allow_nd, ensure_min_samples, ensure_min_features, estimator, input_name)\u001b[0m\n\u001b[1;32m    919\u001b[0m \u001b[0;34m\u001b[0m\u001b[0m\n\u001b[1;32m    920\u001b[0m         \u001b[0;32mif\u001b[0m \u001b[0mforce_all_finite\u001b[0m\u001b[0;34m:\u001b[0m\u001b[0;34m\u001b[0m\u001b[0;34m\u001b[0m\u001b[0m\n\u001b[0;32m--> 921\u001b[0;31m             _assert_all_finite(\n\u001b[0m\u001b[1;32m    922\u001b[0m                 \u001b[0marray\u001b[0m\u001b[0;34m,\u001b[0m\u001b[0;34m\u001b[0m\u001b[0;34m\u001b[0m\u001b[0m\n\u001b[1;32m    923\u001b[0m                 \u001b[0minput_name\u001b[0m\u001b[0;34m=\u001b[0m\u001b[0minput_name\u001b[0m\u001b[0;34m,\u001b[0m\u001b[0;34m\u001b[0m\u001b[0;34m\u001b[0m\u001b[0m\n",
            "\u001b[0;32m/usr/local/lib/python3.10/dist-packages/sklearn/utils/validation.py\u001b[0m in \u001b[0;36m_assert_all_finite\u001b[0;34m(X, allow_nan, msg_dtype, estimator_name, input_name)\u001b[0m\n\u001b[1;32m    159\u001b[0m                 \u001b[0;34m\"#estimators-that-handle-nan-values\"\u001b[0m\u001b[0;34m\u001b[0m\u001b[0;34m\u001b[0m\u001b[0m\n\u001b[1;32m    160\u001b[0m             )\n\u001b[0;32m--> 161\u001b[0;31m         \u001b[0;32mraise\u001b[0m \u001b[0mValueError\u001b[0m\u001b[0;34m(\u001b[0m\u001b[0mmsg_err\u001b[0m\u001b[0;34m)\u001b[0m\u001b[0;34m\u001b[0m\u001b[0;34m\u001b[0m\u001b[0m\n\u001b[0m\u001b[1;32m    162\u001b[0m \u001b[0;34m\u001b[0m\u001b[0m\n\u001b[1;32m    163\u001b[0m \u001b[0;34m\u001b[0m\u001b[0m\n",
            "\u001b[0;31mValueError\u001b[0m: Input X contains NaN.\nLogisticRegression does not accept missing values encoded as NaN natively. For supervised learning, you might want to consider sklearn.ensemble.HistGradientBoostingClassifier and Regressor which accept missing values encoded as NaNs natively. Alternatively, it is possible to preprocess the data, for instance by using an imputer transformer in a pipeline or drop samples with missing values. See https://scikit-learn.org/stable/modules/impute.html You can find a list of all estimators that handle NaN values at the following page: https://scikit-learn.org/stable/modules/impute.html#estimators-that-handle-nan-values"
          ]
        }
      ]
    },
    {
      "cell_type": "markdown",
      "source": [
        "![image.png](data:image/png;base64,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)"
      ],
      "metadata": {
        "id": "R_VTy1uH9gcf"
      }
    },
    {
      "cell_type": "code",
      "source": [
        "updated_df = X.dropna(axis=1)\n",
        "updated_df.info()"
      ],
      "metadata": {
        "colab": {
          "base_uri": "https://localhost:8080/"
        },
        "id": "XlmXHztC9cZo",
        "outputId": "87b0ad39-123d-40fe-fde2-fbe1c661885f"
      },
      "execution_count": 26,
      "outputs": [
        {
          "output_type": "stream",
          "name": "stdout",
          "text": [
            "<class 'pandas.core.frame.DataFrame'>\n",
            "RangeIndex: 891 entries, 0 to 890\n",
            "Data columns (total 5 columns):\n",
            " #   Column  Non-Null Count  Dtype  \n",
            "---  ------  --------------  -----  \n",
            " 0   Pclass  891 non-null    int64  \n",
            " 1   Sex     891 non-null    int64  \n",
            " 2   SibSp   891 non-null    int64  \n",
            " 3   Parch   891 non-null    int64  \n",
            " 4   Fare    891 non-null    float64\n",
            "dtypes: float64(1), int64(4)\n",
            "memory usage: 34.9 KB\n"
          ]
        }
      ]
    },
    {
      "cell_type": "code",
      "source": [
        "from sklearn import metrics\n",
        "from sklearn.model_selection import train_test_split\n",
        "X_train, X_test,y_train,y_test = train_test_split(updated_df,y,test_size=0.3)\n",
        "from sklearn.linear_model import LogisticRegression\n",
        "lr = LogisticRegression()\n",
        "lr.fit(X_train,y_train)\n",
        "pred = lr.predict(X_test)\n",
        "print(metrics.accuracy_score(pred,y_test))"
      ],
      "metadata": {
        "colab": {
          "base_uri": "https://localhost:8080/"
        },
        "id": "28UKVxqy9nfS",
        "outputId": "db2da925-bdc3-4f8f-cca5-b40c19752bc7"
      },
      "execution_count": 28,
      "outputs": [
        {
          "output_type": "stream",
          "name": "stdout",
          "text": [
            "0.8022388059701493\n"
          ]
        }
      ]
    },
    {
      "cell_type": "markdown",
      "source": [
        "![image.png](data:image/png;base64,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)"
      ],
      "metadata": {
        "id": "iPbGGpR29z6s"
      }
    },
    {
      "cell_type": "code",
      "source": [
        "updated_df = X.dropna(axis=0)"
      ],
      "metadata": {
        "id": "XOHeWc3r90Ow"
      },
      "execution_count": 31,
      "outputs": []
    },
    {
      "cell_type": "code",
      "source": [
        "updated_df.info()"
      ],
      "metadata": {
        "colab": {
          "base_uri": "https://localhost:8080/"
        },
        "id": "K4-YMjZu9_bi",
        "outputId": "848ce9ad-4251-4692-9453-751963e55d62"
      },
      "execution_count": 32,
      "outputs": [
        {
          "output_type": "stream",
          "name": "stdout",
          "text": [
            "<class 'pandas.core.frame.DataFrame'>\n",
            "Int64Index: 714 entries, 0 to 890\n",
            "Data columns (total 6 columns):\n",
            " #   Column  Non-Null Count  Dtype  \n",
            "---  ------  --------------  -----  \n",
            " 0   Pclass  714 non-null    int64  \n",
            " 1   Sex     714 non-null    int64  \n",
            " 2   Age     714 non-null    float64\n",
            " 3   SibSp   714 non-null    int64  \n",
            " 4   Parch   714 non-null    int64  \n",
            " 5   Fare    714 non-null    float64\n",
            "dtypes: float64(2), int64(4)\n",
            "memory usage: 39.0 KB\n"
          ]
        }
      ]
    },
    {
      "cell_type": "code",
      "source": [
        "X.dropna(axis=0).index"
      ],
      "metadata": {
        "colab": {
          "base_uri": "https://localhost:8080/"
        },
        "id": "83ZdlDoCAhhX",
        "outputId": "503ea4b6-7500-42fe-81d7-a83424088efc"
      },
      "execution_count": 46,
      "outputs": [
        {
          "output_type": "execute_result",
          "data": {
            "text/plain": [
              "Int64Index([  0,   1,   2,   3,   4,   6,   7,   8,   9,  10,\n",
              "            ...\n",
              "            880, 881, 882, 883, 884, 885, 886, 887, 889, 890],\n",
              "           dtype='int64', length=714)"
            ]
          },
          "metadata": {},
          "execution_count": 46
        }
      ]
    },
    {
      "cell_type": "code",
      "source": [
        "y1 = df[\"Survived\"][X.dropna(axis=0).index]"
      ],
      "metadata": {
        "id": "sC_IstYM-WGX"
      },
      "execution_count": 47,
      "outputs": []
    },
    {
      "cell_type": "code",
      "source": [
        "y1.shape"
      ],
      "metadata": {
        "colab": {
          "base_uri": "https://localhost:8080/"
        },
        "id": "77Phfl1SBPSZ",
        "outputId": "1609ceb9-6f4f-46c8-d4c8-30aed9794001"
      },
      "execution_count": 49,
      "outputs": [
        {
          "output_type": "execute_result",
          "data": {
            "text/plain": [
              "(714,)"
            ]
          },
          "metadata": {},
          "execution_count": 49
        }
      ]
    },
    {
      "cell_type": "code",
      "source": [
        "from sklearn import metrics\n",
        "from sklearn.model_selection import train_test_split\n",
        "X_train, X_test,y_train,y_test = train_test_split(updated_df,y1,test_size=0.3)\n",
        "from sklearn.linear_model import LogisticRegression\n",
        "lr = LogisticRegression()\n",
        "lr.fit(X_train,y_train)\n",
        "pred = lr.predict(X_test)\n",
        "print(metrics.accuracy_score(pred,y_test))"
      ],
      "metadata": {
        "colab": {
          "base_uri": "https://localhost:8080/"
        },
        "id": "DR2zrTds-F05",
        "outputId": "69cfc47b-62f7-4a55-d9c2-5b8a447cafc5"
      },
      "execution_count": 48,
      "outputs": [
        {
          "output_type": "stream",
          "name": "stdout",
          "text": [
            "0.7674418604651163\n"
          ]
        }
      ]
    },
    {
      "cell_type": "markdown",
      "source": [
        "![image.png](data:image/png;base64,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)"
      ],
      "metadata": {
        "id": "sRf5zBprBr6a"
      }
    },
    {
      "cell_type": "code",
      "source": [
        "updated_df = df\n",
        "updated_df['Age']=updated_df['Age'].fillna(updated_df['Age'].mean())\n",
        "updated_df.info()"
      ],
      "metadata": {
        "colab": {
          "base_uri": "https://localhost:8080/"
        },
        "id": "hbMBKfHB-JIe",
        "outputId": "a9a6235e-44f6-400e-85b0-9743fc4f0c53"
      },
      "execution_count": 50,
      "outputs": [
        {
          "output_type": "stream",
          "name": "stdout",
          "text": [
            "<class 'pandas.core.frame.DataFrame'>\n",
            "RangeIndex: 891 entries, 0 to 890\n",
            "Data columns (total 7 columns):\n",
            " #   Column    Non-Null Count  Dtype  \n",
            "---  ------    --------------  -----  \n",
            " 0   Survived  891 non-null    int64  \n",
            " 1   Pclass    891 non-null    int64  \n",
            " 2   Sex       891 non-null    int64  \n",
            " 3   Age       891 non-null    float64\n",
            " 4   SibSp     891 non-null    int64  \n",
            " 5   Parch     891 non-null    int64  \n",
            " 6   Fare      891 non-null    float64\n",
            "dtypes: float64(2), int64(5)\n",
            "memory usage: 48.9 KB\n"
          ]
        }
      ]
    },
    {
      "cell_type": "code",
      "source": [
        "y1 = updated_df['Survived']\n",
        "updated_df.drop(\"Survived\",axis=1,inplace=True)\n",
        "from sklearn import metrics\n",
        "from sklearn.model_selection import train_test_split\n",
        "X_train, X_test,y_train,y_test = train_test_split(updated_df,y1,test_size=0.3)\n",
        "from sklearn.linear_model import LogisticRegression\n",
        "lr = LogisticRegression()\n",
        "lr.fit(X_train,y_train)\n",
        "pred = lr.predict(X_test)\n",
        "print(metrics.accuracy_score(pred,y_test))"
      ],
      "metadata": {
        "colab": {
          "base_uri": "https://localhost:8080/"
        },
        "id": "KdjHxX0OCW_G",
        "outputId": "46fb4ca3-2bfd-4f5a-b003-ea4825b06990"
      },
      "execution_count": 51,
      "outputs": [
        {
          "output_type": "stream",
          "name": "stdout",
          "text": [
            "0.8395522388059702\n"
          ]
        }
      ]
    },
    {
      "cell_type": "markdown",
      "source": [
        ". Filling with a Regression Model\n",
        "In this case, the null values in one column are filled by fitting a regression model using other columns in the dataset.\n",
        "\n",
        "I.e. in this case the regression model will contain all the columns except Age in X and Age in Y.\n",
        "\n",
        "Then after filling the values in the Age column, then we will use logistic regression to calculate accuracy."
      ],
      "metadata": {
        "id": "gSgTmDJiCwxv"
      }
    },
    {
      "cell_type": "code",
      "source": [
        "df=pd.read_csv(\"https://raw.githubusercontent.com/datasciencedojo/datasets/master/titanic.csv\")\n",
        "df.drop(\"Name\",axis=1,inplace=True)\n",
        "df.drop(\"Ticket\",axis=1,inplace=True)\n",
        "df.drop(\"PassengerId\",axis=1,inplace=True)\n",
        "df.drop(\"Cabin\",axis=1,inplace=True)\n",
        "df.drop(\"Embarked\",axis=1,inplace=True)"
      ],
      "metadata": {
        "id": "bfQR59hVDnfu"
      },
      "execution_count": 58,
      "outputs": []
    },
    {
      "cell_type": "code",
      "source": [
        "from sklearn.preprocessing import LabelEncoder\n",
        "le = LabelEncoder()\n",
        "df['Sex'] = le.fit_transform(df['Sex'])"
      ],
      "metadata": {
        "id": "Cto376_8D_Ff"
      },
      "execution_count": 64,
      "outputs": []
    },
    {
      "cell_type": "code",
      "source": [
        "df['Age'].isnull().sum()"
      ],
      "metadata": {
        "colab": {
          "base_uri": "https://localhost:8080/"
        },
        "id": "intwiue-D3wh",
        "outputId": "cce6b0f7-71e6-47bc-bd71-9afc7325e771"
      },
      "execution_count": 65,
      "outputs": [
        {
          "output_type": "execute_result",
          "data": {
            "text/plain": [
              "177"
            ]
          },
          "metadata": {},
          "execution_count": 65
        }
      ]
    },
    {
      "cell_type": "code",
      "source": [
        "df[df['Age'].isnull()==True]"
      ],
      "metadata": {
        "colab": {
          "base_uri": "https://localhost:8080/",
          "height": 424
        },
        "id": "JRoxXrQfDgae",
        "outputId": "189e4009-90b5-45ab-bd6e-bac9f47f85c9"
      },
      "execution_count": 66,
      "outputs": [
        {
          "output_type": "execute_result",
          "data": {
            "text/plain": [
              "     Survived  Pclass  Sex  Age  SibSp  Parch     Fare\n",
              "5           0       3    1  NaN      0      0   8.4583\n",
              "17          1       2    1  NaN      0      0  13.0000\n",
              "19          1       3    0  NaN      0      0   7.2250\n",
              "26          0       3    1  NaN      0      0   7.2250\n",
              "28          1       3    0  NaN      0      0   7.8792\n",
              "..        ...     ...  ...  ...    ...    ...      ...\n",
              "859         0       3    1  NaN      0      0   7.2292\n",
              "863         0       3    0  NaN      8      2  69.5500\n",
              "868         0       3    1  NaN      0      0   9.5000\n",
              "878         0       3    1  NaN      0      0   7.8958\n",
              "888         0       3    0  NaN      1      2  23.4500\n",
              "\n",
              "[177 rows x 7 columns]"
            ],
            "text/html": [
              "\n",
              "  <div id=\"df-15361fd6-efd3-463c-a677-df5649b3ac8c\">\n",
              "    <div class=\"colab-df-container\">\n",
              "      <div>\n",
              "<style scoped>\n",
              "    .dataframe tbody tr th:only-of-type {\n",
              "        vertical-align: middle;\n",
              "    }\n",
              "\n",
              "    .dataframe tbody tr th {\n",
              "        vertical-align: top;\n",
              "    }\n",
              "\n",
              "    .dataframe thead th {\n",
              "        text-align: right;\n",
              "    }\n",
              "</style>\n",
              "<table border=\"1\" class=\"dataframe\">\n",
              "  <thead>\n",
              "    <tr style=\"text-align: right;\">\n",
              "      <th></th>\n",
              "      <th>Survived</th>\n",
              "      <th>Pclass</th>\n",
              "      <th>Sex</th>\n",
              "      <th>Age</th>\n",
              "      <th>SibSp</th>\n",
              "      <th>Parch</th>\n",
              "      <th>Fare</th>\n",
              "    </tr>\n",
              "  </thead>\n",
              "  <tbody>\n",
              "    <tr>\n",
              "      <th>5</th>\n",
              "      <td>0</td>\n",
              "      <td>3</td>\n",
              "      <td>1</td>\n",
              "      <td>NaN</td>\n",
              "      <td>0</td>\n",
              "      <td>0</td>\n",
              "      <td>8.4583</td>\n",
              "    </tr>\n",
              "    <tr>\n",
              "      <th>17</th>\n",
              "      <td>1</td>\n",
              "      <td>2</td>\n",
              "      <td>1</td>\n",
              "      <td>NaN</td>\n",
              "      <td>0</td>\n",
              "      <td>0</td>\n",
              "      <td>13.0000</td>\n",
              "    </tr>\n",
              "    <tr>\n",
              "      <th>19</th>\n",
              "      <td>1</td>\n",
              "      <td>3</td>\n",
              "      <td>0</td>\n",
              "      <td>NaN</td>\n",
              "      <td>0</td>\n",
              "      <td>0</td>\n",
              "      <td>7.2250</td>\n",
              "    </tr>\n",
              "    <tr>\n",
              "      <th>26</th>\n",
              "      <td>0</td>\n",
              "      <td>3</td>\n",
              "      <td>1</td>\n",
              "      <td>NaN</td>\n",
              "      <td>0</td>\n",
              "      <td>0</td>\n",
              "      <td>7.2250</td>\n",
              "    </tr>\n",
              "    <tr>\n",
              "      <th>28</th>\n",
              "      <td>1</td>\n",
              "      <td>3</td>\n",
              "      <td>0</td>\n",
              "      <td>NaN</td>\n",
              "      <td>0</td>\n",
              "      <td>0</td>\n",
              "      <td>7.8792</td>\n",
              "    </tr>\n",
              "    <tr>\n",
              "      <th>...</th>\n",
              "      <td>...</td>\n",
              "      <td>...</td>\n",
              "      <td>...</td>\n",
              "      <td>...</td>\n",
              "      <td>...</td>\n",
              "      <td>...</td>\n",
              "      <td>...</td>\n",
              "    </tr>\n",
              "    <tr>\n",
              "      <th>859</th>\n",
              "      <td>0</td>\n",
              "      <td>3</td>\n",
              "      <td>1</td>\n",
              "      <td>NaN</td>\n",
              "      <td>0</td>\n",
              "      <td>0</td>\n",
              "      <td>7.2292</td>\n",
              "    </tr>\n",
              "    <tr>\n",
              "      <th>863</th>\n",
              "      <td>0</td>\n",
              "      <td>3</td>\n",
              "      <td>0</td>\n",
              "      <td>NaN</td>\n",
              "      <td>8</td>\n",
              "      <td>2</td>\n",
              "      <td>69.5500</td>\n",
              "    </tr>\n",
              "    <tr>\n",
              "      <th>868</th>\n",
              "      <td>0</td>\n",
              "      <td>3</td>\n",
              "      <td>1</td>\n",
              "      <td>NaN</td>\n",
              "      <td>0</td>\n",
              "      <td>0</td>\n",
              "      <td>9.5000</td>\n",
              "    </tr>\n",
              "    <tr>\n",
              "      <th>878</th>\n",
              "      <td>0</td>\n",
              "      <td>3</td>\n",
              "      <td>1</td>\n",
              "      <td>NaN</td>\n",
              "      <td>0</td>\n",
              "      <td>0</td>\n",
              "      <td>7.8958</td>\n",
              "    </tr>\n",
              "    <tr>\n",
              "      <th>888</th>\n",
              "      <td>0</td>\n",
              "      <td>3</td>\n",
              "      <td>0</td>\n",
              "      <td>NaN</td>\n",
              "      <td>1</td>\n",
              "      <td>2</td>\n",
              "      <td>23.4500</td>\n",
              "    </tr>\n",
              "  </tbody>\n",
              "</table>\n",
              "<p>177 rows × 7 columns</p>\n",
              "</div>\n",
              "      <button class=\"colab-df-convert\" onclick=\"convertToInteractive('df-15361fd6-efd3-463c-a677-df5649b3ac8c')\"\n",
              "              title=\"Convert this dataframe to an interactive table.\"\n",
              "              style=\"display:none;\">\n",
              "        \n",
              "  <svg xmlns=\"http://www.w3.org/2000/svg\" height=\"24px\"viewBox=\"0 0 24 24\"\n",
              "       width=\"24px\">\n",
              "    <path d=\"M0 0h24v24H0V0z\" fill=\"none\"/>\n",
              "    <path d=\"M18.56 5.44l.94 2.06.94-2.06 2.06-.94-2.06-.94-.94-2.06-.94 2.06-2.06.94zm-11 1L8.5 8.5l.94-2.06 2.06-.94-2.06-.94L8.5 2.5l-.94 2.06-2.06.94zm10 10l.94 2.06.94-2.06 2.06-.94-2.06-.94-.94-2.06-.94 2.06-2.06.94z\"/><path d=\"M17.41 7.96l-1.37-1.37c-.4-.4-.92-.59-1.43-.59-.52 0-1.04.2-1.43.59L10.3 9.45l-7.72 7.72c-.78.78-.78 2.05 0 2.83L4 21.41c.39.39.9.59 1.41.59.51 0 1.02-.2 1.41-.59l7.78-7.78 2.81-2.81c.8-.78.8-2.07 0-2.86zM5.41 20L4 18.59l7.72-7.72 1.47 1.35L5.41 20z\"/>\n",
              "  </svg>\n",
              "      </button>\n",
              "      \n",
              "  <style>\n",
              "    .colab-df-container {\n",
              "      display:flex;\n",
              "      flex-wrap:wrap;\n",
              "      gap: 12px;\n",
              "    }\n",
              "\n",
              "    .colab-df-convert {\n",
              "      background-color: #E8F0FE;\n",
              "      border: none;\n",
              "      border-radius: 50%;\n",
              "      cursor: pointer;\n",
              "      display: none;\n",
              "      fill: #1967D2;\n",
              "      height: 32px;\n",
              "      padding: 0 0 0 0;\n",
              "      width: 32px;\n",
              "    }\n",
              "\n",
              "    .colab-df-convert:hover {\n",
              "      background-color: #E2EBFA;\n",
              "      box-shadow: 0px 1px 2px rgba(60, 64, 67, 0.3), 0px 1px 3px 1px rgba(60, 64, 67, 0.15);\n",
              "      fill: #174EA6;\n",
              "    }\n",
              "\n",
              "    [theme=dark] .colab-df-convert {\n",
              "      background-color: #3B4455;\n",
              "      fill: #D2E3FC;\n",
              "    }\n",
              "\n",
              "    [theme=dark] .colab-df-convert:hover {\n",
              "      background-color: #434B5C;\n",
              "      box-shadow: 0px 1px 3px 1px rgba(0, 0, 0, 0.15);\n",
              "      filter: drop-shadow(0px 1px 2px rgba(0, 0, 0, 0.3));\n",
              "      fill: #FFFFFF;\n",
              "    }\n",
              "  </style>\n",
              "\n",
              "      <script>\n",
              "        const buttonEl =\n",
              "          document.querySelector('#df-15361fd6-efd3-463c-a677-df5649b3ac8c button.colab-df-convert');\n",
              "        buttonEl.style.display =\n",
              "          google.colab.kernel.accessAllowed ? 'block' : 'none';\n",
              "\n",
              "        async function convertToInteractive(key) {\n",
              "          const element = document.querySelector('#df-15361fd6-efd3-463c-a677-df5649b3ac8c');\n",
              "          const dataTable =\n",
              "            await google.colab.kernel.invokeFunction('convertToInteractive',\n",
              "                                                     [key], {});\n",
              "          if (!dataTable) return;\n",
              "\n",
              "          const docLinkHtml = 'Like what you see? Visit the ' +\n",
              "            '<a target=\"_blank\" href=https://colab.research.google.com/notebooks/data_table.ipynb>data table notebook</a>'\n",
              "            + ' to learn more about interactive tables.';\n",
              "          element.innerHTML = '';\n",
              "          dataTable['output_type'] = 'display_data';\n",
              "          await google.colab.output.renderOutput(dataTable, element);\n",
              "          const docLink = document.createElement('div');\n",
              "          docLink.innerHTML = docLinkHtml;\n",
              "          element.appendChild(docLink);\n",
              "        }\n",
              "      </script>\n",
              "    </div>\n",
              "  </div>\n",
              "  "
            ]
          },
          "metadata": {},
          "execution_count": 66
        }
      ]
    },
    {
      "cell_type": "code",
      "source": [
        "from sklearn.linear_model import LinearRegression\n",
        "lr = LinearRegression()\n",
        "df.head()\n",
        "testdf = df[df['Age'].isnull()==True]\n",
        "traindf = df[df['Age'].isnull()==False]\n",
        "y = traindf['Age']\n",
        "traindf.drop(\"Age\",axis=1,inplace=True)\n",
        "lr.fit(traindf,y)\n",
        "testdf.drop(\"Age\",axis=1,inplace=True)\n",
        "pred = lr.predict(testdf)\n",
        "testdf['Age']= pred"
      ],
      "metadata": {
        "colab": {
          "base_uri": "https://localhost:8080/"
        },
        "id": "-A_VLzLhC0fr",
        "outputId": "6fe139ce-bc83-4b72-d427-78811bc882ec"
      },
      "execution_count": 67,
      "outputs": [
        {
          "output_type": "stream",
          "name": "stderr",
          "text": [
            "<ipython-input-67-09ec5a198886>:7: SettingWithCopyWarning: \n",
            "A value is trying to be set on a copy of a slice from a DataFrame\n",
            "\n",
            "See the caveats in the documentation: https://pandas.pydata.org/pandas-docs/stable/user_guide/indexing.html#returning-a-view-versus-a-copy\n",
            "  traindf.drop(\"Age\",axis=1,inplace=True)\n",
            "<ipython-input-67-09ec5a198886>:9: SettingWithCopyWarning: \n",
            "A value is trying to be set on a copy of a slice from a DataFrame\n",
            "\n",
            "See the caveats in the documentation: https://pandas.pydata.org/pandas-docs/stable/user_guide/indexing.html#returning-a-view-versus-a-copy\n",
            "  testdf.drop(\"Age\",axis=1,inplace=True)\n",
            "<ipython-input-67-09ec5a198886>:11: SettingWithCopyWarning: \n",
            "A value is trying to be set on a copy of a slice from a DataFrame.\n",
            "Try using .loc[row_indexer,col_indexer] = value instead\n",
            "\n",
            "See the caveats in the documentation: https://pandas.pydata.org/pandas-docs/stable/user_guide/indexing.html#returning-a-view-versus-a-copy\n",
            "  testdf['Age']= pred\n"
          ]
        }
      ]
    },
    {
      "cell_type": "code",
      "source": [
        "traindf['Age']=y"
      ],
      "metadata": {
        "colab": {
          "base_uri": "https://localhost:8080/"
        },
        "id": "E93ko0FXEL-J",
        "outputId": "d9f654b0-4317-4dca-b604-73baa5adc358"
      },
      "execution_count": 68,
      "outputs": [
        {
          "output_type": "stream",
          "name": "stderr",
          "text": [
            "<ipython-input-68-09294d128ead>:1: SettingWithCopyWarning: \n",
            "A value is trying to be set on a copy of a slice from a DataFrame.\n",
            "Try using .loc[row_indexer,col_indexer] = value instead\n",
            "\n",
            "See the caveats in the documentation: https://pandas.pydata.org/pandas-docs/stable/user_guide/indexing.html#returning-a-view-versus-a-copy\n",
            "  traindf['Age']=y\n"
          ]
        }
      ]
    },
    {
      "cell_type": "code",
      "source": [
        "y = traindf['Survived']\n",
        "traindf.drop(\"Survived\",axis=1,inplace=True)\n",
        "from sklearn.linear_model import LogisticRegression\n",
        "lr = LogisticRegression()\n",
        "lr.fit(traindf,y)"
      ],
      "metadata": {
        "colab": {
          "base_uri": "https://localhost:8080/",
          "height": 161
        },
        "id": "IRedjMYCEPQD",
        "outputId": "03edc594-1b1e-44cc-bd8a-06cb7f006846"
      },
      "execution_count": 69,
      "outputs": [
        {
          "output_type": "stream",
          "name": "stderr",
          "text": [
            "<ipython-input-69-6639128dc763>:2: SettingWithCopyWarning: \n",
            "A value is trying to be set on a copy of a slice from a DataFrame\n",
            "\n",
            "See the caveats in the documentation: https://pandas.pydata.org/pandas-docs/stable/user_guide/indexing.html#returning-a-view-versus-a-copy\n",
            "  traindf.drop(\"Survived\",axis=1,inplace=True)\n"
          ]
        },
        {
          "output_type": "execute_result",
          "data": {
            "text/plain": [
              "LogisticRegression()"
            ],
            "text/html": [
              "<style>#sk-container-id-1 {color: black;background-color: white;}#sk-container-id-1 pre{padding: 0;}#sk-container-id-1 div.sk-toggleable {background-color: white;}#sk-container-id-1 label.sk-toggleable__label {cursor: pointer;display: block;width: 100%;margin-bottom: 0;padding: 0.3em;box-sizing: border-box;text-align: center;}#sk-container-id-1 label.sk-toggleable__label-arrow:before {content: \"▸\";float: left;margin-right: 0.25em;color: #696969;}#sk-container-id-1 label.sk-toggleable__label-arrow:hover:before {color: black;}#sk-container-id-1 div.sk-estimator:hover label.sk-toggleable__label-arrow:before {color: black;}#sk-container-id-1 div.sk-toggleable__content {max-height: 0;max-width: 0;overflow: hidden;text-align: left;background-color: #f0f8ff;}#sk-container-id-1 div.sk-toggleable__content pre {margin: 0.2em;color: black;border-radius: 0.25em;background-color: #f0f8ff;}#sk-container-id-1 input.sk-toggleable__control:checked~div.sk-toggleable__content {max-height: 200px;max-width: 100%;overflow: auto;}#sk-container-id-1 input.sk-toggleable__control:checked~label.sk-toggleable__label-arrow:before {content: \"▾\";}#sk-container-id-1 div.sk-estimator input.sk-toggleable__control:checked~label.sk-toggleable__label {background-color: #d4ebff;}#sk-container-id-1 div.sk-label input.sk-toggleable__control:checked~label.sk-toggleable__label {background-color: #d4ebff;}#sk-container-id-1 input.sk-hidden--visually {border: 0;clip: rect(1px 1px 1px 1px);clip: rect(1px, 1px, 1px, 1px);height: 1px;margin: -1px;overflow: hidden;padding: 0;position: absolute;width: 1px;}#sk-container-id-1 div.sk-estimator {font-family: monospace;background-color: #f0f8ff;border: 1px dotted black;border-radius: 0.25em;box-sizing: border-box;margin-bottom: 0.5em;}#sk-container-id-1 div.sk-estimator:hover {background-color: #d4ebff;}#sk-container-id-1 div.sk-parallel-item::after {content: \"\";width: 100%;border-bottom: 1px solid gray;flex-grow: 1;}#sk-container-id-1 div.sk-label:hover label.sk-toggleable__label {background-color: #d4ebff;}#sk-container-id-1 div.sk-serial::before {content: \"\";position: absolute;border-left: 1px solid gray;box-sizing: border-box;top: 0;bottom: 0;left: 50%;z-index: 0;}#sk-container-id-1 div.sk-serial {display: flex;flex-direction: column;align-items: center;background-color: white;padding-right: 0.2em;padding-left: 0.2em;position: relative;}#sk-container-id-1 div.sk-item {position: relative;z-index: 1;}#sk-container-id-1 div.sk-parallel {display: flex;align-items: stretch;justify-content: center;background-color: white;position: relative;}#sk-container-id-1 div.sk-item::before, #sk-container-id-1 div.sk-parallel-item::before {content: \"\";position: absolute;border-left: 1px solid gray;box-sizing: border-box;top: 0;bottom: 0;left: 50%;z-index: -1;}#sk-container-id-1 div.sk-parallel-item {display: flex;flex-direction: column;z-index: 1;position: relative;background-color: white;}#sk-container-id-1 div.sk-parallel-item:first-child::after {align-self: flex-end;width: 50%;}#sk-container-id-1 div.sk-parallel-item:last-child::after {align-self: flex-start;width: 50%;}#sk-container-id-1 div.sk-parallel-item:only-child::after {width: 0;}#sk-container-id-1 div.sk-dashed-wrapped {border: 1px dashed gray;margin: 0 0.4em 0.5em 0.4em;box-sizing: border-box;padding-bottom: 0.4em;background-color: white;}#sk-container-id-1 div.sk-label label {font-family: monospace;font-weight: bold;display: inline-block;line-height: 1.2em;}#sk-container-id-1 div.sk-label-container {text-align: center;}#sk-container-id-1 div.sk-container {/* jupyter's `normalize.less` sets `[hidden] { display: none; }` but bootstrap.min.css set `[hidden] { display: none !important; }` so we also need the `!important` here to be able to override the default hidden behavior on the sphinx rendered scikit-learn.org. See: https://github.com/scikit-learn/scikit-learn/issues/21755 */display: inline-block !important;position: relative;}#sk-container-id-1 div.sk-text-repr-fallback {display: none;}</style><div id=\"sk-container-id-1\" class=\"sk-top-container\"><div class=\"sk-text-repr-fallback\"><pre>LogisticRegression()</pre><b>In a Jupyter environment, please rerun this cell to show the HTML representation or trust the notebook. <br />On GitHub, the HTML representation is unable to render, please try loading this page with nbviewer.org.</b></div><div class=\"sk-container\" hidden><div class=\"sk-item\"><div class=\"sk-estimator sk-toggleable\"><input class=\"sk-toggleable__control sk-hidden--visually\" id=\"sk-estimator-id-1\" type=\"checkbox\" checked><label for=\"sk-estimator-id-1\" class=\"sk-toggleable__label sk-toggleable__label-arrow\">LogisticRegression</label><div class=\"sk-toggleable__content\"><pre>LogisticRegression()</pre></div></div></div></div></div>"
            ]
          },
          "metadata": {},
          "execution_count": 69
        }
      ]
    },
    {
      "cell_type": "code",
      "source": [
        "LogisticRegression(C=1.0, class_weight=None, dual=False, fit_intercept=True,\n",
        "                   intercept_scaling=1, l1_ratio=None, max_iter=100,\n",
        "                   multi_class='auto', n_jobs=None, penalty='l2',\n",
        "                   random_state=None, solver='lbfgs', tol=0.0001, verbose=0,\n",
        "                   warm_start=False)"
      ],
      "metadata": {
        "colab": {
          "base_uri": "https://localhost:8080/",
          "height": 75
        },
        "id": "dNYLiRtYETTo",
        "outputId": "a8685ea4-daef-4ea4-f87f-2ffedf6b4eee"
      },
      "execution_count": 70,
      "outputs": [
        {
          "output_type": "execute_result",
          "data": {
            "text/plain": [
              "LogisticRegression()"
            ],
            "text/html": [
              "<style>#sk-container-id-2 {color: black;background-color: white;}#sk-container-id-2 pre{padding: 0;}#sk-container-id-2 div.sk-toggleable {background-color: white;}#sk-container-id-2 label.sk-toggleable__label {cursor: pointer;display: block;width: 100%;margin-bottom: 0;padding: 0.3em;box-sizing: border-box;text-align: center;}#sk-container-id-2 label.sk-toggleable__label-arrow:before {content: \"▸\";float: left;margin-right: 0.25em;color: #696969;}#sk-container-id-2 label.sk-toggleable__label-arrow:hover:before {color: black;}#sk-container-id-2 div.sk-estimator:hover label.sk-toggleable__label-arrow:before {color: black;}#sk-container-id-2 div.sk-toggleable__content {max-height: 0;max-width: 0;overflow: hidden;text-align: left;background-color: #f0f8ff;}#sk-container-id-2 div.sk-toggleable__content pre {margin: 0.2em;color: black;border-radius: 0.25em;background-color: #f0f8ff;}#sk-container-id-2 input.sk-toggleable__control:checked~div.sk-toggleable__content {max-height: 200px;max-width: 100%;overflow: auto;}#sk-container-id-2 input.sk-toggleable__control:checked~label.sk-toggleable__label-arrow:before {content: \"▾\";}#sk-container-id-2 div.sk-estimator input.sk-toggleable__control:checked~label.sk-toggleable__label {background-color: #d4ebff;}#sk-container-id-2 div.sk-label input.sk-toggleable__control:checked~label.sk-toggleable__label {background-color: #d4ebff;}#sk-container-id-2 input.sk-hidden--visually {border: 0;clip: rect(1px 1px 1px 1px);clip: rect(1px, 1px, 1px, 1px);height: 1px;margin: -1px;overflow: hidden;padding: 0;position: absolute;width: 1px;}#sk-container-id-2 div.sk-estimator {font-family: monospace;background-color: #f0f8ff;border: 1px dotted black;border-radius: 0.25em;box-sizing: border-box;margin-bottom: 0.5em;}#sk-container-id-2 div.sk-estimator:hover {background-color: #d4ebff;}#sk-container-id-2 div.sk-parallel-item::after {content: \"\";width: 100%;border-bottom: 1px solid gray;flex-grow: 1;}#sk-container-id-2 div.sk-label:hover label.sk-toggleable__label {background-color: #d4ebff;}#sk-container-id-2 div.sk-serial::before {content: \"\";position: absolute;border-left: 1px solid gray;box-sizing: border-box;top: 0;bottom: 0;left: 50%;z-index: 0;}#sk-container-id-2 div.sk-serial {display: flex;flex-direction: column;align-items: center;background-color: white;padding-right: 0.2em;padding-left: 0.2em;position: relative;}#sk-container-id-2 div.sk-item {position: relative;z-index: 1;}#sk-container-id-2 div.sk-parallel {display: flex;align-items: stretch;justify-content: center;background-color: white;position: relative;}#sk-container-id-2 div.sk-item::before, #sk-container-id-2 div.sk-parallel-item::before {content: \"\";position: absolute;border-left: 1px solid gray;box-sizing: border-box;top: 0;bottom: 0;left: 50%;z-index: -1;}#sk-container-id-2 div.sk-parallel-item {display: flex;flex-direction: column;z-index: 1;position: relative;background-color: white;}#sk-container-id-2 div.sk-parallel-item:first-child::after {align-self: flex-end;width: 50%;}#sk-container-id-2 div.sk-parallel-item:last-child::after {align-self: flex-start;width: 50%;}#sk-container-id-2 div.sk-parallel-item:only-child::after {width: 0;}#sk-container-id-2 div.sk-dashed-wrapped {border: 1px dashed gray;margin: 0 0.4em 0.5em 0.4em;box-sizing: border-box;padding-bottom: 0.4em;background-color: white;}#sk-container-id-2 div.sk-label label {font-family: monospace;font-weight: bold;display: inline-block;line-height: 1.2em;}#sk-container-id-2 div.sk-label-container {text-align: center;}#sk-container-id-2 div.sk-container {/* jupyter's `normalize.less` sets `[hidden] { display: none; }` but bootstrap.min.css set `[hidden] { display: none !important; }` so we also need the `!important` here to be able to override the default hidden behavior on the sphinx rendered scikit-learn.org. See: https://github.com/scikit-learn/scikit-learn/issues/21755 */display: inline-block !important;position: relative;}#sk-container-id-2 div.sk-text-repr-fallback {display: none;}</style><div id=\"sk-container-id-2\" class=\"sk-top-container\"><div class=\"sk-text-repr-fallback\"><pre>LogisticRegression()</pre><b>In a Jupyter environment, please rerun this cell to show the HTML representation or trust the notebook. <br />On GitHub, the HTML representation is unable to render, please try loading this page with nbviewer.org.</b></div><div class=\"sk-container\" hidden><div class=\"sk-item\"><div class=\"sk-estimator sk-toggleable\"><input class=\"sk-toggleable__control sk-hidden--visually\" id=\"sk-estimator-id-2\" type=\"checkbox\" checked><label for=\"sk-estimator-id-2\" class=\"sk-toggleable__label sk-toggleable__label-arrow\">LogisticRegression</label><div class=\"sk-toggleable__content\"><pre>LogisticRegression()</pre></div></div></div></div></div>"
            ]
          },
          "metadata": {},
          "execution_count": 70
        }
      ]
    },
    {
      "cell_type": "code",
      "source": [
        "y_test = testdf['Survived']\n",
        "testdf.drop(\"Survived\",axis=1,inplace=True)\n",
        "pred = lr.predict(testdf)"
      ],
      "metadata": {
        "colab": {
          "base_uri": "https://localhost:8080/"
        },
        "id": "XK4Ysz6PEXrk",
        "outputId": "b9d87903-fa1d-4c5f-8113-247ec09b89f6"
      },
      "execution_count": 71,
      "outputs": [
        {
          "output_type": "stream",
          "name": "stderr",
          "text": [
            "<ipython-input-71-9b92d9609b12>:2: SettingWithCopyWarning: \n",
            "A value is trying to be set on a copy of a slice from a DataFrame\n",
            "\n",
            "See the caveats in the documentation: https://pandas.pydata.org/pandas-docs/stable/user_guide/indexing.html#returning-a-view-versus-a-copy\n",
            "  testdf.drop(\"Survived\",axis=1,inplace=True)\n"
          ]
        }
      ]
    },
    {
      "cell_type": "code",
      "source": [
        "print(metrics.accuracy_score(pred,y_test))\n"
      ],
      "metadata": {
        "colab": {
          "base_uri": "https://localhost:8080/"
        },
        "id": "HPfOWfEsEeFK",
        "outputId": "eb425652-633a-45ed-83f7-8c48bbcd0851"
      },
      "execution_count": 72,
      "outputs": [
        {
          "output_type": "stream",
          "name": "stdout",
          "text": [
            "0.8361581920903954\n"
          ]
        }
      ]
    }
  ]
}