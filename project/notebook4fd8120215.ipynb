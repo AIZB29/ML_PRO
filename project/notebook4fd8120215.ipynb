{
 "cells": [
  {
   "cell_type": "markdown",
   "id": "2f5c54a7",
   "metadata": {
    "id": "dDHR9xI8erYH",
    "papermill": {
     "duration": 0.01027,
     "end_time": "2023-06-21T08:06:45.482525",
     "exception": false,
     "start_time": "2023-06-21T08:06:45.472255",
     "status": "completed"
    },
    "tags": []
   },
   "source": [
    "# **1 Preliminary Steps**"
   ]
  },
  {
   "cell_type": "markdown",
   "id": "302436fd",
   "metadata": {
    "id": "22wDRIbbbTbd",
    "papermill": {
     "duration": 0.007293,
     "end_time": "2023-06-21T08:06:45.497578",
     "exception": false,
     "start_time": "2023-06-21T08:06:45.490285",
     "status": "completed"
    },
    "tags": []
   },
   "source": [
    "## **1.1  Goals**"
   ]
  },
  {
   "cell_type": "markdown",
   "id": "403d5a8d",
   "metadata": {
    "id": "TihuFU2wbYbw",
    "papermill": {
     "duration": 0.007437,
     "end_time": "2023-06-21T08:06:45.513683",
     "exception": false,
     "start_time": "2023-06-21T08:06:45.506246",
     "status": "completed"
    },
    "tags": []
   },
   "source": [
    "Исследование возможности использования нейросетевых методов без  механизма обратного распространения ошибки на примере классификации изображений предметов одежды из набора данных  Fashion MNIST"
   ]
  },
  {
   "cell_type": "markdown",
   "id": "82afb740",
   "metadata": {
    "id": "sLRVsOHdbhOk",
    "papermill": {
     "duration": 0.007328,
     "end_time": "2023-06-21T08:06:45.528664",
     "exception": false,
     "start_time": "2023-06-21T08:06:45.521336",
     "status": "completed"
    },
    "tags": []
   },
   "source": [
    "## **1.2 Approaches**"
   ]
  },
  {
   "cell_type": "markdown",
   "id": "5311ab05",
   "metadata": {
    "id": "YkzrMqrdbrU4",
    "papermill": {
     "duration": 0.007381,
     "end_time": "2023-06-21T08:06:45.543934",
     "exception": false,
     "start_time": "2023-06-21T08:06:45.536553",
     "status": "completed"
    },
    "tags": []
   },
   "source": [
    "Альтернативами обратному распространению ошибки выбраны:\n",
    "\n",
    "1.  Обобщение метода наименьших квадратов для нейронных сетей  Extreme Learning\n",
    "2.  Использование метрического метода k-NN для признаков из скрытого слоя нейросети"
   ]
  },
  {
   "cell_type": "markdown",
   "id": "0f3a0eb6",
   "metadata": {
    "id": "U2zP9bzEIOoP",
    "papermill": {
     "duration": 0.007259,
     "end_time": "2023-06-21T08:06:45.559024",
     "exception": false,
     "start_time": "2023-06-21T08:06:45.551765",
     "status": "completed"
    },
    "tags": []
   },
   "source": [
    "## **1.4 Installing the Required Modules**"
   ]
  },
  {
   "cell_type": "code",
   "execution_count": 1,
   "id": "e1b817af",
   "metadata": {
    "execution": {
     "iopub.execute_input": "2023-06-21T08:06:45.577262Z",
     "iopub.status.busy": "2023-06-21T08:06:45.575828Z",
     "iopub.status.idle": "2023-06-21T08:07:35.891293Z",
     "shell.execute_reply": "2023-06-21T08:07:35.890172Z"
    },
    "id": "DhL1D2rSI2by",
    "outputId": "99429a9a-3d38-4149-e427-61088079bdeb",
    "papermill": {
     "duration": 50.327255,
     "end_time": "2023-06-21T08:07:35.893964",
     "exception": false,
     "start_time": "2023-06-21T08:06:45.566709",
     "status": "completed"
    },
    "tags": []
   },
   "outputs": [
    {
     "name": "stdout",
     "output_type": "stream",
     "text": [
      "Collecting faiss-cpu\r\n",
      "  Downloading faiss_cpu-1.7.4-cp310-cp310-manylinux_2_17_x86_64.manylinux2014_x86_64.whl (17.6 MB)\r\n",
      "\u001b[2K     \u001b[90m━━━━━━━━━━━━━━━━━━━━━━━━━━━━━━━━━━━━━━━━\u001b[0m \u001b[32m17.6/17.6 MB\u001b[0m \u001b[31m57.3 MB/s\u001b[0m eta \u001b[36m0:00:00\u001b[0m\r\n",
      "\u001b[?25hInstalling collected packages: faiss-cpu\r\n",
      "Successfully installed faiss-cpu-1.7.4\r\n",
      "\u001b[33mWARNING: Running pip as the 'root' user can result in broken permissions and conflicting behaviour with the system package manager. It is recommended to use a virtual environment instead: https://pip.pypa.io/warnings/venv\u001b[0m\u001b[33m\r\n",
      "\u001b[0mRequirement already satisfied: timm in /opt/conda/lib/python3.10/site-packages (0.9.2)\r\n",
      "Requirement already satisfied: torch>=1.7 in /opt/conda/lib/python3.10/site-packages (from timm) (2.0.0+cpu)\r\n",
      "Requirement already satisfied: torchvision in /opt/conda/lib/python3.10/site-packages (from timm) (0.15.1+cpu)\r\n",
      "Requirement already satisfied: pyyaml in /opt/conda/lib/python3.10/site-packages (from timm) (5.4.1)\r\n",
      "Requirement already satisfied: huggingface-hub in /opt/conda/lib/python3.10/site-packages (from timm) (0.15.1)\r\n",
      "Requirement already satisfied: safetensors in /opt/conda/lib/python3.10/site-packages (from timm) (0.3.1)\r\n",
      "Requirement already satisfied: filelock in /opt/conda/lib/python3.10/site-packages (from torch>=1.7->timm) (3.12.0)\r\n",
      "Requirement already satisfied: typing-extensions in /opt/conda/lib/python3.10/site-packages (from torch>=1.7->timm) (4.5.0)\r\n",
      "Requirement already satisfied: sympy in /opt/conda/lib/python3.10/site-packages (from torch>=1.7->timm) (1.12)\r\n",
      "Requirement already satisfied: networkx in /opt/conda/lib/python3.10/site-packages (from torch>=1.7->timm) (3.1)\r\n",
      "Requirement already satisfied: jinja2 in /opt/conda/lib/python3.10/site-packages (from torch>=1.7->timm) (3.1.2)\r\n",
      "Requirement already satisfied: fsspec in /opt/conda/lib/python3.10/site-packages (from huggingface-hub->timm) (2023.6.0)\r\n",
      "Requirement already satisfied: requests in /opt/conda/lib/python3.10/site-packages (from huggingface-hub->timm) (2.28.2)\r\n",
      "Requirement already satisfied: tqdm>=4.42.1 in /opt/conda/lib/python3.10/site-packages (from huggingface-hub->timm) (4.64.1)\r\n",
      "Requirement already satisfied: packaging>=20.9 in /opt/conda/lib/python3.10/site-packages (from huggingface-hub->timm) (21.3)\r\n",
      "Requirement already satisfied: numpy in /opt/conda/lib/python3.10/site-packages (from torchvision->timm) (1.23.5)\r\n",
      "Requirement already satisfied: pillow!=8.3.*,>=5.3.0 in /opt/conda/lib/python3.10/site-packages (from torchvision->timm) (9.5.0)\r\n",
      "Requirement already satisfied: pyparsing!=3.0.5,>=2.0.2 in /opt/conda/lib/python3.10/site-packages (from packaging>=20.9->huggingface-hub->timm) (3.0.9)\r\n",
      "Requirement already satisfied: MarkupSafe>=2.0 in /opt/conda/lib/python3.10/site-packages (from jinja2->torch>=1.7->timm) (2.1.2)\r\n",
      "Requirement already satisfied: charset-normalizer<4,>=2 in /opt/conda/lib/python3.10/site-packages (from requests->huggingface-hub->timm) (2.1.1)\r\n",
      "Requirement already satisfied: idna<4,>=2.5 in /opt/conda/lib/python3.10/site-packages (from requests->huggingface-hub->timm) (3.4)\r\n",
      "Requirement already satisfied: urllib3<1.27,>=1.21.1 in /opt/conda/lib/python3.10/site-packages (from requests->huggingface-hub->timm) (1.26.15)\r\n",
      "Requirement already satisfied: certifi>=2017.4.17 in /opt/conda/lib/python3.10/site-packages (from requests->huggingface-hub->timm) (2023.5.7)\r\n",
      "Requirement already satisfied: mpmath>=0.19 in /opt/conda/lib/python3.10/site-packages (from sympy->torch>=1.7->timm) (1.3.0)\r\n",
      "\u001b[33mWARNING: Running pip as the 'root' user can result in broken permissions and conflicting behaviour with the system package manager. It is recommended to use a virtual environment instead: https://pip.pypa.io/warnings/venv\u001b[0m\u001b[33m\r\n",
      "\u001b[0mRequirement already satisfied: kornia in /opt/conda/lib/python3.10/site-packages (0.6.12)\r\n",
      "Requirement already satisfied: packaging in /opt/conda/lib/python3.10/site-packages (from kornia) (21.3)\r\n",
      "Requirement already satisfied: torch>=1.9.1 in /opt/conda/lib/python3.10/site-packages (from kornia) (2.0.0+cpu)\r\n",
      "Requirement already satisfied: filelock in /opt/conda/lib/python3.10/site-packages (from torch>=1.9.1->kornia) (3.12.0)\r\n",
      "Requirement already satisfied: typing-extensions in /opt/conda/lib/python3.10/site-packages (from torch>=1.9.1->kornia) (4.5.0)\r\n",
      "Requirement already satisfied: sympy in /opt/conda/lib/python3.10/site-packages (from torch>=1.9.1->kornia) (1.12)\r\n",
      "Requirement already satisfied: networkx in /opt/conda/lib/python3.10/site-packages (from torch>=1.9.1->kornia) (3.1)\r\n",
      "Requirement already satisfied: jinja2 in /opt/conda/lib/python3.10/site-packages (from torch>=1.9.1->kornia) (3.1.2)\r\n",
      "Requirement already satisfied: pyparsing!=3.0.5,>=2.0.2 in /opt/conda/lib/python3.10/site-packages (from packaging->kornia) (3.0.9)\r\n",
      "Requirement already satisfied: MarkupSafe>=2.0 in /opt/conda/lib/python3.10/site-packages (from jinja2->torch>=1.9.1->kornia) (2.1.2)\r\n",
      "Requirement already satisfied: mpmath>=0.19 in /opt/conda/lib/python3.10/site-packages (from sympy->torch>=1.9.1->kornia) (1.3.0)\r\n",
      "\u001b[33mWARNING: Running pip as the 'root' user can result in broken permissions and conflicting behaviour with the system package manager. It is recommended to use a virtual environment instead: https://pip.pypa.io/warnings/venv\u001b[0m\u001b[33m\r\n",
      "\u001b[0mRequirement already satisfied: kornia[x] in /opt/conda/lib/python3.10/site-packages (0.6.12)\r\n",
      "Requirement already satisfied: packaging in /opt/conda/lib/python3.10/site-packages (from kornia[x]) (21.3)\r\n",
      "Requirement already satisfied: torch>=1.9.1 in /opt/conda/lib/python3.10/site-packages (from kornia[x]) (2.0.0+cpu)\r\n",
      "Collecting accelerate==0.18.0 (from kornia[x])\r\n",
      "  Downloading accelerate-0.18.0-py3-none-any.whl (215 kB)\r\n",
      "\u001b[2K     \u001b[90m━━━━━━━━━━━━━━━━━━━━━━━━━━━━━━━━━━━━━━━\u001b[0m \u001b[32m215.3/215.3 kB\u001b[0m \u001b[31m7.6 MB/s\u001b[0m eta \u001b[36m0:00:00\u001b[0m\r\n",
      "\u001b[?25hRequirement already satisfied: numpy>=1.17 in /opt/conda/lib/python3.10/site-packages (from accelerate==0.18.0->kornia[x]) (1.23.5)\r\n",
      "Requirement already satisfied: psutil in /opt/conda/lib/python3.10/site-packages (from accelerate==0.18.0->kornia[x]) (5.9.3)\r\n",
      "Requirement already satisfied: pyyaml in /opt/conda/lib/python3.10/site-packages (from accelerate==0.18.0->kornia[x]) (5.4.1)\r\n",
      "Requirement already satisfied: pyparsing!=3.0.5,>=2.0.2 in /opt/conda/lib/python3.10/site-packages (from packaging->kornia[x]) (3.0.9)\r\n",
      "Requirement already satisfied: filelock in /opt/conda/lib/python3.10/site-packages (from torch>=1.9.1->kornia[x]) (3.12.0)\r\n",
      "Requirement already satisfied: typing-extensions in /opt/conda/lib/python3.10/site-packages (from torch>=1.9.1->kornia[x]) (4.5.0)\r\n",
      "Requirement already satisfied: sympy in /opt/conda/lib/python3.10/site-packages (from torch>=1.9.1->kornia[x]) (1.12)\r\n",
      "Requirement already satisfied: networkx in /opt/conda/lib/python3.10/site-packages (from torch>=1.9.1->kornia[x]) (3.1)\r\n",
      "Requirement already satisfied: jinja2 in /opt/conda/lib/python3.10/site-packages (from torch>=1.9.1->kornia[x]) (3.1.2)\r\n",
      "Requirement already satisfied: MarkupSafe>=2.0 in /opt/conda/lib/python3.10/site-packages (from jinja2->torch>=1.9.1->kornia[x]) (2.1.2)\r\n",
      "Requirement already satisfied: mpmath>=0.19 in /opt/conda/lib/python3.10/site-packages (from sympy->torch>=1.9.1->kornia[x]) (1.3.0)\r\n",
      "Installing collected packages: accelerate\r\n",
      "  Attempting uninstall: accelerate\r\n",
      "    Found existing installation: accelerate 0.12.0\r\n",
      "    Uninstalling accelerate-0.12.0:\r\n",
      "      Successfully uninstalled accelerate-0.12.0\r\n",
      "Successfully installed accelerate-0.18.0\r\n",
      "\u001b[33mWARNING: Running pip as the 'root' user can result in broken permissions and conflicting behaviour with the system package manager. It is recommended to use a virtual environment instead: https://pip.pypa.io/warnings/venv\u001b[0m\u001b[33m\r\n",
      "\u001b[0m\u001b[33mWARNING: Running pip as the 'root' user can result in broken permissions and conflicting behaviour with the system package manager. It is recommended to use a virtual environment instead: https://pip.pypa.io/warnings/venv\u001b[0m\u001b[33m\r\n",
      "\u001b[0m"
     ]
    }
   ],
   "source": [
    "!pip install faiss-cpu\n",
    "!pip install timm\n",
    "!pip install kornia\n",
    "!pip install kornia[x]\n",
    "!pip install -q kaggle"
   ]
  },
  {
   "cell_type": "markdown",
   "id": "044af589",
   "metadata": {
    "id": "CXsKzXe_x-t4",
    "papermill": {
     "duration": 0.010288,
     "end_time": "2023-06-21T08:07:35.914202",
     "exception": false,
     "start_time": "2023-06-21T08:07:35.903914",
     "status": "completed"
    },
    "tags": []
   },
   "source": [
    "## **1. 3 Importing the Required Modules**"
   ]
  },
  {
   "cell_type": "code",
   "execution_count": 2,
   "id": "da90c929",
   "metadata": {
    "execution": {
     "iopub.execute_input": "2023-06-21T08:07:35.935648Z",
     "iopub.status.busy": "2023-06-21T08:07:35.935250Z",
     "iopub.status.idle": "2023-06-21T08:07:56.994264Z",
     "shell.execute_reply": "2023-06-21T08:07:56.992809Z"
    },
    "id": "RrSo2OJzx-Pw",
    "papermill": {
     "duration": 21.072888,
     "end_time": "2023-06-21T08:07:56.997060",
     "exception": false,
     "start_time": "2023-06-21T08:07:35.924172",
     "status": "completed"
    },
    "tags": []
   },
   "outputs": [
    {
     "name": "stderr",
     "output_type": "stream",
     "text": [
      "/opt/conda/lib/python3.10/site-packages/tensorflow_io/python/ops/__init__.py:98: UserWarning: unable to load libtensorflow_io_plugins.so: unable to open file: libtensorflow_io_plugins.so, from paths: ['/opt/conda/lib/python3.10/site-packages/tensorflow_io/python/ops/libtensorflow_io_plugins.so']\n",
      "caused by: ['/opt/conda/lib/python3.10/site-packages/tensorflow_io/python/ops/libtensorflow_io_plugins.so: undefined symbol: _ZN3tsl6StatusC1EN10tensorflow5error4CodeESt17basic_string_viewIcSt11char_traitsIcEENS_14SourceLocationE']\n",
      "  warnings.warn(f\"unable to load libtensorflow_io_plugins.so: {e}\")\n",
      "/opt/conda/lib/python3.10/site-packages/tensorflow_io/python/ops/__init__.py:104: UserWarning: file system plugins are not loaded: unable to open file: libtensorflow_io.so, from paths: ['/opt/conda/lib/python3.10/site-packages/tensorflow_io/python/ops/libtensorflow_io.so']\n",
      "caused by: ['/opt/conda/lib/python3.10/site-packages/tensorflow_io/python/ops/libtensorflow_io.so: undefined symbol: _ZTVN10tensorflow13GcsFileSystemE']\n",
      "  warnings.warn(f\"file system plugins are not loaded: {e}\")\n"
     ]
    }
   ],
   "source": [
    "import os\n",
    "\n",
    "import numpy as np\n",
    "import pandas as pd\n",
    "\n",
    "import cv2\n",
    "\n",
    "import torch\n",
    "import torch.nn as nn\n",
    "import torch.utils.data as data\n",
    "import torch.nn.functional as F\n",
    "\n",
    "from sklearn.metrics import accuracy_score\n",
    "from sklearn.model_selection import train_test_split\n",
    "from sklearn.metrics import classification_report\n",
    "\n",
    "import kornia as K\n",
    "from kornia.augmentation.container import AugmentationSequential\n",
    "\n",
    "import faiss\n",
    "import timm\n",
    "\n",
    "import warnings\n",
    "warnings.filterwarnings(\"ignore\")"
   ]
  },
  {
   "cell_type": "markdown",
   "id": "15ba5091",
   "metadata": {
    "id": "AmBbSI9pKsfO",
    "papermill": {
     "duration": 0.009692,
     "end_time": "2023-06-21T08:07:57.017042",
     "exception": false,
     "start_time": "2023-06-21T08:07:57.007350",
     "status": "completed"
    },
    "tags": []
   },
   "source": [
    "\n",
    "## **1.5 Downloading Kaggle Competition Data**"
   ]
  },
  {
   "cell_type": "code",
   "execution_count": 3,
   "id": "84fe820f",
   "metadata": {
    "execution": {
     "iopub.execute_input": "2023-06-21T08:07:57.039600Z",
     "iopub.status.busy": "2023-06-21T08:07:57.039203Z",
     "iopub.status.idle": "2023-06-21T08:07:57.651653Z",
     "shell.execute_reply": "2023-06-21T08:07:57.649749Z"
    },
    "id": "NLONJT8gK2e7",
    "outputId": "359319a3-9d60-405c-ded2-01542366f81f",
    "papermill": {
     "duration": 0.626809,
     "end_time": "2023-06-21T08:07:57.653755",
     "exception": true,
     "start_time": "2023-06-21T08:07:57.026946",
     "status": "failed"
    },
    "tags": []
   },
   "outputs": [
    {
     "data": {
      "text/html": [
       "<pre style=\"white-space:pre;overflow-x:auto;line-height:normal;font-family:Menlo,'DejaVu Sans Mono',consolas,'Courier New',monospace\"><span style=\"color: #800000; text-decoration-color: #800000\">╭─────────────────────────────── </span><span style=\"color: #800000; text-decoration-color: #800000; font-weight: bold\">Traceback </span><span style=\"color: #bf7f7f; text-decoration-color: #bf7f7f; font-weight: bold\">(most recent call last)</span><span style=\"color: #800000; text-decoration-color: #800000\"> ────────────────────────────────╮</span>\n",
       "<span style=\"color: #800000; text-decoration-color: #800000\">│</span> in <span style=\"color: #00ff00; text-decoration-color: #00ff00\">&lt;module&gt;</span>:<span style=\"color: #0000ff; text-decoration-color: #0000ff\">1</span>                                                                                    <span style=\"color: #800000; text-decoration-color: #800000\">│</span>\n",
       "<span style=\"color: #800000; text-decoration-color: #800000\">│</span>                                                                                                  <span style=\"color: #800000; text-decoration-color: #800000\">│</span>\n",
       "<span style=\"color: #800000; text-decoration-color: #800000\">│</span> <span style=\"color: #800000; text-decoration-color: #800000\">❱ </span>1 <span style=\"color: #0000ff; text-decoration-color: #0000ff\">from</span> <span style=\"color: #00ffff; text-decoration-color: #00ffff; text-decoration: underline\">google.colab</span> <span style=\"color: #0000ff; text-decoration-color: #0000ff\">import</span> files                                                               <span style=\"color: #800000; text-decoration-color: #800000\">│</span>\n",
       "<span style=\"color: #800000; text-decoration-color: #800000\">│</span>   <span style=\"color: #7f7f7f; text-decoration-color: #7f7f7f\">2 </span>uploaded = files.upload()                                                                    <span style=\"color: #800000; text-decoration-color: #800000\">│</span>\n",
       "<span style=\"color: #800000; text-decoration-color: #800000\">│</span>   <span style=\"color: #7f7f7f; text-decoration-color: #7f7f7f\">3 </span>get_ipython().system(<span style=\"color: #808000; text-decoration-color: #808000\">'mkdir -p ~/.kaggle/ &amp;&amp; mv kaggle.json ~/.kaggle/ &amp;&amp; chmod 600 ~/.k</span>     <span style=\"color: #800000; text-decoration-color: #800000\">│</span>\n",
       "<span style=\"color: #800000; text-decoration-color: #800000\">│</span>   <span style=\"color: #7f7f7f; text-decoration-color: #7f7f7f\">4 </span>get_ipython().system(<span style=\"color: #808000; text-decoration-color: #808000\">'kaggle competitions download -c mds-ufu-dl-test'</span>)                      <span style=\"color: #800000; text-decoration-color: #800000\">│</span>\n",
       "<span style=\"color: #800000; text-decoration-color: #800000\">╰──────────────────────────────────────────────────────────────────────────────────────────────────╯</span>\n",
       "<span style=\"color: #ff0000; text-decoration-color: #ff0000; font-weight: bold\">ModuleNotFoundError: </span>No module named <span style=\"color: #008000; text-decoration-color: #008000\">'google.colab'</span>\n",
       "</pre>\n"
      ],
      "text/plain": [
       "\u001b[31m╭─\u001b[0m\u001b[31m──────────────────────────────\u001b[0m\u001b[31m \u001b[0m\u001b[1;31mTraceback \u001b[0m\u001b[1;2;31m(most recent call last)\u001b[0m\u001b[31m \u001b[0m\u001b[31m───────────────────────────────\u001b[0m\u001b[31m─╮\u001b[0m\n",
       "\u001b[31m│\u001b[0m in \u001b[92m<module>\u001b[0m:\u001b[94m1\u001b[0m                                                                                    \u001b[31m│\u001b[0m\n",
       "\u001b[31m│\u001b[0m                                                                                                  \u001b[31m│\u001b[0m\n",
       "\u001b[31m│\u001b[0m \u001b[31m❱ \u001b[0m1 \u001b[94mfrom\u001b[0m \u001b[4;96mgoogle\u001b[0m\u001b[4;96m.\u001b[0m\u001b[4;96mcolab\u001b[0m \u001b[94mimport\u001b[0m files                                                               \u001b[31m│\u001b[0m\n",
       "\u001b[31m│\u001b[0m   \u001b[2m2 \u001b[0muploaded = files.upload()                                                                    \u001b[31m│\u001b[0m\n",
       "\u001b[31m│\u001b[0m   \u001b[2m3 \u001b[0mget_ipython().system(\u001b[33m'\u001b[0m\u001b[33mmkdir -p ~/.kaggle/ && mv kaggle.json ~/.kaggle/ && chmod 600 ~/.k\u001b[0m     \u001b[31m│\u001b[0m\n",
       "\u001b[31m│\u001b[0m   \u001b[2m4 \u001b[0mget_ipython().system(\u001b[33m'\u001b[0m\u001b[33mkaggle competitions download -c mds-ufu-dl-test\u001b[0m\u001b[33m'\u001b[0m)                      \u001b[31m│\u001b[0m\n",
       "\u001b[31m╰──────────────────────────────────────────────────────────────────────────────────────────────────╯\u001b[0m\n",
       "\u001b[1;91mModuleNotFoundError: \u001b[0mNo module named \u001b[32m'google.colab'\u001b[0m\n"
      ]
     },
     "metadata": {},
     "output_type": "display_data"
    }
   ],
   "source": [
    "from google.colab import files\n",
    "uploaded = files.upload()\n",
    "!mkdir -p ~/.kaggle/ && mv kaggle.json ~/.kaggle/ && chmod 600 ~/.kaggle/kaggle.json\n",
    "!kaggle competitions download -c mds-ufu-dl-test\n",
    "!unzip mds-ufu-dl-test.zip"
   ]
  },
  {
   "cell_type": "markdown",
   "id": "cd70c9c2",
   "metadata": {
    "id": "qy4yj--r07RL",
    "papermill": {
     "duration": null,
     "end_time": null,
     "exception": null,
     "start_time": null,
     "status": "pending"
    },
    "tags": []
   },
   "source": [
    "# **2 Extreme Learning Approach**"
   ]
  },
  {
   "cell_type": "markdown",
   "id": "04691f48",
   "metadata": {
    "id": "yNGkDylEgBTn",
    "papermill": {
     "duration": null,
     "end_time": null,
     "exception": null,
     "start_time": null,
     "status": "pending"
    },
    "tags": []
   },
   "source": [
    "Extreme learning machines - алгоритм обучения нейронных сетей прямого распространения с одним скрытым слоем  (реже многослойных), где веса входного и скрытых слоев инициализируются с случайным образом и не обновляются в процессе обучения. Для обучения таких сетей  используется обобщенный метод Мура-Пенроуза.\n",
    "\n",
    "К достоинствам  ELM можно отнести:\n",
    "\n",
    "\n",
    "*   в том что они обучаются гораздо быстрее, чем нейросетевые алгоритмы на основе обратного распространения ошибки, так отсутствует необходимость подбора параметров многократным проходом по данным;\n",
    "*   вычислительная сложность гораздо ниже чем глубоких нейросетей, что позволяет их использовать во встраиваемых решениях;\n",
    "*   возможность онлайн обучения по мере поступления данных.\n",
    "\n",
    "Основной недостаток ЕLM более низкая обобщающая способность чем у глубоких нейросетей и поэтому при решении реальных задач может возникнуть проблема  дополнительного ансамблирования, например как в работе [5]\n"
   ]
  },
  {
   "cell_type": "markdown",
   "id": "c855414d",
   "metadata": {
    "id": "m0672T5ghOve",
    "papermill": {
     "duration": null,
     "end_time": null,
     "exception": null,
     "start_time": null,
     "status": "pending"
    },
    "tags": []
   },
   "source": [
    "## **2.1 ELM References**"
   ]
  },
  {
   "cell_type": "markdown",
   "id": "f682a95b",
   "metadata": {
    "id": "-wVstOlKBr0n",
    "papermill": {
     "duration": null,
     "end_time": null,
     "exception": null,
     "start_time": null,
     "status": "pending"
    },
    "tags": []
   },
   "source": [
    "1. Huang, Guang-Bin; Hongming Zhou; Xiaojian Ding; and Rui Zhang (2012).\n",
    "  \"Extreme Learning Machine for Regression and Multiclass Classification\" (PDF). IEEE Transactions on Systems, Man, and Cybernetics - Part B: Cybernetics. 42 (2): 513–529\n",
    "2. https://en.wikipedia.org/wiki/Extreme_learning_machine#:~:text=Extreme%20learning%20machines%20are%20feedforward,hidden%20nodes)%20need%20not%20be\n",
    "3. https://medium.com/analytics-vidhya/a-gentle-introduction-to-extreme-learning-machines-elm-91bb793effa8\n",
    "4. https://en.wikipedia.org/wiki/Moore–Penrose_inverse\n",
    "5. Liu, Zhi and Yang, Shuyuan and Feng, Zhixi and Gao, Quanwei and Wang, Min (2021). Fast SAR Autofocus Based on Ensemble Convolutional Extreme Learning Machine. Remote Sensing 13 (14): 2683"
   ]
  },
  {
   "cell_type": "markdown",
   "id": "fbee8597",
   "metadata": {
    "id": "h6iT9TIXoo1V",
    "papermill": {
     "duration": null,
     "end_time": null,
     "exception": null,
     "start_time": null,
     "status": "pending"
    },
    "tags": []
   },
   "source": [
    "## **2.2 Fashion MNIST DataLoader**"
   ]
  },
  {
   "cell_type": "code",
   "execution_count": null,
   "id": "70d64692",
   "metadata": {
    "id": "SJ3LbaoiutTT",
    "papermill": {
     "duration": null,
     "end_time": null,
     "exception": null,
     "start_time": null,
     "status": "pending"
    },
    "tags": []
   },
   "outputs": [],
   "source": [
    "class FMNISTtDataset(data.Dataset):\n",
    "\n",
    "  def __init__(self, np_data, use_augmentation=True):\n",
    "\n",
    "     self.np_data = np_data\n",
    "     self.img_sz = (28, 28)\n",
    "     self.use_augmentation = use_augmentation\n",
    "\n",
    "     if self.np_data.shape[0] == 0:\n",
    "        raise RuntimeError('dataset is empty')\n",
    "\n",
    "     self.geometry_augmentations = AugmentationSequential(\n",
    "                K.augmentation.RandomHorizontalFlip(p=1., same_on_batch=False,),             #1\n",
    "                K.augmentation.RandomVerticalFlip(p=1.,   same_on_batch=False),              #2\n",
    "                K.augmentation.RandomAffine(degrees=(-5., 5.), p=1., scale=(.9, 1.2),        #3\n",
    "                                                      shear=(-5., 5.), same_on_batch=False),\n",
    "                K.augmentation.RandomRotation(degrees=(-5., 5.), p=1., same_on_batch=False), #4\n",
    "      data_keys=['input'],\n",
    "      random_apply=1,\n",
    "      random_apply_weights=[0.25, 0.25, 0.25, 0.25,],\n",
    "      same_on_batch=False\n",
    "     )\n",
    "\n",
    "  def __len__(self):\n",
    "     return self.np_data.shape[0]\n",
    "\n",
    "  def __getitem__(self, idx):\n",
    "     img = self.np_data[idx, 1 :]\n",
    "     lbl = int(self.np_data[idx, 0])\n",
    "\n",
    "     img = np.reshape(img, self.img_sz)\n",
    "\n",
    "     out_tensor = torch.from_numpy(np.array(img)).float() / 255.0\n",
    "     if self.use_augmentation:\n",
    "        out_tensor = self.geometry_augmentations(out_tensor)\n",
    "     if len(out_tensor.shape) == 4:\n",
    "        out_tensor = torch.squeeze(out_tensor, dim=0)\n",
    "     if len(out_tensor.shape) == 2:\n",
    "        out_tensor = torch.unsqueeze(out_tensor, dim=0)\n",
    "     return out_tensor, lbl\n",
    "\n",
    "def to_numpy_data(df)->np.ndarray:\n",
    "    numpy_data =[]\n",
    "    for idx in range(len(df)):\n",
    "       numpy_data.append([df.iloc[idx, jdx] for jdx in range(len(df.columns))])\n",
    "\n",
    "    numpy_data = np.array(numpy_data)\n",
    "    return numpy_data\n",
    "\n",
    "def get_test_train_data(root_dir, train_csv = \"fmnist_train.csv\", train_sz = .8, random_state = 26):\n",
    "  df = pd.read_csv(os.path.join(root_dir, train_csv))\n",
    "  df.iloc[:, 1:-1] = df.iloc[:, 1:-1].fillna(0)\n",
    "  df.drop(columns=[\"Id\"], inplace=True)\n",
    "  train_df, test_df = train_test_split(df, test_size=1-train_sz, random_state=random_state, stratify=df[[\"label\"]])\n",
    "  train_data = to_numpy_data(train_df)\n",
    "  test_data = to_numpy_data(test_df)\n",
    "  return train_data, test_data\n",
    "\n",
    "def read_ml_data(path):\n",
    "  if not os.path.isfile(path):\n",
    "     return np.array([])\n",
    "  with open(path, \"rb\") as f:\n",
    "    np_data = np.load(path)\n",
    "  return np_data\n",
    "\n",
    "def save_ml_data(path, data) -> None:\n",
    "   if not path:\n",
    "     return\n",
    "   with open(path, \"wb\") as f:\n",
    "      np.save(f, data)\n",
    "\n",
    "def fmnist_dataloaders(root_dir=\"\",\n",
    "                       dataset_csv=\"fmnist_train.csv\",\n",
    "                       train_batch_sz=1000,\n",
    "                       test_batch_sz=1000,\n",
    "                       train_sz=.8,\n",
    "                       random_state=26,\n",
    "                       train_pckl=\"train_data.npy\",\n",
    "                       test_pckl=\"test_data.npy\"\n",
    "                       ):\n",
    "\n",
    "    train_data = read_ml_data(train_pckl)\n",
    "    test_data = read_ml_data(test_pckl)\n",
    "\n",
    "    if train_data.shape[0] == 0 or test_data.shape[0] == 0:\n",
    "        train_data, test_data =\\\n",
    "            get_test_train_data(root_dir, dataset_csv, train_sz=train_sz, random_state=random_state)\n",
    "\n",
    "    save_ml_data(train_pckl, train_data)\n",
    "    save_ml_data(test_pckl, test_data)\n",
    "\n",
    "    train_dataset = FMNISTtDataset(train_data)\n",
    "    test_dataset = FMNISTtDataset(test_data)\n",
    "\n",
    "    train_loader = data.DataLoader(train_dataset, train_batch_sz, shuffle=True, num_workers=0, drop_last=False)\n",
    "    test_loader = data.DataLoader(test_dataset, test_batch_sz, shuffle=True, num_workers=0, drop_last=False)\n",
    "\n",
    "    return train_loader, test_loader"
   ]
  },
  {
   "cell_type": "markdown",
   "id": "16f022fe",
   "metadata": {
    "id": "RWBWBetKrn9A",
    "papermill": {
     "duration": null,
     "end_time": null,
     "exception": null,
     "start_time": null,
     "status": "pending"
    },
    "tags": []
   },
   "source": [
    "## **2.2 Optimization Procedure**"
   ]
  },
  {
   "cell_type": "markdown",
   "id": "f6ee3624",
   "metadata": {
    "id": "bKdbbyotEFUF",
    "papermill": {
     "duration": null,
     "end_time": null,
     "exception": null,
     "start_time": null,
     "status": "pending"
    },
    "tags": []
   },
   "source": [
    "![elm_pic_0.PNG](data:image/png;base64,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)"
   ]
  },
  {
   "cell_type": "markdown",
   "id": "9df49452",
   "metadata": {
    "id": "uLsAVmDGEabl",
    "papermill": {
     "duration": null,
     "end_time": null,
     "exception": null,
     "start_time": null,
     "status": "pending"
    },
    "tags": []
   },
   "source": [
    "pic. source: https://medium.com/analytics-vidhya/a-gentle-introduction-to-extreme-learning-machines-elm-91bb793effa8"
   ]
  },
  {
   "cell_type": "markdown",
   "id": "c4c8036c",
   "metadata": {
    "id": "OArX8iQ9iLW7",
    "papermill": {
     "duration": null,
     "end_time": null,
     "exception": null,
     "start_time": null,
     "status": "pending"
    },
    "tags": []
   },
   "source": [
    "Рассмотрим вкратце алгоритм ELM на примере сети с одним скрытым слоем (см. рис.),  более подробно познакомиться можно здесь [1-3]. Пусть обучающий набор представляет собой:\n",
    "$$[\\mathrm{X}, \\mathrm{Y}]=\\left\\{\\mathrm{x}_{\\mathrm{i}}, \\mathrm{y}_{\\mathrm{i}}\\right\\}(\\mathrm{i}=1,2, \\ldots \\ldots, \\mathrm{Q}),$$\n",
    "где входные признаки определены как $\\mathrm{X}=\\left[\\mathrm{x}_1, \\mathrm{x}_2, \\ldots \\ldots, \\mathrm{x}_{\\mathrm{Q}}\\right]_{\\mathrm{ixQ}} $ ,\n",
    "a ответы $\\mathrm{Y}=\\left[\\mathrm{y}_1, \\mathrm{y}_2, \\ldots \\ldots, \\mathrm{y}_{\\mathrm{Q}}\\right]_{\\mathrm{jxQ}} $  или в матричной форме входные данные: $$X=\\left[\\begin{array}{cccc}\n",
    "x_{11} & x_{12} & \\cdots & x_{1 Q} \\\\\n",
    "x_{21} & x_{22} & \\cdots & x_{2 Q} \\\\\n",
    "\\vdots & \\vdots & \\ddots & \\vdots \\\\\n",
    "x_{n 1} & x_{n 2} & \\cdots & x_{n O}\n",
    "\\end{array}\\right],$$\n",
    "и матрица ответов:\n",
    "$$ Y=\\left[\\begin{array}{cccc}\n",
    "y_{11} & y_{12} & \\cdots & y_{m Q} \\\\\n",
    "y_{21} & y_{22} & \\cdots & y_{m Q} \\\\\n",
    "\\vdots & \\vdots & \\ddots & \\vdots \\\\\n",
    "y_{m 1} & y_{m 2} & \\cdots & y_{m Q}\n",
    "\\end{array}\\right]$$\n",
    "\n",
    "Тогда выходная матрица скрытого слоя может быть описана:\n",
    "$\\mathrm{T}=\\left[\\mathrm{t}_1, \\mathrm{t}_2, \\ldots \\ldots, \\mathrm{t}_{\\mathrm{Q}}\\right]_{\\mathrm{mxQ}} $\n",
    "или более подробно для каждого $\\mathrm{t}_j$  вектора-столбца:\n",
    "$$ t_j=\\left[\\begin{array}{c}\n",
    "t_{1 j} \\\\\n",
    "t_{2 j} \\\\\n",
    "\\vdots \\\\\n",
    "t_{m j}\n",
    "\\end{array}\\right]=\\left[\\begin{array}{c}\n",
    "\\sum_{i=1}^l \\beta_{i 1} g\\left(w_i x_j+b_i\\right) \\\\\n",
    "\\sum_{i=1}^l \\beta_{i 2} g\\left(w_i x_j+b_i\\right) \\\\\n",
    "\\vdots \\\\\n",
    "\\sum_{i=1}^l \\beta_{i m} g\\left(w_i x_j+b_i\\right)\n",
    "\\end{array}\\right] \\quad(j=1,2,3, \\ldots, Q).$$\n",
    "\n",
    "значения же смещений в нейронах инициализируются случайным образом, как видим матрица $\\mathrm{T}$ может быть представлена в виде матричного произведения $\\mathrm{H}\\beta= \\mathrm{T}^{\\prime},$ где $\\mathrm{T}^{\\prime}$ транспонированная матрица $\\mathrm{T}.$\n",
    "Оптимальным решением в смысле минимума среднеквадратичной ошибки является решение\n",
    "$\\beta=\\mathrm{H}^{+} \\mathrm{T}^{\\prime}$ [4].\n",
    "На практике же используется дополнительная регуляризация для предотвращения переобучения. В случае если количество обучающих примеров значительно больше числа нейронов скрытого слоя веса вычисляются по формуле:\n",
    "$$ \\beta=\\left(1 / \\lambda+\\mathrm{H}^{\\mathrm{T}} \\mathrm{H}\\right)^{-1} \\mathrm{H}^{\\mathrm{T}} \\mathrm{T}^{\\prime}$$\n",
    "в противоположном случае вычисляем с использованием формулы:\n",
    "$$\\beta=\\mathrm{H}^{\\mathrm{T}}\\left(1 / \\lambda+\\mathrm{HH}^{\\mathrm{T}}\\right)^{-1} \\mathrm{~T}^{\\prime}.$$\n",
    "\n",
    "Опишем эти оптимизирующее  преобразования с помощью PyTorch фреймворка"
   ]
  },
  {
   "cell_type": "code",
   "execution_count": null,
   "id": "c56e42c7",
   "metadata": {
    "id": "PZi6HBetrt6J",
    "papermill": {
     "duration": null,
     "end_time": null,
     "exception": null,
     "start_time": null,
     "status": "pending"
    },
    "tags": []
   },
   "outputs": [],
   "source": [
    "class PseudoInverse(object):\n",
    "\n",
    "  def __init__(self, params, C=1e-2, L=100):\n",
    "\n",
    "     self.params = list(params)\n",
    "     self.C = C\n",
    "     self.L = L\n",
    "     self.w = self.params[-1]\n",
    "\n",
    "     self.M = torch.tensor(torch.inverse(self.C * torch.eye(self.w.size()[1])), requires_grad=False)\n",
    "     self.w.data.fill_(0)\n",
    "\n",
    "     self.is_cuda = self.w.is_cuda\n",
    "\n",
    "     if self.is_cuda:\n",
    "         self.M = self.M.cuda()\n",
    "\n",
    "  def big(self, inputs, targets):\n",
    "    xtx = torch.mm(inputs.t(), inputs)\n",
    "    I = torch.eye(inputs.size()[1], requires_grad=False)\n",
    "\n",
    "    if self.is_cuda:\n",
    "     I = I.cuda()\n",
    "\n",
    "    if self.L > 0.0:\n",
    "     mu = torch.mean(inputs, dim=0, keepdim=True)\n",
    "     S = inputs - mu\n",
    "     S = torch.mm(S.t(), S)\n",
    "     self.M = torch.tensor(torch.inverse(xtx + self.C * (I+self.L*S)), requires_grad=False)\n",
    "\n",
    "    else:\n",
    "      self.M = torch.tensor(torch.inverse(xtx + self.C *I), requires_grad=False)\n",
    "\n",
    "    w = torch.mm(self.M, inputs.t())\n",
    "    w = torch.mm(w, targets)\n",
    "    self.w.data = w.t().data\n",
    "\n",
    "  def small(self, inputs, targets):\n",
    "    xxt = torch.mm(inputs, inputs.t())\n",
    "    I = torch.eye(inputs.size()[0], requires_grad=False)\n",
    "\n",
    "    if self.is_cuda:\n",
    "      I = I.cuda()\n",
    "    self.M = torch.tensor(torch.inverse(xxt.data + self.C * I), requires_grad=False)\n",
    "\n",
    "    w = torch.mm(inputs.t(), self.M)\n",
    "    w = torch.mm(w, targets)\n",
    "\n",
    "    self.w.data = w.t().data\n",
    "\n",
    "  def optimize(self, inputs, oneHotTargets):\n",
    "\n",
    "    oneHotTargets = oneHotTargets.view(oneHotTargets.size(0),-1)\n",
    "    oneHotTargets = oneHotTargets.type(torch.FloatTensor)\n",
    "\n",
    "    if inputs.size()[0] > inputs.size()[1]:\n",
    "       self.big(inputs, oneHotTargets)\n",
    "    else:\n",
    "       self.small(inputs, oneHotTargets)"
   ]
  },
  {
   "cell_type": "markdown",
   "id": "424fdfeb",
   "metadata": {
    "id": "V-v3jGClJfRL",
    "papermill": {
     "duration": null,
     "end_time": null,
     "exception": null,
     "start_time": null,
     "status": "pending"
    },
    "tags": []
   },
   "source": [
    "## 2.3 ELM Neural Network"
   ]
  },
  {
   "cell_type": "code",
   "execution_count": null,
   "id": "f090fb52",
   "metadata": {
    "id": "KYuofbsPJzoD",
    "papermill": {
     "duration": null,
     "end_time": null,
     "exception": null,
     "start_time": null,
     "status": "pending"
    },
    "tags": []
   },
   "outputs": [],
   "source": [
    "class ConvELM(nn.Module):\n",
    "  def __init__(self, activation='leaky_relu'):\n",
    "     super(ConvELM, self).__init__()\n",
    "\n",
    "     self.conv1 = nn.Conv2d(1, 64, kernel_size=(7, 7), stride=(2, 2), padding=(3, 3))\n",
    "     self.conv2 = nn.Conv2d(64, 256, kernel_size=(3, 3), stride=(1, 1), padding=(1, 1))\n",
    "     self.fc2 = nn.Linear(4096, 10, bias=False)\n",
    "     self.activation = getattr(F, activation)\n",
    "\n",
    "  def forward(self, x):\n",
    "    x = self.conv1(x)\n",
    "    x = F.max_pool2d(x, kernel_size=3, stride=2, padding=1, dilation=1)\n",
    "    x = self.activation(x)\n",
    "    x = self.conv2(x)\n",
    "    x = F.max_pool2d(x, kernel_size=3, stride=2, padding=1, dilation=1)\n",
    "    x = self.activation(x)\n",
    "\n",
    "    x = x.view(-1, self.num_flat_features(x))\n",
    "    x = self.fc2(x)\n",
    "    return x\n",
    "\n",
    "  def forward2hidden(self, x):\n",
    "    x = self.conv1(x)\n",
    "    x = F.max_pool2d(x, kernel_size=3, stride=2, padding=1, dilation=1)\n",
    "    x = self.activation(x)\n",
    "    x = self.conv2(x)\n",
    "    x = F.max_pool2d(x, kernel_size=3, stride=2, padding=1, dilation=1)\n",
    "    x = self.activation(x)\n",
    "    x = x.view(-1, self.num_flat_features(x))\n",
    "    return x\n",
    "\n",
    "  def num_flat_features(self, x):\n",
    "    size = x.size()[1:]\n",
    "    num_features = 1\n",
    "    for s in size: num_features *= s\n",
    "    return num_features"
   ]
  },
  {
   "cell_type": "markdown",
   "id": "29985027",
   "metadata": {
    "id": "WGCQROKpJ4ax",
    "papermill": {
     "duration": null,
     "end_time": null,
     "exception": null,
     "start_time": null,
     "status": "pending"
    },
    "tags": []
   },
   "source": [
    "## **2.4 Utility Functions**"
   ]
  },
  {
   "cell_type": "code",
   "execution_count": null,
   "id": "0dcb120b",
   "metadata": {
    "id": "H7Vymx0uKNkG",
    "papermill": {
     "duration": null,
     "end_time": null,
     "exception": null,
     "start_time": null,
     "status": "pending"
    },
    "tags": []
   },
   "outputs": [],
   "source": [
    "def tensor2numpy(tensor):\n",
    "  return tensor.detach().cpu().numpy() if tensor.requires_grad else tensor.cpu().numpy()\n",
    "\n",
    "def init_weights(m):\n",
    "    if isinstance(m, nn.Conv2d):\n",
    "        torch.nn.init.normal_(m.weight.data)\n",
    "    if isinstance(m, nn.Linear):\n",
    "        torch.nn.init.xavier_uniform(m.weight)\n",
    "    return m\n",
    "\n",
    "def train(model, ps_inverse, train_loader, num_classes) -> ConvELM:\n",
    "  model.train()\n",
    "\n",
    "  predictions =[]\n",
    "  trues =[]\n",
    "\n",
    "  for data, targets in train_loader:\n",
    "    hidden_out = model.forward2hidden(data)\n",
    "\n",
    "    one_hot_targets = F.one_hot(targets, num_classes=num_classes)\n",
    "    one_hot_targets = torch.squeeze(one_hot_targets)\n",
    "    one_hot_targets = one_hot_targets.type(torch.FloatTensor)\n",
    "\n",
    "    ps_inverse.optimize(inputs=hidden_out, oneHotTargets=one_hot_targets)\n",
    "    output = model(data)\n",
    "    pred = np.argmax(tensor2numpy(output), axis=1)\n",
    "\n",
    "    trues.append(tensor2numpy(targets))\n",
    "    predictions.append(pred)\n",
    "\n",
    "  targets = np.concatenate(trues).ravel()\n",
    "  predictions = np.concatenate(predictions).ravel()\n",
    "  print(f\"Train accuracy: {accuracy_score(targets, predictions):.2f}\")\n",
    "  return model\n",
    "\n",
    "def test(model, test_loader) -> None:\n",
    "  model.eval()\n",
    "\n",
    "  predictions = []\n",
    "  trues = []\n",
    "\n",
    "  for data, targets in test_loader:\n",
    "    output = model(data)\n",
    "    pred = np.argmax(tensor2numpy(output), axis=1)\n",
    "\n",
    "    trues.append(tensor2numpy(targets))\n",
    "    predictions.append(pred)\n",
    "\n",
    "  targets = np.concatenate(trues).ravel()\n",
    "  predictions = np.concatenate(predictions).ravel()\n",
    "  print(f\"Test accuracy: {accuracy_score(targets, predictions):.2f}\")\n",
    "  print(classification_report(targets, predictions))\n"
   ]
  },
  {
   "cell_type": "markdown",
   "id": "a09207be",
   "metadata": {
    "id": "SA_4xp33QYpM",
    "papermill": {
     "duration": null,
     "end_time": null,
     "exception": null,
     "start_time": null,
     "status": "pending"
    },
    "tags": []
   },
   "source": [
    "## **2.5 Training and Testing**"
   ]
  },
  {
   "cell_type": "code",
   "execution_count": null,
   "id": "79e33774",
   "metadata": {
    "id": "paggvdpfQaKx",
    "outputId": "b153dd55-7c04-460c-d68c-19b22a891274",
    "papermill": {
     "duration": null,
     "end_time": null,
     "exception": null,
     "start_time": null,
     "status": "pending"
    },
    "tags": []
   },
   "outputs": [],
   "source": [
    "#загрузим сразу весь датасет в один батч)\n",
    "TRAIN_BATCH_SIZE = 13632\n",
    "\n",
    "TEST_BATCH_SIZE = 1000\n",
    "\n",
    "N_CLASSES = 10\n",
    "IMG_SZ = 28\n",
    "\n",
    "elm = ConvELM()\n",
    "elm.apply(init_weights)\n",
    "optimizer = PseudoInverse(params=elm.parameters(), C=0.01, L=2)\n",
    "\n",
    "train_loader, test_loader =\\\n",
    " fmnist_dataloaders(train_batch_sz=TRAIN_BATCH_SIZE,\n",
    "                                                  test_batch_sz=TEST_BATCH_SIZE)\n",
    "\n",
    "elm = train(elm, optimizer, train_loader, N_CLASSES)\n",
    "test(elm, test_loader)"
   ]
  },
  {
   "cell_type": "markdown",
   "id": "5004b9ca",
   "metadata": {
    "id": "pufmXER_dWz7",
    "papermill": {
     "duration": null,
     "end_time": null,
     "exception": null,
     "start_time": null,
     "status": "pending"
    },
    "tags": []
   },
   "source": [
    "Мы совсем плохо предсказываем рубашки попробуем улучшить качество предсказания на тестовой выборке с помощью ансамбля моделей"
   ]
  },
  {
   "cell_type": "markdown",
   "id": "1f0bebad",
   "metadata": {
    "id": "SpT_pTW8nTkZ",
    "papermill": {
     "duration": null,
     "end_time": null,
     "exception": null,
     "start_time": null,
     "status": "pending"
    },
    "tags": []
   },
   "source": [
    "## **2.5 Ensembles Training and Testing**"
   ]
  },
  {
   "cell_type": "markdown",
   "id": "c9019bdb",
   "metadata": {
    "id": "vXIQm7nUrzGS",
    "papermill": {
     "duration": null,
     "end_time": null,
     "exception": null,
     "start_time": null,
     "status": "pending"
    },
    "tags": []
   },
   "source": [
    "Для тестирования ансамбля моделей требуется переписать функцию тестирования качества модели"
   ]
  },
  {
   "cell_type": "code",
   "execution_count": null,
   "id": "4cf63d54",
   "metadata": {
    "id": "59-saF5zn3WV",
    "papermill": {
     "duration": null,
     "end_time": null,
     "exception": null,
     "start_time": null,
     "status": "pending"
    },
    "tags": []
   },
   "outputs": [],
   "source": [
    "def test_ensemble(models, test_loader) ->None:\n",
    "  models = [model.eval() for model in models]\n",
    "\n",
    "  predictions = []\n",
    "  trues = []\n",
    "  for data, targets in test_loader:\n",
    "    model_preds = []\n",
    "\n",
    "    for model in models:\n",
    "      output = model(data)\n",
    "      pred = output.max(1)[1]\n",
    "      model_preds.append(pred.unsqueeze(1))\n",
    "\n",
    "    model_preds = torch.cat(model_preds, dim=1).cpu().numpy()\n",
    "\n",
    "    for ans in model_preds:\n",
    "      predictions.append(int(np.bincount(ans).argmax()))\n",
    "    trues.append(tensor2numpy(targets))\n",
    "\n",
    "  targets = np.concatenate(trues).ravel()\n",
    "  predictions = np.array(predictions)\n",
    "  print(f\"Test accuracy: {accuracy_score(targets, predictions):.2f}\")\n",
    "  print(classification_report(targets, predictions))"
   ]
  },
  {
   "cell_type": "markdown",
   "id": "e576f85c",
   "metadata": {
    "id": "4sI8MxIMsNM6",
    "papermill": {
     "duration": null,
     "end_time": null,
     "exception": null,
     "start_time": null,
     "status": "pending"
    },
    "tags": []
   },
   "source": [
    "Собственно сам скрипт обучения и тестирования ансамбля"
   ]
  },
  {
   "cell_type": "code",
   "execution_count": null,
   "id": "fb17d2ad",
   "metadata": {
    "id": "JD9b0HL0sMdL",
    "outputId": "4c0564ca-2473-4aa1-94d9-abce4c77cd2b",
    "papermill": {
     "duration": null,
     "end_time": null,
     "exception": null,
     "start_time": null,
     "status": "pending"
    },
    "tags": []
   },
   "outputs": [],
   "source": [
    "  ENSEMBLE_SIZE = 20\n",
    "  activations = ['leaky_relu'] * ENSEMBLE_SIZE\n",
    "  models = [ConvELM(activation=activation) for activation in activations]\n",
    "  models = [model.apply(init_weights) for model in models]\n",
    "  optimizers = [PseudoInverse(params=model.parameters()) for model in models]\n",
    "  train_loader, test_loader =\\\n",
    "   fmnist_dataloaders(train_batch_sz=TRAIN_BATCH_SIZE,\n",
    "                                                test_batch_sz=TEST_BATCH_SIZE)\n",
    "  trained_models =[]\n",
    "  for i, (model, optimizer) in enumerate(zip(models, optimizers)):\n",
    "      trained_models += [train(model, optimizer, train_loader, num_classes=N_CLASSES)]\n",
    "\n",
    "  test_ensemble(models, test_loader)"
   ]
  },
  {
   "cell_type": "markdown",
   "id": "b1148f17",
   "metadata": {
    "id": "IHTBudbDs7oW",
    "papermill": {
     "duration": null,
     "end_time": null,
     "exception": null,
     "start_time": null,
     "status": "pending"
    },
    "tags": []
   },
   "source": [
    "И ожидаемо качество предсказание ансамбля выше чем у одиночной модели"
   ]
  },
  {
   "cell_type": "markdown",
   "id": "4b6c1d9c",
   "metadata": {
    "id": "CMDzFhsEehLo",
    "papermill": {
     "duration": null,
     "end_time": null,
     "exception": null,
     "start_time": null,
     "status": "pending"
    },
    "tags": []
   },
   "source": [
    "# **3. Metric Approach**"
   ]
  },
  {
   "cell_type": "markdown",
   "id": "76aa39fd",
   "metadata": {
    "id": "JHJh9ujauXye",
    "papermill": {
     "duration": null,
     "end_time": null,
     "exception": null,
     "start_time": null,
     "status": "pending"
    },
    "tags": []
   },
   "source": [
    "## **3.1 Faiss KNN**"
   ]
  },
  {
   "cell_type": "markdown",
   "id": "839a20d1",
   "metadata": {
    "id": "_Jp2capESbBq",
    "papermill": {
     "duration": null,
     "end_time": null,
     "exception": null,
     "start_time": null,
     "status": "pending"
    },
    "tags": []
   },
   "source": [
    "Для реализации kNN будем использовать библиотеку faiss для быстрого приближенного сопоставления векторов относительно большой размерности 512 компонент"
   ]
  },
  {
   "cell_type": "code",
   "execution_count": null,
   "id": "722f908f",
   "metadata": {
    "id": "os5QK1iJuXDD",
    "papermill": {
     "duration": null,
     "end_time": null,
     "exception": null,
     "start_time": null,
     "status": "pending"
    },
    "tags": []
   },
   "outputs": [],
   "source": [
    "class FAISSKNeighbors:\n",
    "  def __init__(self, k=5):\n",
    "    self.index = None\n",
    "    self.y = None\n",
    "    self.k = k\n",
    "\n",
    "  def fit(self, X, y):\n",
    "    self.index = faiss.IndexFlatL2(X.shape[1])\n",
    "    self.index.add(X.astype(np.float32))\n",
    "    self.y = y\n",
    "\n",
    "  def predict(self, X):\n",
    "    distances, indices = self.index.search(X.astype(np.float32), k=self.k)\n",
    "    votes = self.y[indices]\n",
    "    predictions = np.array([np.argmax(np.bincount(x)) for x in votes])\n",
    "    return predictions"
   ]
  },
  {
   "cell_type": "markdown",
   "id": "e4d14683",
   "metadata": {
    "id": "M-tYumWnvjtS",
    "papermill": {
     "duration": null,
     "end_time": null,
     "exception": null,
     "start_time": null,
     "status": "pending"
    },
    "tags": []
   },
   "source": [
    "## **3.2 Visual Words Dictionary Functions**"
   ]
  },
  {
   "cell_type": "code",
   "execution_count": null,
   "id": "6f465c0d",
   "metadata": {
    "id": "kNEpSsPIvhtz",
    "papermill": {
     "duration": null,
     "end_time": null,
     "exception": null,
     "start_time": null,
     "status": "pending"
    },
    "tags": []
   },
   "outputs": [],
   "source": [
    "IMG_SZ = 224\n",
    "\n",
    "def prepare_feature_extractor(backbone='resnet34'):\n",
    "    extractor = timm.create_model(backbone, pretrained=True, in_chans=1, num_classes=0)\n",
    "    extractor.eval()\n",
    "    return extractor\n",
    "\n",
    "def extract_features(img, extractor,  normalize=True):\n",
    "    feats = extractor(img)\n",
    "    feats = feats.detach().cpu().numpy() if feats.requires_grad else feats.cpu().numpy()\n",
    "    feats_flat = feats.flatten()\n",
    "    if normalize:\n",
    "        feats_flat = feats_flat / np.linalg.norm(feats_flat)\n",
    "    return feats_flat\n",
    "\n",
    "def create_vwords_dict(path, fextractor, img_sz=(IMG_SZ, IMG_SZ)):\n",
    "   np_data = read_ml_data(path)\n",
    "   visual_words = {\"labels\":[], \"features\": []}\n",
    "\n",
    "   lbls =[]\n",
    "   feats=[]\n",
    "\n",
    "   for idx in range(np_data.shape[0]):\n",
    "       img = np_data[idx, 1:]\n",
    "       lbl = int(np_data[idx, 0])\n",
    "\n",
    "       img = np.reshape(img, (28, 28))\n",
    "       img = cv2.resize(img, img_sz)\n",
    "\n",
    "       out_tensor = torch.from_numpy(np.array(img)).float() / 255.0\n",
    "       out_tensor = torch.unsqueeze(out_tensor, dim=0)\n",
    "       out_tensor = torch.unsqueeze(out_tensor, dim=0)\n",
    "\n",
    "       feats.append(extract_features(out_tensor, fextractor))\n",
    "       lbls.append(lbl)\n",
    "\n",
    "   visual_words[\"labels\"] = np.array(lbls)\n",
    "   visual_words[\"features\"] = np.array(feats)\n",
    "\n",
    "   return visual_words"
   ]
  },
  {
   "cell_type": "markdown",
   "id": "a1505c62",
   "metadata": {
    "id": "0kEOdCsPwWg3",
    "papermill": {
     "duration": null,
     "end_time": null,
     "exception": null,
     "start_time": null,
     "status": "pending"
    },
    "tags": []
   },
   "source": [
    "## **3.3 kNN Train and Testing**"
   ]
  },
  {
   "cell_type": "code",
   "execution_count": null,
   "id": "4a94f166",
   "metadata": {
    "id": "axnOsrJYwXR3",
    "outputId": "7069da7c-603d-45bb-d0cb-8f5d385a83a0",
    "papermill": {
     "duration": null,
     "end_time": null,
     "exception": null,
     "start_time": null,
     "status": "pending"
    },
    "tags": []
   },
   "outputs": [],
   "source": [
    "fextractor = prepare_feature_extractor()\n",
    "kNN = FAISSKNeighbors()\n",
    "\n",
    "#загружаем данные из ранее сериализованных массивов изображений\n",
    "vwords_train = create_vwords_dict(\"train_data.npy\", fextractor)\n",
    "vwords_test = create_vwords_dict(\"test_data.npy\", fextractor)\n",
    "\n",
    "features = np.concatenate((vwords_train[\"features\"], vwords_test[\"features\"]), axis=0)\n",
    "labels = np.concatenate((vwords_train[\"labels\"], vwords_test[\"labels\"]), axis=0)\n",
    "\n",
    "kNN.fit(features, labels)\n",
    "preds = kNN.predict(vwords_test[\"features\"])\n",
    "score = accuracy_score(vwords_test[\"labels\"], preds)\n",
    "print(f\"Accuracy: {score:.2f}\")"
   ]
  },
  {
   "cell_type": "markdown",
   "id": "653daf7c",
   "metadata": {
    "id": "zLMxdDtoMSCc",
    "papermill": {
     "duration": null,
     "end_time": null,
     "exception": null,
     "start_time": null,
     "status": "pending"
    },
    "tags": []
   },
   "source": [
    "# **4. Conclusion**"
   ]
  },
  {
   "cell_type": "markdown",
   "id": "15412999",
   "metadata": {
    "id": "2fgo3st1MlTY",
    "papermill": {
     "duration": null,
     "end_time": null,
     "exception": null,
     "start_time": null,
     "status": "pending"
    },
    "tags": []
   },
   "source": [
    "Использование методов без обратного распространения ошибки вполне допустимо для практической классификации изображений на приемлемом уровне точности. Повышение точности классификации возможно путем дополнительного “нелинейного” преобразования данных, например UMAP https://umap-learn.readthedocs.io/en/latest/  и (или) использованием стратегий по типу One-vs-the-Rest или One-vs-One"
   ]
  }
 ],
 "metadata": {
  "kernelspec": {
   "display_name": "Python 3",
   "language": "python",
   "name": "python3"
  },
  "language_info": {
   "codemirror_mode": {
    "name": "ipython",
    "version": 3
   },
   "file_extension": ".py",
   "mimetype": "text/x-python",
   "name": "python",
   "nbconvert_exporter": "python",
   "pygments_lexer": "ipython3",
   "version": "3.10.10"
  },
  "papermill": {
   "default_parameters": {},
   "duration": 85.623749,
   "end_time": "2023-06-21T08:08:00.331109",
   "environment_variables": {},
   "exception": true,
   "input_path": "__notebook__.ipynb",
   "output_path": "__notebook__.ipynb",
   "parameters": {},
   "start_time": "2023-06-21T08:06:34.707360",
   "version": "2.4.0"
  }
 },
 "nbformat": 4,
 "nbformat_minor": 5
}
